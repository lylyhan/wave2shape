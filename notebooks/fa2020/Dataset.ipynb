{
 "cells": [
  {
   "cell_type": "markdown",
   "metadata": {},
   "source": [
    "## Making Dataset \n",
    "\n",
    "Details:\n",
    "1. this dataset comprises impulse reponses of objects of different physical properties. Excitations are merely delta functions.\n",
    "2. each sound sample would be 2 seconds long, regardless of decay rates.\n",
    "3. 100k sound samples are made for each of the three models - 1-d string, 2-d rectangular surface, 3-d box. in total there are 300k samples each of 2 seconds long. Sample rate is 44100 Hz.\n",
    "4. parameters to learn: $\\theta = \\{\\omega_1, \\tau_1, p, D, \\alpha\\}$\n",
    "5. sampling space: 5-dimensional space of theta. $\\omega \\in \\{200\\pi, 4000\\pi \\}$, $\\tau \\in \\{0.01,0.3\\}$, $p \\in \\{0.0001,2\\}$, $D \\in \\{0.0001,10\\}$, $\\alpha \\in \\{0.001,1\\}$"
   ]
  },
  {
   "cell_type": "markdown",
   "metadata": {},
   "source": [
    "## 2D rectangular surface\n",
    "1. sample $\\theta$: p and D in log space, rest in linear space; since needs higher resolution closer to 0 for p and D. each parameter has 10 samples. 10e5 = 100k\n",
    "1*. sample uniformly striking positions from the surface (should be only the octant) - $r_1 \\in \\{0,0.5\\}, r_2\\in\\{0,0.5\\}$ \n",
    "2. record each sample's $\\theta$ into pandas dataframe.\n",
    "3. make dataset train:val:test = 8:1:1"
   ]
  },
  {
   "cell_type": "code",
   "execution_count": 1,
   "metadata": {},
   "outputs": [],
   "source": [
    "import numpy as np\n",
    "import pandas\n",
    "import random\n",
    "import matplotlib.pyplot as plt\n",
    "import os"
   ]
  },
  {
   "cell_type": "code",
   "execution_count": 2,
   "metadata": {},
   "outputs": [],
   "source": [
    "# sample theta - these are only regularly spaced intervals, should i further pick random numbers within these spaces?\n",
    "\n",
    "omega = np.linspace(200*np.pi,4000*np.pi,11)\n",
    "tau = np.linspace(0.01,0.3,11)\n",
    "p = np.logspace(np.log10(0.0001),np.log10(2),11)\n",
    "D = np.logspace(np.log10(0.0001),np.log10(10),11)\n",
    "alpha = np.linspace(0.001,1,11)"
   ]
  },
  {
   "cell_type": "code",
   "execution_count": 3,
   "metadata": {},
   "outputs": [],
   "source": [
    "r1 = np.linspace(0,0.5,102)[1:-1]\n",
    "r2 = np.linspace(0,0.5,102)[1:-1]"
   ]
  },
  {
   "cell_type": "code",
   "execution_count": 3,
   "metadata": {},
   "outputs": [
    {
     "name": "stdout",
     "output_type": "stream",
     "text": [
      "[  628.31853072  1822.12373908  3015.92894745  4209.73415581\n",
      "  5403.53936417  6597.34457254  7791.1497809   8984.95498927\n",
      " 10178.76019763 11372.565406   12566.37061436] 3015.928947446201 10178.760197630929\n"
     ]
    }
   ],
   "source": [
    "print(omega,omega[2],omega[-3])"
   ]
  },
  {
   "cell_type": "code",
   "execution_count": 6,
   "metadata": {},
   "outputs": [
    {
     "data": {
      "text/plain": [
       "0.27425100276937364"
      ]
     },
     "execution_count": 6,
     "metadata": {},
     "output_type": "execute_result"
    }
   ],
   "source": [
    "random.random()"
   ]
  },
  {
   "cell_type": "code",
   "execution_count": 10,
   "metadata": {},
   "outputs": [
    {
     "name": "stdout",
     "output_type": "stream",
     "text": [
      "0.5960577947002337 0.553685282326964\n"
     ]
    }
   ],
   "source": [
    "#sample uniformly from an octant \n",
    "#a,b from iid uniform distribution\n",
    "a = random.random()\n",
    "b = random.random()\n",
    "r1 = (0.5 + 0.5*max(a,b))\n",
    "r2 = (0.5 + 0.5*min(a,b))\n",
    "print(r1,r2)"
   ]
  },
  {
   "cell_type": "code",
   "execution_count": 41,
   "metadata": {},
   "outputs": [],
   "source": [
    "#validation set should be in the middle of sampling space. or centered around in a few scattered spots.\n",
    "set2d = {}\n",
    "count_val = 0\n",
    "count_test = 0\n",
    "count_train = 0\n",
    "count = 0\n",
    "\n",
    "range_om = [omega[2],omega[-3]]\n",
    "range_t = [tau[2],tau[-3]]\n",
    "range_p = [p[2],p[-3]]\n",
    "range_D = [D[2],D[-3]]\n",
    "range_a = [alpha[2],alpha[-3]]\n",
    "\n",
    "\n",
    "\n",
    "\n",
    "random.seed(960602)  \n",
    "\n",
    "set2d['omega'] = {}\n",
    "set2d['tau'] = {}\n",
    "set2d['p'] = {}\n",
    "set2d['D'] = {}\n",
    "set2d['alpha'] = {}\n",
    "set2d['r1'] = {}\n",
    "set2d['r2'] = {}\n",
    "set2d['set'] = {}\n",
    "for o in range(10):\n",
    "    for t in range(10):\n",
    "        for pp in range(10):\n",
    "            for d in range(10):\n",
    "                for a in range(10):\n",
    "                    #val[countval] = {}\n",
    "                    om = omega[o] + random.random() * (omega[o+1] - omega[o])\n",
    "                    ta = tau[t] + random.random() * (tau[t+1] - tau[t])\n",
    "                    ppp = p[pp] + random.random() * (p[pp+1] - p[pp])\n",
    "                    DD = D[d] + random.random() * (D[d+1] - D[d])\n",
    "                    A = alpha[a] + random.random() * (alpha[a+1] - alpha[a])\n",
    "                    #randonly sample strike position\n",
    "                    a = random.random()\n",
    "                    b = random.random()\n",
    "                    r1 = (0.5 + 0.5*max(a,b))\n",
    "                    r2 = (0.5 + 0.5*min(a,b))\n",
    "\n",
    "                    set2d['omega'][count] = om\n",
    "                    set2d['tau'][count] = ta\n",
    "                    set2d['p'][count]  = ppp\n",
    "                    set2d['D'][count] = DD\n",
    "                    set2d['alpha'][count] = A\n",
    "                    set2d['r1'][count] = r1\n",
    "                    set2d['r2'][count] = r2\n",
    "                    if om < range_om[-1] and om > range_om[0]:\n",
    "                        if ta < range_t[-1] and ta > range_t[0]:\n",
    "                            if ppp < range_p[-1] and ppp > range_p[0]:\n",
    "                                 if DD < range_D[-1] and DD > range_D[0]:\n",
    "                                         if A < range_a[-1] and A > range_a[0]:\n",
    "                                                set2d['set'][count] = 'val'\n",
    "                                                count_val += 1\n",
    "                    if count not in set2d['set'].keys():\n",
    "                        set2d['set'][count] = 'train'\n",
    "                        count_train += 1\n",
    "                    count += 1\n",
    "                "
   ]
  },
  {
   "cell_type": "code",
   "execution_count": 42,
   "metadata": {
    "scrolled": true
   },
   "outputs": [
    {
     "name": "stdout",
     "output_type": "stream",
     "text": [
      "92224 7776 100000 100000\n"
     ]
    }
   ],
   "source": [
    "print(count_train,count_val,count,10**5)"
   ]
  },
  {
   "cell_type": "code",
   "execution_count": 43,
   "metadata": {},
   "outputs": [],
   "source": [
    "#randomly pick 10k test set from train set\n",
    "train_idx = []\n",
    "test_idx = []\n",
    "val_idx = []\n",
    "for i in set2d['set'].keys():\n",
    "    if set2d['set'][i] == 'train':\n",
    "        train_idx.append(i)\n",
    "    elif set2d['set'][i] == 'test':\n",
    "        test_idx.append(i)\n",
    "    elif set2d['set'][i] == 'val':\n",
    "        val_idx.append(i)\n"
   ]
  },
  {
   "cell_type": "code",
   "execution_count": 44,
   "metadata": {},
   "outputs": [],
   "source": [
    "random.seed(960602)    \n",
    "random.shuffle(train_idx)\n",
    "\n",
    "for idx in train_idx[:10000]:\n",
    "    set2d['set'][idx] = 'test'\n",
    "    test_idx.append(idx)\n",
    "    \n",
    "for i in test_idx:\n",
    "    train_idx.remove(i)"
   ]
  },
  {
   "cell_type": "code",
   "execution_count": 45,
   "metadata": {
    "scrolled": true
   },
   "outputs": [
    {
     "name": "stdout",
     "output_type": "stream",
     "text": [
      "82224 10000 7776\n"
     ]
    }
   ],
   "source": [
    "#len(test_idx)\n",
    "print(len(train_idx),len(test_idx),len(val_idx))"
   ]
  },
  {
   "cell_type": "code",
   "execution_count": 46,
   "metadata": {},
   "outputs": [
    {
     "name": "stdout",
     "output_type": "stream",
     "text": [
      "10000\n"
     ]
    }
   ],
   "source": [
    "count_test = 0\n",
    "for i in set2d['set'].keys():\n",
    "    if set2d['set'][i] == 'test':\n",
    "        count_test += 1\n",
    "print(count_test)"
   ]
  },
  {
   "cell_type": "code",
   "execution_count": 47,
   "metadata": {
    "scrolled": true
   },
   "outputs": [],
   "source": [
    "set2d_df = pandas.DataFrame.from_dict(set2d)\n",
    "#print(set2d_df)"
   ]
  },
  {
   "cell_type": "code",
   "execution_count": 48,
   "metadata": {},
   "outputs": [],
   "source": [
    "#save param set to file\n",
    "set2d_df.to_csv(r'./diffshapes_param.csv')"
   ]
  },
  {
   "cell_type": "code",
   "execution_count": 49,
   "metadata": {},
   "outputs": [],
   "source": [
    "#data frame for each set, #train = 79669, #test = 10000, #val = 10331\n",
    "set2d_val_df = set2d_df.loc[val_idx, :] \n",
    "set2d_test_df = set2d_df.loc[test_idx, :] \n",
    "set2d_train_df = set2d_df.loc[train_idx, :] "
   ]
  },
  {
   "cell_type": "code",
   "execution_count": 50,
   "metadata": {},
   "outputs": [],
   "source": [
    "val_D = set2d_val_df['D']\n",
    "val_a = set2d_val_df['alpha']\n",
    "val_o = set2d_val_df['omega']\n",
    "val_p = set2d_val_df['p']\n",
    "val_t = set2d_val_df['tau']"
   ]
  },
  {
   "cell_type": "code",
   "execution_count": 35,
   "metadata": {},
   "outputs": [
    {
     "data": {
      "text/plain": [
       "Text(0.5, 1.0, 'Alpha and D space')"
      ]
     },
     "execution_count": 35,
     "metadata": {},
     "output_type": "execute_result"
    },
    {
     "data": {
      "image/png": "[encoded data removed]",
      "text/plain": [
       "<Figure size 432x288 with 1 Axes>"
      ]
     },
     "metadata": {
      "needs_background": "light"
     },
     "output_type": "display_data"
    }
   ],
   "source": [
    "plt.scatter(val_D,val_a,s = 0.1)\n",
    "plt.xscale('log')\n",
    "plt.xlim([D[0],D[-1]])\n",
    "plt.ylim([alpha[0],alpha[-1]])\n",
    "plt.title('Alpha and D space')"
   ]
  },
  {
   "cell_type": "code",
   "execution_count": 36,
   "metadata": {},
   "outputs": [
    {
     "data": {
      "text/plain": [
       "Text(0.5, 1.0, 'Omega and p space')"
      ]
     },
     "execution_count": 36,
     "metadata": {},
     "output_type": "execute_result"
    },
    {
     "data": {
      "image/png": "[encoded data removed]",
      "text/plain": [
       "<Figure size 432x288 with 1 Axes>"
      ]
     },
     "metadata": {
      "needs_background": "light"
     },
     "output_type": "display_data"
    }
   ],
   "source": [
    "plt.scatter(val_o,val_p,s = 0.1)\n",
    "plt.yscale('log')\n",
    "plt.xlim([omega[0],omega[-1]])\n",
    "plt.ylim([p[0],p[-1]])\n",
    "\n",
    "plt.title('Omega and p space')"
   ]
  },
  {
   "cell_type": "code",
   "execution_count": 37,
   "metadata": {},
   "outputs": [
    {
     "data": {
      "text/plain": [
       "Text(0.5, 1.0, 'tau and p space')"
      ]
     },
     "execution_count": 37,
     "metadata": {},
     "output_type": "execute_result"
    },
    {
     "data": {
      "image/png": "[encoded data removed]",
      "text/plain": [
       "<Figure size 432x288 with 1 Axes>"
      ]
     },
     "metadata": {
      "needs_background": "light"
     },
     "output_type": "display_data"
    }
   ],
   "source": [
    "plt.scatter(val_t,val_p,s = 0.1)\n",
    "\n",
    "plt.yscale('log')\n",
    "plt.xlim([tau[0],tau[-1]])\n",
    "plt.ylim([p[0],p[-1]])\n",
    "\n",
    "plt.title('tau and p space')"
   ]
  },
  {
   "cell_type": "markdown",
   "metadata": {},
   "source": [
    "validation set: 6^5 space carved in the middle of sampling space\n",
    "\n",
    "\n",
    "training set + test set: rest of the space surrounding it.  "
   ]
  },
  {
   "cell_type": "code",
   "execution_count": 38,
   "metadata": {},
   "outputs": [
    {
     "name": "stdout",
     "output_type": "stream",
     "text": [
      "6.3095734448019325\n"
     ]
    }
   ],
   "source": [
    "val_space = 0.1**(1/5)*10 # this would be the diameter of 5 dimensional space you want to carve out for validation set.\n",
    "print(val_space)"
   ]
  },
  {
   "cell_type": "code",
   "execution_count": 39,
   "metadata": {
    "scrolled": true
   },
   "outputs": [
    {
     "name": "stdout",
     "output_type": "stream",
     "text": [
      "(82224, 7) (10000, 7) (7776, 7)\n"
     ]
    }
   ],
   "source": [
    "print(set2d_train_df.shape,set2d_test_df.shape,set2d_val_df.shape)"
   ]
  },
  {
   "cell_type": "code",
   "execution_count": 51,
   "metadata": {},
   "outputs": [],
   "source": [
    "set2d_train_df.to_csv(r'./train_param.csv')\n",
    "set2d_test_df.to_csv(r'./test_param.csv')\n",
    "set2d_val_df.to_csv(r'./val_param.csv')"
   ]
  },
  {
   "cell_type": "markdown",
   "metadata": {},
   "source": [
    "## Datasets\n",
    "\n",
    "train sets:\n",
    "\n",
    "1. varying shapes, all excited at the center\n",
    "2. varying shapes, excited at different spots\n",
    "\n",
    "test sets:\n",
    "\n",
    "1. test on different shapes, excited at other spots\n",
    "2. test on different shapes, excited at the center\n",
    "3. test on different shapes, excited differently??\n",
    "\n"
   ]
  },
  {
   "cell_type": "code",
   "execution_count": 89,
   "metadata": {},
   "outputs": [
    {
     "data": {
      "text/plain": [
       "dict_keys(['omega', 'tau', 'p', 'D', 'alpha', 'set'])"
      ]
     },
     "execution_count": 89,
     "metadata": {},
     "output_type": "execute_result"
    }
   ],
   "source": [
    "set2d.keys()"
   ]
  },
  {
   "cell_type": "code",
   "execution_count": 97,
   "metadata": {},
   "outputs": [],
   "source": [
    "omega = list(set2d['omega'].values())\n",
    "tau = list(set2d['tau'].values())\n",
    "p = list(set2d['p'].values())\n",
    "D = list(set2d['D'].values())\n",
    "alpha = list(set2d['alpha'].values())"
   ]
  },
  {
   "cell_type": "markdown",
   "metadata": {},
   "source": [
    "normalization of ground truth physical parameters:\n",
    "\n",
    "make them into 0 mean 1 std vs. confine them into -1/2 to 1/2 range"
   ]
  },
  {
   "cell_type": "code",
   "execution_count": 98,
   "metadata": {},
   "outputs": [],
   "source": [
    "def normalize(a_list):\n",
    "    \"\"\"\n",
    "    This function normalizes an array to 0 mean 1 std\n",
    "    \"\"\"\n",
    "    a_array = np.array(a_list)\n",
    "    mean = np.mean(a_array)\n",
    "    std = np.std(a_array)\n",
    "    a_normalized = (a_array - mean)/std\n",
    "    return a_normalized, mean, std\n",
    "\n",
    "def de_normalize(b_list,mean,std):\n",
    "    \"\"\"\n",
    "    This function reconstruct an array from 0 mean 1 std\n",
    "    \"\"\"\n",
    "    recovered = std * np.array(b_list) + mean\n",
    "    return recovered"
   ]
  },
  {
   "cell_type": "code",
   "execution_count": 107,
   "metadata": {},
   "outputs": [
    {
     "name": "stdout",
     "output_type": "stream",
     "text": [
      "-1.732447332609351 1.7322770090625184\n"
     ]
    }
   ],
   "source": [
    "omega_normalized,omega_m, omega_s = normalize(omega)\n",
    "omega_re = de_normalize(omega_normalized,omega_m,omega_s)\n",
    "print(np.min(omega_normalized),np.max(omega_normalized))"
   ]
  },
  {
   "cell_type": "code",
   "execution_count": 109,
   "metadata": {},
   "outputs": [
    {
     "name": "stdout",
     "output_type": "stream",
     "text": [
      "-1.7320955093553192 1.7325568054990272\n"
     ]
    }
   ],
   "source": [
    "tau_normalized,tau_m, tau_s = normalize(tau)\n",
    "tau_re = de_normalize(tau_normalized,tau_m,tau_s)\n",
    "print(np.min(tau_normalized),np.max(tau_normalized))"
   ]
  },
  {
   "cell_type": "code",
   "execution_count": 117,
   "metadata": {},
   "outputs": [],
   "source": [
    "def normalize2(a_list):\n",
    "    \"\"\"\n",
    "    This function confines an array to -1/2 to 1/2\n",
    "    \"\"\"\n",
    "    a_array = np.array(a_list)\n",
    "    a_min = np.min(a_array)\n",
    "    a_range = np.max(a_array) - a_min\n",
    "    a_normalized = (a_array - a_min) / a_range - 1/2\n",
    "    return a_normalized, a_range, a_min\n",
    "\n",
    "def de_normalize2(b_list,b_range,b_min):\n",
    "    \"\"\"\n",
    "    This function reconstruct an array from 0 mean 1 std\n",
    "    \"\"\"\n",
    "    recovered = (np.array(b_list) + 1/2) * b_range + b_min\n",
    "    return recovered\n"
   ]
  },
  {
   "cell_type": "code",
   "execution_count": 125,
   "metadata": {},
   "outputs": [
    {
     "name": "stdout",
     "output_type": "stream",
     "text": [
      "-0.5 0.5 -2.151068656530697e-09\n"
     ]
    }
   ],
   "source": [
    "omega_normalized,omega_r, omega_m = normalize2(omega)\n",
    "omega_re = de_normalize2(omega_normalized,omega_r,omega_m)\n",
    "print(np.min(omega_normalized),np.max(omega_normalized),np.sum(omega_re-omega))"
   ]
  },
  {
   "cell_type": "markdown",
   "metadata": {},
   "source": [
    "## make the dataset\n",
    "\n",
    "should make the dataset on hpc"
   ]
  },
  {
   "cell_type": "code",
   "execution_count": 143,
   "metadata": {
    "scrolled": true
   },
   "outputs": [
    {
     "data": {
      "text/plain": [
       "Int64Index([24936,   519, 23240,  2646,  6160,  2344, 67072, 15668, 93360,\n",
       "            37020,\n",
       "            ...\n",
       "             1548, 19487, 52995, 66919, 69846, 65368, 99480, 12084, 97505,\n",
       "            25386],\n",
       "           dtype='int64', length=82224)"
      ]
     },
     "execution_count": 143,
     "metadata": {},
     "output_type": "execute_result"
    }
   ],
   "source": [
    "set2d_train_df.index"
   ]
  },
  {
   "cell_type": "code",
   "execution_count": 6,
   "metadata": {},
   "outputs": [],
   "source": [
    "import ftm\n",
    "import soundfile as sf\n",
    "from kymatio import Scattering1D"
   ]
  },
  {
   "cell_type": "code",
   "execution_count": 7,
   "metadata": {},
   "outputs": [
    {
     "data": {
      "text/plain": [
       "(82224, 7)"
      ]
     },
     "execution_count": 7,
     "metadata": {},
     "output_type": "execute_result"
    }
   ],
   "source": [
    "#load csv file as pandas dataframe\n",
    "df_train = pandas.read_csv(\"train_param.csv\") \n",
    "df_train.values.shape"
   ]
  },
  {
   "cell_type": "code",
   "execution_count": 8,
   "metadata": {},
   "outputs": [
    {
     "data": {
      "text/plain": [
       "2646"
      ]
     },
     "execution_count": 8,
     "metadata": {},
     "output_type": "execute_result"
    }
   ],
   "source": [
    "df_train.values[3,0]"
   ]
  },
  {
   "cell_type": "code",
   "execution_count": 9,
   "metadata": {},
   "outputs": [],
   "source": [
    "N = 2**16 #length of audio signal\n",
    "J = 8\n",
    "\n",
    "# scattering order one\n",
    "def getsc1(y, J):\n",
    "    \"\"\"\n",
    "    this function outputs scattering transform of a time-domain signal.\n",
    "    \"\"\"\n",
    "    N = len(y)\n",
    "    scattering = Scattering1D(J = J,shape=(N,), max_order=1)\n",
    "    Sy = scattering(y)\n",
    "    return Sy"
   ]
  },
  {
   "cell_type": "code",
   "execution_count": 21,
   "metadata": {},
   "outputs": [
    {
     "name": "stdout",
     "output_type": "stream",
     "text": [
      "3641.267682215784 0.14912260113032105 0.9748392162093932 0.008955332878189611 0.6462749409737613\n",
      "/scratch/hh2263/drum_data/train/24936_sound.wav\n"
     ]
    }
   ],
   "source": [
    "mode = 10\n",
    "sr = 44100\n",
    "params = df_train.values\n",
    "n_samp,n_param = params.shape\n",
    "for i in range(n_samp):\n",
    "    omega,tau,p,D,alpha = params[i,1:-1]\n",
    "    print(omega,tau,p,D,alpha)\n",
    "    y = ftm.getsounds_imp(mode,mode,omega,tau,p,D,alpha,sr)\n",
    "    y = y/ max(y)\n",
    "    path_out = \"/scratch/hh2263/drum_data/train/\"\n",
    "    if not os.path.exists(path_out):\n",
    "        os.mkdir(path_out)\n",
    "    filename = os.path.join(path_out,str(params[i,0])+\"_sound.wav\")\n",
    "    print(filename)\n",
    "    sf.write(filename, y, sr)\n",
    "    break"
   ]
  },
  {
   "cell_type": "code",
   "execution_count": 20,
   "metadata": {},
   "outputs": [
    {
     "data": {
      "text/plain": [
       "['train']"
      ]
     },
     "execution_count": 20,
     "metadata": {},
     "output_type": "execute_result"
    }
   ],
   "source": [
    "#os.mkdir(\"/scratch/hh2263/drum_data/train/\")\n",
    "os.listdir(\"/scratch/hh2263/drum_data/\")"
   ]
  },
  {
   "cell_type": "code",
   "execution_count": 23,
   "metadata": {},
   "outputs": [],
   "source": [
    "path_out = \"/scratch/hh2263/drum_data/val/\"\n",
    "if not os.path.exists(path_out):\n",
    "    os.mkdir(path_out)"
   ]
  },
  {
   "cell_type": "code",
   "execution_count": null,
   "metadata": {},
   "outputs": [],
   "source": []
  }
 ],
 "metadata": {
  "kernelspec": {
   "display_name": "Python 3 (ipykernel)",
   "language": "python",
   "name": "python3"
  },
  "language_info": {
   "codemirror_mode": {
    "name": "ipython",
    "version": 3
   },
   "file_extension": ".py",
   "mimetype": "text/x-python",
   "name": "python",
   "nbconvert_exporter": "python",
   "pygments_lexer": "ipython3",
   "version": "3.8.13"
  }
 },
 "nbformat": 4,
 "nbformat_minor": 2
}
