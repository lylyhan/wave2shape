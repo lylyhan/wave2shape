{
 "cells": [
  {
   "cell_type": "code",
   "execution_count": 1,
   "metadata": {},
   "outputs": [],
   "source": [
    "import numpy as np\n",
    "import tensorflow.keras\n",
    "from tensorflow import keras\n",
    "import torch\n",
    "import tensorflow as tf\n",
    "from tensorflow.keras.models import Model, Sequential\n",
    "from tensorflow.keras.layers import Conv1D, AveragePooling1D, Conv2D, MaxPooling2D,ReLU\n",
    "import tensorflow.keras.backend as K\n",
    "from tensorflow.keras.models import load_model #save and load models\n",
    "from tensorflow.keras.layers import Dense, Dropout, Activation, Flatten\n",
    "from tensorflow.keras.layers import BatchNormalization\n",
    "from tensorflow.keras.callbacks import EarlyStopping, CSVLogger, ModelCheckpoint\n",
    "import IPython.display as ipd\n",
    "from kymatio import Scattering1D\n",
    "import hitdifferentparts\n",
    "import pandas as pd\n",
    "from sklearn.preprocessing import MinMaxScaler\n",
    "import pescador\n",
    "import random\n",
    "import os\n",
    "import librosa\n",
    "import pickle\n",
    "import matplotlib.pyplot as plt\n",
    "import math"
   ]
  },
  {
   "cell_type": "code",
   "execution_count": 22,
   "metadata": {},
   "outputs": [],
   "source": [
    "output_dir = \"/home/hh2263/wave2shape/sbatch/07_train10trials/output/10trials_3/\""
   ]
  },
  {
   "cell_type": "code",
   "execution_count": 23,
   "metadata": {},
   "outputs": [
    {
     "data": {
      "text/plain": [
       "['tests6',\n",
       " 'tests1',\n",
       " 'tests5',\n",
       " 'tests8',\n",
       " 'tests2',\n",
       " 'tests10',\n",
       " 'tests7',\n",
       " 'tests3',\n",
       " 'tests9',\n",
       " 'tests4']"
      ]
     },
     "execution_count": 23,
     "metadata": {},
     "output_type": "execute_result"
    }
   ],
   "source": [
    "os.listdir(output_dir)"
   ]
  },
  {
   "cell_type": "code",
   "execution_count": 24,
   "metadata": {},
   "outputs": [
    {
     "name": "stdout",
     "output_type": "stream",
     "text": [
      "/home/hh2263/wave2shape/sbatch/07_train10trials/output/10trials_3/tests1/scattering_J-06_Q-01_order1_score.pkl\n"
     ]
    }
   ],
   "source": [
    "trial=1\n",
    "pickle_name = \"_\".join(\n",
    "                [\"scattering\",\n",
    "                \"J-\" + str(6).zfill(2), \"Q-\" + str(1).zfill(2), \"order\" + str(1)]\n",
    "            )\n",
    "save_log = os.path.join(output_dir,\"tests\"+str(trial)+\"/\"+pickle_name+\"_score.pkl\")\n",
    "print(save_log)\n",
    "#pkl_test = open(save_log,'rb')"
   ]
  },
  {
   "cell_type": "code",
   "execution_count": 25,
   "metadata": {},
   "outputs": [],
   "source": [
    "pkl_test = open(save_log,'rb')\n",
    "val_loss,train_loss,test_loss = pickle.load(pkl_test)\n",
    " "
   ]
  },
  {
   "cell_type": "code",
   "execution_count": 26,
   "metadata": {},
   "outputs": [],
   "source": [
    "#pkl_dir = '/scratch/hh2263/drum_data/han2020fa_sc-pkl/'\n",
    "record = []\n",
    "J=[6,8,10,12,14]\n",
    "trials = [1,2,3,4,5,6,7,8,9,10]\n",
    "Q=1\n",
    "order = [1,2]\n",
    "order1=[]\n",
    "order2=[]\n",
    "j1=[]\n",
    "j2=[]\n",
    "for trial in trials:\n",
    "    for j in J:\n",
    "        for o in order:\n",
    "            pickle_name = \"_\".join(\n",
    "                [\"scattering\",\n",
    "                \"J-\" + str(j).zfill(2), \"Q-\" + str(Q).zfill(2), \"order\" + str(o)]\n",
    "            )\n",
    "            save_log = os.path.join(output_dir,\"tests\"+str(trial)+\"/\"+pickle_name+\"_score.pkl\")\n",
    "            #print(save_log)\n",
    "            pkl_test = open(save_log,'rb')\n",
    "            val_loss,train_loss,test_loss = pickle.load(pkl_test)\n",
    "            if o==1:\n",
    "                order1.append(val_loss)\n",
    "                j1.append(j)\n",
    "            else:\n",
    "                order2.append(val_loss)\n",
    "                j2.append(j)\n"
   ]
  },
  {
   "cell_type": "code",
   "execution_count": 27,
   "metadata": {},
   "outputs": [],
   "source": [
    "order1 = np.array(order1).reshape((10,5))\n",
    "order2 = np.array(order2).reshape((10,5))"
   ]
  },
  {
   "cell_type": "code",
   "execution_count": 28,
   "metadata": {},
   "outputs": [
    {
     "data": {
      "text/plain": [
       "<matplotlib.legend.Legend at 0x2ac51eb2f510>"
      ]
     },
     "execution_count": 28,
     "metadata": {},
     "output_type": "execute_result"
    },
    {
     "data": {
      "image/png": "[encoded data removed]",
      "text/plain": [
       "<Figure size 432x288 with 1 Axes>"
      ]
     },
     "metadata": {
      "needs_background": "light"
     },
     "output_type": "display_data"
    }
   ],
   "source": [
    "labels = ['6','8','10','12','14']\n",
    "bp0 = plt.boxplot(order1, labels=labels, patch_artist=True)\n",
    "bp1 = plt.boxplot(order2, labels=labels, patch_artist=True)\n",
    "\n",
    "for box in bp0['boxes']:\n",
    "    # change outline color\n",
    "    #box.set(color='black', linewidth=2)\n",
    "    # change fill color\n",
    "    box.set(facecolor = 'C0' )\n",
    "    # change hatch\n",
    "    #box.set(hatch = '/')\n",
    "\n",
    "for box in bp1['boxes']:\n",
    "    #box.set(color='black', linewidth=2)\n",
    "    box.set(facecolor = 'C2' )\n",
    "plt.title('Minimum train loss using different J')\n",
    "\n",
    "plt.legend([bp0[\"boxes\"][0], bp1[\"boxes\"][0]], ['order 1', 'order 2'], loc='upper right')"
   ]
  },
  {
   "cell_type": "code",
   "execution_count": 29,
   "metadata": {},
   "outputs": [
    {
     "data": {
      "text/plain": [
       "array([[0.01673429, 0.01382887, 0.01591962, 0.0161166 , 0.02042308],\n",
       "       [0.01502333, 0.01304736, 0.01614123, 0.01840568, 0.0190222 ],\n",
       "       [0.01470979, 0.01291078, 0.01450792, 0.01862694, 0.01912274],\n",
       "       [0.01128218, 0.01540167, 0.01730584, 0.01933422, 0.02021025],\n",
       "       [0.01540026, 0.01441853, 0.01630181, 0.01850362, 0.01907865],\n",
       "       [0.01529871, 0.0134472 , 0.01506565, 0.01815028, 0.01868698],\n",
       "       [0.01302831, 0.01407394, 0.01705497, 0.01862409, 0.01989469],\n",
       "       [0.01550474, 0.01483217, 0.01623058, 0.01734065, 0.02034185],\n",
       "       [0.01569713, 0.01446672, 0.01757788, 0.01960308, 0.01768541],\n",
       "       [0.01509282, 0.01489838, 0.0157532 , 0.01785393, 0.02073365]])"
      ]
     },
     "execution_count": 29,
     "metadata": {},
     "output_type": "execute_result"
    }
   ],
   "source": [
    "order2"
   ]
  },
  {
   "cell_type": "code",
   "execution_count": 30,
   "metadata": {},
   "outputs": [],
   "source": [
    "from matplotlib import rc\n",
    "import matplotlib\n",
    "rc('font',**{'family':'sans-serif','sans-serif':['Helvetica']})\n",
    "## for Palatino and other serif fonts use:\n",
    "#rc('font',**{'family':'serif','serif':['Palatino']})\n",
    "rc('text', usetex=True)\n",
    "\n"
   ]
  },
  {
   "cell_type": "code",
   "execution_count": 31,
   "metadata": {
    "scrolled": true
   },
   "outputs": [
    {
     "data": {
      "text/plain": [
       "<matplotlib.legend.Legend at 0x2ac51ec5acd0>"
      ]
     },
     "execution_count": 31,
     "metadata": {},
     "output_type": "execute_result"
    },
    {
     "data": {
      "image/png": "[encoded data removed]",
      "text/plain": [
       "<Figure size 432x288 with 1 Axes>"
      ]
     },
     "metadata": {
      "needs_background": "light"
     },
     "output_type": "display_data"
    }
   ],
   "source": [
    "matplotlib.rcParams['text.usetex'] = True\n",
    "#labels = ['$\\displaystyle\\omega$','$\\displaystyle\\\\tau$','$\\displaystyle p$','$\\displaystyle D$','$\\displaystyle\\\\alpha$']\n",
    "labels = ['6','8','10','12','14']\n",
    "bp0 = plt.boxplot(order1, labels=labels, patch_artist=True)\n",
    "bp1 = plt.boxplot(order2, labels=labels, patch_artist=True)\n",
    "\n",
    "for box in bp0['boxes']:\n",
    "    # change outline color\n",
    "    #box.set(color='black', linewidth=2)\n",
    "    # change fill color\n",
    "    box.set(facecolor = 'C0' )\n",
    "    # change hatch\n",
    "    #box.set(hatch = '/')\n",
    "\n",
    "for box in bp1['boxes']:\n",
    "    #box.set(color='black', linewidth=2)\n",
    "    box.set(facecolor = 'C2' )\n",
    "#plt.title('Minimum validation loss using different J')\n",
    "plt.xlabel(r'\\textbf{J}',fontsize=16)\n",
    "plt.ylabel(r'\\textbf{Minimum Validation Loss}',fontsize=16)\n",
    "plt.legend([bp0[\"boxes\"][0], bp1[\"boxes\"][0]], ['order 1', 'order 2'], loc='upper right')"
   ]
  },
  {
   "cell_type": "code",
   "execution_count": 43,
   "metadata": {},
   "outputs": [
    {
     "data": {
      "text/plain": [
       "<Figure size 432x288 with 0 Axes>"
      ]
     },
     "metadata": {},
     "output_type": "display_data"
    }
   ],
   "source": [
    "plt.savefig('./min_val_loss_J.pdf', bbox_inches=\"tight\")"
   ]
  },
  {
   "cell_type": "code",
   "execution_count": 8,
   "metadata": {
    "scrolled": true
   },
   "outputs": [
    {
     "data": {
      "text/plain": [
       "Text(0.5, 1.0, 'Minimum test loss using different J')"
      ]
     },
     "execution_count": 8,
     "metadata": {},
     "output_type": "execute_result"
    },
    {
     "data": {
      "image/png": "[encoded data removed]",
      "text/plain": [
       "<Figure size 432x288 with 1 Axes>"
      ]
     },
     "metadata": {
      "needs_background": "light"
     },
     "output_type": "display_data"
    }
   ],
   "source": [
    "labels = ['6','8','10','12','14']\n",
    "plt.boxplot(order1,labels = labels)\n",
    "plt.boxplot(order2,labels = labels)\n",
    "plt.title('Minimum test loss using different J')"
   ]
  },
  {
   "cell_type": "code",
   "execution_count": 31,
   "metadata": {},
   "outputs": [
    {
     "data": {
      "text/plain": [
       "<matplotlib.legend.Legend at 0x2acbe2b834d0>"
      ]
     },
     "execution_count": 31,
     "metadata": {},
     "output_type": "execute_result"
    },
    {
     "data": {
      "image/png": "[encoded data removed]",
      "text/plain": [
       "<Figure size 432x288 with 1 Axes>"
      ]
     },
     "metadata": {
      "needs_background": "light"
     },
     "output_type": "display_data"
    }
   ],
   "source": [
    "bp0 = plt.boxplot(order1, labels=labels, patch_artist=True)\n",
    "bp1 = plt.boxplot(order2, labels=labels, patch_artist=True)\n",
    "\n",
    "for box in bp0['boxes']:\n",
    "    # change outline color\n",
    "    #box.set(color='black', linewidth=2)\n",
    "    # change fill color\n",
    "    box.set(facecolor = 'C0' )\n",
    "    # change hatch\n",
    "    #box.set(hatch = '/')\n",
    "\n",
    "for box in bp1['boxes']:\n",
    "    #box.set(color='black', linewidth=2)\n",
    "    box.set(facecolor = 'C2' )\n",
    "plt.title('Minimum test loss using different J')\n",
    "\n",
    "plt.legend([bp0[\"boxes\"][0], bp1[\"boxes\"][0]], ['order 1', 'order 2'], loc='upper right')"
   ]
  },
  {
   "cell_type": "code",
   "execution_count": 36,
   "metadata": {},
   "outputs": [
    {
     "data": {
      "text/plain": [
       "array([[0.01673429, 0.01382887, 0.01591962, 0.0161166 , 0.02042308],\n",
       "       [0.01502333, 0.01304736, 0.01614123, 0.01840568, 0.0190222 ],\n",
       "       [0.01470979, 0.01291078, 0.01450792, 0.01862694, 0.01912274],\n",
       "       [0.01128218, 0.01540167, 0.01730584, 0.01933422, 0.02021025],\n",
       "       [0.01540026, 0.01441853, 0.01630181, 0.01850362, 0.01907865],\n",
       "       [0.01529871, 0.0134472 , 0.01506565, 0.01815028, 0.01868698],\n",
       "       [0.01302831, 0.01407394, 0.01705497, 0.01862409, 0.01989469],\n",
       "       [0.01550474, 0.01483217, 0.01623058, 0.01734065, 0.02034185],\n",
       "       [0.01569713, 0.01446672, 0.01757788, 0.01960308, 0.01768541],\n",
       "       [0.01509282, 0.01489838, 0.0157532 , 0.01785393, 0.02073365]])"
      ]
     },
     "execution_count": 36,
     "metadata": {},
     "output_type": "execute_result"
    }
   ],
   "source": [
    "order2"
   ]
  },
  {
   "cell_type": "code",
   "execution_count": 32,
   "metadata": {},
   "outputs": [
    {
     "name": "stdout",
     "output_type": "stream",
     "text": [
      "/home/hh2263/wave2shape/sbatch/07_train10trials/output/10trials_3/tests3/J-08_Q-01_order2.h5\n"
     ]
    }
   ],
   "source": [
    "j_best = 8\n",
    "trial_best = 3\n",
    "Q=1\n",
    "o=2\n",
    "pickle_name = \"_\".join(\n",
    "                [\"J-\" + str(j_best).zfill(2), \"Q-\" + str(1).zfill(2), \"order\" + str(2)]\n",
    "            )\n",
    "best_model_path = os.path.join(output_dir,\"tests\"+str(trial_best)+\"/\"+pickle_name+\".h5\")\n",
    "print(best_model_path)\n"
   ]
  },
  {
   "cell_type": "code",
   "execution_count": 35,
   "metadata": {},
   "outputs": [
    {
     "name": "stdout",
     "output_type": "stream",
     "text": [
      "WARNING:tensorflow:From /home/hh2263/miniconda3/envs/drum-1.15/lib/python3.7/site-packages/tensorflow_core/python/ops/resource_variable_ops.py:1630: calling BaseResourceVariable.__init__ (from tensorflow.python.ops.resource_variable_ops) with constraint is deprecated and will be removed in a future version.\n",
      "Instructions for updating:\n",
      "If using Keras pass *_constraint arguments to layers.\n"
     ]
    },
    {
     "ename": "InternalError",
     "evalue": "CUDA runtime implicit initialization on GPU:0 failed. Status: all CUDA-capable devices are busy or unavailable",
     "output_type": "error",
     "traceback": [
      "\u001b[0;31m---------------------------------------------------------------------------\u001b[0m",
      "\u001b[0;31mInternalError\u001b[0m                             Traceback (most recent call last)",
      "\u001b[0;32m<ipython-input-35-306215b38e9c>\u001b[0m in \u001b[0;36m<module>\u001b[0;34m\u001b[0m\n\u001b[1;32m      1\u001b[0m \u001b[0mpkl_dir\u001b[0m \u001b[0;34m=\u001b[0m \u001b[0;34m'/scratch/hh2263/drum_data/han2020fa_sc-pkl/'\u001b[0m\u001b[0;34m\u001b[0m\u001b[0;34m\u001b[0m\u001b[0m\n\u001b[1;32m      2\u001b[0m \u001b[0mmodel_best\u001b[0m \u001b[0;34m=\u001b[0m \u001b[0mcreate_model_adjustable\u001b[0m\u001b[0;34m(\u001b[0m\u001b[0mj_best\u001b[0m\u001b[0;34m,\u001b[0m\u001b[0;36m1\u001b[0m\u001b[0;34m,\u001b[0m\u001b[0;36m2\u001b[0m\u001b[0;34m,\u001b[0m\u001b[0mk_size\u001b[0m\u001b[0;34m=\u001b[0m\u001b[0;36m8\u001b[0m\u001b[0;34m,\u001b[0m\u001b[0mnchan_out\u001b[0m\u001b[0;34m=\u001b[0m\u001b[0;36m16\u001b[0m\u001b[0;34m,\u001b[0m\u001b[0mactivation\u001b[0m\u001b[0;34m=\u001b[0m\u001b[0;34m'linear'\u001b[0m\u001b[0;34m)\u001b[0m\u001b[0;34m\u001b[0m\u001b[0;34m\u001b[0m\u001b[0m\n\u001b[0;32m----> 3\u001b[0;31m \u001b[0mmodel_best\u001b[0m\u001b[0;34m.\u001b[0m\u001b[0mload_weights\u001b[0m\u001b[0;34m(\u001b[0m\u001b[0mbest_model_path\u001b[0m\u001b[0;34m)\u001b[0m\u001b[0;34m\u001b[0m\u001b[0;34m\u001b[0m\u001b[0m\n\u001b[0m\u001b[1;32m      4\u001b[0m \u001b[0;31m#load test and train files\u001b[0m\u001b[0;34m\u001b[0m\u001b[0;34m\u001b[0m\u001b[0;34m\u001b[0m\u001b[0m\n\u001b[1;32m      5\u001b[0m pickle_name = \"_\".join(\n",
      "\u001b[0;32m~/miniconda3/envs/drum-1.15/lib/python3.7/site-packages/tensorflow_core/python/keras/engine/training.py\u001b[0m in \u001b[0;36mload_weights\u001b[0;34m(self, filepath, by_name)\u001b[0m\n\u001b[1;32m    180\u001b[0m         raise ValueError('Load weights is not yet supported with TPUStrategy '\n\u001b[1;32m    181\u001b[0m                          'with steps_per_run greater than 1.')\n\u001b[0;32m--> 182\u001b[0;31m     \u001b[0;32mreturn\u001b[0m \u001b[0msuper\u001b[0m\u001b[0;34m(\u001b[0m\u001b[0mModel\u001b[0m\u001b[0;34m,\u001b[0m \u001b[0mself\u001b[0m\u001b[0;34m)\u001b[0m\u001b[0;34m.\u001b[0m\u001b[0mload_weights\u001b[0m\u001b[0;34m(\u001b[0m\u001b[0mfilepath\u001b[0m\u001b[0;34m,\u001b[0m \u001b[0mby_name\u001b[0m\u001b[0;34m)\u001b[0m\u001b[0;34m\u001b[0m\u001b[0;34m\u001b[0m\u001b[0m\n\u001b[0m\u001b[1;32m    183\u001b[0m \u001b[0;34m\u001b[0m\u001b[0m\n\u001b[1;32m    184\u001b[0m   \u001b[0;34m@\u001b[0m\u001b[0mtrackable\u001b[0m\u001b[0;34m.\u001b[0m\u001b[0mno_automatic_dependency_tracking\u001b[0m\u001b[0;34m\u001b[0m\u001b[0;34m\u001b[0m\u001b[0m\n",
      "\u001b[0;32m~/miniconda3/envs/drum-1.15/lib/python3.7/site-packages/tensorflow_core/python/keras/engine/network.py\u001b[0m in \u001b[0;36mload_weights\u001b[0;34m(self, filepath, by_name)\u001b[0m\n\u001b[1;32m   1371\u001b[0m         \u001b[0msaving\u001b[0m\u001b[0;34m.\u001b[0m\u001b[0mload_weights_from_hdf5_group_by_name\u001b[0m\u001b[0;34m(\u001b[0m\u001b[0mf\u001b[0m\u001b[0;34m,\u001b[0m \u001b[0mself\u001b[0m\u001b[0;34m.\u001b[0m\u001b[0mlayers\u001b[0m\u001b[0;34m)\u001b[0m\u001b[0;34m\u001b[0m\u001b[0;34m\u001b[0m\u001b[0m\n\u001b[1;32m   1372\u001b[0m       \u001b[0;32melse\u001b[0m\u001b[0;34m:\u001b[0m\u001b[0;34m\u001b[0m\u001b[0;34m\u001b[0m\u001b[0m\n\u001b[0;32m-> 1373\u001b[0;31m         \u001b[0msaving\u001b[0m\u001b[0;34m.\u001b[0m\u001b[0mload_weights_from_hdf5_group\u001b[0m\u001b[0;34m(\u001b[0m\u001b[0mf\u001b[0m\u001b[0;34m,\u001b[0m \u001b[0mself\u001b[0m\u001b[0;34m.\u001b[0m\u001b[0mlayers\u001b[0m\u001b[0;34m)\u001b[0m\u001b[0;34m\u001b[0m\u001b[0;34m\u001b[0m\u001b[0m\n\u001b[0m\u001b[1;32m   1374\u001b[0m \u001b[0;34m\u001b[0m\u001b[0m\n\u001b[1;32m   1375\u001b[0m   \u001b[0;32mdef\u001b[0m \u001b[0m_updated_config\u001b[0m\u001b[0;34m(\u001b[0m\u001b[0mself\u001b[0m\u001b[0;34m)\u001b[0m\u001b[0;34m:\u001b[0m\u001b[0;34m\u001b[0m\u001b[0;34m\u001b[0m\u001b[0m\n",
      "\u001b[0;32m~/miniconda3/envs/drum-1.15/lib/python3.7/site-packages/tensorflow_core/python/keras/saving/hdf5_format.py\u001b[0m in \u001b[0;36mload_weights_from_hdf5_group\u001b[0;34m(f, layers)\u001b[0m\n\u001b[1;32m    691\u001b[0m                        str(len(weight_values)) + ' elements.')\n\u001b[1;32m    692\u001b[0m     \u001b[0mweight_value_tuples\u001b[0m \u001b[0;34m+=\u001b[0m \u001b[0mzip\u001b[0m\u001b[0;34m(\u001b[0m\u001b[0msymbolic_weights\u001b[0m\u001b[0;34m,\u001b[0m \u001b[0mweight_values\u001b[0m\u001b[0;34m)\u001b[0m\u001b[0;34m\u001b[0m\u001b[0;34m\u001b[0m\u001b[0m\n\u001b[0;32m--> 693\u001b[0;31m   \u001b[0mK\u001b[0m\u001b[0;34m.\u001b[0m\u001b[0mbatch_set_value\u001b[0m\u001b[0;34m(\u001b[0m\u001b[0mweight_value_tuples\u001b[0m\u001b[0;34m)\u001b[0m\u001b[0;34m\u001b[0m\u001b[0;34m\u001b[0m\u001b[0m\n\u001b[0m\u001b[1;32m    694\u001b[0m \u001b[0;34m\u001b[0m\u001b[0m\n\u001b[1;32m    695\u001b[0m \u001b[0;34m\u001b[0m\u001b[0m\n",
      "\u001b[0;32m~/miniconda3/envs/drum-1.15/lib/python3.7/site-packages/tensorflow_core/python/keras/backend.py\u001b[0m in \u001b[0;36mbatch_set_value\u001b[0;34m(tuples)\u001b[0m\n\u001b[1;32m   3257\u001b[0m           \u001b[0massign_ops\u001b[0m\u001b[0;34m.\u001b[0m\u001b[0mappend\u001b[0m\u001b[0;34m(\u001b[0m\u001b[0massign_op\u001b[0m\u001b[0;34m)\u001b[0m\u001b[0;34m\u001b[0m\u001b[0;34m\u001b[0m\u001b[0m\n\u001b[1;32m   3258\u001b[0m           \u001b[0mfeed_dict\u001b[0m\u001b[0;34m[\u001b[0m\u001b[0massign_placeholder\u001b[0m\u001b[0;34m]\u001b[0m \u001b[0;34m=\u001b[0m \u001b[0mvalue\u001b[0m\u001b[0;34m\u001b[0m\u001b[0;34m\u001b[0m\u001b[0m\n\u001b[0;32m-> 3259\u001b[0;31m         \u001b[0mget_session\u001b[0m\u001b[0;34m(\u001b[0m\u001b[0;34m)\u001b[0m\u001b[0;34m.\u001b[0m\u001b[0mrun\u001b[0m\u001b[0;34m(\u001b[0m\u001b[0massign_ops\u001b[0m\u001b[0;34m,\u001b[0m \u001b[0mfeed_dict\u001b[0m\u001b[0;34m=\u001b[0m\u001b[0mfeed_dict\u001b[0m\u001b[0;34m)\u001b[0m\u001b[0;34m\u001b[0m\u001b[0;34m\u001b[0m\u001b[0m\n\u001b[0m\u001b[1;32m   3260\u001b[0m \u001b[0;34m\u001b[0m\u001b[0m\n\u001b[1;32m   3261\u001b[0m \u001b[0;34m\u001b[0m\u001b[0m\n",
      "\u001b[0;32m~/miniconda3/envs/drum-1.15/lib/python3.7/site-packages/tensorflow_core/python/keras/backend.py\u001b[0m in \u001b[0;36mget_session\u001b[0;34m(op_input_list)\u001b[0m\n\u001b[1;32m    481\u001b[0m       \u001b[0mA\u001b[0m \u001b[0mTensorFlow\u001b[0m \u001b[0msession\u001b[0m\u001b[0;34m.\u001b[0m\u001b[0;34m\u001b[0m\u001b[0;34m\u001b[0m\u001b[0m\n\u001b[1;32m    482\u001b[0m   \"\"\"\n\u001b[0;32m--> 483\u001b[0;31m   \u001b[0msession\u001b[0m \u001b[0;34m=\u001b[0m \u001b[0m_get_session\u001b[0m\u001b[0;34m(\u001b[0m\u001b[0mop_input_list\u001b[0m\u001b[0;34m)\u001b[0m\u001b[0;34m\u001b[0m\u001b[0;34m\u001b[0m\u001b[0m\n\u001b[0m\u001b[1;32m    484\u001b[0m   \u001b[0;32mif\u001b[0m \u001b[0;32mnot\u001b[0m \u001b[0m_MANUAL_VAR_INIT\u001b[0m\u001b[0;34m:\u001b[0m\u001b[0;34m\u001b[0m\u001b[0;34m\u001b[0m\u001b[0m\n\u001b[1;32m    485\u001b[0m     \u001b[0;32mwith\u001b[0m \u001b[0msession\u001b[0m\u001b[0;34m.\u001b[0m\u001b[0mgraph\u001b[0m\u001b[0;34m.\u001b[0m\u001b[0mas_default\u001b[0m\u001b[0;34m(\u001b[0m\u001b[0;34m)\u001b[0m\u001b[0;34m:\u001b[0m\u001b[0;34m\u001b[0m\u001b[0;34m\u001b[0m\u001b[0m\n",
      "\u001b[0;32m~/miniconda3/envs/drum-1.15/lib/python3.7/site-packages/tensorflow_core/python/keras/backend.py\u001b[0m in \u001b[0;36m_get_session\u001b[0;34m(op_input_list)\u001b[0m\n\u001b[1;32m    453\u001b[0m       \u001b[0;32melse\u001b[0m\u001b[0;34m:\u001b[0m\u001b[0;34m\u001b[0m\u001b[0;34m\u001b[0m\u001b[0m\n\u001b[1;32m    454\u001b[0m         _SESSION.session = session_module.Session(\n\u001b[0;32m--> 455\u001b[0;31m             config=get_default_session_config())\n\u001b[0m\u001b[1;32m    456\u001b[0m     \u001b[0msession\u001b[0m \u001b[0;34m=\u001b[0m \u001b[0m_SESSION\u001b[0m\u001b[0;34m.\u001b[0m\u001b[0msession\u001b[0m\u001b[0;34m\u001b[0m\u001b[0;34m\u001b[0m\u001b[0m\n\u001b[1;32m    457\u001b[0m   \u001b[0;32mreturn\u001b[0m \u001b[0msession\u001b[0m\u001b[0;34m\u001b[0m\u001b[0;34m\u001b[0m\u001b[0m\n",
      "\u001b[0;32m~/miniconda3/envs/drum-1.15/lib/python3.7/site-packages/tensorflow_core/python/client/session.py\u001b[0m in \u001b[0;36m__init__\u001b[0;34m(self, target, graph, config)\u001b[0m\n\u001b[1;32m   1583\u001b[0m           \u001b[0mprotocol\u001b[0m \u001b[0mbuffer\u001b[0m \u001b[0;32mwith\u001b[0m \u001b[0mconfiguration\u001b[0m \u001b[0moptions\u001b[0m \u001b[0;32mfor\u001b[0m \u001b[0mthe\u001b[0m \u001b[0msession\u001b[0m\u001b[0;34m.\u001b[0m\u001b[0;34m\u001b[0m\u001b[0;34m\u001b[0m\u001b[0m\n\u001b[1;32m   1584\u001b[0m     \"\"\"\n\u001b[0;32m-> 1585\u001b[0;31m     \u001b[0msuper\u001b[0m\u001b[0;34m(\u001b[0m\u001b[0mSession\u001b[0m\u001b[0;34m,\u001b[0m \u001b[0mself\u001b[0m\u001b[0;34m)\u001b[0m\u001b[0;34m.\u001b[0m\u001b[0m__init__\u001b[0m\u001b[0;34m(\u001b[0m\u001b[0mtarget\u001b[0m\u001b[0;34m,\u001b[0m \u001b[0mgraph\u001b[0m\u001b[0;34m,\u001b[0m \u001b[0mconfig\u001b[0m\u001b[0;34m=\u001b[0m\u001b[0mconfig\u001b[0m\u001b[0;34m)\u001b[0m\u001b[0;34m\u001b[0m\u001b[0;34m\u001b[0m\u001b[0m\n\u001b[0m\u001b[1;32m   1586\u001b[0m     \u001b[0;31m# NOTE(mrry): Create these on first `__enter__` to avoid a reference cycle.\u001b[0m\u001b[0;34m\u001b[0m\u001b[0;34m\u001b[0m\u001b[0;34m\u001b[0m\u001b[0m\n\u001b[1;32m   1587\u001b[0m     \u001b[0mself\u001b[0m\u001b[0;34m.\u001b[0m\u001b[0m_default_graph_context_manager\u001b[0m \u001b[0;34m=\u001b[0m \u001b[0;32mNone\u001b[0m\u001b[0;34m\u001b[0m\u001b[0;34m\u001b[0m\u001b[0m\n",
      "\u001b[0;32m~/miniconda3/envs/drum-1.15/lib/python3.7/site-packages/tensorflow_core/python/client/session.py\u001b[0m in \u001b[0;36m__init__\u001b[0;34m(self, target, graph, config)\u001b[0m\n\u001b[1;32m    697\u001b[0m     \u001b[0;32mtry\u001b[0m\u001b[0;34m:\u001b[0m\u001b[0;34m\u001b[0m\u001b[0;34m\u001b[0m\u001b[0m\n\u001b[1;32m    698\u001b[0m       \u001b[0;31m# pylint: disable=protected-access\u001b[0m\u001b[0;34m\u001b[0m\u001b[0;34m\u001b[0m\u001b[0;34m\u001b[0m\u001b[0m\n\u001b[0;32m--> 699\u001b[0;31m       \u001b[0mself\u001b[0m\u001b[0;34m.\u001b[0m\u001b[0m_session\u001b[0m \u001b[0;34m=\u001b[0m \u001b[0mtf_session\u001b[0m\u001b[0;34m.\u001b[0m\u001b[0mTF_NewSessionRef\u001b[0m\u001b[0;34m(\u001b[0m\u001b[0mself\u001b[0m\u001b[0;34m.\u001b[0m\u001b[0m_graph\u001b[0m\u001b[0;34m.\u001b[0m\u001b[0m_c_graph\u001b[0m\u001b[0;34m,\u001b[0m \u001b[0mopts\u001b[0m\u001b[0;34m)\u001b[0m\u001b[0;34m\u001b[0m\u001b[0;34m\u001b[0m\u001b[0m\n\u001b[0m\u001b[1;32m    700\u001b[0m       \u001b[0;31m# pylint: enable=protected-access\u001b[0m\u001b[0;34m\u001b[0m\u001b[0;34m\u001b[0m\u001b[0;34m\u001b[0m\u001b[0m\n\u001b[1;32m    701\u001b[0m     \u001b[0;32mfinally\u001b[0m\u001b[0;34m:\u001b[0m\u001b[0;34m\u001b[0m\u001b[0;34m\u001b[0m\u001b[0m\n",
      "\u001b[0;31mInternalError\u001b[0m: CUDA runtime implicit initialization on GPU:0 failed. Status: all CUDA-capable devices are busy or unavailable"
     ]
    }
   ],
   "source": [
    "pkl_dir = '/scratch/hh2263/drum_data/han2020fa_sc-pkl/'\n",
    "model_best = create_model_adjustable(j_best,1,2,k_size=8,nchan_out=16,activation='linear')\n",
    "model_best.load_weights(best_model_path)\n",
    "#load test and train files\n",
    "pickle_name = \"_\".join(\n",
    "    [\"scattering\",\n",
    "    \"J-\" + str(j_best).zfill(2), \"Q-\" + str(Q).zfill(2), \"order\" + str(o)]\n",
    ")"
   ]
  },
  {
   "cell_type": "code",
   "execution_count": 8,
   "metadata": {},
   "outputs": [],
   "source": [
    "pkl_dir = '/scratch/hh2263/drum_data/han2020fa_sc-pkl/'\n",
    "pickle_name = \"_\".join(\n",
    "    [\"scattering\",\n",
    "    \"J-\" + str(j_best).zfill(2), \"Q-\" + str(Q).zfill(2), \"order\" + str(o)]\n",
    ")\n",
    "pkl_path_test = os.path.join(pkl_dir,pickle_name+\"_fold-test.pkl\")\n",
    "pkl_test = open(pkl_path_test,'rb')\n",
    "Sy_test,y_test = pickle.load(pkl_test)\n",
    "pkl_path_train = os.path.join(pkl_dir,pickle_name+\"_fold-train.pkl\")\n",
    "pkl_train = open(pkl_path_train, 'rb')\n",
    "Sy_train,y_train = pickle.load(pkl_train)"
   ]
  },
  {
   "cell_type": "code",
   "execution_count": 9,
   "metadata": {},
   "outputs": [],
   "source": [
    "for idx in range(2,4):\n",
    "    y_train[:,idx] = [math.log10(i) for i in y_train[:,idx]]\n",
    "    y_test[:,idx] = [math.log10(i) for i in y_test[:,idx]]\n",
    "\n",
    "scaler = MinMaxScaler()\n",
    "scaler.fit(y_train)\n",
    "y_test_normalized = scaler.transform(y_test)\n",
    "#log scale the input\n",
    "eps = 1e-1 #11\n",
    "Sy_test_log2 = np.log1p((Sy_test>0)*Sy_test/eps)\n",
    "\n"
   ]
  },
  {
   "cell_type": "code",
   "execution_count": 10,
   "metadata": {},
   "outputs": [
    {
     "data": {
      "text/plain": [
       "(10000, 512, 26)"
      ]
     },
     "execution_count": 10,
     "metadata": {},
     "output_type": "execute_result"
    }
   ],
   "source": [
    "Sy_test_log2.shape"
   ]
  },
  {
   "cell_type": "code",
   "execution_count": 15,
   "metadata": {},
   "outputs": [
    {
     "name": "stdout",
     "output_type": "stream",
     "text": [
      "10000/10000 [==============================] - 4s 394us/sample - loss: 0.0386 - mean_squared_error: 0.0386\n"
     ]
    },
    {
     "data": {
      "text/plain": [
       "[0.038570300471782684, 0.038570292]"
      ]
     },
     "execution_count": 15,
     "metadata": {},
     "output_type": "execute_result"
    }
   ],
   "source": [
    "model_best.evaluate(Sy_test_log2,y_test_normalized)"
   ]
  },
  {
   "cell_type": "code",
   "execution_count": 16,
   "metadata": {},
   "outputs": [],
   "source": [
    "diff = []\n",
    "for i in range(10000):\n",
    "    original = y_test_normalized[i,:]\n",
    "    Sx = Sy_test_log2[i,:,:]\n",
    "    recovered = model_best.predict(Sx.reshape((1,512,26)))\n",
    "    diff.append(recovered-original)\n",
    "diff_stacked = np.stack(np.abs(diff))\n",
    "diff_stacked = diff_stacked.reshape((10000,5))"
   ]
  },
  {
   "cell_type": "code",
   "execution_count": 21,
   "metadata": {
    "scrolled": false
   },
   "outputs": [
    {
     "data": {
      "text/plain": [
       "Text(0.5, 1.0, 'Absolute Error between reconstructed and original physical parameters')"
      ]
     },
     "execution_count": 21,
     "metadata": {},
     "output_type": "execute_result"
    },
    {
     "name": "stderr",
     "output_type": "stream",
     "text": [
      "findfont: Font family ['sans-serif'] not found. Falling back to DejaVu Sans.\n",
      "findfont: Font family ['sans-serif'] not found. Falling back to DejaVu Sans.\n"
     ]
    },
    {
     "data": {
      "image/png": "[encoded data removed]",
      "text/plain": [
       "<Figure size 432x288 with 1 Axes>"
      ]
     },
     "metadata": {
      "needs_background": "light"
     },
     "output_type": "display_data"
    }
   ],
   "source": [
    "matplotlib.rcParams['text.usetex'] = False\n",
    "labels = ['omega','tau','p','D','alpha']\n",
    "plt.boxplot(diff_stacked,labels = labels)\n",
    "plt.title('Absolute Error between reconstructed and original physical parameters')"
   ]
  },
  {
   "cell_type": "code",
   "execution_count": 18,
   "metadata": {},
   "outputs": [],
   "source": [
    "from matplotlib import rc\n",
    "rc('font',**{'family':'sans-serif','sans-serif':['Helvetica']})\n",
    "## for Palatino and other serif fonts use:\n",
    "#rc('font',**{'family':'serif','serif':['Palatino']})\n",
    "rc('text', usetex=True)\n"
   ]
  },
  {
   "cell_type": "code",
   "execution_count": 20,
   "metadata": {},
   "outputs": [
    {
     "data": {
      "image/png": "[encoded data removed]",
      "text/plain": [
       "<Figure size 432x288 with 1 Axes>"
      ]
     },
     "metadata": {
      "needs_background": "light"
     },
     "output_type": "display_data"
    }
   ],
   "source": [
    "import matplotlib\n",
    "matplotlib.rcParams['text.usetex'] = True\n",
    "#labels = [r'\\textbf{\\omega}',r'\\textbf{\\tau}',r'\\textbf{p}',r'\\textbf{D}',r'\\textbf{\\alpha}']\n",
    "labels = ['$\\displaystyle\\omega$','$\\displaystyle\\\\tau$','p','D','$\\displaystyle\\\\alpha$']\n",
    "plt.boxplot(np.log10(diff_stacked),labels = labels)\n",
    "plt.xlabel(r'\\textbf{Physical parameters}',fontsize=16)\n",
    "plt.ylabel(r'\\textbf{Log Regression errors}',fontsize=16)\n",
    "#plt.title('Log Absolute Error between reconstructed and original physical parameters')\n",
    "plt.savefig(\"./physicalparam_boxplot_log.pdf\",bbox_inches=\"tight\")"
   ]
  },
  {
   "cell_type": "code",
   "execution_count": 22,
   "metadata": {},
   "outputs": [
    {
     "data": {
      "image/png": "[encoded data removed]",
      "text/plain": [
       "<Figure size 432x288 with 1 Axes>"
      ]
     },
     "metadata": {
      "needs_background": "light"
     },
     "output_type": "display_data"
    }
   ],
   "source": [
    "matplotlib.rcParams['text.usetex'] = True\n",
    "#labels = [r'\\textbf{\\omega}',r'\\textbf{\\tau}',r'\\textbf{p}',r'\\textbf{D}',r'\\textbf{\\alpha}']\n",
    "labels = ['$\\displaystyle\\omega$','$\\displaystyle\\\\tau$','$\\displaystyle p$','$\\displaystyle D$','$\\displaystyle\\\\alpha$']\n",
    "plt.boxplot(diff_stacked,labels = labels)\n",
    "plt.xlabel(r'\\textbf{Physical parameters}',fontsize=16)\n",
    "plt.ylabel(r'\\textbf{Regression errors}',fontsize=16)\n",
    "#plt.title('Log Absolute Error between reconstructed and original physical parameters')\n",
    "plt.savefig(\"./physicalparam_boxplot.pdf\",bbox_inches=\"tight\")"
   ]
  },
  {
   "cell_type": "code",
   "execution_count": 40,
   "metadata": {},
   "outputs": [
    {
     "data": {
      "text/plain": [
       "Text(0, 0.5, '\\\\textbf{Regression errors ($\\\\displaystyle \\\\%$)}')"
      ]
     },
     "execution_count": 40,
     "metadata": {},
     "output_type": "execute_result"
    },
    {
     "data": {
      "image/png": "[encoded data removed]",
      "text/plain": [
       "<Figure size 432x288 with 1 Axes>"
      ]
     },
     "metadata": {
      "needs_background": "light"
     },
     "output_type": "display_data"
    }
   ],
   "source": [
    "matplotlib.rcParams['text.usetex'] = True\n",
    "#labels = [r'\\textbf{\\omega}',r'\\textbf{\\tau}',r'\\textbf{p}',r'\\textbf{D}',r'\\textbf{\\alpha}']\n",
    "labels = ['$\\displaystyle\\omega$','$\\displaystyle\\\\tau$','$\\displaystyle p$','$\\displaystyle D$','$\\displaystyle\\\\alpha$']\n",
    "plt.boxplot(diff_stacked*100,labels = labels)\n",
    "plt.xlabel(r'\\textbf{Physical parameters}',fontsize=16)\n",
    "plt.ylabel(r'\\textbf{Regression errors ($\\displaystyle \\%$)}',fontsize=16)\n",
    "#plt.title('Log Absolute Error between reconstructed and original physical parameters')\n",
    "#plt.savefig(\"./physicalparam_boxplot.pdf\",bbox_inches=\"tight\")"
   ]
  },
  {
   "cell_type": "code",
   "execution_count": 34,
   "metadata": {},
   "outputs": [],
   "source": [
    "def create_model_adjustable(J,Q,order,k_size,nchan_out,activation):\n",
    "\tN = 2**15\n",
    "\ty = np.random.rand(N)\n",
    "\tscattering = Scattering1D(J = J,shape=(N,), Q = Q, max_order=order)\n",
    "\tSy = np.array(scattering(torch.Tensor(y))).T\n",
    "\tinput_x,input_y = Sy.shape\n",
    "\tnchan_in = 1       # number of input channels.  1 since it is BW\n",
    "\n",
    "\tinput_shape = (input_x,input_y)#Sy.shape\n",
    "\tkernel_size = (k_size,)\n",
    "\tK.clear_session()\n",
    "\tmodel=Sequential()\n",
    "\t#1 conv layer +  1 batch normalization + nonlinear activation + pooling\n",
    "\tmodel.add(BatchNormalization(input_shape=input_shape))\n",
    "\tmodel.add(Conv1D(filters=nchan_out,\n",
    "\t\tkernel_size=kernel_size, padding=\"same\",name='conv1'))\n",
    "\t#model.add(BatchNormalization())\n",
    "\tmodel.add(Activation(\"relu\"))\n",
    "\n",
    "\tif model.layers[-1].output_shape[1]>=4:\n",
    "\t\tpool = 4\n",
    "\telif model.layers[-1].output_shape[1]==2:\n",
    "\t\tpool = 2\n",
    "\t    \n",
    "\tmodel.add(AveragePooling1D(pool_size=(pool,)))\n",
    "\n",
    "\n",
    "\tfor i in range(3):\n",
    "\t\tmodel.add(Conv1D(filters=nchan_out,\n",
    "\t\t             kernel_size=kernel_size, padding=\"same\" ))\n",
    "\t\tmodel.add(BatchNormalization())\n",
    "\t\tmodel.add(Activation(\"relu\"))\n",
    "\t\t#print('before pool',model.layers[-1].output_shape)\n",
    "\t\tif model.layers[-1].output_shape[1] >= 4:\n",
    "\t\t\tmodel.add(AveragePooling1D(pool_size=(4,)))\n",
    "\t\telif model.layers[-1].output_shape[1] == 2:\n",
    "\t\t\tmodel.add(AveragePooling1D(pool_size=(2,)))\n",
    "\t\t#print(model.layers[-1].output_shape)\n",
    "\n",
    "\tmodel.add(BatchNormalization())\n",
    "\tmodel.add(Flatten())\n",
    "\tmodel.add(Dense(64, activation='relu'))\n",
    "\tmodel.add(BatchNormalization())\n",
    "\t#what activation should be chosen for last layer, for regression problem? should be a linear function\n",
    "\tmodel.add(Dense(5, activation=activation)) #output layer that corresponds to the 5 physical parameters.\n",
    "\n",
    "\n",
    "\t# Compile the model\n",
    "\tmodel.compile(loss='mse', optimizer='adam', metrics=['mse'])\n",
    "\n",
    "\n",
    "\n",
    "\n",
    "\treturn model"
   ]
  },
  {
   "cell_type": "code",
   "execution_count": null,
   "metadata": {},
   "outputs": [],
   "source": []
  },
  {
   "cell_type": "markdown",
   "metadata": {},
   "source": [
    "## recover shape from interpolation"
   ]
  },
  {
   "cell_type": "code",
   "execution_count": 17,
   "metadata": {},
   "outputs": [],
   "source": [
    "import interpolate_shape"
   ]
  },
  {
   "cell_type": "code",
   "execution_count": 18,
   "metadata": {
    "scrolled": true
   },
   "outputs": [
    {
     "name": "stdout",
     "output_type": "stream",
     "text": [
      "/home/hh2263/wave2shape/sbatch/07_train10trials/output/10trials/tests3/J-08_Q-01_order2.h5\n",
      "--- 1.4902889728546143 seconds ---\n",
      "--- 1.4831650257110596 seconds ---\n",
      "--- 1.4937803745269775 seconds ---\n",
      "--- 1.480173110961914 seconds ---\n"
     ]
    },
    {
     "ename": "TypeError",
     "evalue": "'>' not supported between instances of 'tuple' and 'int'",
     "output_type": "error",
     "traceback": [
      "\u001b[0;31m---------------------------------------------------------------------------\u001b[0m",
      "\u001b[0;31mTypeError\u001b[0m                                 Traceback (most recent call last)",
      "\u001b[0;32m<ipython-input-18-1013246af533>\u001b[0m in \u001b[0;36m<module>\u001b[0;34m\u001b[0m\n\u001b[1;32m     10\u001b[0m \u001b[0;34m\u001b[0m\u001b[0m\n\u001b[1;32m     11\u001b[0m \u001b[0;31m#interpolate_shape(x,y,num,prec,J,model_path,w,tau,p,D,alpha)\u001b[0m\u001b[0;34m\u001b[0m\u001b[0;34m\u001b[0m\u001b[0;34m\u001b[0m\u001b[0m\n\u001b[0;32m---> 12\u001b[0;31m \u001b[0mhist\u001b[0m\u001b[0;34m,\u001b[0m\u001b[0mprediction\u001b[0m \u001b[0;34m=\u001b[0m \u001b[0minterpolate_shape\u001b[0m\u001b[0;34m.\u001b[0m\u001b[0minterpolate_shape\u001b[0m\u001b[0;34m(\u001b[0m\u001b[0;36m0.5\u001b[0m\u001b[0;34m,\u001b[0m\u001b[0;36m0.5\u001b[0m\u001b[0;34m,\u001b[0m\u001b[0;36m4\u001b[0m\u001b[0;34m,\u001b[0m\u001b[0;36m0.05\u001b[0m\u001b[0;34m,\u001b[0m\u001b[0;36m8\u001b[0m\u001b[0;34m,\u001b[0m\u001b[0mbest_model_path\u001b[0m\u001b[0;34m,\u001b[0m\u001b[0mw\u001b[0m\u001b[0;34m=\u001b[0m\u001b[0;36m200\u001b[0m\u001b[0;34m*\u001b[0m\u001b[0;36m2\u001b[0m\u001b[0;34m*\u001b[0m\u001b[0mnp\u001b[0m\u001b[0;34m.\u001b[0m\u001b[0mpi\u001b[0m\u001b[0;34m,\u001b[0m\u001b[0mtau\u001b[0m\u001b[0;34m=\u001b[0m\u001b[0;36m0.02\u001b[0m\u001b[0;34m,\u001b[0m\u001b[0mp\u001b[0m\u001b[0;34m=\u001b[0m\u001b[0;36m0.1\u001b[0m\u001b[0;34m,\u001b[0m\u001b[0mD\u001b[0m\u001b[0;34m=\u001b[0m\u001b[0;36m0.01\u001b[0m\u001b[0;34m,\u001b[0m\u001b[0malpha\u001b[0m\u001b[0;34m=\u001b[0m\u001b[0;36m0.8\u001b[0m\u001b[0;34m)\u001b[0m\u001b[0;34m\u001b[0m\u001b[0;34m\u001b[0m\u001b[0m\n\u001b[0m",
      "\u001b[0;32m~/wave2shape/notebooks/interpolate_shape.py\u001b[0m in \u001b[0;36minterpolate_shape\u001b[0;34m(x, y, num, prec, J, model_path, w, tau, p, D, alpha)\u001b[0m\n\u001b[1;32m    187\u001b[0m     \u001b[0;31m#prepare scattering features\u001b[0m\u001b[0;34m\u001b[0m\u001b[0;34m\u001b[0m\u001b[0;34m\u001b[0m\u001b[0m\n\u001b[1;32m    188\u001b[0m         \u001b[0mSy_interpolated\u001b[0m\u001b[0;34m,\u001b[0m\u001b[0msounds\u001b[0m \u001b[0;34m=\u001b[0m \u001b[0minterpolate_sounds\u001b[0m\u001b[0;34m(\u001b[0m\u001b[0mx\u001b[0m\u001b[0;34m,\u001b[0m\u001b[0my\u001b[0m\u001b[0;34m,\u001b[0m\u001b[0mnum\u001b[0m\u001b[0;34m,\u001b[0m\u001b[0mprec\u001b[0m\u001b[0;34m,\u001b[0m\u001b[0mJ\u001b[0m\u001b[0;34m,\u001b[0m\u001b[0mw\u001b[0m\u001b[0;34m,\u001b[0m\u001b[0mtau\u001b[0m\u001b[0;34m,\u001b[0m\u001b[0mp\u001b[0m\u001b[0;34m,\u001b[0m\u001b[0mD\u001b[0m\u001b[0;34m,\u001b[0m\u001b[0malpha\u001b[0m\u001b[0;34m)\u001b[0m\u001b[0;31m#this J should be small to recover sound\u001b[0m\u001b[0;34m\u001b[0m\u001b[0;34m\u001b[0m\u001b[0m\n\u001b[0;32m--> 189\u001b[0;31m         \u001b[0mSy_interpolated_log\u001b[0m \u001b[0;34m=\u001b[0m \u001b[0mnp\u001b[0m\u001b[0;34m.\u001b[0m\u001b[0mlog1p\u001b[0m\u001b[0;34m(\u001b[0m\u001b[0;34m(\u001b[0m\u001b[0;34m(\u001b[0m\u001b[0mSy_interpolated\u001b[0m\u001b[0;34m>\u001b[0m\u001b[0;36m0\u001b[0m\u001b[0;34m)\u001b[0m\u001b[0;34m*\u001b[0m\u001b[0mSy_interpolated\u001b[0m\u001b[0;34m)\u001b[0m\u001b[0;34m/\u001b[0m\u001b[0;36m1e-11\u001b[0m\u001b[0;34m)\u001b[0m\u001b[0;34m\u001b[0m\u001b[0;34m\u001b[0m\u001b[0m\n\u001b[0m\u001b[1;32m    190\u001b[0m         \u001b[0mSy_interpolated_log\u001b[0m \u001b[0;34m=\u001b[0m \u001b[0mSy_interpolated_log\u001b[0m\u001b[0;34m.\u001b[0m\u001b[0mT\u001b[0m\u001b[0;34m\u001b[0m\u001b[0;34m\u001b[0m\u001b[0m\n\u001b[1;32m    191\u001b[0m         \u001b[0mn\u001b[0m\u001b[0;34m,\u001b[0m\u001b[0mm\u001b[0m \u001b[0;34m=\u001b[0m \u001b[0mSy_interpolated_log\u001b[0m\u001b[0;34m.\u001b[0m\u001b[0mshape\u001b[0m\u001b[0;34m\u001b[0m\u001b[0;34m\u001b[0m\u001b[0m\n",
      "\u001b[0;31mTypeError\u001b[0m: '>' not supported between instances of 'tuple' and 'int'"
     ]
    }
   ],
   "source": [
    "j_best = 8\n",
    "trial_best = 3\n",
    "pickle_name = \"_\".join(\n",
    "                [\"J-\" + str(j_best).zfill(2), \"Q-\" + str(1).zfill(2), \"order\" + str(2)]\n",
    "            )\n",
    "best_model_path = os.path.join(output_dir,\"tests\"+str(trial_best)+\"/\"+pickle_name+\".h5\")\n",
    "print(best_model_path)\n",
    "#model_best = create_model_adjustable(j_best,1,2,k_size=8,nchan_out=16,activation='linear')\n",
    "#model_best.load_weights(best_model_path)\n",
    "\n",
    "#interpolate_shape(x,y,num,prec,J,model_path,w,tau,p,D,alpha)\n",
    "hist,prediction = interpolate_shape.interpolate_shape(0.5,0.5,4,0.05,8,best_model_path,w=200*2*np.pi,tau=0.02,p=0.1,D=0.01,alpha=0.8)"
   ]
  },
  {
   "cell_type": "code",
   "execution_count": 12,
   "metadata": {},
   "outputs": [],
   "source": [
    "import hitdifferentparts\n",
    "def interpolate_sounds(x_coord,y_coord,num,prec,J,w,tau,p,D,alpha):\n",
    "\t\t\"\"\"\n",
    "\t\tx_coord, y_coord is the point at which you want to interpolate the sounds\n",
    "\t\tnum is number of interpolation points\n",
    "\t\tprec is distance between interpolated to interpolation points\n",
    "\t\t\"\"\"\n",
    "\t\tscs = []\n",
    "\t\tsounds = []\n",
    "\t\tif num == 2:\n",
    "\t\t\tinter = [(x_coord+prec,y_coord),(x_coord-prec,y_coord)]\n",
    "\t\telif num == 4:\n",
    "\t\t\tinter = [(x_coord+prec,y_coord),(x_coord-prec,y_coord),(x_coord,y_coord+prec),(x_coord,y_coord-prec)]\n",
    "\t\tfor (x,y) in inter:\n",
    "\t\t\ty = hitdifferentparts.hitdiffparts(x,y,w,tau,p,D,alpha)\n",
    "\t\t\tSy = getsc(torch.Tensor(y),J)\n",
    "\t\t\tsounds.append(y)\n",
    "\t\t\tscs.append(Sy)\n",
    "\t\treturn sum(scs)/float(num),sounds\n",
    "\n",
    "\n",
    "def getsc(y, J):\n",
    "\t\"\"\"\n",
    "\tthis function outputs scattering transform of a time-domain signal.\n",
    "\t\"\"\"\n",
    "\tN = len(y)\n",
    "\tscattering = Scattering1D(J = J,shape=(N,))\n",
    "\tSy = scattering(y)\n",
    "\treturn Sy\n",
    "\n",
    "def interpolate_shape(x,y,num,prec,J,model_path,w,tau,p,D,alpha):\n",
    "    #prepare scattering features \n",
    "\tSy_interpolated,sounds = interpolate_sounds(x,y,num,prec,J,w,tau,p,D,alpha)#this J should be small to recover sound\t\n",
    "\tSy_interpolated_log = np.log1p(((Sy_interpolated>0)*Sy_interpolated)/1e-11)\n",
    "\tSy_interpolated_log = Sy_interpolated_log.T\n",
    "\tn,m = Sy_interpolated_log.shape\n",
    "\n",
    "\t#prepare normalized ground truth\n",
    "\tscaler = getscaler()\n",
    "\tgt_original = np.array([w,tau,p,D,alpha]).reshape((1,5))\n",
    "\tgt_normalized = scaler.transform(gt_original)\n",
    "\n",
    "\t#prepare model\n",
    "\tmodel_best = create_model_adjustable(J,1,2,k_size=8,nchan_out=16,activation='linear')\n",
    "\tmodel_best.load_weights(model_path)\n",
    "\thist = model_best.evaluate(np.array(Sy_interpolated_log).reshape(1,n,m),gt_normalized)\n",
    "\tmodel_predict = model_best.predict(Sy_interpolated_log.reshape(1,n,m))\n",
    "\treturn hist,model_predict\n",
    "\n",
    "def getscaler():\n",
    "\tdf_train = pd.read_csv(\"../notebooks/train_param.csv\")\n",
    "\tparams = df_train.values[:,1:-1]\n",
    "\tfor idx in range(2,4):\n",
    "\t\tparams[:,idx] = [math.log10(i) for i in params[:,idx]]\n",
    "\n",
    "\tscaler = MinMaxScaler()\n",
    "\tscaler.fit(params)\n",
    "\n",
    "\treturn scaler\n",
    "\n",
    "\n"
   ]
  },
  {
   "cell_type": "code",
   "execution_count": 57,
   "metadata": {},
   "outputs": [],
   "source": [
    "omega = list(np.linspace(200*np.pi,4000*np.pi,20))\n",
    "tau = list(np.linspace(0.01,0.3,20))\n",
    "p = list(np.logspace(np.log10(0.0001),np.log10(2),20))\n",
    "D = list(np.logspace(np.log10(0.0001),np.log10(10),20))\n",
    "alpha = list(np.linspace(0.001,1,20))"
   ]
  },
  {
   "cell_type": "code",
   "execution_count": null,
   "metadata": {},
   "outputs": [],
   "source": [
    "Sy_interpolated,sounds = interpolate_sounds(x,y,num,prec,J,w,tau,p,D,alpha)#this J should be small to recover sound\t\n",
    "Sy_interpolated_log = np.log1p(((Sy_interpolated>0)*Sy_interpolated)/1e-11)\n",
    "Sy_interpolated_log = Sy_interpolated_log.T\n",
    "n,m = Sy_interpolated_log.shape\n",
    "\n",
    "#prepare normalized ground truth\n",
    "scaler = getscaler()\n",
    "gt_original = np.array([w,tau,p,D,alpha]).reshape((1,5))\n",
    "gt_normalized = scaler.transform(gt_original)\n",
    "\n",
    "#prepare model\n",
    "model_best = create_model_adjustable(J,1,2,k_size=8,nchan_out=16,activation='linear')\n",
    "model_best.load_weights(model_path)\n",
    "hist = model_best.evaluate(np.array(Sy_interpolated_log).reshape(1,n,m),gt_normalized)\n",
    "model_predict = model_best.predict(Sy_interpolated_log.reshape(1,n,m))\n"
   ]
  },
  {
   "cell_type": "code",
   "execution_count": 40,
   "metadata": {
    "scrolled": false
   },
   "outputs": [
    {
     "name": "stdout",
     "output_type": "stream",
     "text": [
      "--- 1.5205738544464111 seconds ---\n",
      "--- 1.5094895362854004 seconds ---\n",
      "--- 1.5132930278778076 seconds ---\n",
      "--- 1.5123417377471924 seconds ---\n",
      "1/1 [==============================] - 0s 140ms/sample - loss: 0.0452 - mean_squared_error: 0.0452\n",
      "--- 1.5095105171203613 seconds ---\n",
      "--- 1.504124641418457 seconds ---\n",
      "--- 1.5040981769561768 seconds ---\n",
      "--- 1.5051872730255127 seconds ---\n",
      "1/1 [==============================] - 0s 141ms/sample - loss: 0.0503 - mean_squared_error: 0.0503\n",
      "--- 1.5106847286224365 seconds ---\n",
      "--- 1.5193994045257568 seconds ---\n",
      "--- 1.510310173034668 seconds ---\n",
      "--- 1.5248305797576904 seconds ---\n",
      "1/1 [==============================] - 0s 142ms/sample - loss: 0.0617 - mean_squared_error: 0.0617\n",
      "--- 1.5182464122772217 seconds ---\n",
      "--- 1.5273258686065674 seconds ---\n",
      "--- 1.5240614414215088 seconds ---\n",
      "--- 1.515343189239502 seconds ---\n",
      "1/1 [==============================] - 0s 141ms/sample - loss: 0.0891 - mean_squared_error: 0.0891\n",
      "--- 1.517139196395874 seconds ---\n",
      "--- 1.503525733947754 seconds ---\n",
      "--- 1.518059253692627 seconds ---\n",
      "--- 1.5136494636535645 seconds ---\n",
      "1/1 [==============================] - 0s 150ms/sample - loss: 0.1379 - mean_squared_error: 0.1379\n"
     ]
    }
   ],
   "source": [
    "records = []\n",
    "for o in omega:\n",
    "    hist,shape = interpolate_shape(0.5,0.5,4,0.05,8,best_model_path,o,tau[0],p[0],D[0],alpha[0])\n",
    "    records.append(hist[0])\n",
    "                    "
   ]
  },
  {
   "cell_type": "code",
   "execution_count": 41,
   "metadata": {},
   "outputs": [],
   "source": [
    "import matplotlib.pyplot as plt"
   ]
  },
  {
   "cell_type": "code",
   "execution_count": 44,
   "metadata": {},
   "outputs": [
    {
     "data": {
      "text/plain": [
       "Text(0.5, 0, 'omega')"
      ]
     },
     "execution_count": 44,
     "metadata": {},
     "output_type": "execute_result"
    },
    {
     "data": {
      "image/png": "[encoded data removed]",
      "text/plain": [
       "<Figure size 432x288 with 1 Axes>"
      ]
     },
     "metadata": {
      "needs_background": "light"
     },
     "output_type": "display_data"
    }
   ],
   "source": [
    "plt.scatter(omega,records)\n",
    "plt.ylabel('regression error')\n",
    "plt.xlabel('omega')"
   ]
  },
  {
   "cell_type": "code",
   "execution_count": 45,
   "metadata": {},
   "outputs": [
    {
     "name": "stdout",
     "output_type": "stream",
     "text": [
      "--- 1.502150058746338 seconds ---\n",
      "--- 1.5084543228149414 seconds ---\n",
      "--- 1.512162208557129 seconds ---\n",
      "--- 1.5108673572540283 seconds ---\n",
      "1/1 [==============================] - 0s 142ms/sample - loss: 0.0452 - mean_squared_error: 0.0452\n",
      "--- 1.4893858432769775 seconds ---\n",
      "--- 1.4867570400238037 seconds ---\n",
      "--- 1.5717978477478027 seconds ---\n",
      "--- 1.4849941730499268 seconds ---\n",
      "1/1 [==============================] - 0s 140ms/sample - loss: 0.0677 - mean_squared_error: 0.0677\n",
      "--- 1.4957458972930908 seconds ---\n",
      "--- 1.490832805633545 seconds ---\n",
      "--- 1.4940354824066162 seconds ---\n",
      "--- 1.4991118907928467 seconds ---\n",
      "1/1 [==============================] - 0s 141ms/sample - loss: 0.0881 - mean_squared_error: 0.0881\n",
      "--- 1.4941418170928955 seconds ---\n",
      "--- 1.4943714141845703 seconds ---\n",
      "--- 1.5052483081817627 seconds ---\n",
      "--- 1.4908921718597412 seconds ---\n",
      "1/1 [==============================] - 0s 138ms/sample - loss: 0.0796 - mean_squared_error: 0.0796\n",
      "--- 1.4964308738708496 seconds ---\n",
      "--- 1.47861909866333 seconds ---\n",
      "--- 1.4919555187225342 seconds ---\n",
      "--- 1.4887006282806396 seconds ---\n",
      "1/1 [==============================] - 0s 138ms/sample - loss: 0.0813 - mean_squared_error: 0.0813\n"
     ]
    }
   ],
   "source": [
    "records2 = []\n",
    "for t in tau:\n",
    "    hist,shape = interpolate_shape(0.5,0.5,4,0.05,8,best_model_path,omega[0],t,p[0],D[0],alpha[0])\n",
    "    records2.append(hist[0])"
   ]
  },
  {
   "cell_type": "code",
   "execution_count": 46,
   "metadata": {},
   "outputs": [
    {
     "data": {
      "text/plain": [
       "Text(0.5, 0, 'tau')"
      ]
     },
     "execution_count": 46,
     "metadata": {},
     "output_type": "execute_result"
    },
    {
     "data": {
      "image/png": "[encoded data removed]",
      "text/plain": [
       "<Figure size 432x288 with 1 Axes>"
      ]
     },
     "metadata": {
      "needs_background": "light"
     },
     "output_type": "display_data"
    }
   ],
   "source": [
    "plt.scatter(tau,records2)\n",
    "plt.ylabel('regression error')\n",
    "plt.xlabel('tau')"
   ]
  },
  {
   "cell_type": "code",
   "execution_count": 52,
   "metadata": {},
   "outputs": [
    {
     "data": {
      "text/plain": [
       "[0.01, 0.08249999999999999, 0.155, 0.22749999999999998, 0.3]"
      ]
     },
     "execution_count": 52,
     "metadata": {},
     "output_type": "execute_result"
    }
   ],
   "source": [
    "tau"
   ]
  },
  {
   "cell_type": "code",
   "execution_count": 56,
   "metadata": {},
   "outputs": [
    {
     "name": "stdout",
     "output_type": "stream",
     "text": [
      "0.155\n"
     ]
    }
   ],
   "source": [
    "t = np.random.choice(tau)\n",
    "print(t)"
   ]
  },
  {
   "cell_type": "code",
   "execution_count": 61,
   "metadata": {
    "scrolled": true
   },
   "outputs": [
    {
     "name": "stdout",
     "output_type": "stream",
     "text": [
      "--- 1.4898793697357178 seconds ---\n",
      "--- 1.4843013286590576 seconds ---\n",
      "--- 1.478513479232788 seconds ---\n",
      "--- 1.4944274425506592 seconds ---\n",
      "1/1 [==============================] - 0s 140ms/sample - loss: 0.4227 - mean_squared_error: 0.4227\n",
      "--- 1.4781584739685059 seconds ---\n",
      "--- 1.4903299808502197 seconds ---\n",
      "--- 1.4881541728973389 seconds ---\n",
      "--- 1.487833023071289 seconds ---\n",
      "1/1 [==============================] - 0s 139ms/sample - loss: 0.2026 - mean_squared_error: 0.2026\n",
      "--- 1.5004911422729492 seconds ---\n",
      "--- 1.498441457748413 seconds ---\n",
      "--- 1.4991469383239746 seconds ---\n",
      "--- 1.4935903549194336 seconds ---\n",
      "1/1 [==============================] - 0s 140ms/sample - loss: 1.2065 - mean_squared_error: 1.2065\n",
      "--- 1.491056203842163 seconds ---\n",
      "--- 1.4947524070739746 seconds ---\n",
      "--- 1.4987304210662842 seconds ---\n",
      "--- 1.4959862232208252 seconds ---\n",
      "1/1 [==============================] - 0s 149ms/sample - loss: 0.0780 - mean_squared_error: 0.0780\n",
      "--- 1.5145599842071533 seconds ---\n",
      "--- 1.5062177181243896 seconds ---\n",
      "--- 1.5082128047943115 seconds ---\n",
      "--- 1.5030055046081543 seconds ---\n",
      "1/1 [==============================] - 0s 147ms/sample - loss: 1.0176 - mean_squared_error: 1.0176\n",
      "--- 1.490856409072876 seconds ---\n",
      "--- 1.504805326461792 seconds ---\n",
      "--- 1.496565341949463 seconds ---\n",
      "--- 1.488373041152954 seconds ---\n",
      "1/1 [==============================] - 0s 143ms/sample - loss: 0.3516 - mean_squared_error: 0.3516\n",
      "--- 1.491034984588623 seconds ---\n",
      "--- 1.4817984104156494 seconds ---\n",
      "--- 1.4947013854980469 seconds ---\n",
      "--- 1.492398977279663 seconds ---\n",
      "1/1 [==============================] - 0s 142ms/sample - loss: 0.2709 - mean_squared_error: 0.2709\n",
      "--- 1.4882335662841797 seconds ---\n",
      "--- 1.5860154628753662 seconds ---\n",
      "--- 1.4876039028167725 seconds ---\n",
      "--- 1.4879605770111084 seconds ---\n",
      "1/1 [==============================] - 0s 140ms/sample - loss: 0.1623 - mean_squared_error: 0.1623\n",
      "--- 1.4865882396697998 seconds ---\n",
      "--- 1.4918153285980225 seconds ---\n",
      "--- 1.492490291595459 seconds ---\n",
      "--- 1.4979236125946045 seconds ---\n",
      "1/1 [==============================] - 0s 137ms/sample - loss: 0.1935 - mean_squared_error: 0.1935\n",
      "--- 1.4996907711029053 seconds ---\n",
      "--- 1.489614725112915 seconds ---\n",
      "--- 1.500648021697998 seconds ---\n",
      "--- 1.4961302280426025 seconds ---\n",
      "1/1 [==============================] - 0s 140ms/sample - loss: 0.1860 - mean_squared_error: 0.1860\n",
      "--- 1.4905946254730225 seconds ---\n",
      "--- 1.4893958568572998 seconds ---\n",
      "--- 1.4895212650299072 seconds ---\n",
      "--- 1.4878747463226318 seconds ---\n",
      "1/1 [==============================] - 0s 143ms/sample - loss: 0.0551 - mean_squared_error: 0.0551\n",
      "--- 1.4947521686553955 seconds ---\n",
      "--- 1.4966213703155518 seconds ---\n",
      "--- 1.4999988079071045 seconds ---\n",
      "--- 1.4973914623260498 seconds ---\n",
      "1/1 [==============================] - 0s 142ms/sample - loss: 0.1549 - mean_squared_error: 0.1549\n",
      "--- 1.4929022789001465 seconds ---\n",
      "--- 1.4986116886138916 seconds ---\n",
      "--- 1.4902737140655518 seconds ---\n",
      "--- 1.4964900016784668 seconds ---\n",
      "1/1 [==============================] - 0s 141ms/sample - loss: 0.1781 - mean_squared_error: 0.1781\n",
      "--- 1.4992268085479736 seconds ---\n",
      "--- 1.4991865158081055 seconds ---\n",
      "--- 1.5010313987731934 seconds ---\n",
      "--- 1.5033810138702393 seconds ---\n",
      "1/1 [==============================] - 0s 143ms/sample - loss: 0.2310 - mean_squared_error: 0.2310\n",
      "--- 1.7013146877288818 seconds ---\n",
      "--- 1.5356543064117432 seconds ---\n",
      "--- 1.4897205829620361 seconds ---\n",
      "--- 1.485982894897461 seconds ---\n",
      "1/1 [==============================] - 0s 141ms/sample - loss: 0.1421 - mean_squared_error: 0.1421\n",
      "--- 1.5026092529296875 seconds ---\n",
      "--- 1.4962403774261475 seconds ---\n",
      "--- 1.4908909797668457 seconds ---\n",
      "--- 1.4961128234863281 seconds ---\n",
      "1/1 [==============================] - 0s 140ms/sample - loss: 0.1469 - mean_squared_error: 0.1469\n",
      "--- 1.5105791091918945 seconds ---\n",
      "--- 1.5023417472839355 seconds ---\n",
      "--- 1.5109937191009521 seconds ---\n",
      "--- 1.5163626670837402 seconds ---\n",
      "1/1 [==============================] - 0s 141ms/sample - loss: 0.1216 - mean_squared_error: 0.1216\n",
      "--- 1.495527982711792 seconds ---\n",
      "--- 1.488743782043457 seconds ---\n",
      "--- 1.4896483421325684 seconds ---\n",
      "--- 1.491581916809082 seconds ---\n",
      "1/1 [==============================] - 0s 140ms/sample - loss: 0.2261 - mean_squared_error: 0.2261\n",
      "--- 1.4851789474487305 seconds ---\n",
      "--- 1.497880220413208 seconds ---\n",
      "--- 1.5806994438171387 seconds ---\n",
      "--- 1.490771770477295 seconds ---\n",
      "1/1 [==============================] - 0s 152ms/sample - loss: 0.1341 - mean_squared_error: 0.1341\n",
      "--- 1.6032617092132568 seconds ---\n",
      "--- 1.4994592666625977 seconds ---\n",
      "--- 1.5958061218261719 seconds ---\n",
      "--- 1.511751651763916 seconds ---\n",
      "1/1 [==============================] - 0s 162ms/sample - loss: 0.1522 - mean_squared_error: 0.1522\n",
      "--- 1.5909323692321777 seconds ---\n",
      "--- 1.4850249290466309 seconds ---\n",
      "--- 1.486729621887207 seconds ---\n",
      "--- 1.4897444248199463 seconds ---\n",
      "1/1 [==============================] - 0s 139ms/sample - loss: 0.2238 - mean_squared_error: 0.2238\n",
      "--- 1.4859936237335205 seconds ---\n",
      "--- 1.4854261875152588 seconds ---\n",
      "--- 1.5045263767242432 seconds ---\n",
      "--- 1.5857903957366943 seconds ---\n",
      "1/1 [==============================] - 0s 140ms/sample - loss: 0.3826 - mean_squared_error: 0.3826\n",
      "--- 1.4962904453277588 seconds ---\n",
      "--- 1.4931840896606445 seconds ---\n",
      "--- 1.4954962730407715 seconds ---\n",
      "--- 1.4915399551391602 seconds ---\n",
      "1/1 [==============================] - 0s 140ms/sample - loss: 0.3898 - mean_squared_error: 0.3898\n",
      "--- 1.4984400272369385 seconds ---\n",
      "--- 1.4954264163970947 seconds ---\n",
      "--- 1.5004277229309082 seconds ---\n",
      "--- 1.4995448589324951 seconds ---\n",
      "1/1 [==============================] - 0s 138ms/sample - loss: 0.3618 - mean_squared_error: 0.3618\n",
      "--- 1.5119245052337646 seconds ---\n",
      "--- 1.5072295665740967 seconds ---\n",
      "--- 1.5074713230133057 seconds ---\n",
      "--- 1.5070886611938477 seconds ---\n",
      "1/1 [==============================] - 0s 133ms/sample - loss: 0.0559 - mean_squared_error: 0.0559\n",
      "--- 1.4937527179718018 seconds ---\n",
      "--- 1.493170976638794 seconds ---\n",
      "--- 1.5030956268310547 seconds ---\n",
      "--- 1.4928679466247559 seconds ---\n",
      "1/1 [==============================] - 0s 142ms/sample - loss: 0.1900 - mean_squared_error: 0.1900\n",
      "--- 1.4842488765716553 seconds ---\n",
      "--- 1.4903662204742432 seconds ---\n",
      "--- 1.4873197078704834 seconds ---\n",
      "--- 1.4793107509613037 seconds ---\n",
      "1/1 [==============================] - 0s 138ms/sample - loss: 0.1869 - mean_squared_error: 0.1869\n",
      "--- 1.490013599395752 seconds ---\n",
      "--- 1.4875338077545166 seconds ---\n",
      "--- 1.4936482906341553 seconds ---\n",
      "--- 1.4899864196777344 seconds ---\n",
      "1/1 [==============================] - 0s 142ms/sample - loss: 0.1354 - mean_squared_error: 0.1354\n",
      "--- 1.4929351806640625 seconds ---\n",
      "--- 1.489089012145996 seconds ---\n",
      "--- 1.4986035823822021 seconds ---\n",
      "--- 1.494858741760254 seconds ---\n",
      "1/1 [==============================] - 0s 146ms/sample - loss: 0.1466 - mean_squared_error: 0.1466\n",
      "--- 1.4945144653320312 seconds ---\n",
      "--- 1.5002529621124268 seconds ---\n",
      "--- 1.49269437789917 seconds ---\n",
      "--- 1.4890861511230469 seconds ---\n",
      "1/1 [==============================] - 0s 142ms/sample - loss: 0.1820 - mean_squared_error: 0.1820\n",
      "--- 1.4988789558410645 seconds ---\n",
      "--- 1.4938819408416748 seconds ---\n",
      "--- 1.5039653778076172 seconds ---\n",
      "--- 1.4946918487548828 seconds ---\n",
      "1/1 [==============================] - 0s 139ms/sample - loss: 0.0827 - mean_squared_error: 0.0827\n",
      "--- 1.4965300559997559 seconds ---\n",
      "--- 1.4893558025360107 seconds ---\n",
      "--- 1.5007729530334473 seconds ---\n",
      "--- 1.5044054985046387 seconds ---\n",
      "1/1 [==============================] - 0s 143ms/sample - loss: 0.1714 - mean_squared_error: 0.1714\n",
      "--- 1.5021793842315674 seconds ---\n",
      "--- 1.4957897663116455 seconds ---\n",
      "--- 1.4968352317810059 seconds ---\n",
      "--- 1.4994821548461914 seconds ---\n",
      "1/1 [==============================] - 0s 141ms/sample - loss: 0.1564 - mean_squared_error: 0.1564\n",
      "--- 1.4979948997497559 seconds ---\n",
      "--- 1.5026557445526123 seconds ---\n",
      "--- 1.4937610626220703 seconds ---\n",
      "--- 1.5034077167510986 seconds ---\n",
      "1/1 [==============================] - 0s 139ms/sample - loss: 0.0590 - mean_squared_error: 0.0590\n",
      "--- 1.4918537139892578 seconds ---\n",
      "--- 1.484992504119873 seconds ---\n",
      "--- 1.487480640411377 seconds ---\n"
     ]
    },
    {
     "name": "stdout",
     "output_type": "stream",
     "text": [
      "--- 1.4931201934814453 seconds ---\n",
      "1/1 [==============================] - 0s 131ms/sample - loss: 0.2722 - mean_squared_error: 0.2722\n",
      "--- 1.4941127300262451 seconds ---\n",
      "--- 1.4884259700775146 seconds ---\n",
      "--- 1.4833126068115234 seconds ---\n",
      "--- 1.4869425296783447 seconds ---\n",
      "1/1 [==============================] - 0s 144ms/sample - loss: 0.1511 - mean_squared_error: 0.1511\n",
      "--- 1.4936187267303467 seconds ---\n",
      "--- 1.4903168678283691 seconds ---\n",
      "--- 1.4960887432098389 seconds ---\n",
      "--- 1.486710786819458 seconds ---\n",
      "1/1 [==============================] - 0s 151ms/sample - loss: 0.1443 - mean_squared_error: 0.1443\n",
      "--- 1.496330976486206 seconds ---\n",
      "--- 1.5074145793914795 seconds ---\n",
      "--- 1.502669334411621 seconds ---\n",
      "--- 1.494281530380249 seconds ---\n",
      "1/1 [==============================] - 0s 144ms/sample - loss: 0.1516 - mean_squared_error: 0.1516\n",
      "--- 1.5007340908050537 seconds ---\n",
      "--- 1.4920711517333984 seconds ---\n",
      "--- 1.4976532459259033 seconds ---\n",
      "--- 1.5017235279083252 seconds ---\n",
      "1/1 [==============================] - 0s 144ms/sample - loss: 0.0727 - mean_squared_error: 0.0727\n",
      "--- 1.499936580657959 seconds ---\n",
      "--- 1.4991261959075928 seconds ---\n",
      "--- 1.5069315433502197 seconds ---\n",
      "--- 1.494736671447754 seconds ---\n",
      "1/1 [==============================] - 0s 143ms/sample - loss: 0.1227 - mean_squared_error: 0.1227\n",
      "--- 1.4932632446289062 seconds ---\n",
      "--- 1.486314296722412 seconds ---\n",
      "--- 1.4982025623321533 seconds ---\n",
      "--- 1.500910758972168 seconds ---\n",
      "1/1 [==============================] - 0s 143ms/sample - loss: 0.0837 - mean_squared_error: 0.0837\n",
      "--- 1.48537015914917 seconds ---\n",
      "--- 1.4944117069244385 seconds ---\n",
      "--- 1.5906271934509277 seconds ---\n",
      "--- 1.4821577072143555 seconds ---\n",
      "1/1 [==============================] - 0s 139ms/sample - loss: 0.1512 - mean_squared_error: 0.1512\n",
      "--- 1.485990285873413 seconds ---\n",
      "--- 1.494572639465332 seconds ---\n",
      "--- 1.4891266822814941 seconds ---\n",
      "--- 1.4887816905975342 seconds ---\n",
      "1/1 [==============================] - 0s 141ms/sample - loss: 0.1415 - mean_squared_error: 0.1415\n",
      "--- 1.4929685592651367 seconds ---\n",
      "--- 1.4866113662719727 seconds ---\n",
      "--- 1.6588938236236572 seconds ---\n",
      "--- 1.5590994358062744 seconds ---\n",
      "1/1 [==============================] - 0s 134ms/sample - loss: 0.2371 - mean_squared_error: 0.2371\n",
      "--- 1.4893395900726318 seconds ---\n",
      "--- 1.494309425354004 seconds ---\n",
      "--- 1.491544485092163 seconds ---\n",
      "--- 1.508890151977539 seconds ---\n",
      "1/1 [==============================] - 0s 141ms/sample - loss: 0.0888 - mean_squared_error: 0.0888\n",
      "--- 1.4919531345367432 seconds ---\n",
      "--- 1.4845821857452393 seconds ---\n",
      "--- 1.4871156215667725 seconds ---\n",
      "--- 1.4939775466918945 seconds ---\n",
      "1/1 [==============================] - 0s 141ms/sample - loss: 0.2020 - mean_squared_error: 0.2020\n",
      "--- 1.4990339279174805 seconds ---\n",
      "--- 1.48520827293396 seconds ---\n",
      "--- 1.497246265411377 seconds ---\n",
      "--- 1.4992055892944336 seconds ---\n",
      "1/1 [==============================] - 0s 138ms/sample - loss: 0.1811 - mean_squared_error: 0.1811\n",
      "--- 1.4915680885314941 seconds ---\n",
      "--- 1.495368242263794 seconds ---\n",
      "--- 1.4961223602294922 seconds ---\n",
      "--- 1.4954397678375244 seconds ---\n",
      "1/1 [==============================] - 0s 139ms/sample - loss: 0.1476 - mean_squared_error: 0.1476\n",
      "--- 1.490732192993164 seconds ---\n",
      "--- 1.488327980041504 seconds ---\n",
      "--- 1.5000238418579102 seconds ---\n",
      "--- 1.490875005722046 seconds ---\n",
      "1/1 [==============================] - 0s 139ms/sample - loss: 0.3358 - mean_squared_error: 0.3358\n",
      "--- 1.4966857433319092 seconds ---\n",
      "--- 1.8133320808410645 seconds ---\n",
      "--- 1.550335168838501 seconds ---\n",
      "--- 1.749180793762207 seconds ---\n",
      "1/1 [==============================] - 0s 146ms/sample - loss: 1.6083 - mean_squared_error: 1.6083\n"
     ]
    }
   ],
   "source": [
    "re2 = []\n",
    "for i in range(50):\n",
    "    o = np.random.choice(omega)\n",
    "    t = np.random.choice(tau)\n",
    "    pp = np.random.choice(p)\n",
    "    d = np.random.choice(D)\n",
    "    a = np.random.choice(alpha)\n",
    "    hist,shape = interpolate_shape(0.5,0.5,4,0.05,8,best_model_path,o,t,pp,d,a)\n",
    "    re.append(hist[0])\n",
    "    "
   ]
  },
  {
   "cell_type": "markdown",
   "metadata": {},
   "source": [
    "the test loss of this best model is 0.041600674617290494"
   ]
  },
  {
   "cell_type": "code",
   "execution_count": 84,
   "metadata": {
    "scrolled": true
   },
   "outputs": [
    {
     "data": {
      "text/plain": [
       "<matplotlib.lines.Line2D at 0x2b8370a80bd0>"
      ]
     },
     "execution_count": 84,
     "metadata": {},
     "output_type": "execute_result"
    },
    {
     "data": {
      "image/png": "[encoded data removed]",
      "text/plain": [
       "<Figure size 432x288 with 1 Axes>"
      ]
     },
     "metadata": {
      "needs_background": "light"
     },
     "output_type": "display_data"
    }
   ],
   "source": [
    "plt.boxplot(re)\n",
    "plt.ylabel('regression error')\n",
    "plt.xlabel('Interpolated Scattering')\n",
    "plt.ylim([0,0.8])\n",
    "plt.axhline(y=0.04,color = 'r')\n"
   ]
  },
  {
   "cell_type": "code",
   "execution_count": 64,
   "metadata": {},
   "outputs": [
    {
     "data": {
      "text/plain": [
       "64"
      ]
     },
     "execution_count": 64,
     "metadata": {},
     "output_type": "execute_result"
    }
   ],
   "source": [
    "sum(np.array(re)<0.8)"
   ]
  },
  {
   "cell_type": "code",
   "execution_count": 65,
   "metadata": {},
   "outputs": [
    {
     "data": {
      "text/plain": [
       "70"
      ]
     },
     "execution_count": 65,
     "metadata": {},
     "output_type": "execute_result"
    }
   ],
   "source": [
    "len(re)"
   ]
  },
  {
   "cell_type": "code",
   "execution_count": null,
   "metadata": {},
   "outputs": [],
   "source": []
  }
 ],
 "metadata": {
  "kernelspec": {
   "display_name": "Python 3 (ipykernel)",
   "language": "python",
   "name": "python3"
  },
  "language_info": {
   "codemirror_mode": {
    "name": "ipython",
    "version": 3
   },
   "file_extension": ".py",
   "mimetype": "text/x-python",
   "name": "python",
   "nbconvert_exporter": "python",
   "pygments_lexer": "ipython3",
   "version": "3.8.13"
  }
 },
 "nbformat": 4,
 "nbformat_minor": 4
}
