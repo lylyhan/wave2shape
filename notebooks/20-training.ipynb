{
 "cells": [
  {
   "cell_type": "code",
   "execution_count": 1,
   "id": "056674b0",
   "metadata": {},
   "outputs": [],
   "source": [
    "import pescador\n",
    "import numpy as np\n",
    "import keras\n",
    "import pandas as pd\n",
    "import torch\n",
    "import os\n",
    "import math\n",
    "from kymatio.torch import Scattering1D\n",
    "import sys\n",
    "sys.path.append(\"../src\")\n",
    "import cnn\n",
    "import ftm_ver2 as ftm2\n",
    "import hcqt\n",
    "import soundfile as sf\n",
    "from sklearn.preprocessing import MinMaxScaler\n",
    "import random\n",
    "\n",
    "import tensorflow as tf\n",
    "from tensorflow.keras.models import Model, Sequential\n",
    "from tensorflow.keras.layers import Conv1D, AveragePooling1D, Conv2D, MaxPooling2D,ReLU,AveragePooling2D\n",
    "import tensorflow.keras.backend as K\n",
    "from tensorflow.keras.models import load_model #save and load models\n",
    "from tensorflow.keras.layers import Dense, Dropout, Activation, Flatten\n",
    "from tensorflow.keras.layers import BatchNormalization\n",
    "import IPython.display as ipd\n",
    "import librosa"
   ]
  },
  {
   "cell_type": "code",
   "execution_count": 2,
   "id": "798b4466",
   "metadata": {
    "scrolled": true
   },
   "outputs": [
    {
     "name": "stderr",
     "output_type": "stream",
     "text": [
      "2022-04-25 09:17:09.568232: I tensorflow/stream_executor/cuda/cuda_gpu_executor.cc:936] successful NUMA node read from SysFS had negative value (-1), but there must be at least one NUMA node, so returning NUMA node zero\n",
      "2022-04-25 09:17:09.575341: I tensorflow/stream_executor/cuda/cuda_gpu_executor.cc:936] successful NUMA node read from SysFS had negative value (-1), but there must be at least one NUMA node, so returning NUMA node zero\n",
      "2022-04-25 09:17:09.575950: I tensorflow/stream_executor/cuda/cuda_gpu_executor.cc:936] successful NUMA node read from SysFS had negative value (-1), but there must be at least one NUMA node, so returning NUMA node zero\n"
     ]
    }
   ],
   "source": [
    "gpus = tf.config.experimental.list_physical_devices('GPU')\n",
    "if gpus:\n",
    "    try:\n",
    "        tf.config.experimental.set_virtual_device_configuration(\n",
    "            gpus[0],[tf.config.experimental.VirtualDeviceConfiguration(memory_limit=5120)])\n",
    "    except RuntimeError as e:\n",
    "        print(e)"
   ]
  },
  {
   "cell_type": "markdown",
   "id": "18c5d47a",
   "metadata": {},
   "source": [
    "## streamers"
   ]
  },
  {
   "cell_type": "code",
   "execution_count": 3,
   "id": "c14cb2ff",
   "metadata": {},
   "outputs": [],
   "source": [
    "@pescador.streamable\n",
    "def feature_sampler(ids,fold,params_normalized,idx,audio_path,J,Q,ftype):\n",
    "    \"\"\"\n",
    "    output a {input, ground truth} pair for the designated audio sample\n",
    "    \"\"\"\n",
    "    i = idx\n",
    "    y = params_normalized[i,:] #ground truth\n",
    "    fullpath = os.path.join(audio_path,fold,str(ids[i])+\"_sound.wav\") \n",
    "    x,sr = sf.read(fullpath)\n",
    "    fmin = 0.4*sr*2**(-J)\n",
    "    if ftype == \"cqt\":\n",
    "        Sy = make_cqt(x,b=Q,sr=sr,n_oct=J,fmin=fmin)\n",
    "        nfreq,ntime = Sy.shape\n",
    "        Sy = Sy[:,:,None]\n",
    "    elif ftype == \"vqt\":\n",
    "        Sy = make_vqt(x,b=Q,sr=sr,n_oct=J,fmin=fmin)\n",
    "        nfreq,ntime = Sy.shape\n",
    "        Sy = Sy[:,:,None]\n",
    "    elif ftype == \"hcqt\":\n",
    "        Sy = make_hcqt(x,b=Q,sr=sr,n_oct=J-2,fmin=fmin)\n",
    "        nharm,nfreq,ntime = Sy.shape\n",
    "        Sy = Sy.reshape((nfreq,ntime,nharm))\n",
    "    \n",
    "    while True:\n",
    "        yield {'input': Sy,'y': y}\n",
    "\n",
    "        \n",
    "def data_generator(ids,fold,params_normalized,feature_type,audio_path, batch_size, idx, active_streamers,\n",
    "                        rate, random_state=12345678):\n",
    "    \"\"\"\n",
    "    use streamers to output a batch of {input groundtruth} pairs. \n",
    "    \"\"\"\n",
    "    ftype = feature_type[\"type\"]\n",
    "    J = feature_type[\"J\"]\n",
    "    Q = feature_type[\"Q\"]\n",
    "    streams = [feature_sampler(ids,fold,params_normalized,i,audio_path,J,Q,ftype) for i in idx]\n",
    "    #for i in idx: #how many streamers to open?\n",
    "    #    streamer = pescador.Streamer(feature_sampler, df, params_normalized,i,audio_path,J,Q,ftype)\n",
    "    #    streams.append(streamer)\n",
    "\n",
    "    # Randomly shuffle the seeds\n",
    "    random.shuffle(streams)\n",
    "\n",
    "    mux = pescador.StochasticMux(streams, active_streamers, rate=rate, random_state=random_state)\n",
    "\n",
    "    return pescador.maps.buffer_stream(mux, batch_size)\n"
   ]
  },
  {
   "cell_type": "code",
   "execution_count": 4,
   "id": "2f87255d",
   "metadata": {},
   "outputs": [],
   "source": [
    "audio_path = \"/home/han/data/drum_data/\"\n",
    "random_state=44000\n",
    "def load_gt(fold):\n",
    "\tdf = pd.read_csv(os.path.join(audio_path,\"annotations\", fold+\"_param_v2.csv\"))\n",
    "\ty = df.values[:, 1:-1]\n",
    "\tids = df.values[:, 0]\n",
    "\treturn y,ids\n",
    "\n",
    "def preprocess_gt(y_train, y_val, y_test):\n",
    "\t#logscale\n",
    "\tfor idx in [0,2,3]:\n",
    "\t\ty_train[:,idx] = [math.log10(i) for i in y_train[:,idx]] #extract their log base values\n",
    "\t\ty_test[:,idx] = [math.log10(i) for i in y_test[:,idx]] \n",
    "\t\ty_val[:,idx] = [math.log10(i) for i in y_val[:,idx]]\n",
    "\t#normalize\n",
    "\tscaler = MinMaxScaler()\n",
    "\tscaler.fit(y_train)\n",
    "\ty_train_normalized = scaler.transform(y_train)\n",
    "\ty_val_normalized = scaler.transform(y_val)\n",
    "\ty_test_normalized = scaler.transform(y_test)\n",
    "\n",
    "\treturn y_train_normalized,y_val_normalized,y_test_normalized\n",
    "\n",
    "#Make CQT\n",
    "def make_cqt(waveform,b,sr,n_oct,fmin):\n",
    "\tCx = librosa.cqt(waveform,sr=sr,n_bins=(n_oct)*b,fmin=fmin,hop_length=256,bins_per_octave=b) \n",
    "\treturn Cx\n",
    "\n",
    "#Make HCQT\n",
    "def make_hcqt(waveform,b,sr,n_oct,fmin):\n",
    "\tcomp_hcqt = hcqt.HCQT(sr,bins_per_octave=b,harmonics=[0.5,1,2,3,4,5],\n",
    "                 n_octaves=n_oct-2,f_min=fmin,hop_length=256) #choice of hop size?\n",
    "\th_cqt = comp_hcqt.compute_hcqt(waveform,sr)\n",
    "\n",
    "\treturn h_cqt\n",
    "\n",
    "#Make VQT\n",
    "def make_vqt(waveform,b,sr,n_oct,fmin):\n",
    "\tVx = librosa.vqt(waveform,sr=sr,n_bins=(n_oct)*b,fmin=fmin,hop_length=256,bins_per_octave=b) \n",
    "\treturn Vx"
   ]
  },
  {
   "cell_type": "code",
   "execution_count": 5,
   "id": "cae7dcad",
   "metadata": {},
   "outputs": [],
   "source": [
    "y_train,train_ids = load_gt(\"train\")\n",
    "y_test,test_ids = load_gt(\"test\")\n",
    "y_val,val_ids = load_gt(\"val\")\n",
    "#log scale w, p and D, normalize\n",
    "y_train_normalized,y_val_normalized,y_test_normalized = preprocess_gt(y_train,y_val,y_test)\n"
   ]
  },
  {
   "cell_type": "code",
   "execution_count": 6,
   "id": "addf5d7d",
   "metadata": {},
   "outputs": [],
   "source": [
    "ftype=\"cqt\"\n",
    "J = 12\n",
    "Q = 16\n",
    "train_idx = np.arange(0,y_train.shape[0],1) #how long should this be?? #streamers to open\n",
    "train_batches = data_generator(train_ids,\n",
    "                               \"train\",\n",
    "                            y_train_normalized, \n",
    "                            {\"type\":\"cqt\",\"J\":12,\"Q\":16},\n",
    "                            audio_path,\n",
    "                            batch_size=64, \n",
    "                            idx=train_idx,\n",
    "                            active_streamers=64,\n",
    "                            rate=64,\n",
    "                            random_state=random_state)\n",
    "\n",
    "test_idx = np.arange(0,y_test.shape[0],1) #how long should this be?? #streamers to open\n",
    "test_batches = data_generator(test_ids,\n",
    "                               \"test\",\n",
    "                            y_test_normalized, \n",
    "                            {\"type\":\"cqt\",\"J\":12,\"Q\":16},\n",
    "                            audio_path,\n",
    "                            batch_size=64, \n",
    "                            idx=test_idx,\n",
    "                            active_streamers=64,\n",
    "                            rate=64,\n",
    "                            random_state=random_state)\n",
    "val_idx = np.arange(0,y_val.shape[0],1) #how long should this be?? #streamers to open\n",
    "val_batches = data_generator(val_ids,\n",
    "                             \"val\",\n",
    "                            y_val_normalized, \n",
    "                            {\"type\":\"cqt\",\"J\":12,\"Q\":16},\n",
    "                            audio_path,\n",
    "                            batch_size=64, \n",
    "                            idx=val_idx,\n",
    "                            active_streamers=64,\n",
    "                            rate=64,\n",
    "                            random_state=random_state)"
   ]
  },
  {
   "cell_type": "code",
   "execution_count": 7,
   "id": "2cbb9e7d",
   "metadata": {},
   "outputs": [
    {
     "name": "stderr",
     "output_type": "stream",
     "text": [
      "/home/han/miniconda3/envs/py38/lib/python3.8/site-packages/librosa/util/decorators.py:88: UserWarning: n_fft=512 is too small for input signal of length=256\n",
      "  return f(*args, **kwargs)\n",
      "/home/han/miniconda3/envs/py38/lib/python3.8/site-packages/librosa/util/decorators.py:88: UserWarning: n_fft=1024 is too small for input signal of length=256\n",
      "  return f(*args, **kwargs)\n",
      "2022-04-25 09:17:14.256104: I tensorflow/stream_executor/cuda/cuda_gpu_executor.cc:936] successful NUMA node read from SysFS had negative value (-1), but there must be at least one NUMA node, so returning NUMA node zero\n",
      "2022-04-25 09:17:14.256736: I tensorflow/stream_executor/cuda/cuda_gpu_executor.cc:936] successful NUMA node read from SysFS had negative value (-1), but there must be at least one NUMA node, so returning NUMA node zero\n",
      "2022-04-25 09:17:14.257282: I tensorflow/stream_executor/cuda/cuda_gpu_executor.cc:936] successful NUMA node read from SysFS had negative value (-1), but there must be at least one NUMA node, so returning NUMA node zero\n",
      "2022-04-25 09:17:14.780040: I tensorflow/stream_executor/cuda/cuda_gpu_executor.cc:936] successful NUMA node read from SysFS had negative value (-1), but there must be at least one NUMA node, so returning NUMA node zero\n",
      "2022-04-25 09:17:14.780646: I tensorflow/stream_executor/cuda/cuda_gpu_executor.cc:936] successful NUMA node read from SysFS had negative value (-1), but there must be at least one NUMA node, so returning NUMA node zero\n",
      "2022-04-25 09:17:14.781178: I tensorflow/stream_executor/cuda/cuda_gpu_executor.cc:936] successful NUMA node read from SysFS had negative value (-1), but there must be at least one NUMA node, so returning NUMA node zero\n",
      "2022-04-25 09:17:14.781689: I tensorflow/core/common_runtime/gpu/gpu_device.cc:1525] Created device /job:localhost/replica:0/task:0/device:GPU:0 with 5120 MB memory:  -> device: 0, name: NVIDIA GeForce RTX 2080 Ti, pci bus id: 0000:01:00.0, compute capability: 7.5\n"
     ]
    }
   ],
   "source": [
    "import cnn\n",
    "example_str = feature_sampler(train_ids,\"train\",y_train_normalized,0,audio_path,J,Q,ftype)\n",
    "for samp in example_str.iterate():\n",
    "    ex_input = samp[\"input\"]\n",
    "    break\n",
    "model = cnn.create_model_conv2d(n_oct=J,bins_per_oct=Q,S=ex_input[None,:])\n"
   ]
  },
  {
   "cell_type": "code",
   "execution_count": 8,
   "id": "0c212c40",
   "metadata": {},
   "outputs": [
    {
     "name": "stdout",
     "output_type": "stream",
     "text": [
      "Model: \"model\"\n",
      "_________________________________________________________________\n",
      " Layer (type)                Output Shape              Param #   \n",
      "=================================================================\n",
      " input_1 (InputLayer)        [(None, 192, 257, 1)]     0         \n",
      "                                                                 \n",
      " batch_normalization (BatchN  (None, 192, 257, 1)      4         \n",
      " ormalization)                                                   \n",
      "                                                                 \n",
      " average_pooling2d (AverageP  (None, 192, 32, 1)       0         \n",
      " ooling2D)                                                       \n",
      "                                                                 \n",
      " conv1 (Conv2D)              (None, 192, 32, 128)      16512     \n",
      "                                                                 \n",
      " average_pooling2d_1 (Averag  (None, 192, 8, 128)      0         \n",
      " ePooling2D)                                                     \n",
      "                                                                 \n",
      " conv1_2 (Conv2D)            (None, 192, 8, 64)        524352    \n",
      "                                                                 \n",
      " batch_normalization_1 (Batc  (None, 192, 8, 64)       256       \n",
      " hNormalization)                                                 \n",
      "                                                                 \n",
      " conv1_3 (Conv2D)            (None, 192, 8, 64)        262208    \n",
      "                                                                 \n",
      " average_pooling2d_2 (Averag  (None, 192, 2, 64)       0         \n",
      " ePooling2D)                                                     \n",
      "                                                                 \n",
      " batch_normalization_2 (Batc  (None, 192, 2, 64)       256       \n",
      " hNormalization)                                                 \n",
      "                                                                 \n",
      " conv1_4 (Conv2D)            (None, 192, 2, 8)         8200      \n",
      "                                                                 \n",
      " batch_normalization_3 (Batc  (None, 192, 2, 8)        32        \n",
      " hNormalization)                                                 \n",
      "                                                                 \n",
      " flatten (Flatten)           (None, 3072)              0         \n",
      "                                                                 \n",
      " dense (Dense)               (None, 64)                196672    \n",
      "                                                                 \n",
      " batch_normalization_4 (Batc  (None, 64)               256       \n",
      " hNormalization)                                                 \n",
      "                                                                 \n",
      " dense_1 (Dense)             (None, 5)                 325       \n",
      "                                                                 \n",
      "=================================================================\n",
      "Total params: 1,009,073\n",
      "Trainable params: 1,008,671\n",
      "Non-trainable params: 402\n",
      "_________________________________________________________________\n"
     ]
    }
   ],
   "source": [
    "model.summary()"
   ]
  },
  {
   "cell_type": "code",
   "execution_count": 91,
   "id": "1574bd2d",
   "metadata": {},
   "outputs": [],
   "source": [
    "import datetime\n",
    "\n",
    "batch_size=32\n",
    "n_epoch=30\n",
    "steps_per_epoch=2"
   ]
  },
  {
   "cell_type": "code",
   "execution_count": null,
   "id": "c693c633",
   "metadata": {
    "scrolled": true
   },
   "outputs": [],
   "source": [
    "try:\n",
    "    hist = model.fit(\n",
    "        pescador.tuples(train_batches,'input','y'),\n",
    "        steps_per_epoch=steps_per_epoch,\n",
    "        epochs=n_epoch,\n",
    "        verbose=1,\n",
    "        validation_data=pescador.tuples(val_batches,'input','y'))\n",
    "except KeyboardInterrupt:\n",
    "    print(\"Stopping early\")\n",
    "finally:\n",
    "    print(\"Finished: {}\".format(datetime.datetime.now()))\n",
    "    scores = model.evaluate_generator(pescador.tuples(val_batches,'input','y'))\n",
    "    for val, name in zip(scores, model.metrics_names):\n",
    "        print('Test {}: {:0.4f}'.format(name, val))"
   ]
  },
  {
   "cell_type": "code",
   "execution_count": null,
   "id": "4c569604",
   "metadata": {
    "scrolled": true
   },
   "outputs": [],
   "source": [
    "model.fit(\n",
    "        pescador.tuples(train_batches,'input','y'),\n",
    "        steps_per_epoch=10,\n",
    "        epochs=1,\n",
    "        verbose=1,\n",
    "        validation_data=pescador.tuples(val_batches,'input','y'),\n",
    "        validation_steps=100)"
   ]
  },
  {
   "cell_type": "markdown",
   "id": "93cad303",
   "metadata": {},
   "source": [
    "## load checkpoint model"
   ]
  },
  {
   "cell_type": "code",
   "execution_count": 22,
   "id": "df427d1b",
   "metadata": {},
   "outputs": [],
   "source": [
    "import cnn"
   ]
  },
  {
   "cell_type": "code",
   "execution_count": 8,
   "id": "b24e0d3a",
   "metadata": {
    "scrolled": true
   },
   "outputs": [],
   "source": [
    "example_str = feature_sampler(train_ids,\"train\",y_train_normalized,0,audio_path,J,Q,ftype)\n",
    "for samp in example_str.iterate():\n",
    "    ex_input = samp[\"input\"]\n",
    "    break\n",
    "sr = 22050\n",
    "freqs = librosa.cqt_frequencies(n_bins=J*Q,fmin=0.4*sr*2**(-J),bins_per_octave=Q)\n",
    "model = cnn.create_model_conv2d_onetask(n_oct=J,bins_per_oct=Q,S=ex_input[None,:],is_centroid=False,vector=freqs)\n",
    "#model.predict(ex_input[None,:])"
   ]
  },
  {
   "cell_type": "code",
   "execution_count": 9,
   "id": "ba105b7c",
   "metadata": {
    "scrolled": true
   },
   "outputs": [
    {
     "data": {
      "text/plain": [
       "<tensorflow.python.training.tracking.util.CheckpointLoadStatus at 0x7fae63534ee0>"
      ]
     },
     "execution_count": 9,
     "metadata": {},
     "output_type": "execute_result"
    }
   ],
   "source": [
    "model.load_weights(\"../src/best_models/ckpt\")"
   ]
  },
  {
   "cell_type": "code",
   "execution_count": 10,
   "id": "ad2ec4e4",
   "metadata": {
    "scrolled": true
   },
   "outputs": [
    {
     "name": "stderr",
     "output_type": "stream",
     "text": [
      "2022-04-22 14:44:17.843282: I tensorflow/stream_executor/cuda/cuda_dnn.cc:368] Loaded cuDNN version 8101\n",
      "2022-04-22 14:44:18.336117: I tensorflow/core/platform/default/subprocess.cc:304] Start cannot spawn child process: No such file or directory\n",
      "2022-04-22 14:44:18.336519: I tensorflow/core/platform/default/subprocess.cc:304] Start cannot spawn child process: No such file or directory\n",
      "2022-04-22 14:44:18.336558: W tensorflow/stream_executor/gpu/asm_compiler.cc:80] Couldn't get ptxas version string: INTERNAL: Couldn't invoke ptxas --version\n",
      "2022-04-22 14:44:18.337135: I tensorflow/core/platform/default/subprocess.cc:304] Start cannot spawn child process: No such file or directory\n",
      "2022-04-22 14:44:18.337214: W tensorflow/stream_executor/gpu/redzone_allocator.cc:314] INTERNAL: Failed to launch ptxas\n",
      "Relying on driver to perform ptx compilation. \n",
      "Modify $PATH to customize ptxas location.\n",
      "This message will be only logged once.\n"
     ]
    }
   ],
   "source": [
    "X = []\n",
    "i = 0\n",
    "for idx in range(len(test_ids)):\n",
    "    example_str = feature_sampler(test_ids,\"test\",y_test_normalized,idx,audio_path,J,Q,ftype)\n",
    "    for samp in example_str.iterate():\n",
    "        X.append(samp[\"input\"])\n",
    "        break\n",
    "    i+=1\n",
    "    if i>=100:\n",
    "        break\n",
    "X = np.stack(X)\n",
    "X.shape\n",
    "pred = model.predict(X)"
   ]
  },
  {
   "cell_type": "code",
   "execution_count": 11,
   "id": "7b995108",
   "metadata": {},
   "outputs": [
    {
     "data": {
      "text/plain": [
       "(100, 1)"
      ]
     },
     "execution_count": 11,
     "metadata": {},
     "output_type": "execute_result"
    }
   ],
   "source": [
    "pred.shape"
   ]
  },
  {
   "cell_type": "code",
   "execution_count": 12,
   "id": "cce2da91",
   "metadata": {
    "scrolled": false
   },
   "outputs": [
    {
     "data": {
      "text/plain": [
       "(0.6195105, 0.01956034)"
      ]
     },
     "execution_count": 12,
     "metadata": {},
     "output_type": "execute_result"
    }
   ],
   "source": [
    "np.max(pred),np.min(pred)"
   ]
  },
  {
   "cell_type": "code",
   "execution_count": 13,
   "id": "1fa914f6",
   "metadata": {},
   "outputs": [],
   "source": [
    "import matplotlib.pyplot as plt"
   ]
  },
  {
   "cell_type": "code",
   "execution_count": 24,
   "id": "c204d0fe",
   "metadata": {},
   "outputs": [
    {
     "data": {
      "text/plain": [
       "(array([ 1.,  1.,  2.,  2.,  5.,  3.,  9.,  5.,  3.,  2., 14., 39.,  5.,\n",
       "         1.,  2.,  0.,  2.,  0.,  1.,  1.,  0.,  0.,  0.,  0.,  1.,  0.,\n",
       "         0.,  0.,  0.,  1.]),\n",
       " array([0.01956034, 0.03955868, 0.05955702, 0.07955536, 0.09955369,\n",
       "        0.11955203, 0.13955037, 0.1595487 , 0.17954704, 0.19954538,\n",
       "        0.21954373, 0.23954205, 0.25954038, 0.27953872, 0.29953706,\n",
       "        0.3195354 , 0.33953375, 0.3595321 , 0.37953043, 0.39952877,\n",
       "        0.41952708, 0.43952543, 0.45952377, 0.4795221 , 0.49952045,\n",
       "        0.5195188 , 0.5395171 , 0.5595155 , 0.5795138 , 0.59951216,\n",
       "        0.6195105 ], dtype=float32),\n",
       " <BarContainer object of 30 artists>)"
      ]
     },
     "execution_count": 24,
     "metadata": {},
     "output_type": "execute_result"
    },
    {
     "data": {
      "image/png": "[encoded data removed]",
      "text/plain": [
       "<Figure size 432x288 with 1 Axes>"
      ]
     },
     "metadata": {
      "needs_background": "light"
     },
     "output_type": "display_data"
    }
   ],
   "source": [
    "plt.hist(pred,bins=30) #without early stopping"
   ]
  },
  {
   "cell_type": "code",
   "execution_count": 23,
   "id": "8abbe5b0",
   "metadata": {},
   "outputs": [
    {
     "data": {
      "text/plain": [
       "(0.9999810333556409, 2.845308524568324e-06)"
      ]
     },
     "execution_count": 23,
     "metadata": {},
     "output_type": "execute_result"
    }
   ],
   "source": [
    "np.max(y_test_normalized),np.min(y_test_normalized)"
   ]
  },
  {
   "cell_type": "code",
   "execution_count": 18,
   "id": "c2a24bed",
   "metadata": {},
   "outputs": [
    {
     "data": {
      "text/plain": [
       "(array([323., 337., 402., 345., 349., 391., 296., 278., 320., 262., 330.,\n",
       "        305., 300., 293., 380., 306., 330., 365., 298., 339., 326., 279.,\n",
       "        319., 336., 345., 381., 372., 322., 352., 419.]),\n",
       " array([2.84530852e-06, 3.33354516e-02, 6.66680578e-02, 1.00000664e-01,\n",
       "        1.33333270e-01, 1.66665877e-01, 1.99998483e-01, 2.33331089e-01,\n",
       "        2.66663695e-01, 2.99996302e-01, 3.33328908e-01, 3.66661514e-01,\n",
       "        3.99994121e-01, 4.33326727e-01, 4.66659333e-01, 4.99991939e-01,\n",
       "        5.33324546e-01, 5.66657152e-01, 5.99989758e-01, 6.33322364e-01,\n",
       "        6.66654971e-01, 6.99987577e-01, 7.33320183e-01, 7.66652789e-01,\n",
       "        7.99985396e-01, 8.33318002e-01, 8.66650608e-01, 8.99983215e-01,\n",
       "        9.33315821e-01, 9.66648427e-01, 9.99981033e-01]),\n",
       " <BarContainer object of 30 artists>)"
      ]
     },
     "execution_count": 18,
     "metadata": {},
     "output_type": "execute_result"
    },
    {
     "data": {
      "image/png": "[encoded data removed]",
      "text/plain": [
       "<Figure size 432x288 with 1 Axes>"
      ]
     },
     "metadata": {
      "needs_background": "light"
     },
     "output_type": "display_data"
    }
   ],
   "source": [
    "plt.hist(y_test_normalized[:,0],bins=30)"
   ]
  },
  {
   "cell_type": "code",
   "execution_count": 19,
   "id": "4ef655df",
   "metadata": {},
   "outputs": [
    {
     "data": {
      "text/plain": [
       "(array([359., 352., 354., 361., 398., 351., 323., 294., 311., 339., 288.,\n",
       "        309., 297., 292., 317., 333., 324., 309., 328., 303., 333., 330.,\n",
       "        309., 301., 366., 359., 384., 340., 365., 371.]),\n",
       " array([1.39655893e-04, 3.34660893e-02, 6.67925227e-02, 1.00118956e-01,\n",
       "        1.33445390e-01, 1.66771823e-01, 2.00098256e-01, 2.33424690e-01,\n",
       "        2.66751123e-01, 3.00077557e-01, 3.33403990e-01, 3.66730423e-01,\n",
       "        4.00056857e-01, 4.33383290e-01, 4.66709724e-01, 5.00036157e-01,\n",
       "        5.33362590e-01, 5.66689024e-01, 6.00015457e-01, 6.33341891e-01,\n",
       "        6.66668324e-01, 6.99994757e-01, 7.33321191e-01, 7.66647624e-01,\n",
       "        7.99974058e-01, 8.33300491e-01, 8.66626924e-01, 8.99953358e-01,\n",
       "        9.33279791e-01, 9.66606225e-01, 9.99932658e-01]),\n",
       " <BarContainer object of 30 artists>)"
      ]
     },
     "execution_count": 19,
     "metadata": {},
     "output_type": "execute_result"
    },
    {
     "data": {
      "image/png": "[encoded data removed]",
      "text/plain": [
       "<Figure size 432x288 with 1 Axes>"
      ]
     },
     "metadata": {
      "needs_background": "light"
     },
     "output_type": "display_data"
    }
   ],
   "source": [
    "plt.hist(y_test_normalized[:,1],bins=30)"
   ]
  },
  {
   "cell_type": "code",
   "execution_count": 13,
   "id": "ab797cdf",
   "metadata": {},
   "outputs": [
    {
     "data": {
      "text/plain": [
       "(array([1.15680007, 0.        , 2.8920008 , 0.        , 1.15680007,\n",
       "        1.7352001 , 4.62720028, 1.15680007, 1.7352001 , 0.57840003,\n",
       "        0.        , 1.7352001 , 0.        , 1.7352001 , 5.20560031,\n",
       "        1.7352001 , 7.51920045, 3.47040021, 5.78400034, 6.94080041,\n",
       "        2.89200017, 0.57840003, 0.        , 2.31360014, 1.7352001 ,\n",
       "        0.        , 0.57840003, 0.        , 0.        , 0.57840103]),\n",
       " array([0.01559276, 0.03288183, 0.0501709 , 0.06745997, 0.08474904,\n",
       "        0.10203812, 0.11932719, 0.13661626, 0.15390533, 0.1711944 ,\n",
       "        0.18848348, 0.20577255, 0.22306162, 0.2403507 , 0.25763977,\n",
       "        0.27492884, 0.2922179 , 0.30950698, 0.32679605, 0.34408513,\n",
       "        0.3613742 , 0.37866327, 0.39595234, 0.41324142, 0.4305305 ,\n",
       "        0.44781956, 0.46510863, 0.4823977 , 0.49968678, 0.5169759 ,\n",
       "        0.5342649 ], dtype=float32),\n",
       " <BarContainer object of 30 artists>)"
      ]
     },
     "execution_count": 13,
     "metadata": {},
     "output_type": "execute_result"
    },
    {
     "data": {
      "image/png": "[encoded data removed]",
      "text/plain": [
       "<Figure size 432x288 with 1 Axes>"
      ]
     },
     "metadata": {
      "needs_background": "light"
     },
     "output_type": "display_data"
    }
   ],
   "source": [
    "plt.hist(pred,bins=30,density=True) #without centroid method"
   ]
  },
  {
   "cell_type": "code",
   "execution_count": 27,
   "id": "aa22046a",
   "metadata": {
    "scrolled": false
   },
   "outputs": [
    {
     "data": {
      "text/plain": [
       "(array([ 0.51002406,  0.        ,  0.        ,  0.51002406,  0.        ,\n",
       "         0.        ,  0.        ,  0.        ,  0.        ,  0.        ,\n",
       "         0.        ,  0.        ,  0.        ,  0.        ,  0.        ,\n",
       "         0.        ,  0.        ,  0.        ,  0.        ,  0.        ,\n",
       "         0.        ,  0.        ,  0.        ,  0.        ,  0.51002329,\n",
       "         0.51002484,  9.18044706, 29.5813506 ,  9.18044706,  1.02004967]),\n",
       " array([0.40445426, 0.42406118, 0.44366807, 0.46327496, 0.48288187,\n",
       "        0.5024888 , 0.5220957 , 0.54170257, 0.56130946, 0.5809164 ,\n",
       "        0.6005233 , 0.6201302 , 0.6397371 , 0.659344  , 0.6789509 ,\n",
       "        0.6985578 , 0.7181647 , 0.73777163, 0.7573785 , 0.7769854 ,\n",
       "        0.79659235, 0.81619924, 0.83580613, 0.855413  , 0.8750199 ,\n",
       "        0.89462686, 0.91423374, 0.93384063, 0.9534476 , 0.97305447,\n",
       "        0.99266136], dtype=float32),\n",
       " <BarContainer object of 30 artists>)"
      ]
     },
     "execution_count": 27,
     "metadata": {},
     "output_type": "execute_result"
    },
    {
     "data": {
      "image/png": "[encoded data removed]",
      "text/plain": [
       "<Figure size 432x288 with 1 Axes>"
      ]
     },
     "metadata": {
      "needs_background": "light"
     },
     "output_type": "display_data"
    }
   ],
   "source": [
    "plt.hist(pred,bins=30,density=True) #predict with centroid method"
   ]
  },
  {
   "cell_type": "code",
   "execution_count": 34,
   "id": "7d736a80",
   "metadata": {},
   "outputs": [
    {
     "data": {
      "text/plain": [
       "(array([0.37401243, 0.        , 0.        , 0.        , 0.        ,\n",
       "        0.37401223, 0.        , 0.37401223, 0.37401264, 0.37401223,\n",
       "        0.37401223, 0.74802528, 0.74802445, 0.74802445, 0.74802445,\n",
       "        0.37401223, 0.74802445, 1.4960489 , 3.74013059, 5.23617116,\n",
       "        4.11413448, 4.86215893, 1.87006113, 1.12203668, 1.12203668,\n",
       "        0.74802612, 0.74802445, 2.24407335, 1.12203668, 2.61808558]),\n",
       " array([0.09839867, 0.12513575, 0.15187284, 0.17860994, 0.20534702,\n",
       "        0.2320841 , 0.2588212 , 0.28555828, 0.31229538, 0.33903244,\n",
       "        0.36576954, 0.39250663, 0.4192437 , 0.4459808 , 0.47271788,\n",
       "        0.49945498, 0.52619207, 0.55292916, 0.57966626, 0.6064033 ,\n",
       "        0.6331404 , 0.6598775 , 0.6866146 , 0.71335167, 0.74008876,\n",
       "        0.76682585, 0.7935629 , 0.8203    , 0.8470371 , 0.8737742 ,\n",
       "        0.90051126], dtype=float32),\n",
       " <BarContainer object of 30 artists>)"
      ]
     },
     "execution_count": 34,
     "metadata": {},
     "output_type": "execute_result"
    },
    {
     "data": {
      "image/png": "[encoded data removed]",
      "text/plain": [
       "<Figure size 432x288 with 1 Axes>"
      ]
     },
     "metadata": {
      "needs_background": "light"
     },
     "output_type": "display_data"
    }
   ],
   "source": [
    "plt.hist(pred[:,0],bins=30,density=1)"
   ]
  },
  {
   "cell_type": "code",
   "execution_count": 24,
   "id": "e7b2f7c6",
   "metadata": {},
   "outputs": [],
   "source": [
    "from keras import constraints\n",
    "from keras import initializers\n",
    "from keras import regularizers\n",
    "\n",
    "class CentroidDense(tf.keras.layers.Layer):\n",
    "    #the only difference with dense is that it has an extra step of flattening the input\n",
    "    def __init__(self,units,activation=None,use_bias=True,\n",
    "                 kernel_initializer=None,\n",
    "                 kernel_regularizer=None,\n",
    "                 bias_initializer=None,\n",
    "                 bias_regularizer=None,\n",
    "                 kernel_constraint=None,\n",
    "                 bias_constraint=None,\n",
    "                 **kwargs):\n",
    "        super(CentroidDense, self).__init__(**kwargs)\n",
    "        self.units = units\n",
    "        self.activation = activation\n",
    "        self.use_bias = use_bias\n",
    "        self.kernel_initializer = initializers.get(kernel_initializer)\n",
    "        self.bias_initializer = initializers.get(bias_initializer)\n",
    "        self.kernel_regularizer = regularizers.get(kernel_regularizer)\n",
    "        self.bias_regularizer = regularizers.get(bias_regularizer)\n",
    "        self.kernel_constraint = constraints.get(kernel_constraint)\n",
    "        self.bias_constraint = constraints.get(bias_constraint)\n",
    "\n",
    "    def build(self, input_shape): \n",
    "        \n",
    "        #not flattened input, (f,t,#filters)\n",
    "        self.freq,self.time,self.width = input_shape #(f,t,#filters)\n",
    "        \n",
    "        self.kernel = self.add_weight(\n",
    "                        'kernel',\n",
    "                        shape=[self.width*self.time, self.units],\n",
    "                        initializer=self.kernel_initializer,\n",
    "                        regularizer=self.kernel_regularizer,\n",
    "                        constraint=self.kernel_constraint,\n",
    "                        dtype=self.dtype,\n",
    "                        trainable=True)\n",
    "        #initialize trainable weights\n",
    "        if self.use_bias:\n",
    "            self.bias = self.add_weight(\n",
    "              'bias',\n",
    "              shape=[self.units,],\n",
    "              initializer=self.bias_initializer,\n",
    "              regularizer=self.bias_regularizer,\n",
    "              constraint=self.bias_constraint,\n",
    "              dtype=self.dtype,\n",
    "              trainable=True)\n",
    "        else:\n",
    "            self.bias = None\n",
    "    \n",
    "        super(CentroidDense, self).build(input_shape)\n",
    "\n",
    "    def call(self,inputs,vector,i): #the vector always match first dimension of input\n",
    "        \"\"\"\n",
    "        i: along which channel of the inputs should vector be multiplied \n",
    "        \"\"\"\n",
    "        vector = K.constant(vector)\n",
    "        assert inputs.shape[i]==vector.shape[i]\n",
    "        \n",
    "        #normalize input into a pdf distribution\n",
    "        inputs = inputs/tf.linalg.norm(inputs,ord=1)\n",
    "        \n",
    "        #multiply input with vector along frequency dimension/ or some defined dimension\n",
    "        if i == 0:\n",
    "            inputs = inputs*tf.broadcast_to(vector[:,None,None],inputs.shape)\n",
    "        elif i == 1:\n",
    "            inputs = inputs*tf.broadcast_to(vector[None,:,None],inputs.shape)\n",
    "        elif i == 2:\n",
    "            inputs = inputs*tf.broadcast_to(vector[None,None,:],inputs.shape)\n",
    "            \n",
    "        print(inputs.shape)\n",
    "        #sum over frequency dimension\n",
    "        inputs = tf.reduce_sum(inputs,axis=i)\n",
    "        #flatten input\n",
    "        inputs = tf.reshape(inputs,tf.reduce_prod(inputs.shape))\n",
    "        print(\"afterflatten\",inputs.shape,self.kernel.shape)\n",
    "        #multiply with kernel\n",
    "        rank = inputs.shape.rank\n",
    "        \n",
    "        outputs = tf.tensordot(inputs, self.kernel, [[rank - 1], [0]])\n",
    "        print(outputs.shape,inputs.shape,self.bias.shape)\n",
    "\n",
    "        if self.use_bias:\n",
    "            outputs = tf.nn.bias_add(outputs[None,:], self.bias)\n",
    "        return outputs\n",
    "\n",
    "    def compute_output_shape(self, input_shape):\n",
    "\n",
    "        return input_shape[:-1]\n"
   ]
  },
  {
   "cell_type": "code",
   "execution_count": 9,
   "id": "c6b29344",
   "metadata": {},
   "outputs": [
    {
     "name": "stdout",
     "output_type": "stream",
     "text": [
      "(8, 1, 1, 12) (192,)\n"
     ]
    },
    {
     "data": {
      "text/plain": [
       "TensorShape([8, 1, 1, 12, 192])"
      ]
     },
     "execution_count": 9,
     "metadata": {},
     "output_type": "execute_result"
    }
   ],
   "source": [
    "kernel = np.random.rand(8,1,1,12) #kernel size1, kernel size2, #channels from last layer, #filters \n",
    "vec = np.random.rand(192,)\n",
    "print(kernel.shape,vec.shape)\n",
    "tf.tensordot(kernel,vec,axes=0).shape\n"
   ]
  },
  {
   "cell_type": "code",
   "execution_count": 10,
   "id": "f3cb140f",
   "metadata": {},
   "outputs": [
    {
     "data": {
      "text/plain": [
       "TensorShape([8, 1, 1])"
      ]
     },
     "execution_count": 10,
     "metadata": {},
     "output_type": "execute_result"
    }
   ],
   "source": [
    "kernel.shape\n",
    "kernel2=tf.reduce_sum(kernel,axis=-1)\n",
    "kernel2.shape"
   ]
  },
  {
   "cell_type": "code",
   "execution_count": 11,
   "id": "57ed4544",
   "metadata": {},
   "outputs": [
    {
     "data": {
      "text/plain": [
       "<tf.Tensor: shape=(192, 64), dtype=float64, numpy=\n",
       "array([[0.54155055, 0.54155055, 0.54155055, ..., 0.54155055, 0.54155055,\n",
       "        0.54155055],\n",
       "       [0.0797875 , 0.0797875 , 0.0797875 , ..., 0.0797875 , 0.0797875 ,\n",
       "        0.0797875 ],\n",
       "       [0.52692608, 0.52692608, 0.52692608, ..., 0.52692608, 0.52692608,\n",
       "        0.52692608],\n",
       "       ...,\n",
       "       [0.21906377, 0.21906377, 0.21906377, ..., 0.21906377, 0.21906377,\n",
       "        0.21906377],\n",
       "       [0.45887931, 0.45887931, 0.45887931, ..., 0.45887931, 0.45887931,\n",
       "        0.45887931],\n",
       "       [0.36512424, 0.36512424, 0.36512424, ..., 0.36512424, 0.36512424,\n",
       "        0.36512424]])>"
      ]
     },
     "execution_count": 11,
     "metadata": {},
     "output_type": "execute_result"
    }
   ],
   "source": [
    "vec_2 = tf.broadcast_to(tf.constant(vec[:,None]),[192,64])\n",
    "vec_2\n",
    "#vec_3.reshape((vec_3.shape[0]))"
   ]
  },
  {
   "cell_type": "code",
   "execution_count": 12,
   "id": "bbc39062",
   "metadata": {},
   "outputs": [
    {
     "name": "stdout",
     "output_type": "stream",
     "text": [
      "(192, 2, 64) (192,)\n"
     ]
    }
   ],
   "source": [
    "inputs = np.random.rand(192,2,64)#bs,f, t, filters\n",
    "vector = np.random.rand(192,)\n",
    "print(inputs.shape,vector.shape)"
   ]
  },
  {
   "cell_type": "code",
   "execution_count": 25,
   "id": "30c82bba",
   "metadata": {
    "scrolled": false
   },
   "outputs": [
    {
     "name": "stdout",
     "output_type": "stream",
     "text": [
      "(192, 2, 64)\n",
      "afterflatten (128,) (128, 64)\n",
      "(64,) (128,) (64,)\n"
     ]
    }
   ],
   "source": [
    "x = CentroidDense(units=64,use_bias=True,name=\"freqcentroid\")(inputs,vector)"
   ]
  },
  {
   "cell_type": "code",
   "execution_count": 81,
   "id": "0e132487",
   "metadata": {},
   "outputs": [
    {
     "data": {
      "text/plain": [
       "TensorShape([64])"
      ]
     },
     "execution_count": 81,
     "metadata": {},
     "output_type": "execute_result"
    }
   ],
   "source": [
    "x.shape"
   ]
  },
  {
   "cell_type": "code",
   "execution_count": null,
   "id": "926188fc",
   "metadata": {},
   "outputs": [],
   "source": []
  }
 ],
 "metadata": {
  "kernelspec": {
   "display_name": "Python 3 (ipykernel)",
   "language": "python",
   "name": "python3"
  },
  "language_info": {
   "codemirror_mode": {
    "name": "ipython",
    "version": 3
   },
   "file_extension": ".py",
   "mimetype": "text/x-python",
   "name": "python",
   "nbconvert_exporter": "python",
   "pygments_lexer": "ipython3",
   "version": "3.8.13"
  }
 },
 "nbformat": 4,
 "nbformat_minor": 5
}
