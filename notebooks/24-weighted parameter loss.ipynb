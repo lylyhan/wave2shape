{
 "cells": [
  {
   "cell_type": "code",
   "execution_count": 1,
   "id": "aef52720",
   "metadata": {},
   "outputs": [],
   "source": [
    "import numpy as np\n",
    "import os\n",
    "import soundfile as sf\n",
    "from sklearn.manifold import Isomap\n",
    "import pickle\n",
    "import matplotlib.pyplot as plt\n",
    "import sys\n",
    "sys.path.append(\"../src\")\n",
    "import features\n",
    "import pandas as pd\n",
    "import librosa\n",
    "import ftm_ver2\n",
    "import IPython.display as ipd\n",
    "from kymatio.torch import TimeFrequencyScattering1D,Scattering1D\n",
    "import torch\n",
    "import copy\n",
    "from sklearn.preprocessing import MinMaxScaler,StandardScaler\n",
    "sys.path.append(\"/home/han/kymatio-jtfs/\")\n",
    "from kymatio.scattering1d.core import timefrequency_scattering1d as tf_scat\n",
    "from sklearn.neighbors import NearestNeighbors"
   ]
  },
  {
   "cell_type": "code",
   "execution_count": 3,
   "id": "7d4dd4b9",
   "metadata": {},
   "outputs": [
    {
     "name": "stderr",
     "output_type": "stream",
     "text": [
      "2022-06-19 10:00:57.923511: I tensorflow/stream_executor/cuda/cuda_gpu_executor.cc:936] successful NUMA node read from SysFS had negative value (-1), but there must be at least one NUMA node, so returning NUMA node zero\n",
      "2022-06-19 10:00:57.924203: I tensorflow/stream_executor/cuda/cuda_gpu_executor.cc:936] successful NUMA node read from SysFS had negative value (-1), but there must be at least one NUMA node, so returning NUMA node zero\n",
      "2022-06-19 10:00:57.931187: I tensorflow/stream_executor/cuda/cuda_gpu_executor.cc:936] successful NUMA node read from SysFS had negative value (-1), but there must be at least one NUMA node, so returning NUMA node zero\n",
      "2022-06-19 10:00:57.931863: I tensorflow/stream_executor/cuda/cuda_gpu_executor.cc:936] successful NUMA node read from SysFS had negative value (-1), but there must be at least one NUMA node, so returning NUMA node zero\n",
      "2022-06-19 10:00:57.932508: I tensorflow/stream_executor/cuda/cuda_gpu_executor.cc:936] successful NUMA node read from SysFS had negative value (-1), but there must be at least one NUMA node, so returning NUMA node zero\n",
      "2022-06-19 10:00:57.933120: I tensorflow/stream_executor/cuda/cuda_gpu_executor.cc:936] successful NUMA node read from SysFS had negative value (-1), but there must be at least one NUMA node, so returning NUMA node zero\n",
      "2022-06-19 10:00:58.278336: I tensorflow/stream_executor/cuda/cuda_gpu_executor.cc:936] successful NUMA node read from SysFS had negative value (-1), but there must be at least one NUMA node, so returning NUMA node zero\n",
      "2022-06-19 10:00:58.278954: I tensorflow/stream_executor/cuda/cuda_gpu_executor.cc:936] successful NUMA node read from SysFS had negative value (-1), but there must be at least one NUMA node, so returning NUMA node zero\n",
      "2022-06-19 10:00:58.279540: I tensorflow/stream_executor/cuda/cuda_gpu_executor.cc:936] successful NUMA node read from SysFS had negative value (-1), but there must be at least one NUMA node, so returning NUMA node zero\n",
      "2022-06-19 10:00:58.280113: I tensorflow/stream_executor/cuda/cuda_gpu_executor.cc:936] successful NUMA node read from SysFS had negative value (-1), but there must be at least one NUMA node, so returning NUMA node zero\n",
      "2022-06-19 10:00:58.280721: I tensorflow/stream_executor/cuda/cuda_gpu_executor.cc:936] successful NUMA node read from SysFS had negative value (-1), but there must be at least one NUMA node, so returning NUMA node zero\n",
      "2022-06-19 10:00:58.281295: I tensorflow/stream_executor/cuda/cuda_gpu_executor.cc:936] successful NUMA node read from SysFS had negative value (-1), but there must be at least one NUMA node, so returning NUMA node zero\n",
      "2022-06-19 10:01:24.339288: I tensorflow/stream_executor/cuda/cuda_gpu_executor.cc:936] successful NUMA node read from SysFS had negative value (-1), but there must be at least one NUMA node, so returning NUMA node zero\n",
      "2022-06-19 10:01:24.339911: I tensorflow/stream_executor/cuda/cuda_gpu_executor.cc:936] successful NUMA node read from SysFS had negative value (-1), but there must be at least one NUMA node, so returning NUMA node zero\n",
      "2022-06-19 10:01:24.340476: I tensorflow/stream_executor/cuda/cuda_gpu_executor.cc:936] successful NUMA node read from SysFS had negative value (-1), but there must be at least one NUMA node, so returning NUMA node zero\n",
      "2022-06-19 10:01:24.341024: I tensorflow/stream_executor/cuda/cuda_gpu_executor.cc:936] successful NUMA node read from SysFS had negative value (-1), but there must be at least one NUMA node, so returning NUMA node zero\n",
      "2022-06-19 10:01:24.341568: I tensorflow/stream_executor/cuda/cuda_gpu_executor.cc:936] successful NUMA node read from SysFS had negative value (-1), but there must be at least one NUMA node, so returning NUMA node zero\n",
      "2022-06-19 10:01:24.342097: I tensorflow/core/common_runtime/gpu/gpu_device.cc:1525] Created device /job:localhost/replica:0/task:0/device:GPU:0 with 8482 MB memory:  -> device: 0, name: NVIDIA GeForce RTX 2080 Ti, pci bus id: 0000:01:00.0, compute capability: 7.5\n",
      "2022-06-19 10:01:24.342592: I tensorflow/stream_executor/cuda/cuda_gpu_executor.cc:936] successful NUMA node read from SysFS had negative value (-1), but there must be at least one NUMA node, so returning NUMA node zero\n",
      "2022-06-19 10:01:24.343114: I tensorflow/core/common_runtime/gpu/gpu_device.cc:1525] Created device /job:localhost/replica:0/task:0/device:GPU:1 with 8497 MB memory:  -> device: 1, name: NVIDIA GeForce RTX 2080 Ti, pci bus id: 0000:03:00.0, compute capability: 7.5\n"
     ]
    },
    {
     "ename": "InvalidArgumentError",
     "evalue": "Can not squeeze dim[0], expected a dimension of 1, got 5 [Op:Squeeze]",
     "output_type": "error",
     "traceback": [
      "\u001b[0;31m---------------------------------------------------------------------------\u001b[0m",
      "\u001b[0;31mInvalidArgumentError\u001b[0m                      Traceback (most recent call last)",
      "Input \u001b[0;32mIn [3]\u001b[0m, in \u001b[0;36m<cell line: 3>\u001b[0;34m()\u001b[0m\n\u001b[1;32m      1\u001b[0m \u001b[38;5;28;01mimport\u001b[39;00m \u001b[38;5;21;01mtensorflow\u001b[39;00m \u001b[38;5;28;01mas\u001b[39;00m \u001b[38;5;21;01mtf\u001b[39;00m\n\u001b[1;32m      2\u001b[0m sample_weight \u001b[38;5;241m=\u001b[39m np\u001b[38;5;241m.\u001b[39marray([\u001b[38;5;241m1\u001b[39m,\u001b[38;5;241m2\u001b[39m,\u001b[38;5;241m3\u001b[39m,\u001b[38;5;241m4\u001b[39m,\u001b[38;5;241m5\u001b[39m])\n\u001b[0;32m----> 3\u001b[0m sample_weight \u001b[38;5;241m=\u001b[39m \u001b[43mtf\u001b[49m\u001b[38;5;241;43m.\u001b[39;49m\u001b[43msqueeze\u001b[49m\u001b[43m(\u001b[49m\u001b[43msample_weight\u001b[49m\u001b[43m,\u001b[49m\u001b[43m \u001b[49m\u001b[43m[\u001b[49m\u001b[38;5;241;43m-\u001b[39;49m\u001b[38;5;241;43m1\u001b[39;49m\u001b[43m]\u001b[49m\u001b[43m)\u001b[49m\n",
      "File \u001b[0;32m~/miniconda3/envs/py38/lib/python3.8/site-packages/tensorflow/python/util/traceback_utils.py:153\u001b[0m, in \u001b[0;36mfilter_traceback.<locals>.error_handler\u001b[0;34m(*args, **kwargs)\u001b[0m\n\u001b[1;32m    151\u001b[0m \u001b[38;5;28;01mexcept\u001b[39;00m \u001b[38;5;167;01mException\u001b[39;00m \u001b[38;5;28;01mas\u001b[39;00m e:\n\u001b[1;32m    152\u001b[0m   filtered_tb \u001b[38;5;241m=\u001b[39m _process_traceback_frames(e\u001b[38;5;241m.\u001b[39m__traceback__)\n\u001b[0;32m--> 153\u001b[0m   \u001b[38;5;28;01mraise\u001b[39;00m e\u001b[38;5;241m.\u001b[39mwith_traceback(filtered_tb) \u001b[38;5;28;01mfrom\u001b[39;00m \u001b[38;5;28mNone\u001b[39m\n\u001b[1;32m    154\u001b[0m \u001b[38;5;28;01mfinally\u001b[39;00m:\n\u001b[1;32m    155\u001b[0m   \u001b[38;5;28;01mdel\u001b[39;00m filtered_tb\n",
      "File \u001b[0;32m~/miniconda3/envs/py38/lib/python3.8/site-packages/tensorflow/python/eager/execute.py:54\u001b[0m, in \u001b[0;36mquick_execute\u001b[0;34m(op_name, num_outputs, inputs, attrs, ctx, name)\u001b[0m\n\u001b[1;32m     52\u001b[0m \u001b[38;5;28;01mtry\u001b[39;00m:\n\u001b[1;32m     53\u001b[0m   ctx\u001b[38;5;241m.\u001b[39mensure_initialized()\n\u001b[0;32m---> 54\u001b[0m   tensors \u001b[38;5;241m=\u001b[39m pywrap_tfe\u001b[38;5;241m.\u001b[39mTFE_Py_Execute(ctx\u001b[38;5;241m.\u001b[39m_handle, device_name, op_name,\n\u001b[1;32m     55\u001b[0m                                       inputs, attrs, num_outputs)\n\u001b[1;32m     56\u001b[0m \u001b[38;5;28;01mexcept\u001b[39;00m core\u001b[38;5;241m.\u001b[39m_NotOkStatusException \u001b[38;5;28;01mas\u001b[39;00m e:\n\u001b[1;32m     57\u001b[0m   \u001b[38;5;28;01mif\u001b[39;00m name \u001b[38;5;129;01mis\u001b[39;00m \u001b[38;5;129;01mnot\u001b[39;00m \u001b[38;5;28;01mNone\u001b[39;00m:\n",
      "\u001b[0;31mInvalidArgumentError\u001b[0m: Can not squeeze dim[0], expected a dimension of 1, got 5 [Op:Squeeze]"
     ]
    }
   ],
   "source": [
    "import tensorflow as tf\n",
    "sample_weight = np.array([1,2,3,4,5])\n",
    "sample_weight = tf.squeeze(sample_weight, [-1])"
   ]
  },
  {
   "cell_type": "code",
   "execution_count": 5,
   "id": "7c63fdce",
   "metadata": {},
   "outputs": [
    {
     "name": "stdout",
     "output_type": "stream",
     "text": [
      "(5, 1)\n"
     ]
    }
   ],
   "source": [
    "sample_weight = np.array([1,2,3,4,5])[:,None]\n",
    "print(sample_weight.shape)\n",
    "sample_weight = tf.squeeze(sample_weight, [-1])"
   ]
  },
  {
   "cell_type": "code",
   "execution_count": null,
   "id": "cb8bab1d",
   "metadata": {},
   "outputs": [],
   "source": []
  },
  {
   "cell_type": "code",
   "execution_count": null,
   "id": "7ea1d745",
   "metadata": {},
   "outputs": [],
   "source": []
  },
  {
   "cell_type": "markdown",
   "id": "3e6fd728",
   "metadata": {},
   "source": [
    "## goal:\n",
    "1. compute JTFS for all sounds in training sete\n",
    "2. make nearest neighbor graph of these features\n",
    "3. compute average neighbor distance per parameter per example\n",
    "4. save into a numpy file"
   ]
  },
  {
   "cell_type": "code",
   "execution_count": 2,
   "id": "e4e65f11",
   "metadata": {},
   "outputs": [],
   "source": [
    "feature_path = \"/home/han/data/drum_data/han2022features-pkl/\"\n",
    "audio_path = \"/home/han/data/drum_data/\""
   ]
  },
  {
   "cell_type": "code",
   "execution_count": 3,
   "id": "95fd613e",
   "metadata": {},
   "outputs": [],
   "source": [
    "sr = 22050\n",
    "N = 2**16\n",
    "J = 13\n",
    "Q = 16\n",
    "T = 2**11\n",
    "fold_str = \"train\""
   ]
  },
  {
   "cell_type": "code",
   "execution_count": 4,
   "id": "df982a88",
   "metadata": {},
   "outputs": [],
   "source": [
    "csv_path =  fold_str + \"_param_v2.csv\"\n",
    "df = pd.read_csv(csv_path)\n",
    "sample_ids = df.values[:, 0]\n",
    "y = df.values[:,1:-1]\n",
    "#check range of parameters of the first 500 examples, make sure it's randomized enough"
   ]
  },
  {
   "cell_type": "code",
   "execution_count": 5,
   "id": "27326a85",
   "metadata": {},
   "outputs": [
    {
     "data": {
      "image/png": "[encoded data removed]",
      "text/plain": [
       "<Figure size 720x720 with 5 Axes>"
      ]
     },
     "metadata": {
      "needs_background": "light"
     },
     "output_type": "display_data"
    }
   ],
   "source": [
    "plt.subplots(5,1,figsize=(10,10))\n",
    "for i in range(5):\n",
    "    plt.subplot(5,1,i+1)\n",
    "    plt.scatter(np.arange(0,500,1),y[100:600,i])"
   ]
  },
  {
   "cell_type": "code",
   "execution_count": 76,
   "id": "e5010833",
   "metadata": {},
   "outputs": [],
   "source": [
    "# For a new value newValue, compute the new count, new mean, the new M2.\n",
    "# mean accumulates the mean of the entire dataset\n",
    "# M2 aggregates the squared distance from the mean\n",
    "# count aggregates the number of samples seen so far\n",
    "def update(existingAggregate, newValue):\n",
    "    (count, mean, M2) = existingAggregate\n",
    "    count += 1\n",
    "    delta = newValue - mean\n",
    "    mean += delta / count\n",
    "    delta2 = newValue - mean\n",
    "    M2 += delta * delta2\n",
    "    return (count, mean, M2)\n",
    "\n",
    "# Retrieve the mean, variance and sample variance from an aggregate\n",
    "def finalize(existingAggregate):\n",
    "    (count, mean, M2) = existingAggregate\n",
    "    if count < 2:\n",
    "        return float(\"nan\")\n",
    "    else:\n",
    "        (mean, variance, sampleVariance) = (mean, M2 / count, M2 / (count - 1))\n",
    "        return (mean, variance, sampleVariance)\n",
    "    \n",
    "def welford(feature_path,log_scale):\n",
    "    \"\"\"\n",
    "    compute running variance of a collection of feature vectors\n",
    "    \"\"\"\n",
    "    count = 1\n",
    "    feat_files = os.listdir(feature_path)\n",
    "    mean = np.load(os.path.join(feature_path,feat_files[0])).squeeze()\n",
    "    if log_scale:\n",
    "        mean = np.log1p(((mean>0)*mean)/log_scale)\n",
    "    var = np.zeros(mean.shape)\n",
    "    existingAggregate = (count, mean, var)\n",
    "    for i in range(1,len(feat_files)):\n",
    "        if i% 100 == 0:\n",
    "            print(i)\n",
    "        newValue = np.load(os.path.join(feature_path,feat_files[i])).squeeze()\n",
    "        if log_scale:\n",
    "            newValue = np.log1p(((newValue>0)*newValue)/log_scale)\n",
    "        existingAggregate = update(existingAggregate, newValue)\n",
    "        mean_running,variance_running, sampvar_running = finalize(existingAggregate)\n",
    "    return mean_running, variance_running, sampvar_running"
   ]
  },
  {
   "cell_type": "code",
   "execution_count": 78,
   "id": "fe3b7e68",
   "metadata": {
    "scrolled": true
   },
   "outputs": [
    {
     "name": "stdout",
     "output_type": "stream",
     "text": [
      "100\n",
      "200\n",
      "300\n",
      "400\n",
      "500\n",
      "600\n",
      "700\n",
      "800\n",
      "900\n",
      "1000\n",
      "1100\n",
      "1200\n",
      "1300\n",
      "1400\n",
      "1500\n",
      "1600\n",
      "1700\n",
      "1800\n",
      "1900\n",
      "2000\n",
      "2100\n",
      "2200\n",
      "2300\n",
      "2400\n",
      "2500\n",
      "2600\n",
      "2700\n",
      "2800\n",
      "2900\n",
      "3000\n",
      "3100\n",
      "3200\n",
      "3300\n",
      "3400\n",
      "3500\n",
      "3600\n",
      "3700\n",
      "3800\n",
      "3900\n",
      "4000\n",
      "4100\n",
      "4200\n",
      "4300\n",
      "4400\n",
      "4500\n",
      "4600\n",
      "4700\n",
      "4800\n",
      "4900\n",
      "5000\n",
      "5100\n",
      "5200\n",
      "5300\n",
      "5400\n",
      "5500\n",
      "5600\n",
      "5700\n",
      "5800\n",
      "5900\n",
      "6000\n",
      "6100\n",
      "6200\n",
      "6300\n",
      "6400\n",
      "6500\n",
      "6600\n",
      "6700\n",
      "6800\n",
      "6900\n",
      "7000\n",
      "7100\n",
      "7200\n",
      "7300\n",
      "7400\n",
      "7500\n",
      "7600\n",
      "7700\n",
      "7800\n",
      "7900\n",
      "8000\n",
      "8100\n",
      "8200\n",
      "8300\n",
      "8400\n",
      "8500\n",
      "8600\n",
      "8700\n",
      "8800\n",
      "8900\n",
      "9000\n",
      "9100\n",
      "9200\n",
      "9300\n",
      "9400\n",
      "9500\n",
      "9600\n",
      "9700\n",
      "9800\n",
      "9900\n"
     ]
    }
   ],
   "source": [
    "mean_train_log, var_train_log, sampvar_train_log = welford(feature_path,log_scale=1e-5)"
   ]
  },
  {
   "cell_type": "code",
   "execution_count": 26,
   "id": "5c6ca041",
   "metadata": {
    "scrolled": true
   },
   "outputs": [
    {
     "name": "stdout",
     "output_type": "stream",
     "text": [
      "100\n",
      "200\n",
      "300\n",
      "400\n",
      "500\n",
      "600\n",
      "700\n",
      "800\n",
      "900\n",
      "1000\n",
      "1100\n",
      "1200\n",
      "1300\n",
      "1400\n",
      "1500\n",
      "1600\n",
      "1700\n",
      "1800\n",
      "1900\n",
      "2000\n",
      "2100\n",
      "2200\n",
      "2300\n",
      "2400\n",
      "2500\n",
      "2600\n",
      "2700\n",
      "2800\n",
      "2900\n",
      "3000\n",
      "3100\n",
      "3200\n",
      "3300\n",
      "3400\n",
      "3500\n",
      "3600\n",
      "3700\n",
      "3800\n",
      "3900\n",
      "4000\n",
      "4100\n",
      "4200\n",
      "4300\n",
      "4400\n",
      "4500\n",
      "4600\n",
      "4700\n",
      "4800\n",
      "4900\n",
      "5000\n",
      "5100\n",
      "5200\n",
      "5300\n",
      "5400\n",
      "5500\n",
      "5600\n",
      "5700\n",
      "5800\n",
      "5900\n",
      "6000\n",
      "6100\n",
      "6200\n",
      "6300\n",
      "6400\n",
      "6500\n",
      "6600\n",
      "6700\n",
      "6800\n",
      "6900\n",
      "7000\n",
      "7100\n",
      "7200\n",
      "7300\n",
      "7400\n",
      "7500\n",
      "7600\n",
      "7700\n",
      "7800\n",
      "7900\n",
      "8000\n",
      "8100\n",
      "8200\n",
      "8300\n",
      "8400\n",
      "8500\n",
      "8600\n",
      "8700\n",
      "8800\n",
      "8900\n",
      "9000\n",
      "9100\n",
      "9200\n",
      "9300\n",
      "9400\n",
      "9500\n",
      "9600\n",
      "9700\n",
      "9800\n",
      "9900\n"
     ]
    }
   ],
   "source": [
    "feature_path = \"/home/han/data/drum_data/han2022features-pkl/jtfs_j14_q16/test\"\n",
    "mean_train, var_train, sampvar_train = welford(feature_path)"
   ]
  },
  {
   "cell_type": "code",
   "execution_count": 79,
   "id": "df091b55",
   "metadata": {},
   "outputs": [
    {
     "data": {
      "text/plain": [
       "(0, 34464)"
      ]
     },
     "execution_count": 79,
     "metadata": {},
     "output_type": "execute_result"
    }
   ],
   "source": [
    "np.sum(sampvar_train_log<1e-7),np.sum(sampvar_train_log>=1e-7)"
   ]
  },
  {
   "cell_type": "code",
   "execution_count": 83,
   "id": "6ad9524b",
   "metadata": {},
   "outputs": [
    {
     "data": {
      "text/plain": [
       "Text(0, 0.5, 'log variance of the feature')"
      ]
     },
     "execution_count": 83,
     "metadata": {},
     "output_type": "execute_result"
    },
    {
     "data": {
      "image/png": "[encoded data removed]",
      "text/plain": [
       "<Figure size 432x288 with 1 Axes>"
      ]
     },
     "metadata": {
      "needs_background": "light"
     },
     "output_type": "display_data"
    }
   ],
   "source": [
    "#plot running log(variance) as a function of rank\n",
    "plt.plot(np.arange(1,sampvar_train_log.shape[0]+1),np.flip(np.sort(sampvar_train_log)))\n",
    "#plt.xlim([0,2000])\n",
    "plt.title(\"Per-logfeature Variance versus rank of JTFS coefficients\")\n",
    "plt.xlabel(\"rank of the feature\")\n",
    "plt.ylabel(\"log variance of the feature\")"
   ]
  },
  {
   "cell_type": "code",
   "execution_count": 36,
   "id": "c22784a8",
   "metadata": {},
   "outputs": [
    {
     "data": {
      "text/plain": [
       "(17441, 17023)"
      ]
     },
     "execution_count": 36,
     "metadata": {},
     "output_type": "execute_result"
    }
   ],
   "source": [
    "np.sum(sampvar_train<1e-7),np.sum(sampvar_train>=1e-7)"
   ]
  },
  {
   "cell_type": "code",
   "execution_count": 42,
   "id": "33554858",
   "metadata": {
    "scrolled": false
   },
   "outputs": [
    {
     "data": {
      "text/plain": [
       "Text(0, 0.5, 'log variance of the feature')"
      ]
     },
     "execution_count": 42,
     "metadata": {},
     "output_type": "execute_result"
    },
    {
     "data": {
      "image/png": "[encoded data removed]",
      "text/plain": [
       "<Figure size 432x288 with 1 Axes>"
      ]
     },
     "metadata": {
      "needs_background": "light"
     },
     "output_type": "display_data"
    }
   ],
   "source": [
    "#plot running log(variance) as a function of rank\n",
    "plt.plot(np.arange(1,sampvar_train.shape[0]+1),np.flip(np.sort(np.log10(sampvar_train))))\n",
    "#plt.xlim([0,2000])\n",
    "plt.title(\"Per-feature Variance versus rank of JTFS coefficients\")\n",
    "plt.xlabel(\"rank of the feature\")\n",
    "plt.ylabel(\"log variance of the feature\")"
   ]
  },
  {
   "cell_type": "code",
   "execution_count": null,
   "id": "4267f460",
   "metadata": {},
   "outputs": [],
   "source": []
  },
  {
   "cell_type": "code",
   "execution_count": 9,
   "id": "45a6f44b",
   "metadata": {},
   "outputs": [],
   "source": [
    "# load mean neighbor distance\n",
    "test_dist = np.load(os.path.join(audio_path,\"test_nbr_dist.npy\"))"
   ]
  },
  {
   "cell_type": "code",
   "execution_count": 23,
   "id": "df6fcd73",
   "metadata": {},
   "outputs": [
    {
     "data": {
      "image/png": "[encoded data removed]",
      "text/plain": [
       "<Figure size 432x288 with 1 Axes>"
      ]
     },
     "metadata": {
      "needs_background": "light"
     },
     "output_type": "display_data"
    }
   ],
   "source": [
    "#applying log directly when calculating normalized difference\n",
    "labels = ['log(omega)','tau','log(p)','log(D)','log(beta/alpha)']\n",
    "bp0 = plt.boxplot(np.log1p(1/test_dist[:,[0,1,2,3,4]]), labels=labels, patch_artist=True)\n",
    "\n",
    "for box in bp0['boxes']:\n",
    "    # change outline color\n",
    "    #box.set(color='black', linewidth=2)\n",
    "    # change fill color\n",
    "    box.set(facecolor = 'C0' )\n",
    "    # change hatch\n",
    "    #box.set(hatch = '/')\n",
    "\n",
    "#log w, p, D, beta/alpha\n",
    "plt.title('Normalized mean parameter difference in a neighborhood of 15')\n",
    "\n",
    "plt.show()"
   ]
  },
  {
   "cell_type": "code",
   "execution_count": null,
   "id": "e699cb55",
   "metadata": {},
   "outputs": [],
   "source": []
  },
  {
   "cell_type": "code",
   "execution_count": 73,
   "id": "1b1c2c26",
   "metadata": {
    "scrolled": true
   },
   "outputs": [
    {
     "name": "stdout",
     "output_type": "stream",
     "text": [
      "100\n",
      "200\n",
      "300\n",
      "400\n",
      "500\n",
      "600\n",
      "700\n",
      "800\n",
      "900\n",
      "1000\n",
      "1100\n",
      "1200\n",
      "1300\n",
      "1400\n",
      "1500\n",
      "1600\n",
      "1700\n",
      "1800\n",
      "1900\n",
      "2000\n",
      "2100\n",
      "2200\n",
      "2300\n",
      "2400\n",
      "2500\n",
      "2600\n",
      "2700\n",
      "2800\n",
      "2900\n",
      "3000\n",
      "3100\n",
      "3200\n",
      "3300\n",
      "3400\n",
      "3500\n",
      "3600\n",
      "3700\n",
      "3800\n",
      "3900\n",
      "4000\n",
      "4100\n",
      "4200\n",
      "4300\n",
      "4400\n",
      "4500\n",
      "4600\n",
      "4700\n",
      "4800\n",
      "4900\n",
      "5000\n",
      "5100\n",
      "5200\n",
      "5300\n",
      "5400\n",
      "5500\n",
      "5600\n",
      "5700\n",
      "5800\n",
      "5900\n",
      "6000\n",
      "6100\n",
      "6200\n",
      "6300\n",
      "6400\n",
      "6500\n",
      "6600\n",
      "6700\n",
      "6800\n",
      "6900\n",
      "7000\n",
      "7100\n",
      "7200\n",
      "7300\n",
      "7400\n",
      "7500\n",
      "7600\n",
      "7700\n",
      "7800\n",
      "7900\n",
      "8000\n",
      "8100\n",
      "8200\n",
      "8300\n",
      "8400\n",
      "8500\n",
      "8600\n",
      "8700\n",
      "8800\n",
      "8900\n",
      "9000\n",
      "9100\n",
      "9200\n",
      "9300\n",
      "9400\n",
      "9500\n",
      "9600\n",
      "9700\n",
      "9800\n",
      "9900\n",
      "10000\n"
     ]
    },
    {
     "data": {
      "text/plain": [
       "(10000, 34464)"
      ]
     },
     "execution_count": 73,
     "metadata": {},
     "output_type": "execute_result"
    }
   ],
   "source": [
    "def load_jtfs(feature_path,fold_str):\n",
    "    csv_path = \"../notebooks/\" + fold_str + \"_param_v2.csv\"\n",
    "    df = pd.read_csv(csv_path)\n",
    "    sample_ids = df.values[:, 0]\n",
    "    y = df.values[:,1:-1]\n",
    "    ba = 1/y[:,-1] + 1/y[:,-1]**2\n",
    "    y_ba = np.hstack((y, ba[:,None]))\n",
    "    \n",
    "    jtfs_set = []\n",
    "    num = 0\n",
    "    for i in sample_ids:\n",
    "        wav_path = os.path.join(feature_path,\"jtfs_j\"+str(J)+\"_q\"+str(Q),fold_str,\n",
    "                                       fold_str+\"_\"+str(i)+\".npy\")\n",
    "        if os.path.exists(wav_path):\n",
    "            jtfs_wav = np.load(wav_path)\n",
    "            jtfs_set.append(jtfs_wav)\n",
    "            num += 1\n",
    "        if num % 100 == 0:\n",
    "            print(num)\n",
    "    jtfs_set = np.stack(jtfs_set)\n",
    "    jtfs_set = np.maximum(0,jtfs_set.reshape((jtfs_set.shape[0],\n",
    "                            jtfs_set.shape[1]*jtfs_set.shape[2]*jtfs_set.shape[3])))\n",
    "    return jtfs_set,y_ba\n",
    "\n",
    "\n",
    "#load jtfs coeff\n",
    "J = 14\n",
    "feat_path = \"/home/han/data/drum_data/han2022features-pkl/\"\n",
    "test_jtfs, y_test = load_jtfs(feat_path,\"test\")\n",
    "test_jtfs.shape"
   ]
  },
  {
   "cell_type": "code",
   "execution_count": 60,
   "id": "c63e18ef",
   "metadata": {
    "scrolled": true
   },
   "outputs": [],
   "source": [
    "k = 1000\n",
    "idx = np.flip(np.argsort(sampvar_train))[:k]\n",
    "reduced_test_jtfs = test_jtfs[:,idx]"
   ]
  },
  {
   "cell_type": "code",
   "execution_count": 65,
   "id": "dd77b04b",
   "metadata": {},
   "outputs": [],
   "source": [
    "#perform nearest neighbor\n",
    "n_nbr = 40\n",
    "nbrs = NearestNeighbors(n_neighbors=n_nbr, algorithm='ball_tree').fit(reduced_test_jtfs)\n",
    "distances, indices = nbrs.kneighbors(reduced_test_jtfs)"
   ]
  },
  {
   "cell_type": "code",
   "execution_count": 74,
   "id": "e4b8af38",
   "metadata": {
    "scrolled": true
   },
   "outputs": [
    {
     "data": {
      "text/plain": [
       "(10000, 6)"
      ]
     },
     "execution_count": 74,
     "metadata": {},
     "output_type": "execute_result"
    }
   ],
   "source": [
    "param_dist = compute_mean_dist(indices,n=15,y=y_test)\n",
    "param_dist.shape"
   ]
  },
  {
   "cell_type": "code",
   "execution_count": 70,
   "id": "35511983",
   "metadata": {},
   "outputs": [],
   "source": [
    "def compute_mean_dist(indices,n,y):   \n",
    "    \"\"\"\n",
    "    n: number of neighbors to average from\n",
    "    y: ground truth parameters\n",
    "    \"\"\"\n",
    "    # calculate the mean parameter distance from n neighbors for each example\n",
    "    param_dist = []\n",
    "    for i in range(indices.shape[0]):\n",
    "        param_current = y[i,:].astype(np.float64)\n",
    "        #get the parameters of these neighbors \n",
    "        param_nbrs = copy.deepcopy(y[indices[i,:n],:]).astype(np.float64)\n",
    "        #logscale p and D and ba\n",
    "        param_nbrs[:,[0,2,3,5]] = np.log10(param_nbrs[:,[0,2,3,5]])\n",
    "        param_current[[0,2,3,5]] = np.log10(param_current[[0,2,3,5]])\n",
    "        param_dist.append(np.mean(np.abs(param_nbrs-param_current),axis=0)/np.abs(param_current))\n",
    "\n",
    "    param_dist = np.stack(param_dist)\n",
    "    return param_dist"
   ]
  },
  {
   "cell_type": "code",
   "execution_count": null,
   "id": "ec182c16",
   "metadata": {},
   "outputs": [],
   "source": []
  },
  {
   "cell_type": "code",
   "execution_count": 45,
   "id": "20c5b715",
   "metadata": {
    "scrolled": false
   },
   "outputs": [],
   "source": [
    "#initialize jtfs\n",
    "jtfs = TimeFrequencyScattering1D(\n",
    "                J = J, #scale\n",
    "                shape = (N, ), \n",
    "                Q = Q, #filters per octave, frequency resolution\n",
    "                T = T, \n",
    "                max_pad_factor=1,\n",
    "                max_pad_factor_fr=1,\n",
    "                average_fr = False,\n",
    "            ).cuda()"
   ]
  },
  {
   "cell_type": "code",
   "execution_count": 37,
   "id": "93dc44ab",
   "metadata": {},
   "outputs": [
    {
     "name": "stdout",
     "output_type": "stream",
     "text": [
      "[0.70735152 0.56125041 0.67174661 ... 0.70760301 0.05559632 0.88394552]\n"
     ]
    }
   ],
   "source": [
    "\n",
    "x = np.random.random(N)\n",
    "print(x)"
   ]
  },
  {
   "cell_type": "code",
   "execution_count": 43,
   "id": "bfe4298f",
   "metadata": {},
   "outputs": [],
   "source": [
    "jtfs_glo = TimeFrequencyScattering1D(\n",
    "                J = J, #scale\n",
    "                shape = (N, ), \n",
    "                Q = Q, #filters per octave, frequency resolution\n",
    "                T = N,\n",
    "                average = True,\n",
    "                max_pad_factor=1,\n",
    "                max_pad_factor_fr=1,\n",
    "                average_fr = False,\n",
    "            ).cuda()"
   ]
  },
  {
   "cell_type": "code",
   "execution_count": 46,
   "id": "76dc329c",
   "metadata": {},
   "outputs": [],
   "source": [
    "sx1 = jtfs(torch.tensor(x))\n",
    "sx2 = jtfs_glo(torch.tensor(x))"
   ]
  },
  {
   "cell_type": "code",
   "execution_count": 48,
   "id": "ce4318ca",
   "metadata": {},
   "outputs": [
    {
     "data": {
      "text/plain": [
       "(torch.Size([1, 28987, 32]), torch.Size([1, 28987, 1]))"
      ]
     },
     "execution_count": 48,
     "metadata": {},
     "output_type": "execute_result"
    }
   ],
   "source": [
    "sx1.shape,sx2.shape"
   ]
  },
  {
   "cell_type": "code",
   "execution_count": 12,
   "id": "8e64f09c",
   "metadata": {
    "scrolled": true
   },
   "outputs": [],
   "source": [
    "#computee all of jtfs coefficients\n",
    "#train_jtfs, y_train = make_jtfs(jtfs,\"train\")"
   ]
  },
  {
   "cell_type": "code",
   "execution_count": 14,
   "id": "f49a25d8",
   "metadata": {},
   "outputs": [],
   "source": [
    "#loading the saved jtfs features\n",
    "train_jtfs_loaded,y_train_loaded = load_jtfs(\"train\")"
   ]
  },
  {
   "cell_type": "code",
   "execution_count": 23,
   "id": "36613048",
   "metadata": {},
   "outputs": [],
   "source": [
    "#nearest neighbor\n",
    "#isomap\n",
    "n_components = 3\n",
    "n_neighbors = 40\n",
    "\n",
    "train_isomap = Isomap(n_neighbors=n_neighbors, n_components=n_components)\n",
    "Y_train = train_isomap.fit_transform(train_jtfs.cpu()) #compute knn graph, apply dimensionality reducton\n"
   ]
  },
  {
   "cell_type": "code",
   "execution_count": 26,
   "id": "6c7abad5",
   "metadata": {},
   "outputs": [],
   "source": [
    "n = 20\n",
    "ba_train = 1/y_train[:,-1] + 1/y_train[:,-1]**2\n",
    "y_train_ba = np.hstack((y_train,ba_train[:,None]))\n",
    "train_dist = compute_mean_dist(train_isomap,n,y_train_ba)"
   ]
  },
  {
   "cell_type": "code",
   "execution_count": 28,
   "id": "a94e1600",
   "metadata": {},
   "outputs": [
    {
     "data": {
      "text/html": [
       "<div>\n",
       "<style scoped>\n",
       "    .dataframe tbody tr th:only-of-type {\n",
       "        vertical-align: middle;\n",
       "    }\n",
       "\n",
       "    .dataframe tbody tr th {\n",
       "        vertical-align: top;\n",
       "    }\n",
       "\n",
       "    .dataframe thead th {\n",
       "        text-align: right;\n",
       "    }\n",
       "</style>\n",
       "<table border=\"1\" class=\"dataframe\">\n",
       "  <thead>\n",
       "    <tr style=\"text-align: right;\">\n",
       "      <th></th>\n",
       "      <th>nbrs</th>\n",
       "      <th>omega</th>\n",
       "      <th>tau</th>\n",
       "      <th>p</th>\n",
       "      <th>D</th>\n",
       "      <th>alpha</th>\n",
       "      <th>beta/alpha</th>\n",
       "    </tr>\n",
       "  </thead>\n",
       "  <tbody>\n",
       "    <tr>\n",
       "      <th>0</th>\n",
       "      <td>5.0</td>\n",
       "      <td>0.971626</td>\n",
       "      <td>0.010761</td>\n",
       "      <td>0.003148</td>\n",
       "      <td>0.005860</td>\n",
       "      <td>0.003954</td>\n",
       "      <td>0.004650</td>\n",
       "    </tr>\n",
       "    <tr>\n",
       "      <th>1</th>\n",
       "      <td>10.0</td>\n",
       "      <td>0.973676</td>\n",
       "      <td>0.008166</td>\n",
       "      <td>0.004945</td>\n",
       "      <td>0.005185</td>\n",
       "      <td>0.003940</td>\n",
       "      <td>0.004089</td>\n",
       "    </tr>\n",
       "    <tr>\n",
       "      <th>2</th>\n",
       "      <td>15.0</td>\n",
       "      <td>0.972503</td>\n",
       "      <td>0.008276</td>\n",
       "      <td>0.005702</td>\n",
       "      <td>0.005806</td>\n",
       "      <td>0.004125</td>\n",
       "      <td>0.003588</td>\n",
       "    </tr>\n",
       "    <tr>\n",
       "      <th>3</th>\n",
       "      <td>20.0</td>\n",
       "      <td>0.968102</td>\n",
       "      <td>0.008171</td>\n",
       "      <td>0.006412</td>\n",
       "      <td>0.006934</td>\n",
       "      <td>0.005590</td>\n",
       "      <td>0.004791</td>\n",
       "    </tr>\n",
       "    <tr>\n",
       "      <th>4</th>\n",
       "      <td>40.0</td>\n",
       "      <td>0.929095</td>\n",
       "      <td>0.017393</td>\n",
       "      <td>0.015902</td>\n",
       "      <td>0.014365</td>\n",
       "      <td>0.012639</td>\n",
       "      <td>0.010606</td>\n",
       "    </tr>\n",
       "  </tbody>\n",
       "</table>\n",
       "</div>"
      ],
      "text/plain": [
       "   nbrs     omega       tau         p         D     alpha  beta/alpha\n",
       "0   5.0  0.971626  0.010761  0.003148  0.005860  0.003954    0.004650\n",
       "1  10.0  0.973676  0.008166  0.004945  0.005185  0.003940    0.004089\n",
       "2  15.0  0.972503  0.008276  0.005702  0.005806  0.004125    0.003588\n",
       "3  20.0  0.968102  0.008171  0.006412  0.006934  0.005590    0.004791\n",
       "4  40.0  0.929095  0.017393  0.015902  0.014365  0.012639    0.010606"
      ]
     },
     "execution_count": 28,
     "metadata": {},
     "output_type": "execute_result"
    }
   ],
   "source": [
    "#mean normalized neighbor difference\n",
    "max_weights = []\n",
    "nbrs = [5,10,15,20,40]\n",
    "for n in nbrs:\n",
    "    train_dist = compute_mean_dist(train_isomap,n,y_train_ba)\n",
    "    weights = 1/train_dist\n",
    "    max_weights.append(np.max(weights,axis=0)/np.sum(np.max(weights,axis=0))) #normalize per row\n",
    "max_weights = np.stack(max_weights) #(diff neighrbos, max weights)\n",
    "pd.DataFrame(np.hstack((np.array(nbrs)[:,None],max_weights)),\n",
    "             columns=[\"nbrs\",\"omega\",\"tau\",\"p\",\"D\",\"alpha\",\"beta/alpha\"],\n",
    "            )"
   ]
  },
  {
   "cell_type": "code",
   "execution_count": 33,
   "id": "644a1360",
   "metadata": {},
   "outputs": [
    {
     "data": {
      "image/png": "[encoded data removed]",
      "text/plain": [
       "<Figure size 432x288 with 1 Axes>"
      ]
     },
     "metadata": {
      "needs_background": "light"
     },
     "output_type": "display_data"
    }
   ],
   "source": [
    "#applying log directly when calculating normalized difference\n",
    "labels = ['log(omega)','tau','log(p)','log(D)','log(beta/alpha)']\n",
    "bp0 = plt.boxplot(train_dist[:,[0,1,2,3,5]], labels=labels, patch_artist=True)\n",
    "\n",
    "for box in bp0['boxes']:\n",
    "    # change outline color\n",
    "    #box.set(color='black', linewidth=2)\n",
    "    # change fill color\n",
    "    box.set(facecolor = 'C0' )\n",
    "    # change hatch\n",
    "    #box.set(hatch = '/')\n",
    "\n",
    "#log w, p, D, beta/alpha\n",
    "plt.title('Normalized mean parameter difference in a neighborhood of 20')\n",
    "\n",
    "plt.show()"
   ]
  },
  {
   "cell_type": "markdown",
   "id": "aab75eac",
   "metadata": {},
   "source": [
    "## derive mean difference from normalized parameters\n",
    "1. normalize the ground truth between 0 and 1 \n",
    "2. make box plot"
   ]
  },
  {
   "cell_type": "code",
   "execution_count": 40,
   "id": "72ff37df",
   "metadata": {},
   "outputs": [],
   "source": [
    "def preprocess_gt(y_train):\n",
    "    #logscale\n",
    "    y_train_log = copy.deepcopy(y_train)\n",
    "    y_train_log[:,[0,2,3,5]] = np.log10(y_train[:,[0,2,3,5]].astype(np.float64))\n",
    "    #normalize\n",
    "    scaler = MinMaxScaler()\n",
    "    scaler.fit(y_train_log)\n",
    "    y_train_normalized = scaler.transform(y_train_log)\n",
    "\n",
    "    return y_train_normalized\n",
    "def compute_mean_dist_norm(isomap,n,y):#targeting already normalized ground truth\n",
    "    # calculate the mean parameter distance from n neighbors for each example\n",
    "    param_dist = []\n",
    "    for i in range(isomap.dist_matrix_.shape[0]):\n",
    "        param_current = y[i,:].astype(np.float64)\n",
    "        nbrs = np.argsort(isomap.dist_matrix_[i,:])[1:n+1]\n",
    "        #get the parameters of these neighbors \n",
    "        param_nbrs = copy.deepcopy(y[nbrs,:]).astype(np.float64)\n",
    "        #logscale p and D and ba\n",
    "        param_dist.append(np.mean(np.abs(param_nbrs-param_current),axis=0))#/np.abs(param_current))\n",
    "\n",
    "    param_dist = np.stack(param_dist)\n",
    "    return param_dist"
   ]
  },
  {
   "cell_type": "code",
   "execution_count": 41,
   "id": "58355e14",
   "metadata": {},
   "outputs": [],
   "source": [
    "y_train_ba_norm = preprocess_gt(y_train_ba)\n",
    "train_dist_norm = compute_mean_dist_norm(train_isomap,n,y_train_ba_norm)"
   ]
  },
  {
   "cell_type": "code",
   "execution_count": 42,
   "id": "878a42b4",
   "metadata": {},
   "outputs": [],
   "source": [
    "#mean normalized neighbor difference\n",
    "max_weights = []\n",
    "nbrs = [5,10,15,20,40]\n",
    "for n in nbrs:\n",
    "    train_dist_norm = compute_mean_dist_norm(train_isomap,n,y_train_ba_norm)\n",
    "    weights = 1/train_dist_norm\n",
    "    max_weights.append(np.max(weights,axis=0)/np.sum(np.max(weights,axis=0))) #normalize per row\n",
    "max_weights = np.stack(max_weights) #(diff neighrbos, max weights)"
   ]
  },
  {
   "cell_type": "code",
   "execution_count": 43,
   "id": "4805a86b",
   "metadata": {},
   "outputs": [
    {
     "data": {
      "text/html": [
       "<div>\n",
       "<style scoped>\n",
       "    .dataframe tbody tr th:only-of-type {\n",
       "        vertical-align: middle;\n",
       "    }\n",
       "\n",
       "    .dataframe tbody tr th {\n",
       "        vertical-align: top;\n",
       "    }\n",
       "\n",
       "    .dataframe thead th {\n",
       "        text-align: right;\n",
       "    }\n",
       "</style>\n",
       "<table border=\"1\" class=\"dataframe\">\n",
       "  <thead>\n",
       "    <tr style=\"text-align: right;\">\n",
       "      <th></th>\n",
       "      <th>nbrs</th>\n",
       "      <th>omega</th>\n",
       "      <th>tau</th>\n",
       "      <th>p</th>\n",
       "      <th>D</th>\n",
       "      <th>alpha</th>\n",
       "      <th>beta/alpha</th>\n",
       "    </tr>\n",
       "  </thead>\n",
       "  <tbody>\n",
       "    <tr>\n",
       "      <th>0</th>\n",
       "      <td>5.0</td>\n",
       "      <td>0.783467</td>\n",
       "      <td>0.040480</td>\n",
       "      <td>0.016223</td>\n",
       "      <td>0.021991</td>\n",
       "      <td>0.016361</td>\n",
       "      <td>0.121477</td>\n",
       "    </tr>\n",
       "    <tr>\n",
       "      <th>1</th>\n",
       "      <td>10.0</td>\n",
       "      <td>0.818196</td>\n",
       "      <td>0.036766</td>\n",
       "      <td>0.015249</td>\n",
       "      <td>0.016185</td>\n",
       "      <td>0.015199</td>\n",
       "      <td>0.098405</td>\n",
       "    </tr>\n",
       "    <tr>\n",
       "      <th>2</th>\n",
       "      <td>15.0</td>\n",
       "      <td>0.821541</td>\n",
       "      <td>0.031913</td>\n",
       "      <td>0.017450</td>\n",
       "      <td>0.017223</td>\n",
       "      <td>0.014553</td>\n",
       "      <td>0.097320</td>\n",
       "    </tr>\n",
       "    <tr>\n",
       "      <th>3</th>\n",
       "      <td>20.0</td>\n",
       "      <td>0.791878</td>\n",
       "      <td>0.030251</td>\n",
       "      <td>0.018948</td>\n",
       "      <td>0.018975</td>\n",
       "      <td>0.018760</td>\n",
       "      <td>0.121188</td>\n",
       "    </tr>\n",
       "    <tr>\n",
       "      <th>4</th>\n",
       "      <td>40.0</td>\n",
       "      <td>0.632762</td>\n",
       "      <td>0.052300</td>\n",
       "      <td>0.036939</td>\n",
       "      <td>0.036749</td>\n",
       "      <td>0.037358</td>\n",
       "      <td>0.203892</td>\n",
       "    </tr>\n",
       "  </tbody>\n",
       "</table>\n",
       "</div>"
      ],
      "text/plain": [
       "   nbrs     omega       tau         p         D     alpha  beta/alpha\n",
       "0   5.0  0.783467  0.040480  0.016223  0.021991  0.016361    0.121477\n",
       "1  10.0  0.818196  0.036766  0.015249  0.016185  0.015199    0.098405\n",
       "2  15.0  0.821541  0.031913  0.017450  0.017223  0.014553    0.097320\n",
       "3  20.0  0.791878  0.030251  0.018948  0.018975  0.018760    0.121188\n",
       "4  40.0  0.632762  0.052300  0.036939  0.036749  0.037358    0.203892"
      ]
     },
     "execution_count": 43,
     "metadata": {},
     "output_type": "execute_result"
    }
   ],
   "source": [
    "#maximum weights\n",
    "pd.DataFrame(np.hstack((np.array(nbrs)[:,None],max_weights)),\n",
    "             columns=[\"nbrs\",\"omega\",\"tau\",\"p\",\"D\",\"alpha\",\"beta/alpha\"],\n",
    "            )"
   ]
  },
  {
   "cell_type": "code",
   "execution_count": 46,
   "id": "c3f6dab5",
   "metadata": {},
   "outputs": [
    {
     "data": {
      "image/png": "[encoded data removed]",
      "text/plain": [
       "<Figure size 432x288 with 1 Axes>"
      ]
     },
     "metadata": {
      "needs_background": "light"
     },
     "output_type": "display_data"
    }
   ],
   "source": [
    "#applying log directly when calculating normalized difference\n",
    "labels = ['log(omega)','tau','log(p)','log(D)','alpha','log(beta/alpha)']\n",
    "bp0 = plt.boxplot(train_dist_norm[:,[0,1,2,3,4,5]], labels=labels, patch_artist=True)\n",
    "\n",
    "for box in bp0['boxes']:\n",
    "    # change outline color\n",
    "    #box.set(color='black', linewidth=2)\n",
    "    # change fill color\n",
    "    box.set(facecolor = 'C0' )\n",
    "    # change hatch\n",
    "    #box.set(hatch = '/')\n",
    "\n",
    "\n",
    "plt.title('Mean scaled parameter difference in a neighborhood of 20')\n",
    "\n",
    "plt.show()"
   ]
  },
  {
   "cell_type": "code",
   "execution_count": null,
   "id": "6d39c60b",
   "metadata": {},
   "outputs": [],
   "source": []
  },
  {
   "cell_type": "code",
   "execution_count": null,
   "id": "99394ec4",
   "metadata": {},
   "outputs": [],
   "source": []
  },
  {
   "cell_type": "code",
   "execution_count": 55,
   "id": "2ba423a8",
   "metadata": {},
   "outputs": [],
   "source": [
    "def make_jtfs(jtfs,fold_str):\n",
    "    csv_path =  fold_str + \"_param_v2.csv\"\n",
    "    df = pd.read_csv(csv_path)\n",
    "    sample_ids = df.values[:, 0]\n",
    "    y = df.values[:,1:-1]\n",
    "    jtfs_set = []\n",
    "    #load sound files\n",
    "    num = 0\n",
    "    #os.makedirs(os.path.join(feature_path,\"jtfs_j8_q16_t11\"),exist_ok=True)\n",
    "    for i in sample_ids:\n",
    "        filename = \"_\".join([str(i),\"sound.wav\"])\n",
    "        file_path = os.path.join(audio_path,fold_str,filename)\n",
    "        wav, sr = sf.read(file_path)\n",
    "        jtfs_wav = jtfs(wav)/np.linalg.norm(wav,ord=2)\n",
    "        #if not os.path.exists(os.path.join(feature_path,\"jtfs_j8_q16_t11\",fold_str+\"_\"+str(i)+\".npy\")):\n",
    "        np.save(os.path.join(feature_path,\"jtfs_j8_q16_t11\",fold_str+\"_\"+str(i)+\".npy\"),jtfs_wav.cpu())\n",
    "        jtfs_set.append(jtfs_wav.cpu().numpy())\n",
    "        num += 1\n",
    "        if num > 500:\n",
    "            break\n",
    "    jtfs_set = np.stack(jtfs_set)\n",
    "    jtfs_set = np.maximum(torch.tensor(0),\n",
    "                             jtfs_set.reshape((jtfs_set.shape[0],\n",
    "                            jtfs_set.shape[1]*jtfs_set.shape[2]*jtfs_set.shape[3])))\n",
    "    return jtfs_set,y\n",
    "\n",
    "def load_jtfs(feature_path,fold_str):\n",
    "    csv_path = \"../notebooks/\" + fold_str + \"_param_v2.csv\"\n",
    "    df = pd.read_csv(csv_path)\n",
    "    sample_ids = df.values[:, 0]\n",
    "    y = df.values[:,1:-1]\n",
    "    ba = 1/y[:,-1] + 1/y[:,-1]**2\n",
    "    y_ba = np.hstack((y, ba[:,None]))\n",
    "    \n",
    "    jtfs_set = []\n",
    "    num = 0\n",
    "    for i in sample_ids:\n",
    "        if os.path.exists(os.path.join(feature_path,\"jtfs_j\"+str(J)+\"_q\"+str(Q),fold_str,\n",
    "                                       fold_str+\"_\"+str(i)+\".npy\")):\n",
    "            jtfs_wav = np.load(os.path.join(feature_path,\"jtfs_j\"+str(J)+\"_q\"+str(Q),fold_str,\n",
    "                                            fold_str+\"_\"+str(i)+\".npy\"))\n",
    "            jtfs_set.append(jtfs_wav)\n",
    "            num += 1\n",
    "        if num % 100 == 0:\n",
    "            print(num)\n",
    "    jtfs_set = np.stack(jtfs_set)\n",
    "    jtfs_set = np.maximum(0,jtfs_set.reshape((jtfs_set.shape[0],\n",
    "                            jtfs_set.shape[1]*jtfs_set.shape[2]*jtfs_set.shape[3])))\n",
    "    return jtfs_set,y\n",
    "def compute_mean_dist(isomap,n,y):        \n",
    "    # calculate the mean parameter distance from n neighbors for each example\n",
    "    param_dist = []\n",
    "    for i in range(isomap.dist_matrix_.shape[0]):\n",
    "        param_current = y[i,:].astype(np.float64)\n",
    "        nbrs = np.argsort(isomap.dist_matrix_[i,:])[1:n+1]\n",
    "        #get the parameters of these neighbors \n",
    "        param_nbrs = copy.deepcopy(y[nbrs,:]).astype(np.float64)\n",
    "        #logscale p and D and ba\n",
    "        param_nbrs[:,[0,2,3,5]] = np.log10(param_nbrs[:,[0,2,3,5]])\n",
    "        param_current[[0,2,3,5]] = np.log10(param_current[[0,2,3,5]])\n",
    "        param_dist.append(np.mean(np.abs(param_nbrs-param_current),axis=0)/np.abs(param_current))\n",
    "\n",
    "    param_dist = np.stack(param_dist)\n",
    "    return param_dist"
   ]
  },
  {
   "cell_type": "code",
   "execution_count": null,
   "id": "5952297e",
   "metadata": {},
   "outputs": [],
   "source": []
  }
 ],
 "metadata": {
  "kernelspec": {
   "display_name": "Python 3 (ipykernel)",
   "language": "python",
   "name": "python3"
  },
  "language_info": {
   "codemirror_mode": {
    "name": "ipython",
    "version": 3
   },
   "file_extension": ".py",
   "mimetype": "text/x-python",
   "name": "python",
   "nbconvert_exporter": "python",
   "pygments_lexer": "ipython3",
   "version": "3.8.13"
  }
 },
 "nbformat": 4,
 "nbformat_minor": 5
}
