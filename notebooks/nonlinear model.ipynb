{
 "cells": [
  {
   "cell_type": "code",
   "execution_count": 1,
   "metadata": {},
   "outputs": [
    {
     "data": {
      "text/plain": [
       "1"
      ]
     },
     "execution_count": 1,
     "metadata": {},
     "output_type": "execute_result"
    }
   ],
   "source": [
    "1"
   ]
  },
  {
   "cell_type": "code",
   "execution_count": 2,
   "metadata": {},
   "outputs": [],
   "source": [
    "import numpy as np\n",
    "import tensorflow.keras\n",
    "from tensorflow import keras\n",
    "import torch\n",
    "import tensorflow as tf\n",
    "from tensorflow.keras.models import Model, Sequential\n",
    "from tensorflow.keras.layers import Conv1D, AveragePooling1D, Conv2D, MaxPooling2D,ReLU\n",
    "import tensorflow.keras.backend as K\n",
    "from tensorflow.keras.models import load_model #save and load models\n",
    "from tensorflow.keras.layers import Dense, Dropout, Activation, Flatten\n",
    "from tensorflow.keras.layers import BatchNormalization\n",
    "from tensorflow.keras.callbacks import EarlyStopping, CSVLogger, ModelCheckpoint\n",
    "import IPython.display as ipd\n",
    "from kymatio import Scattering1D\n",
    "import hitdifferentparts\n",
    "import pandas as pd\n",
    "from sklearn.preprocessing import MinMaxScaler\n",
    "import pescador\n",
    "import random\n",
    "import os\n",
    "import librosa\n",
    "import pickle\n",
    "import matplotlib.pyplot as plt"
   ]
  },
  {
   "cell_type": "code",
   "execution_count": 3,
   "metadata": {},
   "outputs": [],
   "source": [
    "#make the model\n",
    "def create_model(J,Q,order,input_x,input_y,k_size,layer_size,nchan_out):\n",
    "    #fname = random.choice(os.listdir(path_to_train))\n",
    "    #rand_audio = os.path.join(path_to_train,fname)\n",
    "    #y,sr = librosa.load(rand_audio)\n",
    "    #N = len(y)\n",
    "    #scattering = Scattering1D(J = J,shape=(N,), Q = Q, max_order=order)\n",
    "    \n",
    "    #Sy = getsc_new(torch.Tensor(y),J,Q,order,scattering).T\n",
    "    #nrow, ncol = Sy.shape \n",
    "    nrow = input_x\n",
    "    ncol = input_y\n",
    "    #naudio = batch_size         # number of images in batch\n",
    "    nchan_in = 1       # number of input channels.  1 since it is BW\n",
    "    #input_shape = (nrow,ncol,nchan_in)  # input shape of 1 image\n",
    "    input_shape = (input_x,input_y)#Sy.shape\n",
    "    #batch_shape = (naudio,nrow,ncol,nchan_in)  # shape of image batch\n",
    "    #x = Sy.reshape(batch_shape)\n",
    "    kernel_size = (k_size,)\n",
    "    #nchan_out = 16\n",
    "\n",
    "    K.clear_session()\n",
    "    model=Sequential()\n",
    "    #1 conv layer +  1 batch normalization + nonlinear activation + pooling\n",
    "    model.add(Conv1D(input_shape=input_shape, filters=nchan_out,\n",
    "                     kernel_size=kernel_size, padding=\"same\",name='conv1'))\n",
    "    model.add(BatchNormalization())\n",
    "    model.add(Activation(\"relu\"))\n",
    "    model.add(AveragePooling1D(pool_size=(4,)))\n",
    "    \n",
    "   #second time\n",
    "    model.add(Conv1D(filters=nchan_out,\n",
    "                     kernel_size=kernel_size, padding=\"same\",name='conv2' ))\n",
    "    model.add(BatchNormalization())\n",
    "    model.add(Activation(\"relu\"))\n",
    "    model.add(AveragePooling1D(pool_size=(4,)))\n",
    "    \n",
    "    #third time\n",
    "    if layer_size>=3:\n",
    "        model.add(Conv1D(filters=nchan_out,\n",
    "                         kernel_size=kernel_size, padding=\"same\",name='conv3' ))\n",
    "        model.add(BatchNormalization())\n",
    "        model.add(Activation(\"relu\"))\n",
    "        model.add(AveragePooling1D(pool_size=(4,)))\n",
    "        if layer_size==4:\n",
    "        #fourth time\n",
    "            model.add(Conv1D(filters=nchan_out,\n",
    "                             kernel_size=kernel_size, padding=\"same\",name='conv4' ))\n",
    "            model.add(BatchNormalization())\n",
    "            model.add(Activation(\"relu\"))\n",
    "            model.add(AveragePooling1D(pool_size=(2,)))\n",
    "            if layer_size ==5:\n",
    "                model.add(Conv1D(filters=nchan_out,\n",
    "                             kernel_size=kernel_size, padding=\"same\",name='conv5' ))\n",
    "                model.add(BatchNormalization())\n",
    "                model.add(Activation(\"relu\"))\n",
    "                model.add(AveragePooling1D(pool_size=(2,)))\n",
    "\n",
    "    model.add(BatchNormalization())\n",
    "    model.add(Flatten())\n",
    "    model.add(Dense(64, activation='relu'))\n",
    "    model.add(BatchNormalization())\n",
    "    #what activation should be chosen for last layer, for regression problem? should be a linear function\n",
    "    model.add(Dense(5, activation='linear')) #output layer that corresponds to the 5 physical parameters.\n",
    "\n",
    "\n",
    "    # Compile the model\n",
    "    model.compile(loss='mse', optimizer='adam', metrics=['mse'])\n",
    "    \n",
    "    #print(model.summary())\n",
    "    return model"
   ]
  },
  {
   "cell_type": "code",
   "execution_count": 4,
   "metadata": {},
   "outputs": [],
   "source": [
    "J = 8\n",
    "Q = 1\n",
    "order = 2\n",
    "pkl_path = '/scratch/hh2263/drum_data/han2020fa_sc-pkl/scattering_J-08_Q-01_order2_fold-train.pkl'\n",
    "pkl_file = open(pkl_path, 'rb')\n",
    "Sy_train,y_train = pickle.load(pkl_file) \n",
    "\n",
    "pkl_path_val = '/scratch/hh2263/drum_data/han2020fa_sc-pkl/scattering_J-08_Q-01_order2_fold-val.pkl'\n",
    "pkl_val = open(pkl_path_val,'rb')\n",
    "Sy_val,y_val = pickle.load(pkl_val)\n",
    "#Sy_val = Sy_val.reshape((Sy_val.shape[2],Sy_val.shape[0],Sy_val.shape[1]))\n",
    "\n",
    "pkl_path_test = \"/scratch/hh2263/drum_data/han2020fa_sc-pkl/scattering_J-08_Q-01_order2_fold-test.pkl\"\n",
    "pkl_test = open(pkl_path_test,'rb')\n",
    "Sy_test,y_test = pickle.load(pkl_test)"
   ]
  },
  {
   "cell_type": "code",
   "execution_count": 5,
   "metadata": {},
   "outputs": [],
   "source": [
    "#fix everybody's physical parameters first (p and D should be log)\n",
    "#print(np.log10(y_train[0,3]),y_train[0,3])\n",
    "import math\n",
    "for idx in range(2,4):\n",
    "    y_train[:,idx] = [math.log10(i) for i in y_train[:,idx]]\n",
    "    y_test[:,idx] = [math.log10(i) for i in y_test[:,idx]]\n",
    "    y_val[:,idx] = [math.log10(i) for i in y_val[:,idx]]"
   ]
  },
  {
   "cell_type": "code",
   "execution_count": 6,
   "metadata": {},
   "outputs": [],
   "source": [
    "df_train = pd.read_csv(\"./train_param.csv\")\n",
    "df_test = pd.read_csv(\"./test_param.csv\")\n",
    "df_val = pd.read_csv(\"./val_param.csv\")\n",
    "df_full = pd.read_csv(\"./diffshapes_param.csv\")\n",
    "\n",
    "# normalization of the physical parameters\n",
    "params = df_train.values[:,1:-1]\n",
    "for idx in range(2,4):\n",
    "    params[:,idx] = [math.log10(i) for i in params[:,idx]]\n",
    "\n",
    "scaler = MinMaxScaler()\n",
    "scaler.fit(params)\n",
    "\n",
    "#normalize training and validation set\n",
    "y_train_normalized = scaler.transform(y_train)\n",
    "y_val_normalized = scaler.transform(y_val)\n",
    "y_test_normalized = scaler.transform(y_test)"
   ]
  },
  {
   "cell_type": "code",
   "execution_count": 7,
   "metadata": {},
   "outputs": [],
   "source": [
    "input_x = Sy_train.shape[1]\n",
    "input_y = Sy_train.shape[2]"
   ]
  },
  {
   "cell_type": "code",
   "execution_count": null,
   "metadata": {},
   "outputs": [],
   "source": []
  },
  {
   "cell_type": "code",
   "execution_count": 8,
   "metadata": {},
   "outputs": [],
   "source": [
    "Sy_train_log2 = np.log1p(((Sy_train>0)*Sy_train)/1e-11)\n",
    "Sy_val_log2 = np.log1p(((Sy_val>0)*Sy_val)/1e-11)\n",
    "Sy_test_log2 = np.log1p((Sy_test>0)*Sy_test/1e-11)"
   ]
  },
  {
   "cell_type": "code",
   "execution_count": 29,
   "metadata": {
    "scrolled": true
   },
   "outputs": [
    {
     "name": "stdout",
     "output_type": "stream",
     "text": [
      "24.584995 -0.0\n"
     ]
    }
   ],
   "source": [
    "print(np.max(np.max(np.max(Sy_train_log2))),np.min(np.min(np.min(Sy_train_log2))))"
   ]
  },
  {
   "cell_type": "code",
   "execution_count": 9,
   "metadata": {},
   "outputs": [
    {
     "data": {
      "text/plain": [
       "(7776, 128, 43)"
      ]
     },
     "execution_count": 9,
     "metadata": {},
     "output_type": "execute_result"
    }
   ],
   "source": [
    "Sy_val_log2.shape"
   ]
  },
  {
   "cell_type": "code",
   "execution_count": 10,
   "metadata": {},
   "outputs": [
    {
     "data": {
      "text/plain": [
       "(array([ 16.,  45.,  90.,  91.,  50.,  10.,   6.,  13.,  22.,  37.,  73.,\n",
       "        102., 159., 227., 212., 199., 188., 130., 137., 131., 208., 214.,\n",
       "        235., 184., 192., 245., 351., 460., 530., 492., 451., 313., 243.,\n",
       "        192., 159., 135., 201., 212., 222., 226., 185., 125., 130., 135.,\n",
       "        192., 161., 134.,  73.,  95.,  76., 132., 167., 142.,  98.,  47.,\n",
       "         47.,  87., 159., 221., 228., 126.,  97., 130., 121.,  81.,  94.,\n",
       "         81.,  53.,  22.,  13.,  11.,  32.,  36.,  67., 121., 153., 120.,\n",
       "         84.,  88.,  66.,  27.,   1.,   1.,  35.,  56.,  80.,  95.,  32.,\n",
       "          0.,   0.,   0.,  37.,  82., 109., 161., 224.,  95.,  75.,  83.,\n",
       "         31.]),\n",
       " array([11.785914 , 11.9023075, 12.018701 , 12.135095 , 12.251488 ,\n",
       "        12.367881 , 12.484274 , 12.600667 , 12.717061 , 12.833454 ,\n",
       "        12.949847 , 13.06624  , 13.182633 , 13.2990265, 13.415421 ,\n",
       "        13.531814 , 13.648207 , 13.7646   , 13.880993 , 13.997387 ,\n",
       "        14.11378  , 14.230173 , 14.346566 , 14.462959 , 14.579353 ,\n",
       "        14.695746 , 14.8121395, 14.928533 , 15.044926 , 15.16132  ,\n",
       "        15.277713 , 15.394106 , 15.510499 , 15.626892 , 15.743285 ,\n",
       "        15.859679 , 15.976072 , 16.092466 , 16.208858 , 16.325253 ,\n",
       "        16.441645 , 16.558039 , 16.67443  , 16.790825 , 16.907219 ,\n",
       "        17.023611 , 17.140005 , 17.256397 , 17.372791 , 17.489185 ,\n",
       "        17.605577 , 17.721972 , 17.838364 , 17.954758 , 18.071152 ,\n",
       "        18.187544 , 18.303938 , 18.42033  , 18.536724 , 18.653118 ,\n",
       "        18.76951  , 18.885904 , 19.002296 , 19.11869  , 19.235085 ,\n",
       "        19.351477 , 19.46787  , 19.584263 , 19.700657 , 19.81705  ,\n",
       "        19.933443 , 20.049837 , 20.16623  , 20.282623 , 20.399017 ,\n",
       "        20.51541  , 20.631804 , 20.748196 , 20.86459  , 20.980984 ,\n",
       "        21.097376 , 21.21377  , 21.330162 , 21.446556 , 21.562948 ,\n",
       "        21.679342 , 21.795736 , 21.912128 , 22.028522 , 22.144915 ,\n",
       "        22.261309 , 22.377703 , 22.494095 , 22.610489 , 22.726881 ,\n",
       "        22.843275 , 22.95967  , 23.076061 , 23.192455 , 23.308847 ,\n",
       "        23.425241 ], dtype=float32),\n",
       " <a list of 100 Patch objects>)"
      ]
     },
     "execution_count": 10,
     "metadata": {},
     "output_type": "execute_result"
    },
    {
     "data": {
      "image/png": "[encoded data removed]",
      "text/plain": [
       "<Figure size 432x288 with 1 Axes>"
      ]
     },
     "metadata": {
      "needs_background": "light"
     },
     "output_type": "display_data"
    }
   ],
   "source": [
    "plt.hist(np.ndarray.flatten(Sy_val_log2[1:300,1,:]),100)"
   ]
  },
  {
   "cell_type": "code",
   "execution_count": 53,
   "metadata": {
    "scrolled": true
   },
   "outputs": [
    {
     "name": "stdout",
     "output_type": "stream",
     "text": [
      "Train on 3200 samples, validate on 7776 samples\n",
      "3200/3200 - 3s - loss: 0.3232 - mean_squared_error: 0.3232 - val_loss: 0.0982 - val_mean_squared_error: 0.0982\n",
      "Train on 3200 samples, validate on 7776 samples\n",
      "3200/3200 - 2s - loss: 0.0766 - mean_squared_error: 0.0766 - val_loss: 0.0965 - val_mean_squared_error: 0.0965\n",
      "Train on 3200 samples, validate on 7776 samples\n",
      "3200/3200 - 2s - loss: 0.0637 - mean_squared_error: 0.0637 - val_loss: 0.0656 - val_mean_squared_error: 0.0656\n",
      "Train on 3200 samples, validate on 7776 samples\n",
      "3200/3200 - 2s - loss: 0.0602 - mean_squared_error: 0.0602 - val_loss: 0.0322 - val_mean_squared_error: 0.0322\n",
      "Train on 3200 samples, validate on 7776 samples\n",
      "3200/3200 - 2s - loss: 0.0561 - mean_squared_error: 0.0561 - val_loss: 0.0450 - val_mean_squared_error: 0.0450\n",
      "Train on 3200 samples, validate on 7776 samples\n",
      "3200/3200 - 2s - loss: 0.0538 - mean_squared_error: 0.0538 - val_loss: 0.0277 - val_mean_squared_error: 0.0277\n",
      "Train on 3200 samples, validate on 7776 samples\n",
      "3200/3200 - 2s - loss: 0.0515 - mean_squared_error: 0.0515 - val_loss: 0.0418 - val_mean_squared_error: 0.0418\n",
      "Train on 3200 samples, validate on 7776 samples\n",
      "3200/3200 - 2s - loss: 0.0511 - mean_squared_error: 0.0511 - val_loss: 0.0409 - val_mean_squared_error: 0.0409\n",
      "Train on 3200 samples, validate on 7776 samples\n",
      "3200/3200 - 2s - loss: 0.0488 - mean_squared_error: 0.0488 - val_loss: 0.0251 - val_mean_squared_error: 0.0251\n",
      "Train on 3200 samples, validate on 7776 samples\n",
      "3200/3200 - 2s - loss: 0.0455 - mean_squared_error: 0.0455 - val_loss: 0.0229 - val_mean_squared_error: 0.0229\n",
      "Train on 3200 samples, validate on 7776 samples\n",
      "3200/3200 - 2s - loss: 0.0458 - mean_squared_error: 0.0458 - val_loss: 0.0349 - val_mean_squared_error: 0.0349\n",
      "Train on 3200 samples, validate on 7776 samples\n",
      "3200/3200 - 2s - loss: 0.0451 - mean_squared_error: 0.0451 - val_loss: 0.0180 - val_mean_squared_error: 0.0180\n",
      "Train on 3200 samples, validate on 7776 samples\n",
      "3200/3200 - 2s - loss: 0.0448 - mean_squared_error: 0.0448 - val_loss: 0.0291 - val_mean_squared_error: 0.0291\n",
      "Train on 3200 samples, validate on 7776 samples\n",
      "3200/3200 - 2s - loss: 0.0433 - mean_squared_error: 0.0433 - val_loss: 0.0541 - val_mean_squared_error: 0.0541\n",
      "Train on 3200 samples, validate on 7776 samples\n",
      "3200/3200 - 2s - loss: 0.0410 - mean_squared_error: 0.0410 - val_loss: 0.0372 - val_mean_squared_error: 0.0372\n",
      "Train on 3200 samples, validate on 7776 samples\n",
      "3200/3200 - 2s - loss: 0.0414 - mean_squared_error: 0.0414 - val_loss: 0.0249 - val_mean_squared_error: 0.0249\n",
      "Train on 3200 samples, validate on 7776 samples\n",
      "3200/3200 - 2s - loss: 0.0401 - mean_squared_error: 0.0401 - val_loss: 0.0213 - val_mean_squared_error: 0.0213\n",
      "Train on 3200 samples, validate on 7776 samples\n",
      "3200/3200 - 2s - loss: 0.0402 - mean_squared_error: 0.0402 - val_loss: 0.0283 - val_mean_squared_error: 0.0283\n",
      "Train on 3200 samples, validate on 7776 samples\n",
      "3200/3200 - 2s - loss: 0.0388 - mean_squared_error: 0.0388 - val_loss: 0.0212 - val_mean_squared_error: 0.0212\n",
      "Train on 3200 samples, validate on 7776 samples\n",
      "3200/3200 - 2s - loss: 0.0396 - mean_squared_error: 0.0396 - val_loss: 0.0313 - val_mean_squared_error: 0.0313\n",
      "Train on 3200 samples, validate on 7776 samples\n",
      "3200/3200 - 2s - loss: 0.0390 - mean_squared_error: 0.0390 - val_loss: 0.0348 - val_mean_squared_error: 0.0348\n",
      "Train on 3200 samples, validate on 7776 samples\n",
      "3200/3200 - 2s - loss: 0.0389 - mean_squared_error: 0.0389 - val_loss: 0.1144 - val_mean_squared_error: 0.1144\n",
      "Train on 3200 samples, validate on 7776 samples\n",
      "3200/3200 - 2s - loss: 0.0382 - mean_squared_error: 0.0382 - val_loss: 0.0188 - val_mean_squared_error: 0.0188\n",
      "Train on 3200 samples, validate on 7776 samples\n",
      "3200/3200 - 2s - loss: 0.0369 - mean_squared_error: 0.0369 - val_loss: 0.0189 - val_mean_squared_error: 0.0189\n",
      "Train on 3200 samples, validate on 7776 samples\n",
      "3200/3200 - 2s - loss: 0.0364 - mean_squared_error: 0.0364 - val_loss: 0.0342 - val_mean_squared_error: 0.0342\n",
      "Train on 3200 samples, validate on 7776 samples\n",
      "3200/3200 - 2s - loss: 0.0360 - mean_squared_error: 0.0360 - val_loss: 0.0245 - val_mean_squared_error: 0.0245\n",
      "Train on 3200 samples, validate on 7776 samples\n",
      "3200/3200 - 2s - loss: 0.0363 - mean_squared_error: 0.0363 - val_loss: 0.0215 - val_mean_squared_error: 0.0215\n",
      "Train on 3200 samples, validate on 7776 samples\n",
      "3200/3200 - 2s - loss: 0.0350 - mean_squared_error: 0.0350 - val_loss: 0.0175 - val_mean_squared_error: 0.0175\n",
      "Train on 3200 samples, validate on 7776 samples\n",
      "3200/3200 - 2s - loss: 0.0354 - mean_squared_error: 0.0354 - val_loss: 0.0264 - val_mean_squared_error: 0.0264\n",
      "Train on 3200 samples, validate on 7776 samples\n",
      "3200/3200 - 2s - loss: 0.0343 - mean_squared_error: 0.0343 - val_loss: 0.0157 - val_mean_squared_error: 0.0157\n",
      "Train on 3200 samples, validate on 7776 samples\n",
      "3200/3200 - 2s - loss: 0.0343 - mean_squared_error: 0.0343 - val_loss: 0.0227 - val_mean_squared_error: 0.0227\n",
      "Train on 3200 samples, validate on 7776 samples\n",
      "3200/3200 - 2s - loss: 0.0337 - mean_squared_error: 0.0337 - val_loss: 0.0395 - val_mean_squared_error: 0.0395\n",
      "Train on 3200 samples, validate on 7776 samples\n",
      "3200/3200 - 2s - loss: 0.0343 - mean_squared_error: 0.0343 - val_loss: 0.0265 - val_mean_squared_error: 0.0265\n",
      "Train on 3200 samples, validate on 7776 samples\n",
      "3200/3200 - 2s - loss: 0.0338 - mean_squared_error: 0.0338 - val_loss: 0.0218 - val_mean_squared_error: 0.0218\n",
      "Train on 3200 samples, validate on 7776 samples\n",
      "3200/3200 - 2s - loss: 0.0333 - mean_squared_error: 0.0333 - val_loss: 0.0645 - val_mean_squared_error: 0.0645\n",
      "Train on 3200 samples, validate on 7776 samples\n",
      "3200/3200 - 2s - loss: 0.0331 - mean_squared_error: 0.0331 - val_loss: 0.0180 - val_mean_squared_error: 0.0180\n",
      "Train on 3200 samples, validate on 7776 samples\n",
      "3200/3200 - 2s - loss: 0.0327 - mean_squared_error: 0.0327 - val_loss: 0.0165 - val_mean_squared_error: 0.0165\n",
      "Train on 3200 samples, validate on 7776 samples\n",
      "3200/3200 - 2s - loss: 0.0322 - mean_squared_error: 0.0322 - val_loss: 0.0146 - val_mean_squared_error: 0.0146\n",
      "Train on 3200 samples, validate on 7776 samples\n",
      "3200/3200 - 2s - loss: 0.0322 - mean_squared_error: 0.0322 - val_loss: 0.0275 - val_mean_squared_error: 0.0275\n",
      "Train on 3200 samples, validate on 7776 samples\n",
      "3200/3200 - 2s - loss: 0.0325 - mean_squared_error: 0.0325 - val_loss: 0.0138 - val_mean_squared_error: 0.0138\n",
      "Train on 3200 samples, validate on 7776 samples\n",
      "3200/3200 - 2s - loss: 0.0321 - mean_squared_error: 0.0321 - val_loss: 0.0137 - val_mean_squared_error: 0.0137\n",
      "Train on 3200 samples, validate on 7776 samples\n",
      "3200/3200 - 2s - loss: 0.0329 - mean_squared_error: 0.0329 - val_loss: 0.0187 - val_mean_squared_error: 0.0187\n",
      "Train on 3200 samples, validate on 7776 samples\n",
      "3200/3200 - 2s - loss: 0.0314 - mean_squared_error: 0.0314 - val_loss: 0.0250 - val_mean_squared_error: 0.0250\n",
      "Train on 3200 samples, validate on 7776 samples\n",
      "3200/3200 - 2s - loss: 0.0306 - mean_squared_error: 0.0306 - val_loss: 0.0319 - val_mean_squared_error: 0.0319\n",
      "Train on 3200 samples, validate on 7776 samples\n",
      "3200/3200 - 2s - loss: 0.0316 - mean_squared_error: 0.0316 - val_loss: 0.0381 - val_mean_squared_error: 0.0381\n",
      "Train on 3200 samples, validate on 7776 samples\n",
      "3200/3200 - 2s - loss: 0.0320 - mean_squared_error: 0.0320 - val_loss: 0.0180 - val_mean_squared_error: 0.0180\n",
      "Train on 3200 samples, validate on 7776 samples\n",
      "3200/3200 - 2s - loss: 0.0305 - mean_squared_error: 0.0305 - val_loss: 0.0365 - val_mean_squared_error: 0.0365\n",
      "Train on 3200 samples, validate on 7776 samples\n",
      "3200/3200 - 2s - loss: 0.0302 - mean_squared_error: 0.0302 - val_loss: 0.0390 - val_mean_squared_error: 0.0390\n",
      "Train on 3200 samples, validate on 7776 samples\n",
      "3200/3200 - 2s - loss: 0.0303 - mean_squared_error: 0.0303 - val_loss: 0.0638 - val_mean_squared_error: 0.0638\n",
      "Train on 3200 samples, validate on 7776 samples\n",
      "3200/3200 - 2s - loss: 0.0311 - mean_squared_error: 0.0311 - val_loss: 0.0192 - val_mean_squared_error: 0.0192\n",
      "Train on 3200 samples, validate on 7776 samples\n",
      "3200/3200 - 2s - loss: 0.0289 - mean_squared_error: 0.0289 - val_loss: 0.0274 - val_mean_squared_error: 0.0274\n",
      "Train on 3200 samples, validate on 7776 samples\n",
      "3200/3200 - 2s - loss: 0.0313 - mean_squared_error: 0.0313 - val_loss: 0.0237 - val_mean_squared_error: 0.0237\n"
     ]
    },
    {
     "name": "stdout",
     "output_type": "stream",
     "text": [
      "Train on 3200 samples, validate on 7776 samples\n",
      "3200/3200 - 2s - loss: 0.0310 - mean_squared_error: 0.0310 - val_loss: 0.0335 - val_mean_squared_error: 0.0335\n",
      "Train on 3200 samples, validate on 7776 samples\n",
      "3200/3200 - 2s - loss: 0.0291 - mean_squared_error: 0.0291 - val_loss: 0.0347 - val_mean_squared_error: 0.0347\n",
      "Train on 3200 samples, validate on 7776 samples\n",
      "3200/3200 - 2s - loss: 0.0303 - mean_squared_error: 0.0303 - val_loss: 0.0205 - val_mean_squared_error: 0.0205\n",
      "Train on 3200 samples, validate on 7776 samples\n",
      "3200/3200 - 2s - loss: 0.0296 - mean_squared_error: 0.0296 - val_loss: 0.0131 - val_mean_squared_error: 0.0131\n",
      "Train on 3200 samples, validate on 7776 samples\n",
      "3200/3200 - 2s - loss: 0.0295 - mean_squared_error: 0.0295 - val_loss: 0.1921 - val_mean_squared_error: 0.1921\n",
      "Train on 3200 samples, validate on 7776 samples\n",
      "3200/3200 - 2s - loss: 0.0299 - mean_squared_error: 0.0299 - val_loss: 0.0394 - val_mean_squared_error: 0.0394\n",
      "Train on 3200 samples, validate on 7776 samples\n",
      "3200/3200 - 2s - loss: 0.0295 - mean_squared_error: 0.0295 - val_loss: 0.0317 - val_mean_squared_error: 0.0317\n",
      "Train on 3200 samples, validate on 7776 samples\n",
      "3200/3200 - 2s - loss: 0.0280 - mean_squared_error: 0.0280 - val_loss: 0.0186 - val_mean_squared_error: 0.0186\n",
      "Train on 3200 samples, validate on 7776 samples\n",
      "3200/3200 - 2s - loss: 0.0295 - mean_squared_error: 0.0295 - val_loss: 0.0460 - val_mean_squared_error: 0.0460\n",
      "Train on 3200 samples, validate on 7776 samples\n",
      "3200/3200 - 2s - loss: 0.0289 - mean_squared_error: 0.0289 - val_loss: 0.0683 - val_mean_squared_error: 0.0683\n",
      "Train on 3200 samples, validate on 7776 samples\n",
      "3200/3200 - 2s - loss: 0.0287 - mean_squared_error: 0.0287 - val_loss: 0.0358 - val_mean_squared_error: 0.0358\n",
      "Train on 3200 samples, validate on 7776 samples\n",
      "3200/3200 - 2s - loss: 0.0285 - mean_squared_error: 0.0285 - val_loss: 0.0157 - val_mean_squared_error: 0.0157\n",
      "Train on 3200 samples, validate on 7776 samples\n",
      "3200/3200 - 2s - loss: 0.0282 - mean_squared_error: 0.0282 - val_loss: 0.1745 - val_mean_squared_error: 0.1745\n",
      "Train on 3200 samples, validate on 7776 samples\n",
      "3200/3200 - 2s - loss: 0.0286 - mean_squared_error: 0.0286 - val_loss: 0.0390 - val_mean_squared_error: 0.0390\n",
      "Train on 3200 samples, validate on 7776 samples\n",
      "3200/3200 - 2s - loss: 0.0282 - mean_squared_error: 0.0282 - val_loss: 0.0337 - val_mean_squared_error: 0.0337\n",
      "Train on 3200 samples, validate on 7776 samples\n",
      "3200/3200 - 2s - loss: 0.0288 - mean_squared_error: 0.0288 - val_loss: 0.0178 - val_mean_squared_error: 0.0178\n",
      "Train on 3200 samples, validate on 7776 samples\n",
      "3200/3200 - 2s - loss: 0.0269 - mean_squared_error: 0.0269 - val_loss: 0.0212 - val_mean_squared_error: 0.0212\n",
      "Train on 3200 samples, validate on 7776 samples\n",
      "3200/3200 - 2s - loss: 0.0275 - mean_squared_error: 0.0275 - val_loss: 0.0240 - val_mean_squared_error: 0.0240\n",
      "Train on 3200 samples, validate on 7776 samples\n",
      "3200/3200 - 2s - loss: 0.0284 - mean_squared_error: 0.0284 - val_loss: 0.0277 - val_mean_squared_error: 0.0277\n",
      "Train on 3200 samples, validate on 7776 samples\n",
      "3200/3200 - 2s - loss: 0.0281 - mean_squared_error: 0.0281 - val_loss: 0.0504 - val_mean_squared_error: 0.0504\n",
      "Train on 3200 samples, validate on 7776 samples\n",
      "3200/3200 - 2s - loss: 0.0280 - mean_squared_error: 0.0280 - val_loss: 0.0274 - val_mean_squared_error: 0.0274\n",
      "Train on 3200 samples, validate on 7776 samples\n",
      "3200/3200 - 2s - loss: 0.0291 - mean_squared_error: 0.0291 - val_loss: 0.0398 - val_mean_squared_error: 0.0398\n",
      "Train on 3200 samples, validate on 7776 samples\n",
      "3200/3200 - 2s - loss: 0.0282 - mean_squared_error: 0.0282 - val_loss: 0.0279 - val_mean_squared_error: 0.0279\n",
      "Train on 3200 samples, validate on 7776 samples\n",
      "3200/3200 - 2s - loss: 0.0279 - mean_squared_error: 0.0279 - val_loss: 0.0402 - val_mean_squared_error: 0.0402\n",
      "Train on 3200 samples, validate on 7776 samples\n",
      "3200/3200 - 2s - loss: 0.0279 - mean_squared_error: 0.0279 - val_loss: 0.0187 - val_mean_squared_error: 0.0187\n",
      "Train on 3200 samples, validate on 7776 samples\n",
      "3200/3200 - 2s - loss: 0.0267 - mean_squared_error: 0.0267 - val_loss: 0.0121 - val_mean_squared_error: 0.0121\n",
      "Train on 3200 samples, validate on 7776 samples\n",
      "3200/3200 - 2s - loss: 0.0266 - mean_squared_error: 0.0266 - val_loss: 0.0284 - val_mean_squared_error: 0.0284\n",
      "Train on 3200 samples, validate on 7776 samples\n",
      "3200/3200 - 2s - loss: 0.0272 - mean_squared_error: 0.0272 - val_loss: 0.0252 - val_mean_squared_error: 0.0252\n"
     ]
    }
   ],
   "source": [
    "trial_dir = \"../output/nonlinear_test2/\"\n",
    "best_validation_loss = np.inf\n",
    "n = Sy_train.shape[0]\n",
    "steps_per_epoch = 100\n",
    "bs = 32\n",
    "m = bs*steps_per_epoch\n",
    "idx = np.arange(0,n,1)\n",
    "val_loss=[]\n",
    "model=create_model(J,Q,order,input_x,input_y,k_size=8,layer_size=4,nchan_out=16)\n",
    "for epoch in range(80):\n",
    "    np.random.shuffle(idx)\n",
    "    Sy_temp = Sy_train_log2[idx[:m],:,:]\n",
    "    y_temp = y_train_normalized[idx[:m],:]\n",
    "    \n",
    "    hist = model.fit(Sy_temp,\n",
    "                y_temp,\n",
    "                epochs=1,\n",
    "                verbose=2,\n",
    "                batch_size=bs,\n",
    "                validation_data = (Sy_val_log2,y_val_normalized),\n",
    "                use_multiprocessing=False)\n",
    "    validation_loss = hist.history['val_loss'][0]\n",
    "    val_loss.append(validation_loss)\n",
    "    if validation_loss < best_validation_loss:\n",
    "        best_validation_loss = validation_loss\n",
    "        epoch_str = \"epoch-\" + str(epoch).zfill(3)\n",
    "        epoch_network_path = os.path.join(\n",
    "           trial_dir, \"_\".join([\"j8o2\", epoch_str]) + \"-log2.h5\")\n",
    "        model.save(epoch_network_path)\n",
    "        "
   ]
  },
  {
   "cell_type": "code",
   "execution_count": 32,
   "metadata": {},
   "outputs": [
    {
     "name": "stdout",
     "output_type": "stream",
     "text": [
      "[0.13351093 0.94689495 0.7847013  0.79656343 0.28849735] [[-0.11454172  0.7541124   0.5277499   0.5947709   0.33286726]]\n"
     ]
    }
   ],
   "source": [
    "i=1200\n",
    "original = y_test_normalized[i,:]\n",
    "Sx = Sy_test_log2[i,:,:]\n",
    "recovered = model.predict(Sx.reshape((1,128,43)))\n",
    "print(original,recovered)"
   ]
  },
  {
   "cell_type": "code",
   "execution_count": 43,
   "metadata": {},
   "outputs": [
    {
     "name": "stdout",
     "output_type": "stream",
     "text": [
      "[0.07411863 0.84310174 0.55710213 0.29067493 0.91585758] [[0.50843346 0.4044962  0.436315   0.616282   0.67034876]]\n"
     ]
    }
   ],
   "source": [
    "print(original,recovered)"
   ]
  },
  {
   "cell_type": "code",
   "execution_count": null,
   "metadata": {},
   "outputs": [],
   "source": []
  },
  {
   "cell_type": "code",
   "execution_count": null,
   "metadata": {},
   "outputs": [],
   "source": []
  },
  {
   "cell_type": "code",
   "execution_count": 54,
   "metadata": {},
   "outputs": [],
   "source": [
    "model2=create_model(J,Q,order,input_x,input_y,k_size=8,layer_size=4,nchan_out=16)\n",
    "model2.load_weights(\"../output/nonlinear_test2/j8o2_epoch-077-log2.h5\")"
   ]
  },
  {
   "cell_type": "markdown",
   "metadata": {},
   "source": [
    "## best model so far is batch 32 step size 100 for 77 epochs\n",
    "how is it doing on each physical parameter?\n",
    "\n",
    "according to ground truth labels, all parameters are uniformly distributed"
   ]
  },
  {
   "cell_type": "code",
   "execution_count": 72,
   "metadata": {},
   "outputs": [
    {
     "data": {
      "text/plain": [
       "(array([787., 769., 790., 802., 739., 767., 776., 796., 781., 769.]),\n",
       " array([0.2000408 , 0.26000927, 0.31997775, 0.37994622, 0.4399147 ,\n",
       "        0.49988317, 0.55985165, 0.61982012, 0.67978859, 0.73975707,\n",
       "        0.79972554]),\n",
       " <a list of 10 Patch objects>)"
      ]
     },
     "execution_count": 72,
     "metadata": {},
     "output_type": "execute_result"
    },
    {
     "data": {
      "image/png": "[encoded data removed]",
      "text/plain": [
       "<Figure size 432x288 with 1 Axes>"
      ]
     },
     "metadata": {
      "needs_background": "light"
     },
     "output_type": "display_data"
    }
   ],
   "source": []
  },
  {
   "cell_type": "code",
   "execution_count": 74,
   "metadata": {},
   "outputs": [
    {
     "name": "stdout",
     "output_type": "stream",
     "text": [
      "[[1, 2, 3], [1, 2, 3]]\n"
     ]
    }
   ],
   "source": [
    "b = []\n",
    "a = [1,2,3]\n",
    "b.append(a)\n",
    "b.append(a)\n",
    "np.stack(b)\n",
    "print(b)"
   ]
  },
  {
   "cell_type": "code",
   "execution_count": 84,
   "metadata": {},
   "outputs": [],
   "source": [
    "diff = []\n",
    "for i in range(2000):\n",
    "    original = y_train_normalized[i,:]\n",
    "    Sx = Sy_train_log2[i,:,:]\n",
    "    recovered = model2.predict(Sx.reshape((1,128,43)))\n",
    "    diff.append(recovered-original)\n",
    "diff_stacked = np.stack(np.abs(diff))"
   ]
  },
  {
   "cell_type": "markdown",
   "metadata": {},
   "source": [
    "how does each physcial parameter error looks like\""
   ]
  },
  {
   "cell_type": "code",
   "execution_count": 85,
   "metadata": {},
   "outputs": [
    {
     "data": {
      "text/plain": [
       "(2000, 1, 5)"
      ]
     },
     "execution_count": 85,
     "metadata": {},
     "output_type": "execute_result"
    }
   ],
   "source": [
    "diff_stacked.shape"
   ]
  },
  {
   "cell_type": "code",
   "execution_count": 88,
   "metadata": {},
   "outputs": [
    {
     "data": {
      "text/plain": [
       "<matplotlib.legend.Legend at 0x2b641b8b6bd0>"
      ]
     },
     "execution_count": 88,
     "metadata": {},
     "output_type": "execute_result"
    },
    {
     "data": {
      "image/png": "[encoded data removed]",
      "text/plain": [
       "<Figure size 432x288 with 1 Axes>"
      ]
     },
     "metadata": {
      "needs_background": "light"
     },
     "output_type": "display_data"
    }
   ],
   "source": [
    "plt.hist(diff_stacked[:,0,:],20)\n",
    "plt.legend(['omega','tau','p','D','alpha'])"
   ]
  },
  {
   "cell_type": "code",
   "execution_count": 80,
   "metadata": {},
   "outputs": [
    {
     "data": {
      "text/plain": [
       "(array([322., 221., 156., 119.,  73.,  49.,  28.,  23.,   6.,   3.]),\n",
       " array([6.52339268e-05, 6.26760694e-02, 1.25286905e-01, 1.87897740e-01,\n",
       "        2.50508576e-01, 3.13119411e-01, 3.75730247e-01, 4.38341082e-01,\n",
       "        5.00951917e-01, 5.63562753e-01, 6.26173588e-01]),\n",
       " <a list of 10 Patch objects>)"
      ]
     },
     "execution_count": 80,
     "metadata": {},
     "output_type": "execute_result"
    },
    {
     "data": {
      "image/png": "[encoded data removed]",
      "text/plain": [
       "<Figure size 432x288 with 1 Axes>"
      ]
     },
     "metadata": {
      "needs_background": "light"
     },
     "output_type": "display_data"
    }
   ],
   "source": [
    "plt.hist(diff_stacked[:,0,2])"
   ]
  },
  {
   "cell_type": "code",
   "execution_count": null,
   "metadata": {},
   "outputs": [],
   "source": []
  },
  {
   "cell_type": "code",
   "execution_count": 65,
   "metadata": {},
   "outputs": [
    {
     "name": "stdout",
     "output_type": "stream",
     "text": [
      "[0.91303774 0.93262884 0.77100404 0.29490739 0.30083545] [[0.86738974 0.94374514 0.77592707 0.34002268 0.35929015]]\n"
     ]
    }
   ],
   "source": [
    "i=1199\n",
    "original = y_train_normalized[i,:]\n",
    "Sx = Sy_train_log2[i,:,:]\n",
    "recovered = model2.predict(Sx.reshape((1,128,43)))\n",
    "print(original,recovered)"
   ]
  },
  {
   "cell_type": "code",
   "execution_count": 57,
   "metadata": {},
   "outputs": [
    {
     "name": "stdout",
     "output_type": "stream",
     "text": [
      "10000/10000 [==============================] - 1s 123us/sample - loss: 0.0314 - mean_squared_error: 0.0314\n"
     ]
    },
    {
     "data": {
      "text/plain": [
       "[0.031431474763154985, 0.031431478]"
      ]
     },
     "execution_count": 57,
     "metadata": {},
     "output_type": "execute_result"
    }
   ],
   "source": [
    "model2.evaluate(Sy_test_log2,y_test_normalized)"
   ]
  },
  {
   "cell_type": "code",
   "execution_count": 58,
   "metadata": {},
   "outputs": [
    {
     "name": "stdout",
     "output_type": "stream",
     "text": [
      "82224/82224 [==============================] - 9s 110us/sample - loss: 0.0315 - mean_squared_error: 0.0315\n"
     ]
    },
    {
     "data": {
      "text/plain": [
       "[0.031536917375245895, 0.031536873]"
      ]
     },
     "execution_count": 58,
     "metadata": {},
     "output_type": "execute_result"
    }
   ],
   "source": [
    "model2.evaluate(Sy_train_log2,y_train_normalized)"
   ]
  },
  {
   "cell_type": "code",
   "execution_count": 59,
   "metadata": {},
   "outputs": [
    {
     "name": "stdout",
     "output_type": "stream",
     "text": [
      "7776/7776 [==============================] - 1s 111us/sample - loss: 0.0121 - mean_squared_error: 0.0121\n"
     ]
    },
    {
     "data": {
      "text/plain": [
       "[0.01209811591294138, 0.012098117]"
      ]
     },
     "execution_count": 59,
     "metadata": {},
     "output_type": "execute_result"
    }
   ],
   "source": [
    "model2.evaluate(Sy_val_log2,y_val_normalized)"
   ]
  },
  {
   "cell_type": "code",
   "execution_count": 25,
   "metadata": {},
   "outputs": [
    {
     "name": "stdout",
     "output_type": "stream",
     "text": [
      "[0.18508676 0.15778566 0.83393416 0.6973833  0.38978658] [array([[ 0.12924188, -0.01282368, -0.01827345,  0.00709136,  0.1449491 ]],\n",
      "      dtype=float32), array([[ 0.16703765,  0.03420937, -0.01650573,  0.03284939,  0.15856506]],\n",
      "      dtype=float32), array([[0.17951101, 0.15352775, 0.00698536, 0.03333293, 0.1192532 ]],\n",
      "      dtype=float32), array([[0.19032335, 0.23737423, 0.06644126, 0.04796477, 0.10021573]],\n",
      "      dtype=float32), array([[0.22111303, 0.30277777, 0.05979192, 0.08614463, 0.09556869]],\n",
      "      dtype=float32), array([[0.23447618, 0.36542296, 0.0795739 , 0.09382316, 0.08278787]],\n",
      "      dtype=float32), array([[0.25511226, 0.4268223 , 0.1088834 , 0.15652221, 0.12793535]],\n",
      "      dtype=float32), array([[0.28713715, 0.4589598 , 0.11357147, 0.2260835 , 0.17895496]],\n",
      "      dtype=float32), array([[0.33276492, 0.48091692, 0.13084042, 0.31558216, 0.27293137]],\n",
      "      dtype=float32), array([[0.34118453, 0.5241515 , 0.18215108, 0.34584472, 0.27927658]],\n",
      "      dtype=float32), array([[0.36649236, 0.5591934 , 0.2198237 , 0.35408255, 0.29430228]],\n",
      "      dtype=float32), array([[0.406414  , 0.59489024, 0.2606761 , 0.3907788 , 0.34372628]],\n",
      "      dtype=float32), array([[0.46437937, 0.6429299 , 0.3039591 , 0.43906128, 0.3789781 ]],\n",
      "      dtype=float32), array([[0.48066214, 0.6614051 , 0.3179527 , 0.45720345, 0.41454166]],\n",
      "      dtype=float32), array([[0.45656797, 0.65085894, 0.32606632, 0.42688406, 0.40515384]],\n",
      "      dtype=float32), array([[0.49909607, 0.6550298 , 0.34621856, 0.43456697, 0.41219583]],\n",
      "      dtype=float32), array([[0.5000803 , 0.6803269 , 0.3637087 , 0.49956894, 0.39286196]],\n",
      "      dtype=float32), array([[0.48460352, 0.65731615, 0.37178916, 0.46525764, 0.39273193]],\n",
      "      dtype=float32), array([[0.474047  , 0.65690815, 0.40006572, 0.42780495, 0.39511645]],\n",
      "      dtype=float32), array([[0.45016083, 0.637594  , 0.40730304, 0.40909573, 0.34981966]],\n",
      "      dtype=float32), array([[0.45771202, 0.60832393, 0.39885285, 0.4390844 , 0.33543277]],\n",
      "      dtype=float32), array([[0.4544474 , 0.5726176 , 0.40214223, 0.44138113, 0.22550419]],\n",
      "      dtype=float32), array([[0.43986636, 0.5093704 , 0.4049606 , 0.502095  , 0.25931612]],\n",
      "      dtype=float32), array([[0.4057505 , 0.4393186 , 0.4208256 , 0.47857115, 0.1949287 ]],\n",
      "      dtype=float32), array([[0.38658363, 0.46320283, 0.43325227, 0.5118828 , 0.22739416]],\n",
      "      dtype=float32), array([[0.38096055, 0.44150668, 0.4507274 , 0.528614  , 0.2562525 ]],\n",
      "      dtype=float32), array([[0.37319055, 0.4463172 , 0.47323766, 0.5590125 , 0.26460826]],\n",
      "      dtype=float32), array([[0.4058106 , 0.4757419 , 0.5312513 , 0.47009274, 0.16047844]],\n",
      "      dtype=float32), array([[0.32438242, 0.41278297, 0.51278025, 0.51953304, 0.41591227]],\n",
      "      dtype=float32)]\n"
     ]
    }
   ],
   "source": [
    "model2=create_model(J,Q,order,input_x,input_y,k_size=8,layer_size=4,nchan_out=16)\n",
    "recovereds=[]\n",
    "for i in range(1,30):\n",
    "    if i<10:\n",
    "        num=\"00\"+str(i)\n",
    "    else:\n",
    "        num=\"0\"+str(i)\n",
    "    model2.load_weights(\"../output/j8o2_epoch-\"+num+\"-log2.h5\")\n",
    "    idx=900\n",
    "    original = y_test_normalized[idx,:]\n",
    "    Sx = Sy_test_log2[idx,:,:]\n",
    "    recovered = model2.predict(Sx.reshape((1,128,43)))\n",
    "    recovereds.append(recovered)\n",
    "print(original,recovereds)"
   ]
  },
  {
   "cell_type": "code",
   "execution_count": 27,
   "metadata": {},
   "outputs": [
    {
     "name": "stdout",
     "output_type": "stream",
     "text": [
      "[0.73148035 0.71185277 0.5859216  0.68880883 0.92923907] [array([[ 0.16870654, -0.11933641,  0.04332103,  0.09887189,  0.2645198 ]],\n",
      "      dtype=float32), array([[0.11705386, 0.04620991, 0.0359511 , 0.07052191, 0.08028968]],\n",
      "      dtype=float32), array([[ 0.11820751,  0.11773452, -0.02517378,  0.02660449,  0.0588664 ]],\n",
      "      dtype=float32), array([[ 0.18399005, -0.12796356,  0.03819741,  0.07275039,  0.22930585]],\n",
      "      dtype=float32), array([[0.11751596, 0.03906371, 0.03433005, 0.07067346, 0.08705397]],\n",
      "      dtype=float32), array([[ 0.1794035 , -0.17564707,  0.09821105,  0.12537543,  0.322071  ]],\n",
      "      dtype=float32), array([[ 1.4711931e-01, -2.6992422e-02,  9.5795840e-06,  5.8835857e-02,\n",
      "         1.8940987e-01]], dtype=float32), array([[ 0.11390976,  0.07119198, -0.00798965,  0.03873477,  0.10203451]],\n",
      "      dtype=float32), array([[ 0.11177225,  0.13923319, -0.01978726,  0.05249289,  0.05641059]],\n",
      "      dtype=float32), array([[ 0.14948045, -0.00928066,  0.02754237,  0.05446425,  0.1295914 ]],\n",
      "      dtype=float32), array([[ 0.15506667, -0.05791385,  0.01685136,  0.06687056,  0.19896145]],\n",
      "      dtype=float32), array([[ 0.16530964, -0.14392105,  0.0586524 ,  0.10973363,  0.28989172]],\n",
      "      dtype=float32), array([[ 0.12434334,  0.07589732, -0.00564415,  0.03779608,  0.10922217]],\n",
      "      dtype=float32), array([[0.12348784, 0.04395887, 0.01179531, 0.04673644, 0.09491505]],\n",
      "      dtype=float32), array([[ 0.15548156, -0.06747337,  0.05515725,  0.08130506,  0.17104025]],\n",
      "      dtype=float32), array([[0.12071954, 0.01644776, 0.02327902, 0.06566979, 0.11607432]],\n",
      "      dtype=float32), array([[0.11656313, 0.04093694, 0.04106899, 0.07043918, 0.0779625 ]],\n",
      "      dtype=float32), array([[ 0.15808293, -0.11508854,  0.04922859,  0.07191868,  0.23699072]],\n",
      "      dtype=float32), array([[ 0.16692965, -0.08668576,  0.02682518,  0.08537468,  0.2385305 ]],\n",
      "      dtype=float32), array([[ 0.10978943,  0.13583937, -0.02328342,  0.03671984,  0.05580663]],\n",
      "      dtype=float32), array([[0.11776442, 0.03913267, 0.03964319, 0.07471504, 0.08193021]],\n",
      "      dtype=float32), array([[ 0.14062382,  0.02571727, -0.02789591,  0.03917214,  0.09847239]],\n",
      "      dtype=float32), array([[ 0.10879695,  0.13524744, -0.011036  ,  0.07829865,  0.0689135 ]],\n",
      "      dtype=float32), array([[0.1165137 , 0.02181064, 0.00874611, 0.03947709, 0.12441665]],\n",
      "      dtype=float32), array([[0.11589769, 0.04776415, 0.02881073, 0.06045262, 0.07908852]],\n",
      "      dtype=float32), array([[0.11445998, 0.05405517, 0.00290615, 0.03743071, 0.10128399]],\n",
      "      dtype=float32), array([[0.11724521, 0.03487448, 0.01086979, 0.05590275, 0.10855911]],\n",
      "      dtype=float32), array([[ 0.17218626, -0.12472868,  0.04232145,  0.06389884,  0.27655935]],\n",
      "      dtype=float32), array([[0.1207893 , 0.03782777, 0.04140539, 0.07548724, 0.08251543]],\n",
      "      dtype=float32)]\n"
     ]
    }
   ],
   "source": [
    "model3=create_model(J,Q,order,input_x,input_y,k_size=8,layer_size=4,nchan_out=16)\n",
    "model3.load_weights(\"../output/j8o2_epoch-001-log2.h5\")\n",
    "recovereds=[]\n",
    "for i in range(1,30):\n",
    "    idx=i\n",
    "    original = y_test_normalized[idx,:]\n",
    "    Sx = Sy_test_log2[idx,:,:]\n",
    "    recovered = model3.predict(Sx.reshape((1,128,43)))\n",
    "    recovereds.append(recovered)\n",
    "print(original,recovereds)"
   ]
  },
  {
   "cell_type": "code",
   "execution_count": null,
   "metadata": {},
   "outputs": [],
   "source": []
  }
 ],
 "metadata": {
  "kernelspec": {
   "display_name": "Python 3",
   "language": "python",
   "name": "python3"
  },
  "language_info": {
   "codemirror_mode": {
    "name": "ipython",
    "version": 3
   },
   "file_extension": ".py",
   "mimetype": "text/x-python",
   "name": "python",
   "nbconvert_exporter": "python",
   "pygments_lexer": "ipython3",
   "version": "3.7.6"
  }
 },
 "nbformat": 4,
 "nbformat_minor": 4
}
