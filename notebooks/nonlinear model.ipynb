{
 "cells": [
  {
   "cell_type": "code",
   "execution_count": 1,
   "metadata": {},
   "outputs": [
    {
     "data": {
      "text/plain": [
       "1"
      ]
     },
     "execution_count": 1,
     "metadata": {},
     "output_type": "execute_result"
    }
   ],
   "source": [
    "1"
   ]
  },
  {
   "cell_type": "code",
   "execution_count": 2,
   "metadata": {},
   "outputs": [],
   "source": [
    "import numpy as np\n",
    "import tensorflow.keras\n",
    "from tensorflow import keras\n",
    "import torch\n",
    "import tensorflow as tf\n",
    "from tensorflow.keras.models import Model, Sequential\n",
    "from tensorflow.keras.layers import Conv1D, AveragePooling1D, Conv2D, MaxPooling2D,ReLU\n",
    "import tensorflow.keras.backend as K\n",
    "from tensorflow.keras.models import load_model #save and load models\n",
    "from tensorflow.keras.layers import Dense, Dropout, Activation, Flatten\n",
    "from tensorflow.keras.layers import BatchNormalization\n",
    "from tensorflow.keras.callbacks import EarlyStopping, CSVLogger, ModelCheckpoint\n",
    "import IPython.display as ipd\n",
    "from kymatio import Scattering1D\n",
    "import hitdifferentparts\n",
    "import pandas as pd\n",
    "from sklearn.preprocessing import MinMaxScaler\n",
    "import pescador\n",
    "import random\n",
    "import os\n",
    "import librosa\n",
    "import pickle\n",
    "import matplotlib.pyplot as plt"
   ]
  },
  {
   "cell_type": "code",
   "execution_count": 3,
   "metadata": {},
   "outputs": [],
   "source": [
    "#make the model\n",
    "def create_model(J,Q,order,input_x,input_y,k_size,layer_size,nchan_out):\n",
    "    #fname = random.choice(os.listdir(path_to_train))\n",
    "    #rand_audio = os.path.join(path_to_train,fname)\n",
    "    #y,sr = librosa.load(rand_audio)\n",
    "    #N = len(y)\n",
    "    #scattering = Scattering1D(J = J,shape=(N,), Q = Q, max_order=order)\n",
    "    \n",
    "    #Sy = getsc_new(torch.Tensor(y),J,Q,order,scattering).T\n",
    "    #nrow, ncol = Sy.shape \n",
    "    nrow = input_x\n",
    "    ncol = input_y\n",
    "    #naudio = batch_size         # number of images in batch\n",
    "    nchan_in = 1       # number of input channels.  1 since it is BW\n",
    "    #input_shape = (nrow,ncol,nchan_in)  # input shape of 1 image\n",
    "    input_shape = (input_x,input_y)#Sy.shape\n",
    "    #batch_shape = (naudio,nrow,ncol,nchan_in)  # shape of image batch\n",
    "    #x = Sy.reshape(batch_shape)\n",
    "    kernel_size = (k_size,)\n",
    "    #nchan_out = 16\n",
    "\n",
    "    K.clear_session()\n",
    "    model=Sequential()\n",
    "    #1 conv layer +  1 batch normalization + nonlinear activation + pooling\n",
    "    model.add(Conv1D(input_shape=input_shape, filters=nchan_out,\n",
    "                     kernel_size=kernel_size, padding=\"same\",name='conv1'))\n",
    "    model.add(BatchNormalization())\n",
    "    model.add(Activation(\"relu\"))\n",
    "    model.add(AveragePooling1D(pool_size=(4,)))\n",
    "    \n",
    "   #second time\n",
    "    model.add(Conv1D(filters=nchan_out,\n",
    "                     kernel_size=kernel_size, padding=\"same\",name='conv2' ))\n",
    "    model.add(BatchNormalization())\n",
    "    model.add(Activation(\"relu\"))\n",
    "    model.add(AveragePooling1D(pool_size=(4,)))\n",
    "    \n",
    "    #third time\n",
    "    if layer_size>=3:\n",
    "        model.add(Conv1D(filters=nchan_out,\n",
    "                         kernel_size=kernel_size, padding=\"same\",name='conv3' ))\n",
    "        model.add(BatchNormalization())\n",
    "        model.add(Activation(\"relu\"))\n",
    "        model.add(AveragePooling1D(pool_size=(4,)))\n",
    "        if layer_size==4:\n",
    "        #fourth time\n",
    "            model.add(Conv1D(filters=nchan_out,\n",
    "                             kernel_size=kernel_size, padding=\"same\",name='conv4' ))\n",
    "            model.add(BatchNormalization())\n",
    "            model.add(Activation(\"relu\"))\n",
    "            model.add(AveragePooling1D(pool_size=(2,)))\n",
    "            if layer_size ==5:\n",
    "                model.add(Conv1D(filters=nchan_out,\n",
    "                             kernel_size=kernel_size, padding=\"same\",name='conv5' ))\n",
    "                model.add(BatchNormalization())\n",
    "                model.add(Activation(\"relu\"))\n",
    "                model.add(AveragePooling1D(pool_size=(2,)))\n",
    "\n",
    "    model.add(BatchNormalization())\n",
    "    model.add(Flatten())\n",
    "    model.add(Dense(64, activation='relu'))\n",
    "    model.add(BatchNormalization())\n",
    "    #what activation should be chosen for last layer, for regression problem? should be a linear function\n",
    "    model.add(Dense(5, activation='linear')) #output layer that corresponds to the 5 physical parameters.\n",
    "\n",
    "\n",
    "    # Compile the model\n",
    "    model.compile(loss='mse', optimizer='adam', metrics=['mse'])\n",
    "    \n",
    "    #print(model.summary())\n",
    "    return model"
   ]
  },
  {
   "cell_type": "code",
   "execution_count": 27,
   "metadata": {},
   "outputs": [],
   "source": [
    "J = 8\n",
    "Q = 1\n",
    "order = 2\n",
    "pkl_path = '/scratch/hh2263/drum_data/han2020fa_sc-pkl/scattering_J-08_Q-01_order2_fold-train.pkl'\n",
    "pkl_file = open(pkl_path, 'rb')\n",
    "Sy_train,y_train = pickle.load(pkl_file) \n",
    "\n",
    "pkl_path_val = '/scratch/hh2263/drum_data/han2020fa_sc-pkl/scattering_J-08_Q-01_order2_fold-val.pkl'\n",
    "pkl_val = open(pkl_path_val,'rb')\n",
    "Sy_val,y_val = pickle.load(pkl_val)\n",
    "#Sy_val = Sy_val.reshape((Sy_val.shape[2],Sy_val.shape[0],Sy_val.shape[1]))\n",
    "\n",
    "pkl_path_test = \"/scratch/hh2263/drum_data/han2020fa_sc-pkl/scattering_J-08_Q-01_order2_fold-test.pkl\"\n",
    "pkl_test = open(pkl_path_test,'rb')\n",
    "Sy_test,y_test = pickle.load(pkl_test)"
   ]
  },
  {
   "cell_type": "code",
   "execution_count": 5,
   "metadata": {},
   "outputs": [],
   "source": [
    "#fix everybody's physical parameters first (p and D should be log)\n",
    "#print(np.log10(y_train[0,3]),y_train[0,3])\n",
    "import math\n",
    "for idx in range(2,4):\n",
    "    y_train[:,idx] = [math.log10(i) for i in y_train[:,idx]]\n",
    "    y_test[:,idx] = [math.log10(i) for i in y_test[:,idx]]\n",
    "    y_val[:,idx] = [math.log10(i) for i in y_val[:,idx]]"
   ]
  },
  {
   "cell_type": "code",
   "execution_count": 6,
   "metadata": {},
   "outputs": [],
   "source": [
    "df_train = pd.read_csv(\"./train_param.csv\")\n",
    "df_test = pd.read_csv(\"./test_param.csv\")\n",
    "df_val = pd.read_csv(\"./val_param.csv\")\n",
    "df_full = pd.read_csv(\"./diffshapes_param.csv\")\n",
    "\n",
    "# normalization of the physical parameters\n",
    "params = df_train.values[:,1:-1]\n",
    "for idx in range(2,4):\n",
    "    params[:,idx] = [math.log10(i) for i in params[:,idx]]\n",
    "\n",
    "scaler = MinMaxScaler()\n",
    "scaler.fit(params)\n",
    "\n",
    "#normalize training and validation set\n",
    "y_train_normalized = scaler.transform(y_train)\n",
    "y_val_normalized = scaler.transform(y_val)\n",
    "y_test_normalized = scaler.transform(y_test)"
   ]
  },
  {
   "cell_type": "code",
   "execution_count": 7,
   "metadata": {},
   "outputs": [],
   "source": [
    "input_x = Sy_train.shape[1]\n",
    "input_y = Sy_train.shape[2]"
   ]
  },
  {
   "cell_type": "code",
   "execution_count": null,
   "metadata": {},
   "outputs": [],
   "source": []
  },
  {
   "cell_type": "code",
   "execution_count": 8,
   "metadata": {},
   "outputs": [],
   "source": [
    "Sy_train_pos=(Sy_train>0)*Sy_train+1e-10\n",
    "Sy_val_pos = (Sy_val>0)*Sy_val+1e-10"
   ]
  },
  {
   "cell_type": "code",
   "execution_count": 9,
   "metadata": {},
   "outputs": [],
   "source": [
    "Sy_train_log = np.log(Sy_train_pos)\n",
    "Sy_val_log = np.log(Sy_val_pos)\n",
    "Sy_test_log = np.log((Sy_test>0)*Sy_test+1e-10)"
   ]
  },
  {
   "cell_type": "code",
   "execution_count": 35,
   "metadata": {},
   "outputs": [],
   "source": [
    "Sy_val_log = Sy_val_log.reshape((7776,128,43))"
   ]
  },
  {
   "cell_type": "code",
   "execution_count": 36,
   "metadata": {},
   "outputs": [
    {
     "name": "stdout",
     "output_type": "stream",
     "text": [
      "(82224, 128, 43) (7776, 128, 43) (82224, 128, 43) (82224, 5) (7776, 5)\n"
     ]
    }
   ],
   "source": [
    "print(Sy_train_log.shape,Sy_val_log.shape,Sy_train.shape,y_train.shape,y_val.shape)"
   ]
  },
  {
   "cell_type": "code",
   "execution_count": 8,
   "metadata": {},
   "outputs": [],
   "source": [
    "eps = 1e-3*np.median(np.ndarray.flatten(Sy_train[0,:,:]))"
   ]
  },
  {
   "cell_type": "code",
   "execution_count": null,
   "metadata": {},
   "outputs": [],
   "source": []
  },
  {
   "cell_type": "code",
   "execution_count": 28,
   "metadata": {},
   "outputs": [],
   "source": [
    "Sy_train_log2 = np.log1p(((Sy_train>0)*Sy_train)/1e-11)\n",
    "Sy_val_log2 = np.log1p(((Sy_val>0)*Sy_val)/1e-11)\n",
    "Sy_test_log2 = np.log1p((Sy_test>0)*Sy_test/1e-11)"
   ]
  },
  {
   "cell_type": "code",
   "execution_count": 29,
   "metadata": {
    "scrolled": true
   },
   "outputs": [
    {
     "name": "stdout",
     "output_type": "stream",
     "text": [
      "24.584995 -0.0\n"
     ]
    }
   ],
   "source": [
    "print(np.max(np.max(np.max(Sy_train_log2))),np.min(np.min(np.min(Sy_train_log2))))"
   ]
  },
  {
   "cell_type": "code",
   "execution_count": 31,
   "metadata": {},
   "outputs": [
    {
     "data": {
      "text/plain": [
       "(7776, 128, 43)"
      ]
     },
     "execution_count": 31,
     "metadata": {},
     "output_type": "execute_result"
    }
   ],
   "source": [
    "Sy_val_log2.shape"
   ]
  },
  {
   "cell_type": "code",
   "execution_count": 32,
   "metadata": {},
   "outputs": [
    {
     "data": {
      "text/plain": [
       "(array([ 16.,  45.,  90.,  91.,  50.,  10.,   6.,  13.,  22.,  37.,  73.,\n",
       "        102., 159., 227., 212., 199., 188., 130., 137., 131., 208., 214.,\n",
       "        235., 184., 192., 245., 351., 460., 530., 492., 451., 313., 243.,\n",
       "        192., 159., 135., 201., 212., 222., 226., 185., 125., 130., 135.,\n",
       "        192., 161., 134.,  73.,  95.,  76., 132., 167., 142.,  98.,  47.,\n",
       "         47.,  87., 159., 221., 228., 126.,  97., 130., 121.,  81.,  94.,\n",
       "         81.,  53.,  22.,  13.,  11.,  32.,  36.,  67., 121., 153., 120.,\n",
       "         84.,  88.,  66.,  27.,   1.,   1.,  35.,  56.,  80.,  95.,  32.,\n",
       "          0.,   0.,   0.,  37.,  82., 109., 161., 224.,  95.,  75.,  83.,\n",
       "         31.]),\n",
       " array([11.785914 , 11.9023075, 12.018701 , 12.135095 , 12.251488 ,\n",
       "        12.367881 , 12.484274 , 12.600667 , 12.717061 , 12.833454 ,\n",
       "        12.949847 , 13.06624  , 13.182633 , 13.2990265, 13.415421 ,\n",
       "        13.531814 , 13.648207 , 13.7646   , 13.880993 , 13.997387 ,\n",
       "        14.11378  , 14.230173 , 14.346566 , 14.462959 , 14.579353 ,\n",
       "        14.695746 , 14.8121395, 14.928533 , 15.044926 , 15.16132  ,\n",
       "        15.277713 , 15.394106 , 15.510499 , 15.626892 , 15.743285 ,\n",
       "        15.859679 , 15.976072 , 16.092466 , 16.208858 , 16.325253 ,\n",
       "        16.441645 , 16.558039 , 16.67443  , 16.790825 , 16.907219 ,\n",
       "        17.023611 , 17.140005 , 17.256397 , 17.372791 , 17.489185 ,\n",
       "        17.605577 , 17.721972 , 17.838364 , 17.954758 , 18.071152 ,\n",
       "        18.187544 , 18.303938 , 18.42033  , 18.536724 , 18.653118 ,\n",
       "        18.76951  , 18.885904 , 19.002296 , 19.11869  , 19.235085 ,\n",
       "        19.351477 , 19.46787  , 19.584263 , 19.700657 , 19.81705  ,\n",
       "        19.933443 , 20.049837 , 20.16623  , 20.282623 , 20.399017 ,\n",
       "        20.51541  , 20.631804 , 20.748196 , 20.86459  , 20.980984 ,\n",
       "        21.097376 , 21.21377  , 21.330162 , 21.446556 , 21.562948 ,\n",
       "        21.679342 , 21.795736 , 21.912128 , 22.028522 , 22.144915 ,\n",
       "        22.261309 , 22.377703 , 22.494095 , 22.610489 , 22.726881 ,\n",
       "        22.843275 , 22.95967  , 23.076061 , 23.192455 , 23.308847 ,\n",
       "        23.425241 ], dtype=float32),\n",
       " <a list of 100 Patch objects>)"
      ]
     },
     "execution_count": 32,
     "metadata": {},
     "output_type": "execute_result"
    },
    {
     "data": {
      "image/png": "[encoded data removed]",
      "text/plain": [
       "<Figure size 432x288 with 1 Axes>"
      ]
     },
     "metadata": {
      "needs_background": "light"
     },
     "output_type": "display_data"
    }
   ],
   "source": [
    "plt.hist(np.ndarray.flatten(Sy_val_log2[1:300,1,:]),100)"
   ]
  },
  {
   "cell_type": "code",
   "execution_count": 47,
   "metadata": {},
   "outputs": [
    {
     "name": "stdout",
     "output_type": "stream",
     "text": [
      "Train on 1280 samples, validate on 7776 samples\n",
      "1280/1280 - 1s - loss: 1.2639 - mean_squared_error: 1.2639 - val_loss: 0.3004 - val_mean_squared_error: 0.3004\n"
     ]
    },
    {
     "ename": "RuntimeError",
     "evalue": "Can't decrement id ref count (file write failed: time = Mon Mar 16 17:33:30 2020\n, filename = '../output/j8o2_epoch-000-log2.h5', file descriptor = 71, errno = 5, error message = 'Input/output error', buf = 0x5612e187adc0, total write size = 8192, bytes this sub-write = 8192, bytes actually written = 18446744073709551615, offset = 269528)",
     "output_type": "error",
     "traceback": [
      "\u001b[0;31m---------------------------------------------------------------------------\u001b[0m",
      "\u001b[0;31mRuntimeError\u001b[0m                              Traceback (most recent call last)",
      "\u001b[0;32mh5py/_objects.pyx\u001b[0m in \u001b[0;36mh5py._objects.ObjectID.__dealloc__\u001b[0;34m()\u001b[0m\n",
      "\u001b[0;31mRuntimeError\u001b[0m: Can't decrement id ref count (file write failed: time = Mon Mar 16 17:33:30 2020\n, filename = '../output/j8o2_epoch-000-log2.h5', file descriptor = 71, errno = 5, error message = 'Input/output error', buf = 0x5612e187adc0, total write size = 8192, bytes this sub-write = 8192, bytes actually written = 18446744073709551615, offset = 269528)"
     ]
    },
    {
     "name": "stderr",
     "output_type": "stream",
     "text": [
      "Exception ignored in: 'h5py._objects.ObjectID.__dealloc__'\n",
      "Traceback (most recent call last):\n",
      "  File \"h5py/_objects.pyx\", line 193, in h5py._objects.ObjectID.__dealloc__\n",
      "RuntimeError: Can't decrement id ref count (file write failed: time = Mon Mar 16 17:33:30 2020\n",
      ", filename = '../output/j8o2_epoch-000-log2.h5', file descriptor = 71, errno = 5, error message = 'Input/output error', buf = 0x5612e187adc0, total write size = 8192, bytes this sub-write = 8192, bytes actually written = 18446744073709551615, offset = 269528)\n"
     ]
    },
    {
     "ename": "OSError",
     "evalue": "Write through page buffer failed (file write failed: time = Mon Mar 16 17:33:31 2020\n, filename = '../output/j8o2_epoch-000-log2.h5', file descriptor = 71, errno = 5, error message = 'Input/output error', buf = 0x5612e187c860, total write size = 2528, bytes this sub-write = 2528, bytes actually written = 18446744073709551615, offset = 52520)",
     "output_type": "error",
     "traceback": [
      "\u001b[0;31m---------------------------------------------------------------------------\u001b[0m",
      "\u001b[0;31mRuntimeError\u001b[0m                              Traceback (most recent call last)",
      "\u001b[0;32m~/miniconda3/envs/drum-1.15/lib/python3.7/site-packages/tensorflow_core/python/keras/saving/hdf5_format.py\u001b[0m in \u001b[0;36msave_model_to_hdf5\u001b[0;34m(model, filepath, overwrite, include_optimizer)\u001b[0m\n\u001b[1;32m    110\u001b[0m \u001b[0;34m\u001b[0m\u001b[0m\n\u001b[0;32m--> 111\u001b[0;31m     \u001b[0mf\u001b[0m\u001b[0;34m.\u001b[0m\u001b[0mflush\u001b[0m\u001b[0;34m(\u001b[0m\u001b[0;34m)\u001b[0m\u001b[0;34m\u001b[0m\u001b[0;34m\u001b[0m\u001b[0m\n\u001b[0m\u001b[1;32m    112\u001b[0m   \u001b[0;32mfinally\u001b[0m\u001b[0;34m:\u001b[0m\u001b[0;34m\u001b[0m\u001b[0;34m\u001b[0m\u001b[0m\n",
      "\u001b[0;32m~/miniconda3/envs/drum-1.15/lib/python3.7/site-packages/h5py/_hl/files.py\u001b[0m in \u001b[0;36mflush\u001b[0;34m(self)\u001b[0m\n\u001b[1;32m    451\u001b[0m         \u001b[0;32mwith\u001b[0m \u001b[0mphil\u001b[0m\u001b[0;34m:\u001b[0m\u001b[0;34m\u001b[0m\u001b[0;34m\u001b[0m\u001b[0m\n\u001b[0;32m--> 452\u001b[0;31m             \u001b[0mh5f\u001b[0m\u001b[0;34m.\u001b[0m\u001b[0mflush\u001b[0m\u001b[0;34m(\u001b[0m\u001b[0mself\u001b[0m\u001b[0;34m.\u001b[0m\u001b[0mid\u001b[0m\u001b[0;34m)\u001b[0m\u001b[0;34m\u001b[0m\u001b[0;34m\u001b[0m\u001b[0m\n\u001b[0m\u001b[1;32m    453\u001b[0m \u001b[0;34m\u001b[0m\u001b[0m\n",
      "\u001b[0;32mh5py/_objects.pyx\u001b[0m in \u001b[0;36mh5py._objects.with_phil.wrapper\u001b[0;34m()\u001b[0m\n",
      "\u001b[0;32mh5py/_objects.pyx\u001b[0m in \u001b[0;36mh5py._objects.with_phil.wrapper\u001b[0;34m()\u001b[0m\n",
      "\u001b[0;32mh5py/h5f.pyx\u001b[0m in \u001b[0;36mh5py.h5f.flush\u001b[0;34m()\u001b[0m\n",
      "\u001b[0;31mRuntimeError\u001b[0m: Unable to flush file's cached information (file write failed: time = Mon Mar 16 17:33:31 2020\n, filename = '../output/j8o2_epoch-000-log2.h5', file descriptor = 71, errno = 5, error message = 'Input/output error', buf = 0x5612e17f0db0, total write size = 17312, bytes this sub-write = 17312, bytes actually written = 18446744073709551615, offset = 2048)",
      "\nDuring handling of the above exception, another exception occurred:\n",
      "\u001b[0;31mOSError\u001b[0m                                   Traceback (most recent call last)",
      "\u001b[0;32m<ipython-input-47-f3a69d091d73>\u001b[0m in \u001b[0;36m<module>\u001b[0;34m\u001b[0m\n\u001b[1;32m     27\u001b[0m         epoch_network_path = os.path.join(\n\u001b[1;32m     28\u001b[0m            trial_dir, \"_\".join([\"j8o2\", epoch_str]) + \"-log2.h5\")\n\u001b[0;32m---> 29\u001b[0;31m         \u001b[0mmodel\u001b[0m\u001b[0;34m.\u001b[0m\u001b[0msave\u001b[0m\u001b[0;34m(\u001b[0m\u001b[0mepoch_network_path\u001b[0m\u001b[0;34m)\u001b[0m\u001b[0;34m\u001b[0m\u001b[0;34m\u001b[0m\u001b[0m\n\u001b[0m\u001b[1;32m     30\u001b[0m \u001b[0;34m\u001b[0m\u001b[0m\n",
      "\u001b[0;32m~/miniconda3/envs/drum-1.15/lib/python3.7/site-packages/tensorflow_core/python/keras/engine/network.py\u001b[0m in \u001b[0;36msave\u001b[0;34m(self, filepath, overwrite, include_optimizer, save_format, signatures)\u001b[0m\n\u001b[1;32m   1169\u001b[0m     \"\"\"\n\u001b[1;32m   1170\u001b[0m     saving.save_model(self, filepath, overwrite, include_optimizer, save_format,\n\u001b[0;32m-> 1171\u001b[0;31m                       signatures)\n\u001b[0m\u001b[1;32m   1172\u001b[0m \u001b[0;34m\u001b[0m\u001b[0m\n\u001b[1;32m   1173\u001b[0m   \u001b[0;32mdef\u001b[0m \u001b[0msave_weights\u001b[0m\u001b[0;34m(\u001b[0m\u001b[0mself\u001b[0m\u001b[0;34m,\u001b[0m \u001b[0mfilepath\u001b[0m\u001b[0;34m,\u001b[0m \u001b[0moverwrite\u001b[0m\u001b[0;34m=\u001b[0m\u001b[0;32mTrue\u001b[0m\u001b[0;34m,\u001b[0m \u001b[0msave_format\u001b[0m\u001b[0;34m=\u001b[0m\u001b[0;32mNone\u001b[0m\u001b[0;34m)\u001b[0m\u001b[0;34m:\u001b[0m\u001b[0;34m\u001b[0m\u001b[0;34m\u001b[0m\u001b[0m\n",
      "\u001b[0;32m~/miniconda3/envs/drum-1.15/lib/python3.7/site-packages/tensorflow_core/python/keras/saving/save.py\u001b[0m in \u001b[0;36msave_model\u001b[0;34m(model, filepath, overwrite, include_optimizer, save_format, signatures)\u001b[0m\n\u001b[1;32m    107\u001b[0m           'or using `save_weights`.')\n\u001b[1;32m    108\u001b[0m     hdf5_format.save_model_to_hdf5(\n\u001b[0;32m--> 109\u001b[0;31m         model, filepath, overwrite, include_optimizer)\n\u001b[0m\u001b[1;32m    110\u001b[0m   \u001b[0;32melse\u001b[0m\u001b[0;34m:\u001b[0m\u001b[0;34m\u001b[0m\u001b[0;34m\u001b[0m\u001b[0m\n\u001b[1;32m    111\u001b[0m     saved_model_save.save(model, filepath, overwrite, include_optimizer,\n",
      "\u001b[0;32m~/miniconda3/envs/drum-1.15/lib/python3.7/site-packages/tensorflow_core/python/keras/saving/hdf5_format.py\u001b[0m in \u001b[0;36msave_model_to_hdf5\u001b[0;34m(model, filepath, overwrite, include_optimizer)\u001b[0m\n\u001b[1;32m    112\u001b[0m   \u001b[0;32mfinally\u001b[0m\u001b[0;34m:\u001b[0m\u001b[0;34m\u001b[0m\u001b[0;34m\u001b[0m\u001b[0m\n\u001b[1;32m    113\u001b[0m     \u001b[0;32mif\u001b[0m \u001b[0mopened_new_file\u001b[0m\u001b[0;34m:\u001b[0m\u001b[0;34m\u001b[0m\u001b[0;34m\u001b[0m\u001b[0m\n\u001b[0;32m--> 114\u001b[0;31m       \u001b[0mf\u001b[0m\u001b[0;34m.\u001b[0m\u001b[0mclose\u001b[0m\u001b[0;34m(\u001b[0m\u001b[0;34m)\u001b[0m\u001b[0;34m\u001b[0m\u001b[0;34m\u001b[0m\u001b[0m\n\u001b[0m\u001b[1;32m    115\u001b[0m \u001b[0;34m\u001b[0m\u001b[0m\n\u001b[1;32m    116\u001b[0m \u001b[0;34m\u001b[0m\u001b[0m\n",
      "\u001b[0;32m~/miniconda3/envs/drum-1.15/lib/python3.7/site-packages/h5py/_hl/files.py\u001b[0m in \u001b[0;36mclose\u001b[0;34m(self)\u001b[0m\n\u001b[1;32m    441\u001b[0m                 \u001b[0;32mfor\u001b[0m \u001b[0mid_\u001b[0m \u001b[0;32min\u001b[0m \u001b[0mfile_list\u001b[0m\u001b[0;34m:\u001b[0m\u001b[0;34m\u001b[0m\u001b[0;34m\u001b[0m\u001b[0m\n\u001b[1;32m    442\u001b[0m                     \u001b[0;32mwhile\u001b[0m \u001b[0mid_\u001b[0m\u001b[0;34m.\u001b[0m\u001b[0mvalid\u001b[0m\u001b[0;34m:\u001b[0m\u001b[0;34m\u001b[0m\u001b[0;34m\u001b[0m\u001b[0m\n\u001b[0;32m--> 443\u001b[0;31m                         \u001b[0mh5i\u001b[0m\u001b[0;34m.\u001b[0m\u001b[0mdec_ref\u001b[0m\u001b[0;34m(\u001b[0m\u001b[0mid_\u001b[0m\u001b[0;34m)\u001b[0m\u001b[0;34m\u001b[0m\u001b[0;34m\u001b[0m\u001b[0m\n\u001b[0m\u001b[1;32m    444\u001b[0m \u001b[0;34m\u001b[0m\u001b[0m\n\u001b[1;32m    445\u001b[0m                 \u001b[0mself\u001b[0m\u001b[0;34m.\u001b[0m\u001b[0mid\u001b[0m\u001b[0;34m.\u001b[0m\u001b[0mclose\u001b[0m\u001b[0;34m(\u001b[0m\u001b[0;34m)\u001b[0m\u001b[0;34m\u001b[0m\u001b[0;34m\u001b[0m\u001b[0m\n",
      "\u001b[0;32mh5py/_objects.pyx\u001b[0m in \u001b[0;36mh5py._objects.with_phil.wrapper\u001b[0;34m()\u001b[0m\n",
      "\u001b[0;32mh5py/_objects.pyx\u001b[0m in \u001b[0;36mh5py._objects.with_phil.wrapper\u001b[0;34m()\u001b[0m\n",
      "\u001b[0;32mh5py/h5i.pyx\u001b[0m in \u001b[0;36mh5py.h5i.dec_ref\u001b[0;34m()\u001b[0m\n",
      "\u001b[0;31mOSError\u001b[0m: Write through page buffer failed (file write failed: time = Mon Mar 16 17:33:31 2020\n, filename = '../output/j8o2_epoch-000-log2.h5', file descriptor = 71, errno = 5, error message = 'Input/output error', buf = 0x5612e187c860, total write size = 2528, bytes this sub-write = 2528, bytes actually written = 18446744073709551615, offset = 52520)"
     ]
    }
   ],
   "source": [
    "trial_dir = \"../output/\"\n",
    "best_validation_loss = np.inf\n",
    "n = Sy_train.shape[0]\n",
    "steps_per_epoch = 10\n",
    "bs = 128\n",
    "m = bs*steps_per_epoch\n",
    "idx = np.arange(0,n,1)\n",
    "val_loss=[]\n",
    "model=create_model(J,Q,order,input_x,input_y,k_size=8,layer_size=4,nchan_out=16)\n",
    "for epoch in range(30):\n",
    "    np.random.shuffle(idx)\n",
    "    Sy_temp = Sy_train_log2[idx[:m],:,:]\n",
    "    y_temp = y_train_normalized[idx[:m],:]\n",
    "    \n",
    "    hist = model.fit(Sy_temp,\n",
    "                y_temp,\n",
    "                epochs=1,\n",
    "                verbose=2,\n",
    "                batch_size=bs,\n",
    "                validation_data = (Sy_val_log2,y_val_normalized),\n",
    "                use_multiprocessing=False)\n",
    "    validation_loss = hist.history['val_loss'][0]\n",
    "    val_loss.append(validation_loss)\n",
    "    if validation_loss < best_validation_loss:\n",
    "        best_validation_loss = validation_loss\n",
    "        epoch_str = \"epoch-\" + str(epoch).zfill(3)\n",
    "        epoch_network_path = os.path.join(\n",
    "           trial_dir, \"_\".join([\"j8o2\", epoch_str]) + \"-log2.h5\")\n",
    "        model.save(epoch_network_path)\n",
    "        "
   ]
  },
  {
   "cell_type": "code",
   "execution_count": 46,
   "metadata": {},
   "outputs": [
    {
     "name": "stdout",
     "output_type": "stream",
     "text": [
      "[0.7164924  0.56152385 0.55240168 0.70497154 0.19658086] [[0.6347436  0.7791218  0.60000694 0.53311974 0.66367996]]\n"
     ]
    }
   ],
   "source": [
    "i=14\n",
    "original = y_test_normalized[i,:]\n",
    "Sx = Sy_test_log2[i,:,:]\n",
    "recovered = model.predict(Sx.reshape((1,128,43)))\n",
    "print(original,recovered)"
   ]
  },
  {
   "cell_type": "code",
   "execution_count": 43,
   "metadata": {},
   "outputs": [
    {
     "name": "stdout",
     "output_type": "stream",
     "text": [
      "[0.07411863 0.84310174 0.55710213 0.29067493 0.91585758] [[0.50843346 0.4044962  0.436315   0.616282   0.67034876]]\n"
     ]
    }
   ],
   "source": [
    "print(original,recovered)"
   ]
  },
  {
   "cell_type": "code",
   "execution_count": null,
   "metadata": {},
   "outputs": [],
   "source": []
  },
  {
   "cell_type": "code",
   "execution_count": null,
   "metadata": {},
   "outputs": [],
   "source": []
  },
  {
   "cell_type": "code",
   "execution_count": 94,
   "metadata": {},
   "outputs": [],
   "source": [
    "model2=create_model(J,Q,order,input_x,input_y,k_size=8,layer_size=4,nchan_out=16)\n",
    "model2.load_weights(\"../output/j8o2_epoch-010-log.h5\")"
   ]
  },
  {
   "cell_type": "code",
   "execution_count": 102,
   "metadata": {},
   "outputs": [
    {
     "name": "stdout",
     "output_type": "stream",
     "text": [
      "[0.20074233 0.21241233 0.29568269 0.3465709  0.61794634] [[0.6769525  0.41720343 0.50097567 0.31678683 0.4856045 ]]\n"
     ]
    }
   ],
   "source": [
    "i=10\n",
    "original = y_val_normalized[i,:]\n",
    "Sx = Sy_val_log[i,:,:]\n",
    "recovered = model2.predict(Sx.reshape((1,128,43)))\n",
    "print(original,recovered)"
   ]
  },
  {
   "cell_type": "code",
   "execution_count": 96,
   "metadata": {},
   "outputs": [
    {
     "name": "stdout",
     "output_type": "stream",
     "text": [
      "10000/10000 [==============================] - 1s 103us/sample - loss: 0.1079 - mean_squared_error: 0.1079\n"
     ]
    },
    {
     "data": {
      "text/plain": [
       "[0.10794696642160416, 0.10794697]"
      ]
     },
     "execution_count": 96,
     "metadata": {},
     "output_type": "execute_result"
    }
   ],
   "source": [
    "model2.evaluate(Sy_test_log,y_test_normalized)"
   ]
  },
  {
   "cell_type": "code",
   "execution_count": 97,
   "metadata": {},
   "outputs": [
    {
     "name": "stdout",
     "output_type": "stream",
     "text": [
      "82224/82224 [==============================] - 8s 92us/sample - loss: 0.1080 - mean_squared_error: 0.1080\n"
     ]
    },
    {
     "data": {
      "text/plain": [
       "[0.10798504122803475, 0.10798498]"
      ]
     },
     "execution_count": 97,
     "metadata": {},
     "output_type": "execute_result"
    }
   ],
   "source": [
    "model2.evaluate(Sy_train_log,y_train_normalized)"
   ]
  },
  {
   "cell_type": "code",
   "execution_count": 98,
   "metadata": {},
   "outputs": [
    {
     "name": "stdout",
     "output_type": "stream",
     "text": [
      "7776/7776 [==============================] - 1s 92us/sample - loss: 0.0482 - mean_squared_error: 0.0482\n"
     ]
    },
    {
     "data": {
      "text/plain": [
       "[0.04822170173312411, 0.04822173]"
      ]
     },
     "execution_count": 98,
     "metadata": {},
     "output_type": "execute_result"
    }
   ],
   "source": [
    "model2.evaluate(Sy_val_log,y_val_normalized)"
   ]
  },
  {
   "cell_type": "code",
   "execution_count": null,
   "metadata": {},
   "outputs": [],
   "source": []
  },
  {
   "cell_type": "code",
   "execution_count": null,
   "metadata": {},
   "outputs": [],
   "source": []
  }
 ],
 "metadata": {
  "kernelspec": {
   "display_name": "Python 3",
   "language": "python",
   "name": "python3"
  },
  "language_info": {
   "codemirror_mode": {
    "name": "ipython",
    "version": 3
   },
   "file_extension": ".py",
   "mimetype": "text/x-python",
   "name": "python",
   "nbconvert_exporter": "python",
   "pygments_lexer": "ipython3",
   "version": "3.7.6"
  }
 },
 "nbformat": 4,
 "nbformat_minor": 4
}
