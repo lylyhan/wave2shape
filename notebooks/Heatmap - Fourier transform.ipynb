{
 "cells": [
  {
   "cell_type": "markdown",
   "metadata": {},
   "source": [
    "## Heat Map\n",
    "indicating laplacian of each point on the drum surface in the Fourier domain"
   ]
  },
  {
   "cell_type": "code",
   "execution_count": 77,
   "metadata": {},
   "outputs": [],
   "source": [
    "import hitdifferentparts\n",
    "import IPython.display as ipd\n",
    "import numpy as np\n",
    "import librosa\n",
    "#import autograd\n",
    "#import torch\n",
    "#from kymatio import Scattering1D\n",
    "\n",
    "#from torch.autograd import backward\n",
    "from matplotlib.patches import Rectangle\n",
    "import matplotlib.pyplot as plt\n",
    "from tqdm import tnrange, tqdm_notebook"
   ]
  },
  {
   "cell_type": "markdown",
   "metadata": {},
   "source": [
    "sample from 1/8 of the drum surface, resolution is 0.05"
   ]
  },
  {
   "cell_type": "code",
   "execution_count": 78,
   "metadata": {
    "scrolled": true
   },
   "outputs": [
    {
     "data": {
      "image/png": "[encoded data removed]",
      "text/plain": [
       "<Figure size 360x360 with 1 Axes>"
      ]
     },
     "metadata": {
      "needs_background": "light"
     },
     "output_type": "display_data"
    }
   ],
   "source": [
    "d = 1/20\n",
    "x = np.linspace(0-d,1+d,21+2)\n",
    "y = np.linspace(0-d,1+d,21+2)\n",
    "x_sel = []\n",
    "y_sel = []\n",
    "for i in x:\n",
    "    for j in y:\n",
    "        x_sel.append(i)\n",
    "        y_sel.append(j)\n",
    "plt.figure(figsize=(5,5))\n",
    "#Rectangle((0,0), 1, 1,linestyle='-')\n",
    "plt.scatter(x_sel,y_sel)\n",
    "plt.axvline(x=0,color = 'r')\n",
    "plt.axvline(x=1,color = 'r')\n",
    "plt.axhline(y=0,color = 'r')\n",
    "plt.axhline(y=1,color = 'r')\n",
    "plt.show()\n",
    "#plt.xlim([0,1])\n",
    "#plt.ylim([0,1])"
   ]
  },
  {
   "cell_type": "markdown",
   "metadata": {},
   "source": [
    "dictionary that forms mapping between points that are equivalent to each other.\n",
    "\n",
    "scattering transform on each point in the set\n",
    "\n",
    "matrix of scattering transfrom of the entire surface\n",
    "\n",
    "and then get matrix of laplacian of each point"
   ]
  },
  {
   "cell_type": "markdown",
   "metadata": {},
   "source": [
    "make coordinate mapping dictionary"
   ]
  },
  {
   "cell_type": "code",
   "execution_count": 3,
   "metadata": {},
   "outputs": [],
   "source": [
    "x1 = [round(i,2) for i in x]\n",
    "y1 = [round(i,2) for i in y]"
   ]
  },
  {
   "cell_type": "code",
   "execution_count": 79,
   "metadata": {
    "scrolled": false
   },
   "outputs": [
    {
     "name": "stdout",
     "output_type": "stream",
     "text": [
      "dict_keys([(1.0, 1.0), (1.0, 0.05), (1.0, 0.9), (1.0, 0.85), (1.0, 0.8), (1.0, 0.25), (1.0, 0.7), (1.0, 0.35), (1.0, 0.4), (1.0, 0.55), (0.5, 0.0), (0.95, 0.95), (0.9, 0.05), (0.85, 0.05), (0.8, 0.05), (0.75, 0.05), (0.7, 0.05), (0.65, 0.05), (0.6, 0.05), (0.55, 0.05), (0.95, 0.5), (0.9, 0.9), (0.85, 0.1), (0.8, 0.1), (0.75, 0.1), (0.7, 0.1), (0.65, 0.1), (0.6, 0.1), (0.55, 0.1), (0.9, 0.5), (0.85, 0.85), (0.8, 0.15), (0.75, 0.15), (0.7, 0.15), (0.65, 0.15), (0.6, 0.15), (0.55, 0.15), (0.85, 0.5), (0.8, 0.8), (0.75, 0.2), (0.7, 0.2), (0.65, 0.2), (0.6, 0.2), (0.55, 0.2), (0.8, 0.5), (0.75, 0.75), (0.7, 0.25), (0.65, 0.25), (0.6, 0.25), (0.55, 0.25), (0.75, 0.5), (0.7, 0.7), (0.65, 0.3), (0.6, 0.3), (0.55, 0.3), (0.7, 0.5), (0.65, 0.35), (0.6, 0.35), (0.55, 0.35), (0.65, 0.5), (0.6, 0.4), (0.55, 0.4), (0.6, 0.5), (0.55, 0.55), (0.55, 0.5), (0.5, 0.5)]) 66\n"
     ]
    }
   ],
   "source": [
    "coord_set = {}\n",
    "# (0.1,0.9) = (0.9,0.1) = {0.9,0.9} = {0.1,0.1}\n",
    "tot = 0\n",
    "for i in x1[1:-1]:\n",
    "    for j in y1[1:-1]:\n",
    "        tot+=1\n",
    "        tempset = {(i,j),(round(1-i,2),round(1-j,2)),(round(1-i,2),j),(i,round(1-j,2)),(j,i),(round(1-j,2),round(1-i,2)),(j,round(1-i,2)),(round(1-j,2),i)}\n",
    "        count = 0\n",
    "        for coord in tempset:\n",
    "            if coord not in coord_set.keys():\n",
    "                count += 1\n",
    "        if count == len(tempset):\n",
    "            coord_set[coord] = list(tempset)\n",
    "print(coord_set.keys(),len(coord_set.keys()))\n",
    "        "
   ]
  },
  {
   "cell_type": "markdown",
   "metadata": {},
   "source": [
    "make the sound sets"
   ]
  },
  {
   "cell_type": "code",
   "execution_count": 80,
   "metadata": {
    "scrolled": true
   },
   "outputs": [
    {
     "name": "stdout",
     "output_type": "stream",
     "text": [
      "--- 1.6244139671325684 seconds ---\n",
      "--- 1.3856346607208252 seconds ---\n",
      "--- 1.2787058353424072 seconds ---\n",
      "--- 1.4045937061309814 seconds ---\n",
      "--- 1.692331075668335 seconds ---\n",
      "--- 1.4781908988952637 seconds ---\n",
      "--- 1.366239070892334 seconds ---\n",
      "--- 1.318221092224121 seconds ---\n",
      "--- 1.2985239028930664 seconds ---\n",
      "--- 1.3426241874694824 seconds ---\n",
      "--- 2.4352800846099854 seconds ---\n",
      "--- 2.003859281539917 seconds ---\n",
      "--- 1.6388459205627441 seconds ---\n",
      "--- 1.4403371810913086 seconds ---\n",
      "--- 1.5868210792541504 seconds ---\n",
      "--- 1.908006191253662 seconds ---\n",
      "--- 1.890151023864746 seconds ---\n",
      "--- 1.5950572490692139 seconds ---\n",
      "--- 1.7491819858551025 seconds ---\n",
      "--- 1.7125270366668701 seconds ---\n",
      "--- 1.7165372371673584 seconds ---\n",
      "--- 1.8297069072723389 seconds ---\n",
      "--- 2.022116184234619 seconds ---\n",
      "--- 1.9269030094146729 seconds ---\n",
      "--- 1.6662158966064453 seconds ---\n",
      "--- 1.4904358386993408 seconds ---\n",
      "--- 1.4753520488739014 seconds ---\n",
      "--- 1.5051920413970947 seconds ---\n",
      "--- 1.6762638092041016 seconds ---\n",
      "--- 1.5228447914123535 seconds ---\n",
      "--- 1.5220611095428467 seconds ---\n",
      "--- 1.6749989986419678 seconds ---\n",
      "--- 1.5204041004180908 seconds ---\n",
      "--- 1.4937851428985596 seconds ---\n",
      "--- 1.508847951889038 seconds ---\n",
      "--- 1.7964048385620117 seconds ---\n",
      "--- 1.7664060592651367 seconds ---\n",
      "--- 1.8877079486846924 seconds ---\n",
      "--- 2.2262721061706543 seconds ---\n",
      "--- 1.9392969608306885 seconds ---\n",
      "--- 1.8112947940826416 seconds ---\n",
      "--- 1.7737469673156738 seconds ---\n",
      "--- 1.8597638607025146 seconds ---\n",
      "--- 1.7217669486999512 seconds ---\n",
      "--- 1.6820878982543945 seconds ---\n",
      "--- 1.5004699230194092 seconds ---\n",
      "--- 1.503622055053711 seconds ---\n",
      "--- 1.5350010395050049 seconds ---\n",
      "--- 1.643235683441162 seconds ---\n",
      "--- 1.6021208763122559 seconds ---\n",
      "--- 1.72489595413208 seconds ---\n",
      "--- 1.7977561950683594 seconds ---\n",
      "--- 1.7405099868774414 seconds ---\n",
      "--- 1.6451239585876465 seconds ---\n",
      "--- 2.0777862071990967 seconds ---\n",
      "--- 1.5660231113433838 seconds ---\n",
      "--- 1.7841811180114746 seconds ---\n",
      "--- 1.7200992107391357 seconds ---\n",
      "--- 1.6559860706329346 seconds ---\n",
      "--- 1.618610143661499 seconds ---\n",
      "--- 1.5031790733337402 seconds ---\n",
      "--- 1.554137945175171 seconds ---\n",
      "--- 1.5214061737060547 seconds ---\n",
      "--- 1.525554895401001 seconds ---\n",
      "--- 1.7067160606384277 seconds ---\n",
      "--- 1.7810721397399902 seconds ---\n"
     ]
    }
   ],
   "source": [
    "sounds_set = {}\n",
    "for key in coord_set.keys():\n",
    "    y = hitdifferentparts.hitdiffparts(key[0],key[1])\n",
    "    if np.isnan(max(y)) == True:\n",
    "        y = np.zeros(len(y))\n",
    "    sounds_set[key] = y"
   ]
  },
  {
   "cell_type": "code",
   "execution_count": 1,
   "metadata": {},
   "outputs": [
    {
     "ename": "NameError",
     "evalue": "name 'hitdifferentparts' is not defined",
     "output_type": "error",
     "traceback": [
      "\u001b[0;31m---------------------------------------------------------------------------\u001b[0m",
      "\u001b[0;31mNameError\u001b[0m                                 Traceback (most recent call last)",
      "\u001b[0;32m<ipython-input-1-48f7e7874d95>\u001b[0m in \u001b[0;36m<module>\u001b[0;34m\u001b[0m\n\u001b[0;32m----> 1\u001b[0;31m \u001b[0my\u001b[0m \u001b[0;34m=\u001b[0m \u001b[0mhitdifferentparts\u001b[0m\u001b[0;34m.\u001b[0m\u001b[0mhitdiffparts\u001b[0m\u001b[0;34m(\u001b[0m\u001b[0;36m0.2\u001b[0m\u001b[0;34m,\u001b[0m\u001b[0;36m0.8\u001b[0m\u001b[0;34m)\u001b[0m\u001b[0;34m\u001b[0m\u001b[0m\n\u001b[0m",
      "\u001b[0;31mNameError\u001b[0m: name 'hitdifferentparts' is not defined"
     ]
    }
   ],
   "source": [
    " y = hitdifferentparts.hitdiffparts(0.2,0.8)"
   ]
  },
  {
   "cell_type": "markdown",
   "metadata": {},
   "source": [
    "make fourier sets"
   ]
  },
  {
   "cell_type": "code",
   "execution_count": 81,
   "metadata": {},
   "outputs": [],
   "source": [
    "def getfourier(y):\n",
    "    \"\"\"\n",
    "    this function outputs scattering transform of a time-domain signal.\n",
    "    \"\"\"\n",
    "    N = len(y)\n",
    "    Fy = np.abs(np.fft.fft(y))\n",
    "    return Fy"
   ]
  },
  {
   "cell_type": "code",
   "execution_count": 82,
   "metadata": {
    "scrolled": true
   },
   "outputs": [],
   "source": [
    "fourier_set = {}\n",
    "for key in sounds_set.keys():\n",
    "    y = sounds_set[key]\n",
    "    Fy = getfourier(y)\n",
    "    fourier_set[key] = Fy"
   ]
  },
  {
   "cell_type": "code",
   "execution_count": 83,
   "metadata": {},
   "outputs": [],
   "source": [
    "nully = np.zeros(len(y))\n",
    "fourier_set['null'] = getfourier(nully)"
   ]
  },
  {
   "cell_type": "markdown",
   "metadata": {},
   "source": [
    "get laplacian of the entire surface"
   ]
  },
  {
   "cell_type": "code",
   "execution_count": 76,
   "metadata": {
    "scrolled": true
   },
   "outputs": [
    {
     "data": {
      "text/plain": [
       "[<matplotlib.lines.Line2D at 0x1349c3fd0>]"
      ]
     },
     "execution_count": 76,
     "metadata": {},
     "output_type": "execute_result"
    },
    {
     "data": {
      "image/png": "[encoded data removed]",
      "text/plain": [
       "<Figure size 432x288 with 1 Axes>"
      ]
     },
     "metadata": {
      "needs_background": "light"
     },
     "output_type": "display_data"
    }
   ],
   "source": [
    "plt.plot(Fy[:3000])"
   ]
  },
  {
   "cell_type": "code",
   "execution_count": 84,
   "metadata": {},
   "outputs": [],
   "source": [
    "def get_fourier(i,j):\n",
    "    #get scattering coefficients from coordinate\n",
    "    coordset = {(i,j),(round(1-i,2),round(1-j,2)),(round(1-i,2),j),\n",
    "                (i,round(1-j,2)),(j,i),(round(1-j,2),round(1-i,2)),\n",
    "                (j,round(1-i,2)),(round(1-j,2),i)}\n",
    "    count = 0\n",
    "    for c in coordset:\n",
    "        if c in fourier_set.keys():\n",
    "            break\n",
    "        elif c not in fourier_set.keys():\n",
    "            count += 1\n",
    "    if count == len(coordset):\n",
    "        c = 'null'\n",
    "    \n",
    "    return fourier_set[c]"
   ]
  },
  {
   "cell_type": "code",
   "execution_count": 57,
   "metadata": {
    "scrolled": true
   },
   "outputs": [
    {
     "name": "stdout",
     "output_type": "stream",
     "text": [
      "(65536,) 3254.5647752647496 1.1188630228279524e-16 7.332580706405269e-12\n"
     ]
    }
   ],
   "source": [
    "f = get_fourier(0.5,0.2)\n",
    "print(f.shape,np.linalg.norm(f),np.linalg.norm(np.mean(f)),np.linalg.norm(np.sum(f)))"
   ]
  },
  {
   "cell_type": "markdown",
   "metadata": {},
   "source": [
    "## ???Do I calculate norm of laplacian here or sum of laplacian vector\n",
    "\n",
    "1. x1 is from -0.05 to 1.05\n",
    "2. x1[1:-1] is 0 to 1\n",
    "3. laplacian should be 21 by 21\n",
    "4. but we want to abandon the boundary since it's setting the bar too high\n",
    "5. so we do x1[2:-2]\n"
   ]
  },
  {
   "cell_type": "code",
   "execution_count": 165,
   "metadata": {
    "scrolled": true
   },
   "outputs": [],
   "source": [
    "Lap_sum = np.zeros((len(x1[1:-1]),len(y1[1:-1])))\n",
    "Lap_norm = np.zeros((len(x1[1:-1]),len(y1[1:-1])))\n",
    "Lap_mean = np.zeros((len(x1[1:-1]),len(y1[1:-1])))\n",
    "d = 0.05\n",
    "for i,x in enumerate(x1[2:-2]):\n",
    "    for j,y in enumerate(y1[2:-2]):\n",
    "        lap = get_fourier(x,y) - 0.25 * (get_fourier(round(x+d,2),y)+get_fourier(round(x-d,2),y)\n",
    "                           +get_fourier(x,round(y+d,2))+get_fourier(x,round(y-d,2))) \n",
    "        #print(x,y,i,j)\n",
    "        lap = lap/np.linalg.norm(get_fourier(x,y))\n",
    "        Lap_sum[i+1,j+1] = np.linalg.norm(np.sum(lap))\n",
    "        Lap_norm[i+1,j+1] = np.linalg.norm(lap)\n",
    "        Lap_mean[i+1,j+1] = np.linalg.norm(np.mean(lap))"
   ]
  },
  {
   "cell_type": "code",
   "execution_count": 167,
   "metadata": {},
   "outputs": [
    {
     "data": {
      "image/png": "[encoded data removed]",
      "text/plain": [
       "<Figure size 432x360 with 2 Axes>"
      ]
     },
     "metadata": {
      "needs_background": "light"
     },
     "output_type": "display_data"
    }
   ],
   "source": [
    "#setting boundary to zero\n",
    "fig,ax = plt.subplots()\n",
    "fig.set_size_inches(6, 5)\n",
    "c = ax.pcolormesh(x1[1:], y1[1:], Lap_norm, cmap='magma_r', vmin=np.min(Lap_norm), vmax=0.48)\n",
    "plt.title('Norm of Laplacian - Fourier')\n",
    "fig.tight_layout()\n",
    "fig.colorbar(c, ax=ax)\n",
    "plt.show()\n",
    "\n",
    "#magma_r uses less ink on the poster\n",
    "#bugfix the crop boundaries\n",
    "# compare with scattering\n",
    "# maybe give actual values in the poster.\n",
    "# comment on the order of magnitude of error"
   ]
  },
  {
   "cell_type": "code",
   "execution_count": 168,
   "metadata": {},
   "outputs": [
    {
     "data": {
      "image/png": "[encoded data removed]",
      "text/plain": [
       "<Figure size 432x360 with 2 Axes>"
      ]
     },
     "metadata": {
      "needs_background": "light"
     },
     "output_type": "display_data"
    }
   ],
   "source": [
    "fig,ax = plt.subplots()\n",
    "fig.set_size_inches(6, 5)\n",
    "c = ax.pcolormesh(x1[1:], y1[1:], Lap_sum, cmap='magma_r', vmin=np.min(Lap_sum), vmax=np.max(Lap_sum))\n",
    "plt.title('Sum of Laplacian')\n",
    "fig.tight_layout()\n",
    "fig.colorbar(c, ax=ax)\n",
    "plt.show()"
   ]
  },
  {
   "cell_type": "code",
   "execution_count": 144,
   "metadata": {
    "scrolled": true
   },
   "outputs": [
    {
     "data": {
      "image/png": "[encoded data removed]",
      "text/plain": [
       "<Figure size 432x360 with 2 Axes>"
      ]
     },
     "metadata": {
      "needs_background": "light"
     },
     "output_type": "display_data"
    }
   ],
   "source": [
    "fig,ax = plt.subplots()\n",
    "fig.set_size_inches(6, 5)\n",
    "c = ax.pcolormesh(x1[1:], y1[1:], Lap_mean, cmap='magma_r', vmin=np.min(Lap_mean), vmax=np.max(Lap_mean))\n",
    "plt.title('Mean of Laplacian - Fourier')\n",
    "fig.tight_layout()\n",
    "fig.colorbar(c, ax=ax)\n",
    "plt.show()"
   ]
  },
  {
   "cell_type": "code",
   "execution_count": 145,
   "metadata": {},
   "outputs": [
    {
     "name": "stdout",
     "output_type": "stream",
     "text": [
      "0.27302978431196967\n"
     ]
    }
   ],
   "source": [
    "print(np.max(Lap_mean))"
   ]
  },
  {
   "cell_type": "code",
   "execution_count": null,
   "metadata": {},
   "outputs": [],
   "source": []
  }
 ],
 "metadata": {
  "kernelspec": {
   "display_name": "Python [conda env:anaconda3]",
   "language": "python",
   "name": "conda-env-anaconda3-py"
  },
  "language_info": {
   "codemirror_mode": {
    "name": "ipython",
    "version": 3
   },
   "file_extension": ".py",
   "mimetype": "text/x-python",
   "name": "python",
   "nbconvert_exporter": "python",
   "pygments_lexer": "ipython3",
   "version": "3.6.3"
  }
 },
 "nbformat": 4,
 "nbformat_minor": 2
}
