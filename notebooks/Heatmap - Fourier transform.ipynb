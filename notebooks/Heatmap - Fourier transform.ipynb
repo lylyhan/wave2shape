{
 "cells": [
  {
   "cell_type": "markdown",
   "metadata": {},
   "source": [
    "## Heat Map\n",
    "indicating laplacian of each point on the drum surface in the Fourier domain"
   ]
  },
  {
   "cell_type": "code",
   "execution_count": 1,
   "metadata": {},
   "outputs": [],
   "source": [
    "import hitdifferentparts\n",
    "import IPython.display as ipd\n",
    "import numpy as np\n",
    "import librosa\n",
    "#import autograd\n",
    "#import torch\n",
    "#from kymatio import Scattering1D\n",
    "\n",
    "#from torch.autograd import backward\n",
    "from matplotlib.patches import Rectangle\n",
    "import matplotlib.pyplot as plt\n",
    "from tqdm import tnrange, tqdm_notebook"
   ]
  },
  {
   "cell_type": "markdown",
   "metadata": {},
   "source": [
    "sample from 1/8 of the drum surface, resolution is 0.05"
   ]
  },
  {
   "cell_type": "code",
   "execution_count": 2,
   "metadata": {
    "scrolled": true
   },
   "outputs": [
    {
     "data": {
      "image/png": "[encoded data removed]",
      "text/plain": [
       "<Figure size 360x360 with 1 Axes>"
      ]
     },
     "metadata": {
      "needs_background": "light"
     },
     "output_type": "display_data"
    }
   ],
   "source": [
    "d = 1/20\n",
    "x = np.linspace(0-d,1+d,21+2)\n",
    "y = np.linspace(0-d,1+d,21+2)\n",
    "x_sel = []\n",
    "y_sel = []\n",
    "for i in x:\n",
    "    for j in y:\n",
    "        x_sel.append(i)\n",
    "        y_sel.append(j)\n",
    "plt.figure(figsize=(5,5))\n",
    "#Rectangle((0,0), 1, 1,linestyle='-')\n",
    "plt.scatter(x_sel,y_sel)\n",
    "plt.axvline(x=0,color = 'r')\n",
    "plt.axvline(x=1,color = 'r')\n",
    "plt.axhline(y=0,color = 'r')\n",
    "plt.axhline(y=1,color = 'r')\n",
    "plt.show()\n",
    "#plt.xlim([0,1])\n",
    "#plt.ylim([0,1])"
   ]
  },
  {
   "cell_type": "markdown",
   "metadata": {},
   "source": [
    "dictionary that forms mapping between points that are equivalent to each other.\n",
    "\n",
    "scattering transform on each point in the set\n",
    "\n",
    "matrix of scattering transfrom of the entire surface\n",
    "\n",
    "and then get matrix of laplacian of each point"
   ]
  },
  {
   "cell_type": "markdown",
   "metadata": {},
   "source": [
    "make coordinate mapping dictionary"
   ]
  },
  {
   "cell_type": "code",
   "execution_count": 3,
   "metadata": {},
   "outputs": [],
   "source": [
    "x1 = [round(i,2) for i in x]\n",
    "y1 = [round(i,2) for i in y]"
   ]
  },
  {
   "cell_type": "code",
   "execution_count": 4,
   "metadata": {
    "scrolled": false
   },
   "outputs": [
    {
     "name": "stdout",
     "output_type": "stream",
     "text": [
      "dict_keys([(1.0, 1.0), (1.0, 0.05), (1.0, 0.9), (1.0, 0.85), (1.0, 0.8), (1.0, 0.25), (1.0, 0.7), (1.0, 0.35), (1.0, 0.4), (1.0, 0.55), (0.5, 0.0), (0.95, 0.95), (0.9, 0.05), (0.85, 0.05), (0.8, 0.05), (0.75, 0.05), (0.7, 0.05), (0.65, 0.05), (0.6, 0.05), (0.55, 0.05), (0.95, 0.5), (0.9, 0.9), (0.85, 0.1), (0.8, 0.1), (0.75, 0.1), (0.7, 0.1), (0.65, 0.1), (0.6, 0.1), (0.55, 0.1), (0.9, 0.5), (0.85, 0.85), (0.8, 0.15), (0.75, 0.15), (0.7, 0.15), (0.65, 0.15), (0.6, 0.15), (0.55, 0.15), (0.85, 0.5), (0.8, 0.8), (0.75, 0.2), (0.7, 0.2), (0.65, 0.2), (0.6, 0.2), (0.55, 0.2), (0.8, 0.5), (0.75, 0.75), (0.7, 0.25), (0.65, 0.25), (0.6, 0.25), (0.55, 0.25), (0.75, 0.5), (0.7, 0.7), (0.65, 0.3), (0.6, 0.3), (0.55, 0.3), (0.7, 0.5), (0.65, 0.35), (0.6, 0.35), (0.55, 0.35), (0.65, 0.5), (0.6, 0.4), (0.55, 0.4), (0.6, 0.5), (0.55, 0.55), (0.55, 0.5), (0.5, 0.5)]) 66\n"
     ]
    }
   ],
   "source": [
    "coord_set = {}\n",
    "# (0.1,0.9) = (0.9,0.1) = {0.9,0.9} = {0.1,0.1}\n",
    "tot = 0\n",
    "for i in x1[1:-1]:\n",
    "    for j in y1[1:-1]:\n",
    "        tot+=1\n",
    "        tempset = {(i,j),(round(1-i,2),round(1-j,2)),(round(1-i,2),j),(i,round(1-j,2)),(j,i),(round(1-j,2),round(1-i,2)),(j,round(1-i,2)),(round(1-j,2),i)}\n",
    "        count = 0\n",
    "        for coord in tempset:\n",
    "            if coord not in coord_set.keys():\n",
    "                count += 1\n",
    "        if count == len(tempset):\n",
    "            coord_set[coord] = list(tempset)\n",
    "print(coord_set.keys(),len(coord_set.keys()))\n",
    "        "
   ]
  },
  {
   "cell_type": "markdown",
   "metadata": {},
   "source": [
    "make the sound sets"
   ]
  },
  {
   "cell_type": "code",
   "execution_count": 12,
   "metadata": {
    "scrolled": true
   },
   "outputs": [
    {
     "name": "stderr",
     "output_type": "stream",
     "text": [
      "/Users/lilyh/Documents/NYU/THESIS/wave2shape/notebooks/hitdifferentparts.py:67: RuntimeWarning: invalid value encountered in true_divide\n",
      "  y2 = y/np.max(np.abs(np.array(y)))\n"
     ]
    },
    {
     "name": "stdout",
     "output_type": "stream",
     "text": [
      "--- 1.0056021213531494 seconds ---\n",
      "--- 1.1806509494781494 seconds ---\n",
      "--- 1.0658528804779053 seconds ---\n",
      "--- 1.156559944152832 seconds ---\n",
      "--- 1.0249340534210205 seconds ---\n",
      "--- 1.0584039688110352 seconds ---\n",
      "--- 1.066312313079834 seconds ---\n",
      "--- 0.9324169158935547 seconds ---\n",
      "--- 1.1012330055236816 seconds ---\n",
      "--- 0.9279689788818359 seconds ---\n",
      "--- 1.0879638195037842 seconds ---\n",
      "--- 1.015429973602295 seconds ---\n",
      "--- 0.978644847869873 seconds ---\n",
      "--- 1.2041139602661133 seconds ---\n",
      "--- 0.9527530670166016 seconds ---\n",
      "--- 0.9690370559692383 seconds ---\n",
      "--- 1.0527591705322266 seconds ---\n",
      "--- 1.0803191661834717 seconds ---\n",
      "--- 1.0302939414978027 seconds ---\n",
      "--- 0.9452860355377197 seconds ---\n",
      "--- 0.9790921211242676 seconds ---\n",
      "--- 0.9733140468597412 seconds ---\n",
      "--- 0.9053940773010254 seconds ---\n",
      "--- 0.891726016998291 seconds ---\n",
      "--- 0.8991198539733887 seconds ---\n",
      "--- 0.8948240280151367 seconds ---\n",
      "--- 0.9030096530914307 seconds ---\n",
      "--- 1.2057268619537354 seconds ---\n",
      "--- 1.3809568881988525 seconds ---\n",
      "--- 1.2941341400146484 seconds ---\n",
      "--- 1.3936011791229248 seconds ---\n",
      "--- 1.233630895614624 seconds ---\n",
      "--- 1.3114171028137207 seconds ---\n",
      "--- 1.2758610248565674 seconds ---\n",
      "--- 1.1748089790344238 seconds ---\n",
      "--- 1.195693016052246 seconds ---\n",
      "--- 1.2505431175231934 seconds ---\n",
      "--- 1.124222993850708 seconds ---\n",
      "--- 1.4564509391784668 seconds ---\n",
      "--- 1.6540989875793457 seconds ---\n",
      "--- 1.2240869998931885 seconds ---\n",
      "--- 1.6542859077453613 seconds ---\n",
      "--- 1.1757571697235107 seconds ---\n",
      "--- 1.167999029159546 seconds ---\n",
      "--- 1.352391004562378 seconds ---\n",
      "--- 1.204827070236206 seconds ---\n",
      "--- 1.0719530582427979 seconds ---\n",
      "--- 1.027237892150879 seconds ---\n",
      "--- 1.2805640697479248 seconds ---\n",
      "--- 1.1588799953460693 seconds ---\n",
      "--- 1.036512851715088 seconds ---\n",
      "--- 1.3908801078796387 seconds ---\n",
      "--- 1.1805438995361328 seconds ---\n",
      "--- 1.1079349517822266 seconds ---\n",
      "--- 1.1033999919891357 seconds ---\n",
      "--- 1.0745391845703125 seconds ---\n",
      "--- 1.4870128631591797 seconds ---\n",
      "--- 1.1417951583862305 seconds ---\n",
      "--- 1.2241661548614502 seconds ---\n",
      "--- 1.5910208225250244 seconds ---\n",
      "--- 1.675685167312622 seconds ---\n",
      "--- 1.1512749195098877 seconds ---\n",
      "--- 1.271178960800171 seconds ---\n",
      "--- 1.0112957954406738 seconds ---\n",
      "--- 1.1581623554229736 seconds ---\n",
      "--- 1.083376169204712 seconds ---\n"
     ]
    }
   ],
   "source": [
    "w,t,pp,d,a = [3960.1349876368563, 0.09376144165196816, 0.0016713390753826927,\n",
    "       0.0012821611585344935, 0.23768976773282824]\n",
    "sounds_set = {}\n",
    "for key in coord_set.keys():\n",
    "    #y = hitdifferentparts.getsounds_imp_gaus(10,10,key[0],key[1],w,t,pp,d,a,22050) #gaussian excitation\n",
    "    y = hitdifferentparts.hitdiffparts(key[0],key[1],w,t,pp,d,a) #delta excitation\n",
    "    if np.isnan(max(y)) == True:\n",
    "        y = np.zeros(len(y))\n",
    "    sounds_set[key] = y"
   ]
  },
  {
   "cell_type": "markdown",
   "metadata": {},
   "source": [
    "make fourier sets"
   ]
  },
  {
   "cell_type": "code",
   "execution_count": 6,
   "metadata": {},
   "outputs": [],
   "source": [
    "def getfourier(y):\n",
    "    \"\"\"\n",
    "    this function outputs scattering transform of a time-domain signal.\n",
    "    \"\"\"\n",
    "    N = len(y)\n",
    "    Fy = np.abs(np.fft.fft(y))\n",
    "    return Fy"
   ]
  },
  {
   "cell_type": "code",
   "execution_count": 13,
   "metadata": {
    "scrolled": true
   },
   "outputs": [],
   "source": [
    "fourier_set = {}\n",
    "for key in sounds_set.keys():\n",
    "    y = sounds_set[key]\n",
    "    Fy = getfourier(y)\n",
    "    fourier_set[key] = Fy"
   ]
  },
  {
   "cell_type": "code",
   "execution_count": 14,
   "metadata": {},
   "outputs": [],
   "source": [
    "nully = np.zeros(len(y))\n",
    "fourier_set['null'] = getfourier(nully)"
   ]
  },
  {
   "cell_type": "markdown",
   "metadata": {},
   "source": [
    "get laplacian of the entire surface"
   ]
  },
  {
   "cell_type": "code",
   "execution_count": 15,
   "metadata": {},
   "outputs": [],
   "source": [
    "def get_fourier(i,j):\n",
    "    #get scattering coefficients from coordinate\n",
    "    coordset = {(i,j),(round(1-i,2),round(1-j,2)),(round(1-i,2),j),\n",
    "                (i,round(1-j,2)),(j,i),(round(1-j,2),round(1-i,2)),\n",
    "                (j,round(1-i,2)),(round(1-j,2),i)}\n",
    "    count = 0\n",
    "    for c in coordset:\n",
    "        if c in fourier_set.keys():\n",
    "            break\n",
    "        elif c not in fourier_set.keys():\n",
    "            count += 1\n",
    "    if count == len(coordset):\n",
    "        c = 'null'\n",
    "    \n",
    "    return fourier_set[c]"
   ]
  },
  {
   "cell_type": "code",
   "execution_count": 57,
   "metadata": {
    "scrolled": true
   },
   "outputs": [
    {
     "name": "stdout",
     "output_type": "stream",
     "text": [
      "(65536,) 3254.5647752647496 1.1188630228279524e-16 7.332580706405269e-12\n"
     ]
    }
   ],
   "source": [
    "f = get_fourier(0.5,0.2)\n",
    "print(f.shape,np.linalg.norm(f),np.linalg.norm(np.mean(f)),np.linalg.norm(np.sum(f)))"
   ]
  },
  {
   "cell_type": "markdown",
   "metadata": {},
   "source": [
    "## ???Do I calculate norm of laplacian here or sum of laplacian vector\n",
    "\n",
    "1. x1 is from -0.05 to 1.05\n",
    "2. x1[1:-1] is 0 to 1\n",
    "3. laplacian should be 21 by 21\n",
    "4. but we want to abandon the boundary since it's setting the bar too high\n",
    "5. so we do x1[2:-2]\n"
   ]
  },
  {
   "cell_type": "code",
   "execution_count": 16,
   "metadata": {
    "scrolled": true
   },
   "outputs": [],
   "source": [
    "Lap_sum = np.zeros((len(x1[1:-1]),len(y1[1:-1])))\n",
    "Lap_norm = np.zeros((len(x1[1:-1]),len(y1[1:-1])))\n",
    "Lap_mean = np.zeros((len(x1[1:-1]),len(y1[1:-1])))\n",
    "d = 0.05\n",
    "for i,x in enumerate(x1[2:-2]):\n",
    "    for j,y in enumerate(y1[2:-2]):\n",
    "        lap = get_fourier(x,y) - 0.25 * (get_fourier(round(x+d,2),y)+get_fourier(round(x-d,2),y)\n",
    "                           +get_fourier(x,round(y+d,2))+get_fourier(x,round(y-d,2))) \n",
    "        #print(x,y,i,j)\n",
    "        lap = lap/np.linalg.norm(get_fourier(x,y))\n",
    "        Lap_sum[i+1,j+1] = np.linalg.norm(np.sum(lap))\n",
    "        Lap_norm[i+1,j+1] = np.linalg.norm(lap)\n",
    "        Lap_mean[i+1,j+1] = np.linalg.norm(np.mean(lap))"
   ]
  },
  {
   "cell_type": "code",
   "execution_count": 18,
   "metadata": {},
   "outputs": [
    {
     "data": {
      "text/plain": [
       "0.5170053089528444"
      ]
     },
     "execution_count": 18,
     "metadata": {},
     "output_type": "execute_result"
    }
   ],
   "source": [
    "np.max(Lap_norm)"
   ]
  },
  {
   "cell_type": "code",
   "execution_count": 19,
   "metadata": {
    "scrolled": true
   },
   "outputs": [
    {
     "data": {
      "image/png": "[encoded data removed]",
      "text/plain": [
       "<Figure size 432x360 with 2 Axes>"
      ]
     },
     "metadata": {
      "needs_background": "light"
     },
     "output_type": "display_data"
    }
   ],
   "source": [
    "#setting boundary to zero\n",
    "fig,ax = plt.subplots()\n",
    "fig.set_size_inches(6, 5)\n",
    "ax.tick_params(labelsize=18)\n",
    "c = ax.pcolormesh(x1[1:], y1[1:], Lap_norm, cmap='magma_r', vmin=np.min(Lap_norm), vmax=0.79)\n",
    "plt.title('Norm of Laplacian - Fourier',fontsize=20)\n",
    "fig.tight_layout()\n",
    "cb=fig.colorbar(c, ax=ax)\n",
    "cb.ax.tick_params(labelsize=18)\n",
    "plt.show()\n",
    "\n",
    "#magma_r uses less ink on the poster\n",
    "#bugfix the crop boundaries\n",
    "# compare with scattering\n",
    "# maybe give actual values in the poster.\n",
    "# comment on the order of magnitude of error"
   ]
  },
  {
   "cell_type": "code",
   "execution_count": 16,
   "metadata": {},
   "outputs": [
    {
     "data": {
      "text/plain": [
       "0.790287494666335"
      ]
     },
     "execution_count": 16,
     "metadata": {},
     "output_type": "execute_result"
    }
   ],
   "source": [
    "np.max(Lap_norm)"
   ]
  },
  {
   "cell_type": "code",
   "execution_count": 168,
   "metadata": {},
   "outputs": [
    {
     "data": {
      "image/png": "[encoded data removed]",
      "text/plain": [
       "<Figure size 432x360 with 2 Axes>"
      ]
     },
     "metadata": {
      "needs_background": "light"
     },
     "output_type": "display_data"
    }
   ],
   "source": [
    "fig,ax = plt.subplots()\n",
    "fig.set_size_inches(6, 5)\n",
    "c = ax.pcolormesh(x1[1:], y1[1:], Lap_sum, cmap='magma_r', vmin=np.min(Lap_sum), vmax=np.max(Lap_sum))\n",
    "plt.title('Sum of Laplacian')\n",
    "fig.tight_layout()\n",
    "fig.colorbar(c, ax=ax)\n",
    "plt.show()"
   ]
  },
  {
   "cell_type": "code",
   "execution_count": 144,
   "metadata": {
    "scrolled": true
   },
   "outputs": [
    {
     "data": {
      "image/png": "[encoded data removed]",
      "text/plain": [
       "<Figure size 432x360 with 2 Axes>"
      ]
     },
     "metadata": {
      "needs_background": "light"
     },
     "output_type": "display_data"
    }
   ],
   "source": [
    "fig,ax = plt.subplots()\n",
    "fig.set_size_inches(6, 5)\n",
    "c = ax.pcolormesh(x1[1:], y1[1:], Lap_mean, cmap='magma_r', vmin=np.min(Lap_mean), vmax=np.max(Lap_mean))\n",
    "plt.title('Mean of Laplacian - Fourier')\n",
    "fig.tight_layout()\n",
    "fig.colorbar(c, ax=ax)\n",
    "plt.show()"
   ]
  },
  {
   "cell_type": "code",
   "execution_count": 145,
   "metadata": {},
   "outputs": [
    {
     "name": "stdout",
     "output_type": "stream",
     "text": [
      "0.27302978431196967\n"
     ]
    }
   ],
   "source": [
    "print(np.max(Lap_mean))"
   ]
  },
  {
   "cell_type": "code",
   "execution_count": null,
   "metadata": {},
   "outputs": [],
   "source": []
  }
 ],
 "metadata": {
  "kernelspec": {
   "display_name": "Python 3",
   "language": "python",
   "name": "python3"
  },
  "language_info": {
   "codemirror_mode": {
    "name": "ipython",
    "version": 3
   },
   "file_extension": ".py",
   "mimetype": "text/x-python",
   "name": "python",
   "nbconvert_exporter": "python",
   "pygments_lexer": "ipython3",
   "version": "3.7.6"
  }
 },
 "nbformat": 4,
 "nbformat_minor": 2
}
