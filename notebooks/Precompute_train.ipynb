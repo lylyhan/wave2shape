{
 "cells": [
  {
   "cell_type": "code",
   "execution_count": 1,
   "metadata": {},
   "outputs": [],
   "source": [
    "import pickle\n",
    "from kymatio import Scattering1D\n",
    "import os\n",
    "import pandas as pd\n",
    "import librosa\n",
    "import numpy as np\n",
    "import torch\n",
    "import tqdm"
   ]
  },
  {
   "cell_type": "code",
   "execution_count": null,
   "metadata": {},
   "outputs": [],
   "source": []
  },
  {
   "cell_type": "code",
   "execution_count": 2,
   "metadata": {},
   "outputs": [],
   "source": [
    "# scattering order one\n",
    "def getsc_new(y,J,Q_num,order):\n",
    "    \"\"\"\n",
    "    this function outputs scattering transform of a time-domain signal.\n",
    "    \"\"\"\n",
    "    N = len(y)\n",
    "    scattering = Scattering1D(J = J,shape=(N,), Q = Q_num, max_order=order)\n",
    "    Sy = scattering(torch.Tensor(y))\n",
    "    return Sy"
   ]
  },
  {
   "cell_type": "code",
   "execution_count": 3,
   "metadata": {},
   "outputs": [],
   "source": []
  },
  {
   "cell_type": "code",
   "execution_count": 10,
   "metadata": {},
   "outputs": [
    {
     "name": "stderr",
     "output_type": "stream",
     "text": [
      "\n",
      "  0%|          | 0/3 [00:00<?, ?it/s]\u001b[A\n",
      " 33%|███▎      | 1/3 [00:00<00:00,  2.20it/s]\u001b[A\n",
      " 67%|██████▋   | 2/3 [00:00<00:00,  2.19it/s]\u001b[A\n",
      "100%|██████████| 3/3 [00:01<00:00,  2.17it/s]\u001b[A\n"
     ]
    }
   ],
   "source": [
    "J = 8\n",
    "Q = 1\n",
    "order = 2\n",
    "\n",
    "tr_path = \"/scratch/hh2263/drum_data/train/\"\n",
    "df_tr = pd.read_csv(\"./train_param.csv\")\n",
    "tr_ids = df_tr.values[:3, 0] \n",
    "\n",
    "tr_input = []\n",
    "for tr_id in tqdm.tqdm(tr_ids):\n",
    "    filename = tr_path + str(tr_id) + \"_sound.wav\"\n",
    "    x, fs = librosa.load(filename)\n",
    "    Sy = getsc_new(x, J, Q, order).T\n",
    "    tr_input.append(Sy)\n",
    "tr_input = np.stack(tr_input)\n",
    "tr_gt = df_tr.values[:,1:-1]"
   ]
  },
  {
   "cell_type": "code",
   "execution_count": null,
   "metadata": {},
   "outputs": [],
   "source": []
  }
 ],
 "metadata": {
  "kernelspec": {
   "display_name": "Python 3",
   "language": "python",
   "name": "python3"
  },
  "language_info": {
   "codemirror_mode": {
    "name": "ipython",
    "version": 3
   },
   "file_extension": ".py",
   "mimetype": "text/x-python",
   "name": "python",
   "nbconvert_exporter": "python",
   "pygments_lexer": "ipython3",
   "version": "3.7.6"
  }
 },
 "nbformat": 4,
 "nbformat_minor": 4
}
