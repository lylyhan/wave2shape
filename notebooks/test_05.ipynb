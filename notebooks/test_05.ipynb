{
 "cells": [
  {
   "cell_type": "code",
   "execution_count": 12,
   "metadata": {},
   "outputs": [
    {
     "name": "stdout",
     "output_type": "stream",
     "text": [
      "2020-03-11 17:36:35.530602 Start.\n",
      "Computing scattering features.\n",
      "2020-03-11 17:36:50.042861 Finish.\n",
      "Total elapsed time: 00:00:15.04.\n"
     ]
    }
   ],
   "source": [
    "import datetime\n",
    "from kymatio import Scattering1D\n",
    "import librosa\n",
    "import numpy as np\n",
    "import os\n",
    "import pandas as pd\n",
    "import pickle\n",
    "import time\n",
    "import torch\n",
    "import tqdm\n",
    "\n",
    "\n",
    "# Define output path.\n",
    "data_dir = \"/scratch/vl1019/han2020fa_data/\"\n",
    "pickle_dir = os.path.join(data_dir, \"han2020fa_sc-pkl\")\n",
    "wav_dir = os.path.join(data_dir, \"han2020fa_wav\")\n",
    "os.makedirs(pickle_dir, exist_ok=True)\n",
    "\n",
    "\n",
    "# Parse input arguments.\n",
    "fold_str = \"train\"\n",
    "J = 14\n",
    "order = 2\n",
    "Q = 1\n",
    "\n",
    "\n",
    "# Start counting time.\n",
    "start_time = int(time.time())\n",
    "print(str(datetime.datetime.now()) + \" Start.\")\n",
    "print(\"Computing scattering features.\")\n",
    "\n",
    "\n",
    "# Load CSV file of physical parameters.\n",
    "csv_path = \"../notebooks/\" + fold_str + \"_param.csv\"\n",
    "df = pd.read_csv(csv_path)\n",
    "sample_ids = df.values[:100, 0]\n",
    "\n",
    "\n",
    "# Define scattering operator\n",
    "N = 2 ** 15\n",
    "scattering = Scattering1D(J=J, shape=(N,), Q=Q, max_order=order)\n",
    "\n",
    "\n",
    "# Compute scattering features.\n",
    "X = []\n",
    "for sample_id in sample_ids:\n",
    "    wav_name = str(sample_id) + \"_sound.wav\"\n",
    "    wav_path = os.path.join(wav_dir, fold_str, wav_name)\n",
    "    waveform, _ = librosa.load(wav_path)\n",
    "    torch_waveform = torch.Tensor(waveform)\n",
    "    Sx = np.array(scattering(torch_waveform).T)\n",
    "    X.append(Sx)\n",
    "X = np.stack(X)\n",
    "\n",
    "\n",
    "# Load physical parameters. (ground truth)\n",
    "y = df.values[:, 1:-1]\n",
    "\n",
    "\n",
    "# Print elapsed time.\n",
    "print(str(datetime.datetime.now()) + \" Finish.\")\n",
    "elapsed_time = time.time() - int(start_time)\n",
    "elapsed_hours = int(elapsed_time / (60 * 60))\n",
    "elapsed_minutes = int((elapsed_time % (60 * 60)) / 60)\n",
    "elapsed_seconds = elapsed_time % 60.0\n",
    "elapsed_str = \"{:>02}:{:>02}:{:>05.2f}\".format(\n",
    "    elapsed_hours, elapsed_minutes, elapsed_seconds\n",
    ")\n",
    "print(\"Total elapsed time: \" + elapsed_str + \".\")\n"
   ]
  },
  {
   "cell_type": "code",
   "execution_count": null,
   "metadata": {},
   "outputs": [],
   "source": []
  }
 ],
 "metadata": {
  "kernelspec": {
   "display_name": "Python 3",
   "language": "python",
   "name": "python3"
  }
 },
 "nbformat": 4,
 "nbformat_minor": 4
}
