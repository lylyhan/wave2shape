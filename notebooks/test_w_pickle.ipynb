{
 "cells": [
  {
   "cell_type": "code",
   "execution_count": 9,
   "metadata": {},
   "outputs": [],
   "source": [
    "import numpy as np\n",
    "import tensorflow.keras\n",
    "import torch\n",
    "import tensorflow as tf\n",
    "from tensorflow.keras.models import Model, Sequential\n",
    "from tensorflow.keras.layers import Conv1D, AveragePooling1D, Conv2D, MaxPooling2D,ReLU\n",
    "import tensorflow.keras.backend as K\n",
    "from tensorflow.keras.models import load_model #save and load models\n",
    "from tensorflow.keras.layers import Dense, Dropout, Activation, Flatten\n",
    "from tensorflow.keras.layers import BatchNormalization\n",
    "from tensorflow.keras.callbacks import EarlyStopping, CSVLogger, ModelCheckpoint\n",
    "import IPython.display as ipd\n",
    "from kymatio import Scattering1D\n",
    "import hitdifferentparts\n",
    "import pandas as pd\n",
    "from sklearn.preprocessing import MinMaxScaler\n",
    "import pescador\n",
    "import random\n",
    "import os\n",
    "import librosa\n",
    "import pickle"
   ]
  },
  {
   "cell_type": "code",
   "execution_count": 10,
   "metadata": {},
   "outputs": [
    {
     "data": {
      "text/plain": [
       "[PhysicalDevice(name='/physical_device:GPU:0', device_type='GPU')]"
      ]
     },
     "execution_count": 10,
     "metadata": {},
     "output_type": "execute_result"
    }
   ],
   "source": [
    "tf.config.experimental.list_physical_devices('GPU')"
   ]
  },
  {
   "cell_type": "code",
   "execution_count": 11,
   "metadata": {
    "scrolled": true
   },
   "outputs": [
    {
     "data": {
      "text/plain": [
       "['scattering_J-06_Q-01_order2.pkl',\n",
       " 'scattering_J-10_Q-01_order1.pkl',\n",
       " 'scattering_J-12_Q-01_order1.pkl',\n",
       " 'scattering_J-14_Q-01_order1.pkl',\n",
       " 'scattering_J-06_Q-01_order1.pkl',\n",
       " 'scattering_J-08_Q-01_order1.pkl',\n",
       " 'scattering_J-10_Q-01_order2.pkl',\n",
       " 'scattering_J-08_Q-01_order2.pkl',\n",
       " 'scattering_J-12_Q-01_order2.pkl',\n",
       " 'scattering_J-14_Q-01_order2.pkl']"
      ]
     },
     "execution_count": 11,
     "metadata": {},
     "output_type": "execute_result"
    }
   ],
   "source": [
    "pkl_dir = \"/scratch/hh2263/drum_data/pkl_data/\"\n",
    "os.listdir(pkl_dir)"
   ]
  },
  {
   "cell_type": "code",
   "execution_count": 12,
   "metadata": {},
   "outputs": [
    {
     "name": "stdout",
     "output_type": "stream",
     "text": [
      "Thu Mar 12 21:35:38 2020       \r\n",
      "+-----------------------------------------------------------------------------+\r\n",
      "| NVIDIA-SMI 440.33.01    Driver Version: 440.33.01    CUDA Version: 10.2     |\r\n",
      "|-------------------------------+----------------------+----------------------+\r\n",
      "| GPU  Name        Persistence-M| Bus-Id        Disp.A | Volatile Uncorr. ECC |\r\n",
      "| Fan  Temp  Perf  Pwr:Usage/Cap|         Memory-Usage | GPU-Util  Compute M. |\r\n",
      "|===============================+======================+======================|\r\n",
      "|   0  Tesla V100-SXM2...  On   | 00000000:86:00.0 Off |                    0 |\r\n",
      "| N/A   28C    P0    39W / 300W |     11MiB / 32510MiB |      0%   E. Process |\r\n",
      "+-------------------------------+----------------------+----------------------+\r\n",
      "                                                                               \r\n",
      "+-----------------------------------------------------------------------------+\r\n",
      "| Processes:                                                       GPU Memory |\r\n",
      "|  GPU       PID   Type   Process name                             Usage      |\r\n",
      "|=============================================================================|\r\n",
      "|  No running processes found                                                 |\r\n",
      "+-----------------------------------------------------------------------------+\r\n"
     ]
    }
   ],
   "source": [
    "!nvidia-smi"
   ]
  },
  {
   "cell_type": "code",
   "execution_count": 13,
   "metadata": {},
   "outputs": [],
   "source": [
    "# open J-8,Q=1,O=2 pkl file\n",
    "J = 8\n",
    "Q = 1\n",
    "order = 2\n",
    "pkl_path = '/scratch/hh2263/drum_data/pkl_data/scattering_J-08_Q-01_order2.pkl'\n",
    "pkl_file = open(pkl_path, 'rb')\n",
    "Sy_train,y_train = pickle.load(pkl_file) \n",
    "\n",
    "pkl_path_val = '/scratch/hh2263/drum_data/val/J_8_Q_1_order_2.pkl'\n",
    "pkl_val = open(pkl_path_val,'rb')\n",
    "Sy_val,y_val = pickle.load(pkl_val)\n",
    "Sy_val = Sy_val.reshape((Sy_val.shape[2],Sy_val.shape[0],Sy_val.shape[1]))"
   ]
  },
  {
   "cell_type": "code",
   "execution_count": 14,
   "metadata": {},
   "outputs": [
    {
     "name": "stdout",
     "output_type": "stream",
     "text": [
      "(82224, 128, 43) (7776, 128, 43) (82224, 5) (7776, 5) 128 43\n"
     ]
    }
   ],
   "source": [
    "input_x = Sy_train.shape[1]\n",
    "input_y = Sy_train.shape[2]\n",
    "print(Sy_train.shape,Sy_val.shape,y_train.shape,y_val.shape,input_x,input_y)"
   ]
  },
  {
   "cell_type": "code",
   "execution_count": 15,
   "metadata": {},
   "outputs": [
    {
     "name": "stdout",
     "output_type": "stream",
     "text": [
      "Thu Mar 12 21:35:43 2020       \r\n",
      "+-----------------------------------------------------------------------------+\r\n",
      "| NVIDIA-SMI 440.33.01    Driver Version: 440.33.01    CUDA Version: 10.2     |\r\n",
      "|-------------------------------+----------------------+----------------------+\r\n",
      "| GPU  Name        Persistence-M| Bus-Id        Disp.A | Volatile Uncorr. ECC |\r\n",
      "| Fan  Temp  Perf  Pwr:Usage/Cap|         Memory-Usage | GPU-Util  Compute M. |\r\n",
      "|===============================+======================+======================|\r\n",
      "|   0  Tesla V100-SXM2...  On   | 00000000:86:00.0 Off |                    0 |\r\n",
      "| N/A   28C    P0    40W / 300W |     11MiB / 32510MiB |      0%   E. Process |\r\n",
      "+-------------------------------+----------------------+----------------------+\r\n",
      "                                                                               \r\n",
      "+-----------------------------------------------------------------------------+\r\n",
      "| Processes:                                                       GPU Memory |\r\n",
      "|  GPU       PID   Type   Process name                             Usage      |\r\n",
      "|=============================================================================|\r\n",
      "|  No running processes found                                                 |\r\n",
      "+-----------------------------------------------------------------------------+\r\n"
     ]
    }
   ],
   "source": [
    "!nvidia-smi"
   ]
  },
  {
   "cell_type": "code",
   "execution_count": 16,
   "metadata": {},
   "outputs": [],
   "source": [
    "df_train = pd.read_csv(\"./train_param.csv\")\n",
    "df_test = pd.read_csv(\"./test_param.csv\")\n",
    "df_val = pd.read_csv(\"./val_param.csv\")\n",
    "df_full = pd.read_csv(\"./diffshapes_param.csv\")\n",
    "\n",
    "# normalization of the physical parameters\n",
    "params = df_train.values[:,1:-1]\n",
    "scaler = MinMaxScaler()\n",
    "scaler.fit(params)\n",
    "\n",
    "#normalize training and validation set\n",
    "y_train_normalized = scaler.transform(y_train)\n",
    "y_val_normalized = scaler.transform(y_val)"
   ]
  },
  {
   "cell_type": "code",
   "execution_count": 17,
   "metadata": {},
   "outputs": [],
   "source": [
    "#make the model\n",
    "def create_model(J,Q,order,input_x,input_y,k_size,layer_size,nchan_out):\n",
    "    #fname = random.choice(os.listdir(path_to_train))\n",
    "    #rand_audio = os.path.join(path_to_train,fname)\n",
    "    #y,sr = librosa.load(rand_audio)\n",
    "    #N = len(y)\n",
    "    #scattering = Scattering1D(J = J,shape=(N,), Q = Q, max_order=order)\n",
    "    \n",
    "    #Sy = getsc_new(torch.Tensor(y),J,Q,order,scattering).T\n",
    "    #nrow, ncol = Sy.shape \n",
    "    nrow = input_x\n",
    "    ncol = input_y\n",
    "    #naudio = batch_size         # number of images in batch\n",
    "    nchan_in = 1       # number of input channels.  1 since it is BW\n",
    "    #input_shape = (nrow,ncol,nchan_in)  # input shape of 1 image\n",
    "    input_shape = (input_x,input_y)#Sy.shape\n",
    "    #batch_shape = (naudio,nrow,ncol,nchan_in)  # shape of image batch\n",
    "    #x = Sy.reshape(batch_shape)\n",
    "    kernel_size = (k_size,)\n",
    "    #nchan_out = 16\n",
    "\n",
    "    K.clear_session()\n",
    "    model=Sequential()\n",
    "    #1 conv layer +  1 batch normalization + nonlinear activation + pooling\n",
    "    model.add(Conv1D(input_shape=input_shape, filters=nchan_out,\n",
    "                     kernel_size=kernel_size, padding=\"same\",name='conv1'))\n",
    "    model.add(BatchNormalization())\n",
    "    model.add(Activation(\"relu\"))\n",
    "    model.add(AveragePooling1D(pool_size=(4,)))\n",
    "    \n",
    "   #second time\n",
    "    model.add(Conv1D(filters=nchan_out,\n",
    "                     kernel_size=kernel_size, padding=\"same\",name='conv2' ))\n",
    "    model.add(BatchNormalization())\n",
    "    model.add(Activation(\"relu\"))\n",
    "    model.add(AveragePooling1D(pool_size=(4,)))\n",
    "    \n",
    "    #third time\n",
    "    if layer_size>=3:\n",
    "        model.add(Conv1D(filters=nchan_out,\n",
    "                         kernel_size=kernel_size, padding=\"same\",name='conv3' ))\n",
    "        model.add(BatchNormalization())\n",
    "        model.add(Activation(\"relu\"))\n",
    "        model.add(AveragePooling1D(pool_size=(4,)))\n",
    "        if layer_size==4:\n",
    "        #fourth time\n",
    "            model.add(Conv1D(filters=nchan_out,\n",
    "                             kernel_size=kernel_size, padding=\"same\",name='conv4' ))\n",
    "            model.add(BatchNormalization())\n",
    "            model.add(Activation(\"relu\"))\n",
    "            model.add(AveragePooling1D(pool_size=(2,)))\n",
    "\n",
    "    model.add(BatchNormalization())\n",
    "    model.add(Flatten())\n",
    "    model.add(Dense(64, activation='relu'))\n",
    "    model.add(BatchNormalization())\n",
    "    #what activation should be chosen for last layer, for regression problem? should be a linear function\n",
    "    model.add(Dense(5, activation='linear')) #output layer that corresponds to the 5 physical parameters.\n",
    "\n",
    "\n",
    "    # Compile the model\n",
    "    model.compile(loss='mse', optimizer='adam', metrics=['mse'])\n",
    "    \n",
    "    #print(model.summary())\n",
    "    return model"
   ]
  },
  {
   "cell_type": "code",
   "execution_count": 9,
   "metadata": {},
   "outputs": [
    {
     "name": "stdout",
     "output_type": "stream",
     "text": [
      "WARNING:tensorflow:From /home/hh2263/miniconda3/envs/drum-1.15/lib/python3.7/site-packages/tensorflow_core/python/ops/resource_variable_ops.py:1630: calling BaseResourceVariable.__init__ (from tensorflow.python.ops.resource_variable_ops) with constraint is deprecated and will be removed in a future version.\n",
      "Instructions for updating:\n",
      "If using Keras pass *_constraint arguments to layers.\n",
      "Model: \"sequential\"\n",
      "_________________________________________________________________\n",
      "Layer (type)                 Output Shape              Param #   \n",
      "=================================================================\n",
      "conv1 (Conv1D)               (None, 128, 16)           5520      \n",
      "_________________________________________________________________\n",
      "batch_normalization (BatchNo (None, 128, 16)           64        \n",
      "_________________________________________________________________\n",
      "activation (Activation)      (None, 128, 16)           0         \n",
      "_________________________________________________________________\n",
      "average_pooling1d (AveragePo (None, 32, 16)            0         \n",
      "_________________________________________________________________\n",
      "conv2 (Conv1D)               (None, 32, 16)            2064      \n",
      "_________________________________________________________________\n",
      "batch_normalization_1 (Batch (None, 32, 16)            64        \n",
      "_________________________________________________________________\n",
      "activation_1 (Activation)    (None, 32, 16)            0         \n",
      "_________________________________________________________________\n",
      "average_pooling1d_1 (Average (None, 8, 16)             0         \n",
      "_________________________________________________________________\n",
      "conv3 (Conv1D)               (None, 8, 16)             2064      \n",
      "_________________________________________________________________\n",
      "batch_normalization_2 (Batch (None, 8, 16)             64        \n",
      "_________________________________________________________________\n",
      "activation_2 (Activation)    (None, 8, 16)             0         \n",
      "_________________________________________________________________\n",
      "average_pooling1d_2 (Average (None, 2, 16)             0         \n",
      "_________________________________________________________________\n",
      "conv4 (Conv1D)               (None, 2, 16)             2064      \n",
      "_________________________________________________________________\n",
      "batch_normalization_3 (Batch (None, 2, 16)             64        \n",
      "_________________________________________________________________\n",
      "activation_3 (Activation)    (None, 2, 16)             0         \n",
      "_________________________________________________________________\n",
      "average_pooling1d_3 (Average (None, 1, 16)             0         \n",
      "_________________________________________________________________\n",
      "batch_normalization_4 (Batch (None, 1, 16)             64        \n",
      "_________________________________________________________________\n",
      "flatten (Flatten)            (None, 16)                0         \n",
      "_________________________________________________________________\n",
      "dense (Dense)                (None, 64)                1088      \n",
      "_________________________________________________________________\n",
      "batch_normalization_5 (Batch (None, 64)                256       \n",
      "_________________________________________________________________\n",
      "dense_1 (Dense)              (None, 5)                 325       \n",
      "=================================================================\n",
      "Total params: 13,701\n",
      "Trainable params: 13,413\n",
      "Non-trainable params: 288\n",
      "_________________________________________________________________\n",
      "None\n"
     ]
    }
   ],
   "source": [
    "model = create_model(J,Q,order,input_x,input_y,k_size=8,layer_size=4,nchan_out=16)"
   ]
  },
  {
   "cell_type": "code",
   "execution_count": 12,
   "metadata": {},
   "outputs": [
    {
     "name": "stdout",
     "output_type": "stream",
     "text": [
      "Thu Mar 12 14:51:35 2020       \r\n",
      "+-----------------------------------------------------------------------------+\r\n",
      "| NVIDIA-SMI 418.39       Driver Version: 418.39       CUDA Version: 10.1     |\r\n",
      "|-------------------------------+----------------------+----------------------+\r\n",
      "| GPU  Name        Persistence-M| Bus-Id        Disp.A | Volatile Uncorr. ECC |\r\n",
      "| Fan  Temp  Perf  Pwr:Usage/Cap|         Memory-Usage | GPU-Util  Compute M. |\r\n",
      "|===============================+======================+======================|\r\n",
      "|   0  Tesla P40           On   | 00000000:04:00.0 Off |                    0 |\r\n",
      "| N/A   15C    P8    13W / 250W |     10MiB / 22919MiB |      0%   E. Process |\r\n",
      "+-------------------------------+----------------------+----------------------+\r\n",
      "|   1  Tesla P40           On   | 00000000:05:00.0 Off |                    0 |\r\n",
      "| N/A   13C    P8     9W / 250W |     10MiB / 22919MiB |      0%   E. Process |\r\n",
      "+-------------------------------+----------------------+----------------------+\r\n",
      "                                                                               \r\n",
      "+-----------------------------------------------------------------------------+\r\n",
      "| Processes:                                                       GPU Memory |\r\n",
      "|  GPU       PID   Type   Process name                             Usage      |\r\n",
      "|=============================================================================|\r\n",
      "|  No running processes found                                                 |\r\n",
      "+-----------------------------------------------------------------------------+\r\n"
     ]
    }
   ],
   "source": [
    "!nvidia-smi"
   ]
  },
  {
   "cell_type": "markdown",
   "metadata": {},
   "source": [
    "## training everything at once and validate - apparently overfitted"
   ]
  },
  {
   "cell_type": "code",
   "execution_count": 12,
   "metadata": {
    "scrolled": true
   },
   "outputs": [
    {
     "name": "stdout",
     "output_type": "stream",
     "text": [
      "Train on 82224 samples, validate on 7776 samples\n",
      "82224/82224 [==============================] - 21s 250us/sample - loss: 0.0448 - mean_squared_error: 0.0448 - val_loss: 11544.8017 - val_mean_squared_error: 11544.7998\n"
     ]
    },
    {
     "data": {
      "text/plain": [
       "<tensorflow.python.keras.callbacks.History at 0x2b05fdf91550>"
      ]
     },
     "execution_count": 12,
     "metadata": {},
     "output_type": "execute_result"
    }
   ],
   "source": [
    "model.fit(Sy_train,\n",
    "          y_train_normalized,\n",
    "          epochs=1,\n",
    "          verbose=1,\n",
    "          batch_size=32,\n",
    "          validation_data = (Sy_val,y_val_normalized),\n",
    "         use_multiprocessing=True)"
   ]
  },
  {
   "cell_type": "markdown",
   "metadata": {},
   "source": [
    "## reduce model complexity to 3 layers - worse"
   ]
  },
  {
   "cell_type": "code",
   "execution_count": 121,
   "metadata": {},
   "outputs": [
    {
     "name": "stdout",
     "output_type": "stream",
     "text": [
      "Model: \"sequential\"\n",
      "_________________________________________________________________\n",
      "Layer (type)                 Output Shape              Param #   \n",
      "=================================================================\n",
      "conv1 (Conv1D)               (None, 128, 16)           5520      \n",
      "_________________________________________________________________\n",
      "batch_normalization (BatchNo (None, 128, 16)           64        \n",
      "_________________________________________________________________\n",
      "activation (Activation)      (None, 128, 16)           0         \n",
      "_________________________________________________________________\n",
      "average_pooling1d (AveragePo (None, 32, 16)            0         \n",
      "_________________________________________________________________\n",
      "conv2 (Conv1D)               (None, 32, 16)            2064      \n",
      "_________________________________________________________________\n",
      "batch_normalization_1 (Batch (None, 32, 16)            64        \n",
      "_________________________________________________________________\n",
      "activation_1 (Activation)    (None, 32, 16)            0         \n",
      "_________________________________________________________________\n",
      "average_pooling1d_1 (Average (None, 8, 16)             0         \n",
      "_________________________________________________________________\n",
      "conv3 (Conv1D)               (None, 8, 16)             2064      \n",
      "_________________________________________________________________\n",
      "batch_normalization_2 (Batch (None, 8, 16)             64        \n",
      "_________________________________________________________________\n",
      "activation_2 (Activation)    (None, 8, 16)             0         \n",
      "_________________________________________________________________\n",
      "average_pooling1d_2 (Average (None, 2, 16)             0         \n",
      "_________________________________________________________________\n",
      "batch_normalization_3 (Batch (None, 2, 16)             64        \n",
      "_________________________________________________________________\n",
      "flatten (Flatten)            (None, 32)                0         \n",
      "_________________________________________________________________\n",
      "dense (Dense)                (None, 64)                2112      \n",
      "_________________________________________________________________\n",
      "batch_normalization_4 (Batch (None, 64)                256       \n",
      "_________________________________________________________________\n",
      "dense_1 (Dense)              (None, 5)                 325       \n",
      "=================================================================\n",
      "Total params: 12,597\n",
      "Trainable params: 12,341\n",
      "Non-trainable params: 256\n",
      "_________________________________________________________________\n",
      "None\n"
     ]
    }
   ],
   "source": [
    "model2 = create_model(J,Q,order,input_x,input_y,k_size=8,layer_size=3,nchan_out=16)"
   ]
  },
  {
   "cell_type": "code",
   "execution_count": 122,
   "metadata": {},
   "outputs": [
    {
     "name": "stdout",
     "output_type": "stream",
     "text": [
      "Train on 82224 samples, validate on 7776 samples\n",
      "Epoch 1/12\n",
      "82224/82224 [==============================] - 4s 49us/sample - loss: 0.7013 - mean_squared_error: 0.7013 - val_loss: 0.1251 - val_mean_squared_error: 0.1251\n",
      "Epoch 2/12\n",
      "82224/82224 [==============================] - 3s 33us/sample - loss: 0.2267 - mean_squared_error: 0.2267 - val_loss: 0.0961 - val_mean_squared_error: 0.0961\n",
      "Epoch 3/12\n",
      "82224/82224 [==============================] - 3s 34us/sample - loss: 0.1470 - mean_squared_error: 0.1470 - val_loss: 0.0755 - val_mean_squared_error: 0.0755\n",
      "Epoch 4/12\n",
      "82224/82224 [==============================] - 3s 34us/sample - loss: 0.1043 - mean_squared_error: 0.1043 - val_loss: 0.0641 - val_mean_squared_error: 0.0641\n",
      "Epoch 5/12\n",
      "82224/82224 [==============================] - 3s 34us/sample - loss: 0.0790 - mean_squared_error: 0.0790 - val_loss: 0.0606 - val_mean_squared_error: 0.0606\n",
      "Epoch 6/12\n",
      "82224/82224 [==============================] - 3s 33us/sample - loss: 0.0630 - mean_squared_error: 0.0630 - val_loss: 0.0612 - val_mean_squared_error: 0.0612\n",
      "Epoch 7/12\n",
      "82224/82224 [==============================] - 3s 34us/sample - loss: 0.0528 - mean_squared_error: 0.0528 - val_loss: 0.0657 - val_mean_squared_error: 0.0657\n",
      "Epoch 8/12\n",
      "82224/82224 [==============================] - 3s 34us/sample - loss: 0.0464 - mean_squared_error: 0.0464 - val_loss: 0.0721 - val_mean_squared_error: 0.0721\n",
      "Epoch 9/12\n",
      "82224/82224 [==============================] - 3s 33us/sample - loss: 0.0427 - mean_squared_error: 0.0427 - val_loss: 0.0789 - val_mean_squared_error: 0.0789\n",
      "Epoch 10/12\n",
      "82224/82224 [==============================] - 3s 34us/sample - loss: 0.0408 - mean_squared_error: 0.0408 - val_loss: 0.0870 - val_mean_squared_error: 0.0870\n",
      "Epoch 11/12\n",
      "82224/82224 [==============================] - 3s 34us/sample - loss: 0.0397 - mean_squared_error: 0.0397 - val_loss: 0.0975 - val_mean_squared_error: 0.0975\n",
      "Epoch 12/12\n",
      "82224/82224 [==============================] - 3s 33us/sample - loss: 0.0388 - mean_squared_error: 0.0388 - val_loss: 0.1095 - val_mean_squared_error: 0.1095\n"
     ]
    }
   ],
   "source": [
    "epochs = 12\n",
    "\n",
    "hist = model2.fit(Sy_train,\n",
    "          y_train_normalized,\n",
    "          epochs=epochs,\n",
    "          verbose=1,\n",
    "          batch_size=8192,\n",
    "          validation_data = (Sy_val,y_val_normalized),\n",
    "         use_multiprocessing=True)"
   ]
  },
  {
   "cell_type": "code",
   "execution_count": 18,
   "metadata": {},
   "outputs": [],
   "source": [
    "import matplotlib.pyplot as plt"
   ]
  },
  {
   "cell_type": "code",
   "execution_count": 113,
   "metadata": {
    "scrolled": false
   },
   "outputs": [
    {
     "data": {
      "image/png": "[encoded data removed]",
      "text/plain": [
       "<Figure size 432x288 with 1 Axes>"
      ]
     },
     "metadata": {
      "needs_background": "light"
     },
     "output_type": "display_data"
    }
   ],
   "source": [
    "plt.plot(hist.history['loss'],'o-')\n",
    "plt.plot(hist.history['val_loss'],'o-')\n",
    "plt.title(\"batch 4096, kernel 8, 3 layer, 16 filters\")\n",
    "plt.ylim([0,0.5])\n",
    "plt.legend(['Train', 'Test'])\n",
    "plt.show()"
   ]
  },
  {
   "cell_type": "code",
   "execution_count": null,
   "metadata": {},
   "outputs": [],
   "source": []
  },
  {
   "cell_type": "code",
   "execution_count": 119,
   "metadata": {},
   "outputs": [
    {
     "name": "stdout",
     "output_type": "stream",
     "text": [
      "Model: \"sequential\"\n",
      "_________________________________________________________________\n",
      "Layer (type)                 Output Shape              Param #   \n",
      "=================================================================\n",
      "conv1 (Conv1D)               (None, 128, 16)           2080      \n",
      "_________________________________________________________________\n",
      "batch_normalization (BatchNo (None, 128, 16)           64        \n",
      "_________________________________________________________________\n",
      "activation (Activation)      (None, 128, 16)           0         \n",
      "_________________________________________________________________\n",
      "average_pooling1d (AveragePo (None, 32, 16)            0         \n",
      "_________________________________________________________________\n",
      "dropout (Dropout)            (None, 32, 16)            0         \n",
      "_________________________________________________________________\n",
      "batch_normalization_1 (Batch (None, 32, 16)            64        \n",
      "_________________________________________________________________\n",
      "flatten (Flatten)            (None, 512)               0         \n",
      "_________________________________________________________________\n",
      "dense (Dense)                (None, 16)                8208      \n",
      "_________________________________________________________________\n",
      "batch_normalization_2 (Batch (None, 16)                64        \n",
      "_________________________________________________________________\n",
      "dense_1 (Dense)              (None, 5)                 85        \n",
      "=================================================================\n",
      "Total params: 10,565\n",
      "Trainable params: 10,469\n",
      "Non-trainable params: 96\n",
      "_________________________________________________________________\n",
      "None\n"
     ]
    }
   ],
   "source": [
    "nrow = input_x\n",
    "ncol = input_y\n",
    "nchan_in = 1       # number of input channels.  1 since it is BW\n",
    "input_shape = (input_x,input_y)#Sy.shape\n",
    "kernel_size = (3,)\n",
    "nchan_out = 16\n",
    "\n",
    "K.clear_session()\n",
    "model=Sequential()\n",
    "#1 conv layer +  1 batch normalization + nonlinear activation + pooling\n",
    "model.add(Conv1D(input_shape=input_shape, filters=nchan_out,\n",
    "                 kernel_size=kernel_size, padding=\"same\",name='conv1'))\n",
    "model.add(BatchNormalization())\n",
    "model.add(Activation(\"relu\"))\n",
    "model.add(AveragePooling1D(pool_size=(4,)))\n",
    "model.add(Dropout(0.1))\n",
    "model.add(BatchNormalization())\n",
    "model.add(Flatten())\n",
    "model.add(Dense(16, activation='relu'))\n",
    "model.add(BatchNormalization())\n",
    "#what activation should be chosen for last layer, for regression problem? should be a linear function\n",
    "model.add(Dense(5, activation='linear')) #output layer that corresponds to the 5 physical parameters.\n",
    "\n",
    "\n",
    "# Compile the model\n",
    "model.compile(loss='mse', optimizer='adam', metrics=['mse'])\n",
    "\n",
    "print(model.summary())"
   ]
  },
  {
   "cell_type": "code",
   "execution_count": 120,
   "metadata": {},
   "outputs": [
    {
     "name": "stdout",
     "output_type": "stream",
     "text": [
      "Train on 82224 samples, validate on 7776 samples\n",
      "Epoch 1/12\n",
      "82224/82224 [==============================] - 3s 41us/sample - loss: 0.9169 - mean_squared_error: 0.9169 - val_loss: 0.1815 - val_mean_squared_error: 0.1815\n",
      "Epoch 2/12\n",
      "82224/82224 [==============================] - 3s 32us/sample - loss: 0.3707 - mean_squared_error: 0.3707 - val_loss: 0.2997 - val_mean_squared_error: 0.2997\n",
      "Epoch 3/12\n",
      "82224/82224 [==============================] - 3s 32us/sample - loss: 0.2392 - mean_squared_error: 0.2392 - val_loss: 0.4699 - val_mean_squared_error: 0.4699\n",
      "Epoch 4/12\n",
      "82224/82224 [==============================] - 3s 31us/sample - loss: 0.1861 - mean_squared_error: 0.1861 - val_loss: 0.6133 - val_mean_squared_error: 0.6133\n",
      "Epoch 5/12\n",
      "82224/82224 [==============================] - 3s 32us/sample - loss: 0.1534 - mean_squared_error: 0.1534 - val_loss: 0.7342 - val_mean_squared_error: 0.7342\n",
      "Epoch 6/12\n",
      "82224/82224 [==============================] - 3s 32us/sample - loss: 0.1318 - mean_squared_error: 0.1318 - val_loss: 0.8323 - val_mean_squared_error: 0.8323\n",
      "Epoch 7/12\n",
      "82224/82224 [==============================] - 3s 31us/sample - loss: 0.1154 - mean_squared_error: 0.1154 - val_loss: 0.8984 - val_mean_squared_error: 0.8984\n",
      "Epoch 8/12\n",
      "82224/82224 [==============================] - 3s 32us/sample - loss: 0.1020 - mean_squared_error: 0.1020 - val_loss: 0.9397 - val_mean_squared_error: 0.9397\n",
      "Epoch 9/12\n",
      "82224/82224 [==============================] - 3s 33us/sample - loss: 0.0914 - mean_squared_error: 0.0914 - val_loss: 0.9615 - val_mean_squared_error: 0.9615\n",
      "Epoch 10/12\n",
      "82224/82224 [==============================] - 3s 32us/sample - loss: 0.0823 - mean_squared_error: 0.0823 - val_loss: 0.9691 - val_mean_squared_error: 0.9691\n",
      "Epoch 11/12\n",
      "82224/82224 [==============================] - 3s 32us/sample - loss: 0.0750 - mean_squared_error: 0.0750 - val_loss: 0.9494 - val_mean_squared_error: 0.9494\n",
      "Epoch 12/12\n",
      "82224/82224 [==============================] - 3s 32us/sample - loss: 0.0693 - mean_squared_error: 0.0693 - val_loss: 0.9324 - val_mean_squared_error: 0.9324\n"
     ]
    }
   ],
   "source": [
    "hist4 = model.fit(Sy_train,\n",
    "          y_train_normalized,\n",
    "          epochs=12,\n",
    "          verbose=1,\n",
    "          batch_size=8192,\n",
    "          shuffle=True,\n",
    "          validation_data = (Sy_val,y_val_normalized),\n",
    "         use_multiprocessing=True)"
   ]
  },
  {
   "cell_type": "code",
   "execution_count": 109,
   "metadata": {},
   "outputs": [
    {
     "data": {
      "image/png": "[encoded data removed]",
      "text/plain": [
       "<Figure size 432x288 with 1 Axes>"
      ]
     },
     "metadata": {
      "needs_background": "light"
     },
     "output_type": "display_data"
    }
   ],
   "source": [
    "plt.plot(hist4.history['loss'],'o-')\n",
    "plt.plot(hist4.history['val_loss'],'o-')\n",
    "plt.ylim([0,0.4])\n",
    "plt.title(\"batch 4096, kernel 3, 1 layer, 16 filters\")\n",
    "plt.legend(['Train', 'Test'])\n",
    "plt.show()\n",
    "\n"
   ]
  },
  {
   "cell_type": "code",
   "execution_count": null,
   "metadata": {},
   "outputs": [],
   "source": []
  },
  {
   "cell_type": "code",
   "execution_count": null,
   "metadata": {},
   "outputs": [],
   "source": []
  },
  {
   "cell_type": "code",
   "execution_count": null,
   "metadata": {},
   "outputs": [],
   "source": []
  },
  {
   "cell_type": "code",
   "execution_count": null,
   "metadata": {},
   "outputs": [],
   "source": []
  },
  {
   "cell_type": "code",
   "execution_count": null,
   "metadata": {},
   "outputs": [],
   "source": []
  },
  {
   "cell_type": "code",
   "execution_count": null,
   "metadata": {},
   "outputs": [],
   "source": []
  },
  {
   "cell_type": "markdown",
   "metadata": {},
   "source": [
    "## increase kernel size helped"
   ]
  },
  {
   "cell_type": "code",
   "execution_count": 115,
   "metadata": {
    "scrolled": false
   },
   "outputs": [
    {
     "name": "stdout",
     "output_type": "stream",
     "text": [
      "Model: \"sequential\"\n",
      "_________________________________________________________________\n",
      "Layer (type)                 Output Shape              Param #   \n",
      "=================================================================\n",
      "conv1 (Conv1D)               (None, 128, 16)           11024     \n",
      "_________________________________________________________________\n",
      "batch_normalization (BatchNo (None, 128, 16)           64        \n",
      "_________________________________________________________________\n",
      "activation (Activation)      (None, 128, 16)           0         \n",
      "_________________________________________________________________\n",
      "average_pooling1d (AveragePo (None, 32, 16)            0         \n",
      "_________________________________________________________________\n",
      "conv2 (Conv1D)               (None, 32, 16)            4112      \n",
      "_________________________________________________________________\n",
      "batch_normalization_1 (Batch (None, 32, 16)            64        \n",
      "_________________________________________________________________\n",
      "activation_1 (Activation)    (None, 32, 16)            0         \n",
      "_________________________________________________________________\n",
      "average_pooling1d_1 (Average (None, 8, 16)             0         \n",
      "_________________________________________________________________\n",
      "conv3 (Conv1D)               (None, 8, 16)             4112      \n",
      "_________________________________________________________________\n",
      "batch_normalization_2 (Batch (None, 8, 16)             64        \n",
      "_________________________________________________________________\n",
      "activation_2 (Activation)    (None, 8, 16)             0         \n",
      "_________________________________________________________________\n",
      "average_pooling1d_2 (Average (None, 2, 16)             0         \n",
      "_________________________________________________________________\n",
      "conv4 (Conv1D)               (None, 2, 16)             4112      \n",
      "_________________________________________________________________\n",
      "batch_normalization_3 (Batch (None, 2, 16)             64        \n",
      "_________________________________________________________________\n",
      "activation_3 (Activation)    (None, 2, 16)             0         \n",
      "_________________________________________________________________\n",
      "average_pooling1d_3 (Average (None, 1, 16)             0         \n",
      "_________________________________________________________________\n",
      "batch_normalization_4 (Batch (None, 1, 16)             64        \n",
      "_________________________________________________________________\n",
      "flatten (Flatten)            (None, 16)                0         \n",
      "_________________________________________________________________\n",
      "dense (Dense)                (None, 64)                1088      \n",
      "_________________________________________________________________\n",
      "batch_normalization_5 (Batch (None, 64)                256       \n",
      "_________________________________________________________________\n",
      "dense_1 (Dense)              (None, 5)                 325       \n",
      "=================================================================\n",
      "Total params: 25,349\n",
      "Trainable params: 25,061\n",
      "Non-trainable params: 288\n",
      "_________________________________________________________________\n",
      "None\n"
     ]
    }
   ],
   "source": [
    "model3 = create_model(J,Q,order,input_x,input_y,k_size=16,layer_size=4,nchan_out=16)"
   ]
  },
  {
   "cell_type": "code",
   "execution_count": 116,
   "metadata": {},
   "outputs": [
    {
     "name": "stdout",
     "output_type": "stream",
     "text": [
      "Train on 82224 samples, validate on 7776 samples\n",
      "Epoch 1/12\n",
      "82224/82224 [==============================] - 5s 55us/sample - loss: 0.7766 - mean_squared_error: 0.7766 - val_loss: 0.1347 - val_mean_squared_error: 0.1347\n",
      "Epoch 2/12\n",
      "82224/82224 [==============================] - 3s 35us/sample - loss: 0.2300 - mean_squared_error: 0.2300 - val_loss: 0.1110 - val_mean_squared_error: 0.1110\n",
      "Epoch 3/12\n",
      "82224/82224 [==============================] - 3s 35us/sample - loss: 0.1525 - mean_squared_error: 0.1525 - val_loss: 0.0903 - val_mean_squared_error: 0.0903\n",
      "Epoch 4/12\n",
      "82224/82224 [==============================] - 3s 36us/sample - loss: 0.1120 - mean_squared_error: 0.1120 - val_loss: 0.0751 - val_mean_squared_error: 0.0751\n",
      "Epoch 5/12\n",
      "82224/82224 [==============================] - 3s 35us/sample - loss: 0.0863 - mean_squared_error: 0.0863 - val_loss: 0.0659 - val_mean_squared_error: 0.0659\n",
      "Epoch 6/12\n",
      "82224/82224 [==============================] - 3s 35us/sample - loss: 0.0688 - mean_squared_error: 0.0688 - val_loss: 0.0625 - val_mean_squared_error: 0.0625\n",
      "Epoch 7/12\n",
      "82224/82224 [==============================] - 3s 35us/sample - loss: 0.0574 - mean_squared_error: 0.0574 - val_loss: 0.0630 - val_mean_squared_error: 0.0630\n",
      "Epoch 8/12\n",
      "82224/82224 [==============================] - 3s 35us/sample - loss: 0.0491 - mean_squared_error: 0.0491 - val_loss: 0.0663 - val_mean_squared_error: 0.0663\n",
      "Epoch 9/12\n",
      "82224/82224 [==============================] - 3s 35us/sample - loss: 0.0443 - mean_squared_error: 0.0443 - val_loss: 0.0720 - val_mean_squared_error: 0.0720\n",
      "Epoch 10/12\n",
      "82224/82224 [==============================] - 3s 35us/sample - loss: 0.0415 - mean_squared_error: 0.0415 - val_loss: 0.0808 - val_mean_squared_error: 0.0808\n",
      "Epoch 11/12\n",
      "82224/82224 [==============================] - 3s 35us/sample - loss: 0.0398 - mean_squared_error: 0.0398 - val_loss: 0.0927 - val_mean_squared_error: 0.0927\n",
      "Epoch 12/12\n",
      "82224/82224 [==============================] - 3s 34us/sample - loss: 0.0398 - mean_squared_error: 0.0398 - val_loss: 0.1057 - val_mean_squared_error: 0.1057\n"
     ]
    }
   ],
   "source": [
    "hist3 = model3.fit(Sy_train,\n",
    "          y_train_normalized,\n",
    "          epochs=12,\n",
    "          verbose=1,\n",
    "          batch_size=8192,\n",
    "          validation_data = (Sy_val,y_val_normalized),\n",
    "         use_multiprocessing=True)"
   ]
  },
  {
   "cell_type": "code",
   "execution_count": 117,
   "metadata": {},
   "outputs": [
    {
     "data": {
      "image/png": "[encoded data removed]",
      "text/plain": [
       "<Figure size 432x288 with 1 Axes>"
      ]
     },
     "metadata": {
      "needs_background": "light"
     },
     "output_type": "display_data"
    }
   ],
   "source": [
    "plt.plot(hist3.history['loss'],'o-')\n",
    "plt.plot(hist3.history['val_loss'],'o-')\n",
    "plt.ylim([0,0.5])\n",
    "plt.title(\"batch 8192, kernel 16, 4 layer, 16 filters\")\n",
    "plt.legend(['Train', 'Test'])\n",
    "plt.show()\n"
   ]
  },
  {
   "cell_type": "markdown",
   "metadata": {},
   "source": [
    "## with 4 layers, try comb of kernel size + num_filters, batch 4096/8192, find min loss, early stop stage"
   ]
  },
  {
   "cell_type": "code",
   "execution_count": null,
   "metadata": {},
   "outputs": [],
   "source": [
    "a"
   ]
  },
  {
   "cell_type": "code",
   "execution_count": 7,
   "metadata": {},
   "outputs": [
    {
     "data": {
      "text/plain": [
       "2"
      ]
     },
     "execution_count": 7,
     "metadata": {},
     "output_type": "execute_result"
    }
   ],
   "source": [
    "a=np.array([1,2,3])\n",
    "np.where(a==3)[0][0]"
   ]
  },
  {
   "cell_type": "code",
   "execution_count": 21,
   "metadata": {
    "scrolled": true
   },
   "outputs": [
    {
     "name": "stdout",
     "output_type": "stream",
     "text": [
      "Train on 82224 samples, validate on 7776 samples\n",
      "Epoch 1/8\n",
      "82224/82224 - 36s - loss: 0.7189 - mean_squared_error: 0.7189 - val_loss: 0.1030 - val_mean_squared_error: 0.1030\n",
      "Epoch 2/8\n",
      "82224/82224 - 3s - loss: 0.1963 - mean_squared_error: 0.1963 - val_loss: 0.0630 - val_mean_squared_error: 0.0630\n",
      "Epoch 3/8\n",
      "82224/82224 - 3s - loss: 0.1089 - mean_squared_error: 0.1089 - val_loss: 0.0377 - val_mean_squared_error: 0.0377\n",
      "Epoch 4/8\n",
      "82224/82224 - 3s - loss: 0.0759 - mean_squared_error: 0.0759 - val_loss: 0.0267 - val_mean_squared_error: 0.0267\n",
      "Epoch 5/8\n",
      "82224/82224 - 3s - loss: 0.0605 - mean_squared_error: 0.0605 - val_loss: 0.0255 - val_mean_squared_error: 0.0255\n",
      "Epoch 6/8\n",
      "82224/82224 - 3s - loss: 0.0533 - mean_squared_error: 0.0533 - val_loss: 0.0280 - val_mean_squared_error: 0.0280\n",
      "Epoch 7/8\n",
      "82224/82224 - 3s - loss: 0.0497 - mean_squared_error: 0.0497 - val_loss: 0.0308 - val_mean_squared_error: 0.0308\n",
      "Epoch 8/8\n",
      "82224/82224 - 3s - loss: 0.0473 - mean_squared_error: 0.0473 - val_loss: 0.0328 - val_mean_squared_error: 0.0328\n",
      "Train on 82224 samples, validate on 7776 samples\n",
      "Epoch 1/8\n",
      "82224/82224 - 24s - loss: 1.1666 - mean_squared_error: 1.1666 - val_loss: 0.1309 - val_mean_squared_error: 0.1309\n",
      "Epoch 2/8\n",
      "82224/82224 - 3s - loss: 0.3810 - mean_squared_error: 0.3810 - val_loss: 0.1030 - val_mean_squared_error: 0.1030\n",
      "Epoch 3/8\n",
      "82224/82224 - 3s - loss: 0.2330 - mean_squared_error: 0.2330 - val_loss: 0.0851 - val_mean_squared_error: 0.0851\n",
      "Epoch 4/8\n",
      "82224/82224 - 3s - loss: 0.1688 - mean_squared_error: 0.1688 - val_loss: 0.0731 - val_mean_squared_error: 0.0731\n",
      "Epoch 5/8\n",
      "82224/82224 - 3s - loss: 0.1286 - mean_squared_error: 0.1286 - val_loss: 0.0648 - val_mean_squared_error: 0.0648\n",
      "Epoch 6/8\n",
      "82224/82224 - 3s - loss: 0.1011 - mean_squared_error: 0.1011 - val_loss: 0.0592 - val_mean_squared_error: 0.0592\n",
      "Epoch 7/8\n",
      "82224/82224 - 3s - loss: 0.0828 - mean_squared_error: 0.0828 - val_loss: 0.0563 - val_mean_squared_error: 0.0563\n",
      "Epoch 8/8\n",
      "82224/82224 - 3s - loss: 0.0703 - mean_squared_error: 0.0703 - val_loss: 0.0554 - val_mean_squared_error: 0.0554\n",
      "Train on 82224 samples, validate on 7776 samples\n",
      "Epoch 1/8\n",
      "82224/82224 - 34s - loss: 0.6806 - mean_squared_error: 0.6806 - val_loss: 0.1087 - val_mean_squared_error: 0.1087\n",
      "Epoch 2/8\n",
      "82224/82224 - 3s - loss: 0.1694 - mean_squared_error: 0.1694 - val_loss: 0.0742 - val_mean_squared_error: 0.0742\n",
      "Epoch 3/8\n",
      "82224/82224 - 3s - loss: 0.0959 - mean_squared_error: 0.0959 - val_loss: 0.0504 - val_mean_squared_error: 0.0504\n",
      "Epoch 4/8\n",
      "82224/82224 - 3s - loss: 0.0657 - mean_squared_error: 0.0657 - val_loss: 0.0385 - val_mean_squared_error: 0.0385\n",
      "Epoch 5/8\n",
      "82224/82224 - 3s - loss: 0.0516 - mean_squared_error: 0.0516 - val_loss: 0.0336 - val_mean_squared_error: 0.0336\n",
      "Epoch 6/8\n",
      "82224/82224 - 3s - loss: 0.0451 - mean_squared_error: 0.0451 - val_loss: 0.0325 - val_mean_squared_error: 0.0325\n",
      "Epoch 7/8\n",
      "82224/82224 - 3s - loss: 0.0423 - mean_squared_error: 0.0423 - val_loss: 0.0337 - val_mean_squared_error: 0.0337\n",
      "Epoch 8/8\n",
      "82224/82224 - 3s - loss: 0.0408 - mean_squared_error: 0.0408 - val_loss: 0.0363 - val_mean_squared_error: 0.0363\n",
      "Train on 82224 samples, validate on 7776 samples\n",
      "Epoch 1/8\n",
      "82224/82224 - 21s - loss: 0.8601 - mean_squared_error: 0.8601 - val_loss: 0.1337 - val_mean_squared_error: 0.1337\n",
      "Epoch 2/8\n",
      "82224/82224 - 3s - loss: 0.2682 - mean_squared_error: 0.2682 - val_loss: 0.1020 - val_mean_squared_error: 0.1020\n",
      "Epoch 3/8\n",
      "82224/82224 - 3s - loss: 0.1720 - mean_squared_error: 0.1720 - val_loss: 0.0764 - val_mean_squared_error: 0.0764\n",
      "Epoch 4/8\n",
      "82224/82224 - 3s - loss: 0.1214 - mean_squared_error: 0.1214 - val_loss: 0.0583 - val_mean_squared_error: 0.0583\n",
      "Epoch 5/8\n",
      "82224/82224 - 3s - loss: 0.0925 - mean_squared_error: 0.0925 - val_loss: 0.0457 - val_mean_squared_error: 0.0457\n",
      "Epoch 6/8\n",
      "82224/82224 - 3s - loss: 0.0742 - mean_squared_error: 0.0742 - val_loss: 0.0370 - val_mean_squared_error: 0.0370\n",
      "Epoch 7/8\n",
      "82224/82224 - 3s - loss: 0.0625 - mean_squared_error: 0.0625 - val_loss: 0.0314 - val_mean_squared_error: 0.0314\n",
      "Epoch 8/8\n",
      "82224/82224 - 3s - loss: 0.0551 - mean_squared_error: 0.0551 - val_loss: 0.0282 - val_mean_squared_error: 0.0282\n",
      "Train on 82224 samples, validate on 7776 samples\n",
      "Epoch 1/8\n",
      "82224/82224 - 35s - loss: 0.4094 - mean_squared_error: 0.4094 - val_loss: 0.1168 - val_mean_squared_error: 0.1168\n",
      "Epoch 2/8\n",
      "82224/82224 - 3s - loss: 0.1327 - mean_squared_error: 0.1327 - val_loss: 0.0803 - val_mean_squared_error: 0.0803\n",
      "Epoch 3/8\n",
      "82224/82224 - 3s - loss: 0.0781 - mean_squared_error: 0.0781 - val_loss: 0.0584 - val_mean_squared_error: 0.0584\n",
      "Epoch 4/8\n",
      "82224/82224 - 3s - loss: 0.0546 - mean_squared_error: 0.0546 - val_loss: 0.0486 - val_mean_squared_error: 0.0486\n",
      "Epoch 5/8\n",
      "82224/82224 - 3s - loss: 0.0448 - mean_squared_error: 0.0448 - val_loss: 0.0474 - val_mean_squared_error: 0.0474\n",
      "Epoch 6/8\n",
      "82224/82224 - 3s - loss: 0.0411 - mean_squared_error: 0.0411 - val_loss: 0.0500 - val_mean_squared_error: 0.0500\n",
      "Epoch 7/8\n",
      "82224/82224 - 3s - loss: 0.0395 - mean_squared_error: 0.0395 - val_loss: 0.0547 - val_mean_squared_error: 0.0547\n",
      "Epoch 8/8\n",
      "82224/82224 - 3s - loss: 0.0385 - mean_squared_error: 0.0385 - val_loss: 0.0624 - val_mean_squared_error: 0.0624\n",
      "Train on 82224 samples, validate on 7776 samples\n",
      "Epoch 1/8\n",
      "82224/82224 - 21s - loss: 0.8685 - mean_squared_error: 0.8685 - val_loss: 0.1332 - val_mean_squared_error: 0.1332\n",
      "Epoch 2/8\n",
      "82224/82224 - 3s - loss: 0.2720 - mean_squared_error: 0.2720 - val_loss: 0.1036 - val_mean_squared_error: 0.1036\n",
      "Epoch 3/8\n",
      "82224/82224 - 3s - loss: 0.1670 - mean_squared_error: 0.1670 - val_loss: 0.0846 - val_mean_squared_error: 0.0846\n",
      "Epoch 4/8\n",
      "82224/82224 - 3s - loss: 0.1202 - mean_squared_error: 0.1202 - val_loss: 0.0697 - val_mean_squared_error: 0.0697\n",
      "Epoch 5/8\n",
      "82224/82224 - 3s - loss: 0.0916 - mean_squared_error: 0.0916 - val_loss: 0.0566 - val_mean_squared_error: 0.0566\n",
      "Epoch 6/8\n",
      "82224/82224 - 3s - loss: 0.0734 - mean_squared_error: 0.0734 - val_loss: 0.0469 - val_mean_squared_error: 0.0469\n",
      "Epoch 7/8\n",
      "82224/82224 - 3s - loss: 0.0604 - mean_squared_error: 0.0604 - val_loss: 0.0421 - val_mean_squared_error: 0.0421\n",
      "Epoch 8/8\n",
      "82224/82224 - 3s - loss: 0.0517 - mean_squared_error: 0.0517 - val_loss: 0.0412 - val_mean_squared_error: 0.0412\n",
      "Train on 82224 samples, validate on 7776 samples\n",
      "Epoch 1/8\n",
      "82224/82224 - 40s - loss: 0.5702 - mean_squared_error: 0.5702 - val_loss: 0.1109 - val_mean_squared_error: 0.1109\n",
      "Epoch 2/8\n",
      "82224/82224 - 3s - loss: 0.1434 - mean_squared_error: 0.1434 - val_loss: 0.0699 - val_mean_squared_error: 0.0699\n",
      "Epoch 3/8\n",
      "82224/82224 - 3s - loss: 0.0845 - mean_squared_error: 0.0845 - val_loss: 0.0483 - val_mean_squared_error: 0.0483\n",
      "Epoch 4/8\n",
      "82224/82224 - 3s - loss: 0.0583 - mean_squared_error: 0.0583 - val_loss: 0.0393 - val_mean_squared_error: 0.0393\n",
      "Epoch 5/8\n",
      "82224/82224 - 3s - loss: 0.0466 - mean_squared_error: 0.0466 - val_loss: 0.0388 - val_mean_squared_error: 0.0388\n",
      "Epoch 6/8\n",
      "82224/82224 - 3s - loss: 0.0425 - mean_squared_error: 0.0425 - val_loss: 0.0436 - val_mean_squared_error: 0.0436\n",
      "Epoch 7/8\n",
      "82224/82224 - 3s - loss: 0.0398 - mean_squared_error: 0.0398 - val_loss: 0.0520 - val_mean_squared_error: 0.0520\n",
      "Epoch 8/8\n",
      "82224/82224 - 4s - loss: 0.0384 - mean_squared_error: 0.0384 - val_loss: 0.0666 - val_mean_squared_error: 0.0666\n",
      "Train on 82224 samples, validate on 7776 samples\n",
      "Epoch 1/8\n",
      "82224/82224 - 27s - loss: 0.6544 - mean_squared_error: 0.6544 - val_loss: 0.1284 - val_mean_squared_error: 0.1284\n",
      "Epoch 2/8\n",
      "82224/82224 - 3s - loss: 0.2260 - mean_squared_error: 0.2260 - val_loss: 0.0957 - val_mean_squared_error: 0.0957\n",
      "Epoch 3/8\n",
      "82224/82224 - 3s - loss: 0.1495 - mean_squared_error: 0.1495 - val_loss: 0.0696 - val_mean_squared_error: 0.0696\n",
      "Epoch 4/8\n",
      "82224/82224 - 3s - loss: 0.1083 - mean_squared_error: 0.1083 - val_loss: 0.0500 - val_mean_squared_error: 0.0500\n",
      "Epoch 5/8\n",
      "82224/82224 - 3s - loss: 0.0833 - mean_squared_error: 0.0833 - val_loss: 0.0365 - val_mean_squared_error: 0.0365\n",
      "Epoch 6/8\n",
      "82224/82224 - 3s - loss: 0.0665 - mean_squared_error: 0.0665 - val_loss: 0.0292 - val_mean_squared_error: 0.0292\n",
      "Epoch 7/8\n",
      "82224/82224 - 3s - loss: 0.0560 - mean_squared_error: 0.0560 - val_loss: 0.0258 - val_mean_squared_error: 0.0258\n",
      "Epoch 8/8\n",
      "82224/82224 - 3s - loss: 0.0488 - mean_squared_error: 0.0488 - val_loss: 0.0256 - val_mean_squared_error: 0.0256\n"
     ]
    },
    {
     "name": "stdout",
     "output_type": "stream",
     "text": [
      "Train on 82224 samples, validate on 7776 samples\n",
      "Epoch 1/8\n",
      "82224/82224 - 116s - loss: 0.4880 - mean_squared_error: 0.4880 - val_loss: 0.1047 - val_mean_squared_error: 0.1047\n",
      "Epoch 2/8\n",
      "82224/82224 - 3s - loss: 0.1285 - mean_squared_error: 0.1285 - val_loss: 0.0749 - val_mean_squared_error: 0.0749\n",
      "Epoch 3/8\n",
      "82224/82224 - 3s - loss: 0.0737 - mean_squared_error: 0.0737 - val_loss: 0.0598 - val_mean_squared_error: 0.0598\n",
      "Epoch 4/8\n",
      "82224/82224 - 3s - loss: 0.0511 - mean_squared_error: 0.0511 - val_loss: 0.0633 - val_mean_squared_error: 0.0633\n",
      "Epoch 5/8\n",
      "82224/82224 - 3s - loss: 0.0418 - mean_squared_error: 0.0418 - val_loss: 0.0790 - val_mean_squared_error: 0.0790\n",
      "Epoch 6/8\n",
      "82224/82224 - 3s - loss: 0.0385 - mean_squared_error: 0.0385 - val_loss: 0.1023 - val_mean_squared_error: 0.1023\n",
      "Epoch 7/8\n",
      "82224/82224 - 4s - loss: 0.0373 - mean_squared_error: 0.0373 - val_loss: 0.1311 - val_mean_squared_error: 0.1311\n",
      "Epoch 8/8\n",
      "82224/82224 - 4s - loss: 0.0367 - mean_squared_error: 0.0367 - val_loss: 0.1662 - val_mean_squared_error: 0.1662\n",
      "Train on 82224 samples, validate on 7776 samples\n",
      "Epoch 1/8\n",
      "82224/82224 - 107s - loss: 0.6580 - mean_squared_error: 0.6580 - val_loss: 0.1465 - val_mean_squared_error: 0.1465\n",
      "Epoch 2/8\n",
      "82224/82224 - 3s - loss: 0.2028 - mean_squared_error: 0.2028 - val_loss: 0.1250 - val_mean_squared_error: 0.1250\n",
      "Epoch 3/8\n",
      "82224/82224 - 3s - loss: 0.1464 - mean_squared_error: 0.1464 - val_loss: 0.1049 - val_mean_squared_error: 0.1049\n",
      "Epoch 4/8\n",
      "82224/82224 - 3s - loss: 0.1139 - mean_squared_error: 0.1139 - val_loss: 0.0877 - val_mean_squared_error: 0.0877\n",
      "Epoch 5/8\n",
      "82224/82224 - 3s - loss: 0.0910 - mean_squared_error: 0.0910 - val_loss: 0.0739 - val_mean_squared_error: 0.0739\n",
      "Epoch 6/8\n",
      "82224/82224 - 3s - loss: 0.0739 - mean_squared_error: 0.0739 - val_loss: 0.0629 - val_mean_squared_error: 0.0629\n",
      "Epoch 7/8\n",
      "82224/82224 - 3s - loss: 0.0616 - mean_squared_error: 0.0616 - val_loss: 0.0550 - val_mean_squared_error: 0.0550\n",
      "Epoch 8/8\n",
      "82224/82224 - 3s - loss: 0.0525 - mean_squared_error: 0.0525 - val_loss: 0.0501 - val_mean_squared_error: 0.0501\n"
     ]
    }
   ],
   "source": [
    "k_size = [4,8,16]\n",
    "nchan_out = [8,16,32]\n",
    "batch_size=[4096,8192]\n",
    "comb = [(4,8),(8,8),(16,8),(8,16),(16,16)]\n",
    "records_4 = []\n",
    "for k,nout in comb:\n",
    "    for bs in batch_size:\n",
    "        model = create_model(J,Q,order,input_x,input_y,k_size=k,layer_size=4,nchan_out=nout)\n",
    "        hist = model.fit(Sy_train,\n",
    "                  y_train_normalized,\n",
    "                  epochs=8,\n",
    "                  verbose=2,\n",
    "                  batch_size=bs,\n",
    "                  validation_data = (Sy_val,y_val_normalized),\n",
    "                 use_multiprocessing=True)\n",
    "\n",
    "        min_loss = min(hist.history['val_loss'])\n",
    "        stop = np.where(np.array(hist.history['val_loss']==min_loss))\n",
    "        records_4.append((k,nout,bs,min_loss,stop))\n",
    "\n",
    "\n",
    "            \n",
    "            \n",
    "            \n",
    "            \n",
    "            "
   ]
  },
  {
   "cell_type": "code",
   "execution_count": 22,
   "metadata": {},
   "outputs": [
    {
     "data": {
      "text/plain": [
       "[(4, 8, 4096, 0.025546350742502468, (array([4]),)),\n",
       " (4, 8, 8192, 0.05544932931661606, (array([7]),)),\n",
       " (8, 8, 4096, 0.03246455619671217, (array([5]),)),\n",
       " (8, 8, 8192, 0.0281909741461277, (array([7]),)),\n",
       " (16, 8, 4096, 0.047385030782517094, (array([4]),)),\n",
       " (16, 8, 8192, 0.041152287274599075, (array([7]),)),\n",
       " (8, 16, 4096, 0.03884700336206107, (array([4]),)),\n",
       " (8, 16, 8192, 0.025601018220186234, (array([7]),)),\n",
       " (16, 16, 4096, 0.0598188233810933, (array([2]),)),\n",
       " (16, 16, 8192, 0.05011123791337013, (array([7]),))]"
      ]
     },
     "execution_count": 22,
     "metadata": {},
     "output_type": "execute_result"
    }
   ],
   "source": [
    "records_4"
   ]
  },
  {
   "cell_type": "code",
   "execution_count": 19,
   "metadata": {
    "scrolled": true
   },
   "outputs": [
    {
     "data": {
      "text/plain": [
       "[(4, 8, 4096, 0.03966056429800183, (array([4]),)),\n",
       " (4, 8, 8192, 0.03644775226712227, (array([4]),)),\n",
       " (4, 16, 4096, 0.14485471551555665, (array([0]),)),\n",
       " (4, 16, 8192, 0.0906657725572586, (array([2]),)),\n",
       " (4, 32, 4096, 0.08531263988817671, (array([3]),)),\n",
       " (4, 32, 8192, 0.17081204056739807, (array([0]),)),\n",
       " (8, 8, 4096, 0.04856658303811227, (array([2]),)),\n",
       " (8, 8, 8192, 0.11286333948373795, (array([3]),)),\n",
       " (8, 16, 4096, 0.051967467162221545, (array([2]),)),\n",
       " (8, 16, 8192, 0.12133724242448807, (array([4]),)),\n",
       " (8, 32, 4096, 0.13176565847279112, (array([1]),)),\n",
       " (8, 32, 8192, 0.12348516285419464, (array([2]),)),\n",
       " (16, 8, 4096, 0.032094263276200234, (array([2]),)),\n",
       " (16, 8, 8192, 0.048853788524866104, (array([7]),))]"
      ]
     },
     "execution_count": 19,
     "metadata": {},
     "output_type": "execute_result"
    }
   ],
   "source": [
    "#conclusion: the shallower the better, best to keep nchan_out around 8\n",
    "records"
   ]
  },
  {
   "cell_type": "code",
   "execution_count": null,
   "metadata": {},
   "outputs": [],
   "source": []
  },
  {
   "cell_type": "code",
   "execution_count": null,
   "metadata": {},
   "outputs": [],
   "source": []
  },
  {
   "cell_type": "code",
   "execution_count": null,
   "metadata": {},
   "outputs": [],
   "source": []
  },
  {
   "cell_type": "code",
   "execution_count": null,
   "metadata": {},
   "outputs": [],
   "source": []
  },
  {
   "cell_type": "code",
   "execution_count": null,
   "metadata": {},
   "outputs": [],
   "source": []
  },
  {
   "cell_type": "code",
   "execution_count": 17,
   "metadata": {},
   "outputs": [
    {
     "name": "stdout",
     "output_type": "stream",
     "text": [
      "Model: \"sequential\"\n",
      "_________________________________________________________________\n",
      "Layer (type)                 Output Shape              Param #   \n",
      "=================================================================\n",
      "conv1 (Conv1D)               (None, 128, 16)           11024     \n",
      "_________________________________________________________________\n",
      "batch_normalization (BatchNo (None, 128, 16)           64        \n",
      "_________________________________________________________________\n",
      "activation (Activation)      (None, 128, 16)           0         \n",
      "_________________________________________________________________\n",
      "average_pooling1d (AveragePo (None, 32, 16)            0         \n",
      "_________________________________________________________________\n",
      "conv2 (Conv1D)               (None, 32, 16)            4112      \n",
      "_________________________________________________________________\n",
      "batch_normalization_1 (Batch (None, 32, 16)            64        \n",
      "_________________________________________________________________\n",
      "activation_1 (Activation)    (None, 32, 16)            0         \n",
      "_________________________________________________________________\n",
      "average_pooling1d_1 (Average (None, 8, 16)             0         \n",
      "_________________________________________________________________\n",
      "conv3 (Conv1D)               (None, 8, 16)             4112      \n",
      "_________________________________________________________________\n",
      "batch_normalization_2 (Batch (None, 8, 16)             64        \n",
      "_________________________________________________________________\n",
      "activation_2 (Activation)    (None, 8, 16)             0         \n",
      "_________________________________________________________________\n",
      "average_pooling1d_2 (Average (None, 2, 16)             0         \n",
      "_________________________________________________________________\n",
      "batch_normalization_3 (Batch (None, 2, 16)             64        \n",
      "_________________________________________________________________\n",
      "flatten (Flatten)            (None, 32)                0         \n",
      "_________________________________________________________________\n",
      "dense (Dense)                (None, 64)                2112      \n",
      "_________________________________________________________________\n",
      "batch_normalization_4 (Batch (None, 64)                256       \n",
      "_________________________________________________________________\n",
      "dense_1 (Dense)              (None, 5)                 325       \n",
      "=================================================================\n",
      "Total params: 22,197\n",
      "Trainable params: 21,941\n",
      "Non-trainable params: 256\n",
      "_________________________________________________________________\n",
      "None\n"
     ]
    }
   ],
   "source": [
    "model4 = create_model(J,Q,order,input_x,input_y,k_size=16,layer_size=3,nchan_out=16)"
   ]
  },
  {
   "cell_type": "code",
   "execution_count": 14,
   "metadata": {},
   "outputs": [],
   "source": [
    "output_dir = \"../output/train_pkl\"\n",
    "\n",
    "if not os.path.exists(output_dir):\n",
    "    os.makedirs(output_dir)\n",
    "model_filepath = os.path.join(output_dir, \"cp.ckpt\")\n",
    "log_filepath = os.path.join(output_dir, 'train_log.csv')\n",
    "\n",
    "callbacks = []\n",
    "callbacks.append(EarlyStopping(monitor='val_loss',patience=0,verbose=1))\n",
    "callbacks.append(ModelCheckpoint(model_filepath, save_best_only=True))\n",
    "callbacks.append(CSVLogger(log_filepath))"
   ]
  },
  {
   "cell_type": "code",
   "execution_count": 19,
   "metadata": {},
   "outputs": [
    {
     "name": "stdout",
     "output_type": "stream",
     "text": [
      "Train on 82224 samples, validate on 7776 samples\n",
      "82224/82224 [==============================] - 3s 38us/sample - loss: 0.2229 - mean_squared_error: 0.2229 - val_loss: 0.0458 - val_mean_squared_error: 0.0458\n",
      "Train on 82224 samples, validate on 7776 samples\n",
      "82224/82224 [==============================] - 2s 21us/sample - loss: 0.0382 - mean_squared_error: 0.0382 - val_loss: 0.2898 - val_mean_squared_error: 0.2898\n",
      "Train on 82224 samples, validate on 7776 samples\n",
      "82224/82224 [==============================] - 2s 21us/sample - loss: 0.0336 - mean_squared_error: 0.0336 - val_loss: 1.3946 - val_mean_squared_error: 1.3946\n"
     ]
    }
   ],
   "source": [
    "for epoch in range(3):\n",
    "    model4.fit(Sy_train,\n",
    "              y_train_normalized,\n",
    "              epochs=1,\n",
    "              verbose=1,\n",
    "              batch_size=1024,\n",
    "              shuffle=True,\n",
    "              callbacks = callbacks,\n",
    "              validation_data = (Sy_val,y_val_normalized),\n",
    "             use_multiprocessing=True)"
   ]
  },
  {
   "cell_type": "markdown",
   "metadata": {},
   "source": [
    "## try with data generator - kernel keeps restarting when i call fit"
   ]
  },
  {
   "cell_type": "code",
   "execution_count": 15,
   "metadata": {},
   "outputs": [],
   "source": [
    "def feature_sampler(Sy_all,y_all,idx):\n",
    "    \"\"\"\n",
    "    output a {input, ground truth} pair for the designated audio sample\n",
    "    \"\"\"\n",
    "    i=idx\n",
    "    Sy = Sy_all[i,:,:]\n",
    "    y = y_all[i,:]\n",
    "    while True:\n",
    "        yield {'input': Sy,'y': y}\n",
    "\n",
    "        \n",
    "def data_generator(Sy_all,y_all, batch_size, idx, active_streamers,rate,mode,random_state):\n",
    "    \"\"\"\n",
    "    use streamers to output a batch of {input groundtruth} pairs. \n",
    "    \"\"\"\n",
    "\n",
    "    seeds = []\n",
    "    for i in idx:\n",
    "        streamer = pescador.Streamer(feature_sampler,Sy_all,y_all,i)\n",
    "        seeds.append(streamer)\n",
    "\n",
    "    # Randomly shuffle the seeds\n",
    "    random.shuffle(seeds)\n",
    "\n",
    "    mux = pescador.StochasticMux(seeds, active_streamers, rate=rate, random_state=random_state,mode=mode)\n",
    "   \n",
    "    if batch_size == 1:\n",
    "        return mux\n",
    "    else:\n",
    "        return pescador.maps.buffer_stream(mux, batch_size)\n",
    "\n",
    "\n"
   ]
  },
  {
   "cell_type": "code",
   "execution_count": 16,
   "metadata": {},
   "outputs": [],
   "source": [
    "epochs=12\n",
    "batch_size=32\n",
    "random_state=12345678\n",
    "active_streamers=32\n",
    "mode='with_replacement'\n",
    "rate=1\n",
    "train_idx = np.arange(0,Sy_train.shape[0],1)\n",
    "train_batches=data_generator(Sy_train,y_train_normalized,batch_size, train_idx,active_streamers,rate=rate,mode=mode,random_state=random_state)\n",
    "steps_per_epoch = len(train_idx) // batch_size\n",
    "\n",
    "train_gen = pescador.maps.keras_tuples(train_batches, 'input', 'y')"
   ]
  },
  {
   "cell_type": "code",
   "execution_count": 17,
   "metadata": {},
   "outputs": [
    {
     "name": "stdout",
     "output_type": "stream",
     "text": [
      "Model: \"sequential\"\n",
      "_________________________________________________________________\n",
      "Layer (type)                 Output Shape              Param #   \n",
      "=================================================================\n",
      "conv1 (Conv1D)               (None, 128, 16)           11024     \n",
      "_________________________________________________________________\n",
      "batch_normalization (BatchNo (None, 128, 16)           64        \n",
      "_________________________________________________________________\n",
      "activation (Activation)      (None, 128, 16)           0         \n",
      "_________________________________________________________________\n",
      "average_pooling1d (AveragePo (None, 32, 16)            0         \n",
      "_________________________________________________________________\n",
      "conv2 (Conv1D)               (None, 32, 16)            4112      \n",
      "_________________________________________________________________\n",
      "batch_normalization_1 (Batch (None, 32, 16)            64        \n",
      "_________________________________________________________________\n",
      "activation_1 (Activation)    (None, 32, 16)            0         \n",
      "_________________________________________________________________\n",
      "average_pooling1d_1 (Average (None, 8, 16)             0         \n",
      "_________________________________________________________________\n",
      "conv3 (Conv1D)               (None, 8, 16)             4112      \n",
      "_________________________________________________________________\n",
      "batch_normalization_2 (Batch (None, 8, 16)             64        \n",
      "_________________________________________________________________\n",
      "activation_2 (Activation)    (None, 8, 16)             0         \n",
      "_________________________________________________________________\n",
      "average_pooling1d_2 (Average (None, 2, 16)             0         \n",
      "_________________________________________________________________\n",
      "conv4 (Conv1D)               (None, 2, 16)             4112      \n",
      "_________________________________________________________________\n",
      "batch_normalization_3 (Batch (None, 2, 16)             64        \n",
      "_________________________________________________________________\n",
      "activation_3 (Activation)    (None, 2, 16)             0         \n",
      "_________________________________________________________________\n",
      "average_pooling1d_3 (Average (None, 1, 16)             0         \n",
      "_________________________________________________________________\n",
      "batch_normalization_4 (Batch (None, 1, 16)             64        \n",
      "_________________________________________________________________\n",
      "flatten (Flatten)            (None, 16)                0         \n",
      "_________________________________________________________________\n",
      "dense (Dense)                (None, 64)                1088      \n",
      "_________________________________________________________________\n",
      "batch_normalization_5 (Batch (None, 64)                256       \n",
      "_________________________________________________________________\n",
      "dense_1 (Dense)              (None, 5)                 325       \n",
      "=================================================================\n",
      "Total params: 25,349\n",
      "Trainable params: 25,061\n",
      "Non-trainable params: 288\n",
      "_________________________________________________________________\n",
      "None\n"
     ]
    }
   ],
   "source": [
    "model5 = create_model(J,Q,order,input_x,input_y,k_size=16,layer_size=4,nchan_out=16)"
   ]
  },
  {
   "cell_type": "code",
   "execution_count": 18,
   "metadata": {},
   "outputs": [
    {
     "name": "stdout",
     "output_type": "stream",
     "text": [
      "Thu Mar 12 14:51:44 2020       \r\n",
      "+-----------------------------------------------------------------------------+\r\n",
      "| NVIDIA-SMI 418.39       Driver Version: 418.39       CUDA Version: 10.1     |\r\n",
      "|-------------------------------+----------------------+----------------------+\r\n",
      "| GPU  Name        Persistence-M| Bus-Id        Disp.A | Volatile Uncorr. ECC |\r\n",
      "| Fan  Temp  Perf  Pwr:Usage/Cap|         Memory-Usage | GPU-Util  Compute M. |\r\n",
      "|===============================+======================+======================|\r\n",
      "|   0  Tesla P40           On   | 00000000:04:00.0 Off |                    0 |\r\n",
      "| N/A   15C    P8     9W / 250W |     10MiB / 22919MiB |      0%   E. Process |\r\n",
      "+-------------------------------+----------------------+----------------------+\r\n",
      "|   1  Tesla P40           On   | 00000000:05:00.0 Off |                    0 |\r\n",
      "| N/A   13C    P8     9W / 250W |     10MiB / 22919MiB |      0%   E. Process |\r\n",
      "+-------------------------------+----------------------+----------------------+\r\n",
      "                                                                               \r\n",
      "+-----------------------------------------------------------------------------+\r\n",
      "| Processes:                                                       GPU Memory |\r\n",
      "|  GPU       PID   Type   Process name                             Usage      |\r\n",
      "|=============================================================================|\r\n",
      "|  No running processes found                                                 |\r\n",
      "+-----------------------------------------------------------------------------+\r\n"
     ]
    }
   ],
   "source": [
    "!nvidia-smi"
   ]
  },
  {
   "cell_type": "code",
   "execution_count": null,
   "metadata": {},
   "outputs": [],
   "source": [
    "hist = model5.fit(pescador.maps.keras_tuples(train_batches, 'input', 'y'),\n",
    "              steps_per_epoch=1,\n",
    "              epochs=1,\n",
    "              use_multiprocessing=False,\n",
    "              verbose=1,\n",
    "              callbacks = callbacks,\n",
    "              #validation_data = (Sy_val,y_val_normalized)\n",
    "             )"
   ]
  },
  {
   "cell_type": "code",
   "execution_count": 2,
   "metadata": {},
   "outputs": [
    {
     "ename": "NameError",
     "evalue": "name 'epochs' is not defined",
     "output_type": "error",
     "traceback": [
      "\u001b[0;31m---------------------------------------------------------------------------\u001b[0m",
      "\u001b[0;31mNameError\u001b[0m                                 Traceback (most recent call last)",
      "\u001b[0;32m<ipython-input-2-594052644961>\u001b[0m in \u001b[0;36m<module>\u001b[0;34m\u001b[0m\n\u001b[0;32m----> 1\u001b[0;31m \u001b[0;32mfor\u001b[0m \u001b[0mepoch\u001b[0m \u001b[0;32min\u001b[0m \u001b[0mrange\u001b[0m\u001b[0;34m(\u001b[0m\u001b[0mepochs\u001b[0m\u001b[0;34m)\u001b[0m\u001b[0;34m:\u001b[0m\u001b[0;34m\u001b[0m\u001b[0;34m\u001b[0m\u001b[0m\n\u001b[0m\u001b[1;32m      2\u001b[0m     model5.fit(train_gen,\n\u001b[1;32m      3\u001b[0m               \u001b[0msteps_per_epoch\u001b[0m\u001b[0;34m=\u001b[0m\u001b[0;36m1\u001b[0m\u001b[0;34m,\u001b[0m\u001b[0;34m\u001b[0m\u001b[0;34m\u001b[0m\u001b[0m\n\u001b[1;32m      4\u001b[0m               \u001b[0mepochs\u001b[0m\u001b[0;34m=\u001b[0m\u001b[0;36m1\u001b[0m\u001b[0;34m,\u001b[0m\u001b[0;34m\u001b[0m\u001b[0;34m\u001b[0m\u001b[0m\n\u001b[1;32m      5\u001b[0m               \u001b[0muse_multiprocessing\u001b[0m\u001b[0;34m=\u001b[0m\u001b[0;32mTrue\u001b[0m\u001b[0;34m,\u001b[0m\u001b[0;34m\u001b[0m\u001b[0;34m\u001b[0m\u001b[0m\n",
      "\u001b[0;31mNameError\u001b[0m: name 'epochs' is not defined"
     ]
    }
   ],
   "source": [
    "for epoch in range(epochs):\n",
    "    model5.fit(pescador.maps.keras_tuples(train_batches, 'input', 'y'),\n",
    "              steps_per_epoch=1,\n",
    "              epochs=1,\n",
    "              use_multiprocessing=True,\n",
    "              verbose=1,\n",
    "              callbacks = callbacks,\n",
    "              validation_data = (Sy_val,y_val_normalized)\n",
    "             )\n",
    "    #print('done fitting')\n",
    "   # loss,mse = model.evaluate(Sy_val,y_val_normalized)\n",
    "   # print(loss,mse)"
   ]
  },
  {
   "cell_type": "code",
   "execution_count": null,
   "metadata": {},
   "outputs": [],
   "source": []
  },
  {
   "cell_type": "code",
   "execution_count": null,
   "metadata": {},
   "outputs": [],
   "source": []
  },
  {
   "cell_type": "code",
   "execution_count": 11,
   "metadata": {},
   "outputs": [
    {
     "data": {
      "text/plain": [
       "(82224, 5)"
      ]
     },
     "execution_count": 11,
     "metadata": {},
     "output_type": "execute_result"
    }
   ],
   "source": [
    "\n",
    "train_idx = np.arange(0,params.shape[0],1)#np.arange(0,1000,1) #df_train.values[:1000,0]\n",
    "test_idx = np.arange(0,df_test.values.shape[0],1) #df_test.values[:300,0]\n",
    "val_idx = np.arange(0,df_val.values.shape[0],1)\n",
    "\n",
    "\n",
    "test_params_normalized = scaler.transform(df_test.values[:,1:-1])\n",
    "val_params_normalized = scaler.transform(df_val.values[:,1:-1])\n",
    "train_batches=data_generator(df_train,train_params_normalized, path_to_train,J, Q, order, batch_size, train_idx,active_streamers,rate=rate,mode=mode,random_state=random_state)\n",
    "test_batches=data_generator(df_test,test_params_normalized, path_to_test,J, Q, order, batch_size, test_idx,active_streamers,rate=rate,mode=mode,random_state=random_state)\n",
    "val_batches = data_generator(df_val,val_params_normalized, path_to_val,J, Q, order, batch_size, val_idx,active_streamers,rate=64,mode=mode,random_state=random_state)\n",
    "steps_per_epoch = len(train_idx) // batch_size\n",
    "\n",
    "train_gen = pescador.maps.keras_tuples(train_batches, 'input', 'y')\n",
    "test_gen = pescador.maps.keras_tuples(test_batches, 'input', 'y')\n",
    "val_gen = pescador.maps.keras_tuples(val_batches, 'input', 'y')\n"
   ]
  },
  {
   "cell_type": "code",
   "execution_count": null,
   "metadata": {},
   "outputs": [],
   "source": []
  }
 ],
 "metadata": {
  "kernelspec": {
   "display_name": "Python 3",
   "language": "python",
   "name": "python3"
  }
 },
 "nbformat": 4,
 "nbformat_minor": 4
}
