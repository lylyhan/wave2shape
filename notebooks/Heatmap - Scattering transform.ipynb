{
 "cells": [
  {
   "cell_type": "markdown",
   "metadata": {},
   "source": [
    "## Heat Map\n",
    "indicating laplacian of each point on the drum surface in the scattering domain"
   ]
  },
  {
   "cell_type": "code",
   "execution_count": 1,
   "metadata": {},
   "outputs": [],
   "source": [
    "import hitdifferentparts\n",
    "import IPython.display as ipd\n",
    "import numpy as np\n",
    "import autograd\n",
    "import torch\n",
    "from kymatio import Scattering1D\n",
    "\n",
    "from torch.autograd import backward\n",
    "from matplotlib.patches import Rectangle\n",
    "import matplotlib.pyplot as plt\n",
    "from tqdm import tnrange, tqdm_notebook"
   ]
  },
  {
   "cell_type": "markdown",
   "metadata": {},
   "source": [
    "sample from 1/8 of the drum surface, resolution is 0.05"
   ]
  },
  {
   "cell_type": "code",
   "execution_count": 2,
   "metadata": {
    "scrolled": true
   },
   "outputs": [
    {
     "ename": "NameError",
     "evalue": "name 'x_sel' is not defined",
     "output_type": "error",
     "traceback": [
      "\u001b[0;31m---------------------------------------------------------------------------\u001b[0m",
      "\u001b[0;31mNameError\u001b[0m                                 Traceback (most recent call last)",
      "\u001b[0;32m<ipython-input-2-19665eeec2fb>\u001b[0m in \u001b[0;36m<module>\u001b[0;34m\u001b[0m\n\u001b[1;32m      1\u001b[0m \u001b[0mx_alt\u001b[0m \u001b[0;34m=\u001b[0m \u001b[0;34m[\u001b[0m\u001b[0;34m]\u001b[0m\u001b[0;34m\u001b[0m\u001b[0m\n\u001b[1;32m      2\u001b[0m \u001b[0my_alt\u001b[0m \u001b[0;34m=\u001b[0m \u001b[0;34m[\u001b[0m\u001b[0;34m]\u001b[0m\u001b[0;34m\u001b[0m\u001b[0m\n\u001b[0;32m----> 3\u001b[0;31m \u001b[0;32mfor\u001b[0m \u001b[0mi\u001b[0m \u001b[0;32min\u001b[0m \u001b[0mrange\u001b[0m\u001b[0;34m(\u001b[0m\u001b[0mlen\u001b[0m\u001b[0;34m(\u001b[0m\u001b[0mx_sel\u001b[0m\u001b[0;34m)\u001b[0m\u001b[0;34m)\u001b[0m\u001b[0;34m:\u001b[0m\u001b[0;34m\u001b[0m\u001b[0m\n\u001b[0m\u001b[1;32m      4\u001b[0m     \u001b[0;32mif\u001b[0m \u001b[0mx_sel\u001b[0m\u001b[0;34m[\u001b[0m\u001b[0mi\u001b[0m\u001b[0;34m]\u001b[0m\u001b[0;34m<=\u001b[0m\u001b[0;36m0.5\u001b[0m \u001b[0;32mand\u001b[0m \u001b[0my_sel\u001b[0m\u001b[0;34m[\u001b[0m\u001b[0mi\u001b[0m\u001b[0;34m]\u001b[0m\u001b[0;34m<=\u001b[0m\u001b[0;36m0.5\u001b[0m \u001b[0;32mand\u001b[0m \u001b[0mx_sel\u001b[0m\u001b[0;34m[\u001b[0m\u001b[0mi\u001b[0m\u001b[0;34m]\u001b[0m\u001b[0;34m<=\u001b[0m\u001b[0my_sel\u001b[0m\u001b[0;34m[\u001b[0m\u001b[0mi\u001b[0m\u001b[0;34m]\u001b[0m\u001b[0;34m:\u001b[0m\u001b[0;34m\u001b[0m\u001b[0m\n\u001b[1;32m      5\u001b[0m         \u001b[0mx_alt\u001b[0m\u001b[0;34m.\u001b[0m\u001b[0mappend\u001b[0m\u001b[0;34m(\u001b[0m\u001b[0mx_sel\u001b[0m\u001b[0;34m[\u001b[0m\u001b[0mi\u001b[0m\u001b[0;34m]\u001b[0m\u001b[0;34m)\u001b[0m\u001b[0;34m\u001b[0m\u001b[0m\n",
      "\u001b[0;31mNameError\u001b[0m: name 'x_sel' is not defined"
     ]
    }
   ],
   "source": [
    "x_alt = []\n",
    "y_alt = []\n",
    "for i in range(len(x_sel)):\n",
    "    if x_sel[i]<=0.5 and y_sel[i]<=0.5 and x_sel[i]<=y_sel[i]:\n",
    "        x_alt.append(x_sel[i])\n",
    "        y_alt.append(y_sel[i])\n",
    "plt.scatter(x_alt,y_alt)"
   ]
  },
  {
   "cell_type": "code",
   "execution_count": 127,
   "metadata": {},
   "outputs": [
    {
     "name": "stdout",
     "output_type": "stream",
     "text": [
      "529 78 529 78\n"
     ]
    }
   ],
   "source": [
    "print(len(x_sel),len(x_alt),len(y_sel),len(y_alt))"
   ]
  },
  {
   "cell_type": "code",
   "execution_count": 3,
   "metadata": {
    "scrolled": true
   },
   "outputs": [
    {
     "name": "stdout",
     "output_type": "stream",
     "text": [
      "529 78 529 78\n"
     ]
    },
    {
     "data": {
      "image/png": "[encoded data removed]",
      "text/plain": [
       "<Figure size 360x360 with 1 Axes>"
      ]
     },
     "metadata": {
      "needs_background": "light"
     },
     "output_type": "display_data"
    }
   ],
   "source": [
    "d = 1/20\n",
    "x = np.linspace(0-d,1+d,21+2)\n",
    "y = np.linspace(0-d,1+d,21+2)\n",
    "x_sel = []\n",
    "y_sel = []\n",
    "x_alt = []\n",
    "y_alt = []\n",
    "for i in x:\n",
    "    for j in y:\n",
    "        x_sel.append(i)\n",
    "        y_sel.append(j)\n",
    "plt.figure(figsize=(5,5))\n",
    "#Rectangle((0,0), 1, 1,linestyle='-')\n",
    "\n",
    "for i in range(len(x_sel)):\n",
    "    if x_sel[i]<=0.5 and y_sel[i]<=0.5 and x_sel[i]<=y_sel[i]:\n",
    "        x_alt.append(x_sel[i])\n",
    "        y_alt.append(y_sel[i])\n",
    "        \n",
    "print(len(x_sel),len(x_alt),len(y_sel),len(y_alt))\n",
    "\n",
    "        \n",
    "plt.scatter(x_sel,y_sel)\n",
    "#plt.scatter(x_sel,y_sel,c='k')\n",
    "plt.scatter(x_alt,y_alt,c='y')\n",
    "plt.axvline(x=0,color = 'r')\n",
    "plt.axvline(x=1,color = 'r')\n",
    "plt.axhline(y=0,color = 'r')\n",
    "plt.axhline(y=1,color = 'r')\n",
    "plt.axis('off')\n",
    "plt.show()\n",
    "#plt.xlim([0,1])\n",
    "#plt.ylim([0,1])"
   ]
  },
  {
   "cell_type": "markdown",
   "metadata": {},
   "source": [
    "dictionary that forms mapping between points that are equivalent to each other.\n",
    "\n",
    "scattering transform on each point in the set\n",
    "\n",
    "matrix of scattering transfrom of the entire surface\n",
    "\n",
    "and then get matrix of laplacian of each point"
   ]
  },
  {
   "cell_type": "markdown",
   "metadata": {},
   "source": [
    "make coordinate mapping dictionary"
   ]
  },
  {
   "cell_type": "code",
   "execution_count": 4,
   "metadata": {},
   "outputs": [],
   "source": [
    "x1 = [round(i,2) for i in x]\n",
    "y1 = [round(i,2) for i in y]"
   ]
  },
  {
   "cell_type": "code",
   "execution_count": 5,
   "metadata": {
    "scrolled": true
   },
   "outputs": [
    {
     "name": "stdout",
     "output_type": "stream",
     "text": [
      "dict_keys([(1.0, 1.0), (1.0, 0.05), (1.0, 0.9), (1.0, 0.85), (1.0, 0.8), (1.0, 0.25), (1.0, 0.7), (1.0, 0.35), (1.0, 0.4), (1.0, 0.55), (0.5, 0.0), (0.95, 0.95), (0.9, 0.05), (0.85, 0.05), (0.8, 0.05), (0.75, 0.05), (0.7, 0.05), (0.65, 0.05), (0.6, 0.05), (0.55, 0.05), (0.95, 0.5), (0.9, 0.9), (0.85, 0.1), (0.8, 0.1), (0.75, 0.1), (0.7, 0.1), (0.65, 0.1), (0.6, 0.1), (0.55, 0.1), (0.9, 0.5), (0.85, 0.85), (0.8, 0.15), (0.75, 0.15), (0.7, 0.15), (0.65, 0.15), (0.6, 0.15), (0.55, 0.15), (0.85, 0.5), (0.8, 0.8), (0.75, 0.2), (0.7, 0.2), (0.65, 0.2), (0.6, 0.2), (0.55, 0.2), (0.8, 0.5), (0.75, 0.75), (0.7, 0.25), (0.65, 0.25), (0.6, 0.25), (0.55, 0.25), (0.75, 0.5), (0.7, 0.7), (0.65, 0.3), (0.6, 0.3), (0.55, 0.3), (0.7, 0.5), (0.65, 0.35), (0.6, 0.35), (0.55, 0.35), (0.65, 0.5), (0.6, 0.4), (0.55, 0.4), (0.6, 0.5), (0.55, 0.55), (0.55, 0.5), (0.5, 0.5)]) 66\n"
     ]
    }
   ],
   "source": [
    "coord_set = {}\n",
    "# (0.1,0.9) = (0.9,0.1) = {0.9,0.9} = {0.1,0.1}\n",
    "tot = 0\n",
    "for i in x1[1:-1]:\n",
    "    for j in y1[1:-1]:\n",
    "        tot+=1\n",
    "        tempset = {(i,j),(round(1-i,2),round(1-j,2)),(round(1-i,2),j),(i,round(1-j,2)),(j,i),(round(1-j,2),round(1-i,2)),(j,round(1-i,2)),(round(1-j,2),i)}\n",
    "        count = 0\n",
    "        for coord in tempset:\n",
    "            if coord not in coord_set.keys():\n",
    "                count += 1\n",
    "        if count == len(tempset):\n",
    "            coord_set[coord] = list(tempset)\n",
    "print(coord_set.keys(),len(coord_set.keys()))\n",
    "        "
   ]
  },
  {
   "cell_type": "markdown",
   "metadata": {},
   "source": [
    "make the sound sets"
   ]
  },
  {
   "cell_type": "code",
   "execution_count": 32,
   "metadata": {
    "scrolled": true
   },
   "outputs": [
    {
     "name": "stderr",
     "output_type": "stream",
     "text": [
      "/Users/lilyh/Documents/NYU/THESIS/wave2shape/notebooks/hitdifferentparts.py:67: RuntimeWarning: invalid value encountered in true_divide\n",
      "  y2 = y/np.max(np.abs(np.array(y)))\n"
     ]
    },
    {
     "name": "stdout",
     "output_type": "stream",
     "text": [
      "--- 0.9185500144958496 seconds ---\n",
      "--- 0.8624551296234131 seconds ---\n",
      "--- 0.888617992401123 seconds ---\n",
      "--- 0.8401567935943604 seconds ---\n",
      "--- 0.9040429592132568 seconds ---\n",
      "--- 0.9073998928070068 seconds ---\n",
      "--- 1.0498340129852295 seconds ---\n",
      "--- 1.0165152549743652 seconds ---\n",
      "--- 0.9028441905975342 seconds ---\n",
      "--- 1.2416701316833496 seconds ---\n",
      "--- 0.8757328987121582 seconds ---\n",
      "--- 0.766322135925293 seconds ---\n",
      "--- 0.9073059558868408 seconds ---\n",
      "--- 1.0379650592803955 seconds ---\n",
      "--- 0.9200320243835449 seconds ---\n",
      "--- 0.9605000019073486 seconds ---\n",
      "--- 0.9029009342193604 seconds ---\n",
      "--- 0.9798078536987305 seconds ---\n",
      "--- 0.9570848941802979 seconds ---\n",
      "--- 0.9042470455169678 seconds ---\n",
      "--- 0.8750369548797607 seconds ---\n",
      "--- 1.0362911224365234 seconds ---\n",
      "--- 1.0440666675567627 seconds ---\n",
      "--- 0.9099330902099609 seconds ---\n",
      "--- 0.8334071636199951 seconds ---\n",
      "--- 1.4800050258636475 seconds ---\n",
      "--- 0.8636648654937744 seconds ---\n",
      "--- 0.9315361976623535 seconds ---\n",
      "--- 1.1144979000091553 seconds ---\n",
      "--- 1.0551459789276123 seconds ---\n",
      "--- 1.035170078277588 seconds ---\n",
      "--- 0.9289729595184326 seconds ---\n",
      "--- 0.9932007789611816 seconds ---\n",
      "--- 0.9740417003631592 seconds ---\n",
      "--- 0.9757649898529053 seconds ---\n",
      "--- 0.8582308292388916 seconds ---\n",
      "--- 0.9426019191741943 seconds ---\n",
      "--- 1.2739949226379395 seconds ---\n",
      "--- 1.0635082721710205 seconds ---\n",
      "--- 1.2181658744812012 seconds ---\n",
      "--- 1.1622958183288574 seconds ---\n",
      "--- 1.3001232147216797 seconds ---\n",
      "--- 1.0026261806488037 seconds ---\n",
      "--- 0.9664270877838135 seconds ---\n",
      "--- 0.9150032997131348 seconds ---\n",
      "--- 1.1509649753570557 seconds ---\n",
      "--- 1.1983602046966553 seconds ---\n",
      "--- 0.9516160488128662 seconds ---\n",
      "--- 1.0859599113464355 seconds ---\n",
      "--- 1.022972822189331 seconds ---\n",
      "--- 0.9492988586425781 seconds ---\n",
      "--- 1.084364891052246 seconds ---\n",
      "--- 1.1152398586273193 seconds ---\n",
      "--- 1.0296180248260498 seconds ---\n",
      "--- 1.0624268054962158 seconds ---\n",
      "--- 1.1684532165527344 seconds ---\n",
      "--- 1.068105936050415 seconds ---\n",
      "--- 1.0918550491333008 seconds ---\n",
      "--- 1.1316370964050293 seconds ---\n",
      "--- 1.0658631324768066 seconds ---\n",
      "--- 1.0421161651611328 seconds ---\n",
      "--- 1.110239028930664 seconds ---\n",
      "--- 1.2029147148132324 seconds ---\n",
      "--- 0.9753808975219727 seconds ---\n",
      "--- 0.9653277397155762 seconds ---\n",
      "--- 1.0774309635162354 seconds ---\n"
     ]
    }
   ],
   "source": [
    "w,t,pp,d,a = [3960.1349876368563, 0.09376144165196816, 0.0016713390753826927,\n",
    "       0.0012821611585344935, 0.23768976773282824]\n",
    "sounds_set = {}\n",
    "for key in coord_set.keys():\n",
    "    #y = hitdifferentparts.getsounds_imp_gaus(10,10,key[0],key[1],w,t,pp,d,a,22050) #gaussian excitation\n",
    "    y = hitdifferentparts.hitdiffparts(key[0],key[1],w,t,pp,d,a) #delta excitation\n",
    "    if np.isnan(max(y)) == True:\n",
    "        y = np.zeros(len(y))\n",
    "    sounds_set[key] = y"
   ]
  },
  {
   "cell_type": "code",
   "execution_count": 33,
   "metadata": {},
   "outputs": [
    {
     "data": {
      "text/plain": [
       "dict_keys([(1.0, 1.0), (1.0, 0.05), (1.0, 0.9), (1.0, 0.85), (1.0, 0.8), (1.0, 0.25), (1.0, 0.7), (1.0, 0.35), (1.0, 0.4), (1.0, 0.55), (0.5, 0.0), (0.95, 0.95), (0.9, 0.05), (0.85, 0.05), (0.8, 0.05), (0.75, 0.05), (0.7, 0.05), (0.65, 0.05), (0.6, 0.05), (0.55, 0.05), (0.95, 0.5), (0.9, 0.9), (0.85, 0.1), (0.8, 0.1), (0.75, 0.1), (0.7, 0.1), (0.65, 0.1), (0.6, 0.1), (0.55, 0.1), (0.9, 0.5), (0.85, 0.85), (0.8, 0.15), (0.75, 0.15), (0.7, 0.15), (0.65, 0.15), (0.6, 0.15), (0.55, 0.15), (0.85, 0.5), (0.8, 0.8), (0.75, 0.2), (0.7, 0.2), (0.65, 0.2), (0.6, 0.2), (0.55, 0.2), (0.8, 0.5), (0.75, 0.75), (0.7, 0.25), (0.65, 0.25), (0.6, 0.25), (0.55, 0.25), (0.75, 0.5), (0.7, 0.7), (0.65, 0.3), (0.6, 0.3), (0.55, 0.3), (0.7, 0.5), (0.65, 0.35), (0.6, 0.35), (0.55, 0.35), (0.65, 0.5), (0.6, 0.4), (0.55, 0.4), (0.6, 0.5), (0.55, 0.55), (0.55, 0.5), (0.5, 0.5)])"
      ]
     },
     "execution_count": 33,
     "metadata": {},
     "output_type": "execute_result"
    }
   ],
   "source": [
    "sounds_set.keys()"
   ]
  },
  {
   "cell_type": "markdown",
   "metadata": {},
   "source": [
    "make scattering sets"
   ]
  },
  {
   "cell_type": "code",
   "execution_count": 8,
   "metadata": {},
   "outputs": [],
   "source": [
    "def getsc(y, J=8):\n",
    "    \"\"\"\n",
    "    this function outputs scattering transform of a time-domain signal.\n",
    "    \"\"\"\n",
    "    N = len(y)\n",
    "    scattering = Scattering1D(J = J,shape=(N,))\n",
    "    Sy = scattering(y)\n",
    "    return Sy"
   ]
  },
  {
   "cell_type": "code",
   "execution_count": 13,
   "metadata": {},
   "outputs": [],
   "source": [
    "def getscattering(i,j):\n",
    "    #get scattering coefficients from coordinate\n",
    "    coordset = {(i,j),(round(1-i,2),round(1-j,2)),(round(1-i,2),j),\n",
    "                (i,round(1-j,2)),(j,i),(round(1-j,2),round(1-i,2)),\n",
    "                (j,round(1-i,2)),(round(1-j,2),i)}\n",
    "    count = 0\n",
    "    for c in coordset:\n",
    "        if c in scattering_set.keys():\n",
    "            #print(\"really\",c)\n",
    "            break\n",
    "        elif c not in scattering_set.keys():\n",
    "            count += 1\n",
    "    if count == len(coordset):\n",
    "        c = 'null'\n",
    "        #print(i,j)\n",
    "    \n",
    "    return scattering_set[c]"
   ]
  },
  {
   "cell_type": "code",
   "execution_count": 9,
   "metadata": {},
   "outputs": [],
   "source": [
    "eps=1e-3"
   ]
  },
  {
   "cell_type": "code",
   "execution_count": 34,
   "metadata": {},
   "outputs": [],
   "source": [
    "scattering_set = {}\n",
    "for key in sounds_set.keys():\n",
    "    y = sounds_set[key]\n",
    "    Sy = getsc(torch.Tensor(y))\n",
    "    Sy = np.log1p(((Sy>0)*Sy)/eps)\n",
    "    scattering_set[key] = Sy"
   ]
  },
  {
   "cell_type": "code",
   "execution_count": 35,
   "metadata": {},
   "outputs": [],
   "source": [
    "nully = np.zeros(len(y))\n",
    "scattering_set['null'] = getsc(torch.Tensor(nully))"
   ]
  },
  {
   "cell_type": "markdown",
   "metadata": {},
   "source": [
    "get laplacian of the entire surface"
   ]
  },
  {
   "cell_type": "markdown",
   "metadata": {},
   "source": [
    "## ???Do I calculate norm of laplacian here or sum of laplacian vector"
   ]
  },
  {
   "cell_type": "code",
   "execution_count": 36,
   "metadata": {
    "scrolled": true
   },
   "outputs": [],
   "source": [
    "Lap_sum = np.zeros((len(x1[1:-1]),len(y1[1:-1])))\n",
    "Lap_norm = np.zeros((len(x1[1:-1]),len(y1[1:-1])))\n",
    "Lap_mean = np.zeros((len(x1[1:-1]),len(y1[1:-1])))\n",
    "d = 0.05\n",
    "for i,x in enumerate(x1[2:-2]):\n",
    "    for j,y in enumerate(y1[2:-2]):\n",
    "        lap = getscattering(x,y) - 0.25 * (getscattering(round(x+d,2),y)+getscattering(round(x-d,2),y)\n",
    "                           +getscattering(x,round(y+d,2))+getscattering(x,round(y-d,2))) \n",
    "        #lap = lap/(1e-6+getscattering(x,y))\n",
    "        lap = lap/(torch.norm(getscattering(x,y)))\n",
    "        #print(getscattering(x,y))\n",
    "        Lap_sum[i+1,j+1] = torch.sum(lap)\n",
    "        Lap_norm[i+1,j+1] = torch.norm(lap)\n",
    "        #if Lap_norm[i,j] == 0:\n",
    "        #    print(i,j,round(x-d,2),y)\n",
    "        Lap_mean[i+1,j+1] = torch.mean(lap)"
   ]
  },
  {
   "cell_type": "code",
   "execution_count": 37,
   "metadata": {
    "scrolled": true
   },
   "outputs": [
    {
     "data": {
      "text/plain": [
       "0.06665218621492386"
      ]
     },
     "execution_count": 37,
     "metadata": {},
     "output_type": "execute_result"
    }
   ],
   "source": [
    "Lap_norm[10,10]"
   ]
  },
  {
   "cell_type": "code",
   "execution_count": 41,
   "metadata": {},
   "outputs": [
    {
     "data": {
      "image/png": "[encoded data removed]",
      "text/plain": [
       "<Figure size 432x360 with 2 Axes>"
      ]
     },
     "metadata": {
      "needs_background": "light"
     },
     "output_type": "display_data"
    }
   ],
   "source": [
    "fig,ax = plt.subplots()\n",
    "fig.set_size_inches(6, 5)\n",
    "ax.tick_params(labelsize=18)\n",
    "c = ax.pcolormesh(x1[1:], y1[1:], Lap_norm, cmap='magma_r', vmin=np.min(Lap_norm), vmax=0.79)#np.max(Lap_norm))\n",
    "plt.title('Norm of Laplacian - Scattering',fontsize=20)\n",
    "\n",
    "fig.tight_layout()\n",
    "cb=fig.colorbar(c, ax=ax)\n",
    "cb.ax.tick_params(labelsize=18)\n",
    "#colorbar.ax.tick_params(labelsize=14)\n",
    "plt.show()"
   ]
  },
  {
   "cell_type": "code",
   "execution_count": 26,
   "metadata": {
    "scrolled": true
   },
   "outputs": [
    {
     "data": {
      "image/png": "[encoded data removed]",
      "text/plain": [
       "<Figure size 432x360 with 2 Axes>"
      ]
     },
     "metadata": {
      "needs_background": "light"
     },
     "output_type": "display_data"
    }
   ],
   "source": [
    "fig,ax = plt.subplots()\n",
    "fig.set_size_inches(6, 5)\n",
    "c = ax.pcolormesh(x1[1:], y1[1:], Lap_norm, cmap='magma_r', vmin=np.min(Lap_norm), vmax=0.79)#np.max(Lap_norm))\n",
    "plt.title('Norm of Laplacian - Scattering')\n",
    "fig.tight_layout()\n",
    "fig.colorbar(c, ax=ax)\n",
    "plt.show()"
   ]
  },
  {
   "cell_type": "code",
   "execution_count": 24,
   "metadata": {
    "scrolled": true
   },
   "outputs": [
    {
     "data": {
      "text/plain": [
       "0.5551487803459167"
      ]
     },
     "execution_count": 24,
     "metadata": {},
     "output_type": "execute_result"
    }
   ],
   "source": [
    "np.max(Lap_norm)"
   ]
  },
  {
   "cell_type": "code",
   "execution_count": 16,
   "metadata": {},
   "outputs": [
    {
     "data": {
      "image/png": "[encoded data removed]",
      "text/plain": [
       "<Figure size 432x360 with 2 Axes>"
      ]
     },
     "metadata": {
      "needs_background": "light"
     },
     "output_type": "display_data"
    }
   ],
   "source": [
    "fig,ax = plt.subplots()\n",
    "fig.set_size_inches(6, 5)\n",
    "c = ax.pcolormesh(x1[1:], y1[1:], Lap_sum, cmap='magma_r', vmin=np.min(Lap_sum), vmax=np.max(Lap_sum))\n",
    "plt.title('Sum of Laplacian')\n",
    "fig.tight_layout()\n",
    "fig.colorbar(c, ax=ax)\n",
    "plt.show()"
   ]
  },
  {
   "cell_type": "code",
   "execution_count": 17,
   "metadata": {
    "scrolled": false
   },
   "outputs": [
    {
     "data": {
      "image/png": "[encoded data removed]",
      "text/plain": [
       "<Figure size 432x360 with 2 Axes>"
      ]
     },
     "metadata": {
      "needs_background": "light"
     },
     "output_type": "display_data"
    }
   ],
   "source": [
    "fig,ax = plt.subplots()\n",
    "fig.set_size_inches(6, 5)\n",
    "c = ax.pcolormesh(x1[1:], y1[1:], np.abs(Lap_mean), cmap='magma_r', vmin=0, vmax=0.273)\n",
    "plt.title('Mean of Laplacian - Scattering')\n",
    "fig.tight_layout()\n",
    "fig.colorbar(c, ax=ax)\n",
    "plt.show()"
   ]
  },
  {
   "cell_type": "code",
   "execution_count": null,
   "metadata": {},
   "outputs": [],
   "source": []
  },
  {
   "cell_type": "code",
   "execution_count": null,
   "metadata": {},
   "outputs": [],
   "source": []
  }
 ],
 "metadata": {
  "kernelspec": {
   "display_name": "Python [conda env:anaconda3]",
   "language": "python",
   "name": "conda-env-anaconda3-py"
  },
  "language_info": {
   "codemirror_mode": {
    "name": "ipython",
    "version": 3
   },
   "file_extension": ".py",
   "mimetype": "text/x-python",
   "name": "python",
   "nbconvert_exporter": "python",
   "pygments_lexer": "ipython3",
   "version": "3.6.3"
  }
 },
 "nbformat": 4,
 "nbformat_minor": 2
}
