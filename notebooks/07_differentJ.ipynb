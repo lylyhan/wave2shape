{
 "cells": [
  {
   "cell_type": "code",
   "execution_count": 1,
   "metadata": {},
   "outputs": [
    {
     "data": {
      "text/plain": [
       "1"
      ]
     },
     "execution_count": 1,
     "metadata": {},
     "output_type": "execute_result"
    }
   ],
   "source": [
    "1"
   ]
  },
  {
   "cell_type": "code",
   "execution_count": 2,
   "metadata": {},
   "outputs": [
    {
     "data": {
      "text/plain": [
       "2"
      ]
     },
     "execution_count": 2,
     "metadata": {},
     "output_type": "execute_result"
    }
   ],
   "source": [
    "2"
   ]
  },
  {
   "cell_type": "code",
   "execution_count": 4,
   "metadata": {},
   "outputs": [],
   "source": [
    "import numpy as np\n",
    "import tensorflow.keras\n",
    "from tensorflow import keras\n",
    "import torch\n",
    "import tensorflow as tf\n",
    "from tensorflow.keras.models import Model, Sequential\n",
    "from tensorflow.keras.layers import Conv1D, AveragePooling1D, Conv2D, MaxPooling2D,ReLU\n",
    "import tensorflow.keras.backend as K\n",
    "from tensorflow.keras.models import load_model #save and load models\n",
    "from tensorflow.keras.layers import Dense, Dropout, Activation, Flatten\n",
    "from tensorflow.keras.layers import BatchNormalization\n",
    "from tensorflow.keras.callbacks import EarlyStopping, CSVLogger, ModelCheckpoint\n",
    "import IPython.display as ipd\n",
    "from kymatio import Scattering1D\n",
    "import hitdifferentparts\n",
    "import pandas as pd\n",
    "from sklearn.preprocessing import MinMaxScaler\n",
    "import pescador\n",
    "import random\n",
    "import os\n",
    "import librosa\n",
    "import pickle\n",
    "import matplotlib.pyplot as plt\n",
    "import math\n",
    "\n"
   ]
  },
  {
   "cell_type": "code",
   "execution_count": 10,
   "metadata": {},
   "outputs": [
    {
     "data": {
      "text/plain": [
       "['scattering_J-10_Q-01_order1_score.pkl',\n",
       " 'J-14_Q-01_order2.h5',\n",
       " 'scattering_J-10_Q-01_order2_score.pkl',\n",
       " 'J-14_Q-01_order1.h5',\n",
       " 'scattering_J-06_Q-01_order1_score.pkl',\n",
       " 'J-08_Q-01_order2.h5',\n",
       " 'J-06_Q-01_order1.h5',\n",
       " 'J-08_Q-01_order1.h5',\n",
       " 'scattering_J-14_Q-01_order1_score.pkl',\n",
       " 'scattering_J-12_Q-01_order1_score.pkl',\n",
       " 'scattering_J-12_Q-01_order2_score.pkl',\n",
       " 'J-10_Q-01_order1.h5',\n",
       " 'scattering_J-14_Q-01_order2_score.pkl',\n",
       " 'scattering_J-08_Q-01_order1_score.pkl',\n",
       " 'J-10_Q-01_order2.h5',\n",
       " 'scattering_J-08_Q-01_order2_score.pkl',\n",
       " 'J-12_Q-01_order1.h5',\n",
       " 'J-12_Q-01_order2.h5']"
      ]
     },
     "execution_count": 10,
     "metadata": {},
     "output_type": "execute_result"
    }
   ],
   "source": [
    "output_dir = \"../output/tests2\"\n",
    "os.listdir(output_dir)"
   ]
  },
  {
   "cell_type": "code",
   "execution_count": 6,
   "metadata": {},
   "outputs": [],
   "source": [
    "J=[6,8,10,12,14]\n",
    "order = [1,2]\n",
    "Q=1"
   ]
  },
  {
   "cell_type": "code",
   "execution_count": 11,
   "metadata": {},
   "outputs": [],
   "source": [
    "def create_model_adjustable(J,Q,order,k_size,nchan_out,activation):\n",
    "\tN = 2**15\n",
    "\ty = np.random.rand(N)\n",
    "\tscattering = Scattering1D(J = J,shape=(N,), Q = Q, max_order=order)\n",
    "\tSy = np.array(scattering(torch.Tensor(y))).T\n",
    "\tinput_x,input_y = Sy.shape\n",
    "\tnchan_in = 1       # number of input channels.  1 since it is BW\n",
    "\n",
    "\tinput_shape = (input_x,input_y)#Sy.shape\n",
    "\tkernel_size = (k_size,)\n",
    "\tK.clear_session()\n",
    "\tmodel=Sequential()\n",
    "\t#1 conv layer +  1 batch normalization + nonlinear activation + pooling\n",
    "\tmodel.add(BatchNormalization(input_shape=input_shape))\n",
    "\tmodel.add(Conv1D(filters=nchan_out,\n",
    "\t\tkernel_size=kernel_size, padding=\"same\",name='conv1'))\n",
    "\t#model.add(BatchNormalization())\n",
    "\tmodel.add(Activation(\"relu\"))\n",
    "\n",
    "\tif model.layers[-1].output_shape[1]>=4:\n",
    "\t\tpool = 4\n",
    "\telif model.layers[-1].output_shape[1]==2:\n",
    "\t\tpool = 2\n",
    "\t    \n",
    "\tmodel.add(AveragePooling1D(pool_size=(pool,)))\n",
    "\n",
    "\n",
    "\tfor i in range(3):\n",
    "\t\tmodel.add(Conv1D(filters=nchan_out,\n",
    "\t\t             kernel_size=kernel_size, padding=\"same\" ))\n",
    "\t\tmodel.add(BatchNormalization())\n",
    "\t\tmodel.add(Activation(\"relu\"))\n",
    "\t\t#print('before pool',model.layers[-1].output_shape)\n",
    "\t\tif model.layers[-1].output_shape[1] >= 4:\n",
    "\t\t\tmodel.add(AveragePooling1D(pool_size=(4,)))\n",
    "\t\telif model.layers[-1].output_shape[1] == 2:\n",
    "\t\t\tmodel.add(AveragePooling1D(pool_size=(2,)))\n",
    "\t\t#print(model.layers[-1].output_shape)\n",
    "\n",
    "\tmodel.add(BatchNormalization())\n",
    "\tmodel.add(Flatten())\n",
    "\tmodel.add(Dense(64, activation='relu'))\n",
    "\tmodel.add(BatchNormalization())\n",
    "\t#what activation should be chosen for last layer, for regression problem? should be a linear function\n",
    "\tmodel.add(Dense(5, activation=activation)) #output layer that corresponds to the 5 physical parameters.\n",
    "\n",
    "\n",
    "\t# Compile the model\n",
    "\tmodel.compile(loss='mse', optimizer='adam', metrics=['mse'])\n",
    "\n",
    "\n",
    "\n",
    "\n",
    "\treturn model"
   ]
  },
  {
   "cell_type": "code",
   "execution_count": 43,
   "metadata": {},
   "outputs": [
    {
     "name": "stdout",
     "output_type": "stream",
     "text": [
      "../output/tests/J-06_Q-01_order1.h5\n"
     ]
    },
    {
     "ename": "OSError",
     "evalue": "Unable to open file (unable to open file: name = '../output/tests/J-06_Q-01_order1.h5', errno = 2, error message = 'No such file or directory', flags = 0, o_flags = 0)",
     "output_type": "error",
     "traceback": [
      "\u001b[0;31m---------------------------------------------------------------------------\u001b[0m",
      "\u001b[0;31mOSError\u001b[0m                                   Traceback (most recent call last)",
      "\u001b[0;32m<ipython-input-43-c937f14c0bfb>\u001b[0m in \u001b[0;36m<module>\u001b[0;34m\u001b[0m\n\u001b[1;32m     10\u001b[0m             \u001b[0mprint\u001b[0m\u001b[0;34m(\u001b[0m\u001b[0mmodel_path\u001b[0m\u001b[0;34m)\u001b[0m\u001b[0;34m\u001b[0m\u001b[0;34m\u001b[0m\u001b[0m\n\u001b[1;32m     11\u001b[0m             \u001b[0mmodel\u001b[0m \u001b[0;34m=\u001b[0m \u001b[0mcreate_model_adjustable\u001b[0m\u001b[0;34m(\u001b[0m\u001b[0mj\u001b[0m\u001b[0;34m,\u001b[0m\u001b[0mQ\u001b[0m\u001b[0;34m,\u001b[0m\u001b[0mo\u001b[0m\u001b[0;34m,\u001b[0m\u001b[0mk_size\u001b[0m\u001b[0;34m=\u001b[0m\u001b[0;36m8\u001b[0m\u001b[0;34m,\u001b[0m\u001b[0mnchan_out\u001b[0m\u001b[0;34m=\u001b[0m\u001b[0;36m16\u001b[0m\u001b[0;34m,\u001b[0m\u001b[0mactivation\u001b[0m\u001b[0;34m=\u001b[0m\u001b[0;34m'linear'\u001b[0m\u001b[0;34m)\u001b[0m\u001b[0;34m\u001b[0m\u001b[0;34m\u001b[0m\u001b[0m\n\u001b[0;32m---> 12\u001b[0;31m             \u001b[0mmodel\u001b[0m\u001b[0;34m.\u001b[0m\u001b[0mload_weights\u001b[0m\u001b[0;34m(\u001b[0m\u001b[0mmodel_path\u001b[0m\u001b[0;34m)\u001b[0m\u001b[0;34m\u001b[0m\u001b[0;34m\u001b[0m\u001b[0m\n\u001b[0m\u001b[1;32m     13\u001b[0m             \u001b[0;31m#load test and train files\u001b[0m\u001b[0;34m\u001b[0m\u001b[0;34m\u001b[0m\u001b[0;34m\u001b[0m\u001b[0m\n\u001b[1;32m     14\u001b[0m             pickle_name = \"_\".join(\n",
      "\u001b[0;32m~/miniconda3/envs/drum-1.15/lib/python3.7/site-packages/tensorflow_core/python/keras/engine/training.py\u001b[0m in \u001b[0;36mload_weights\u001b[0;34m(self, filepath, by_name)\u001b[0m\n\u001b[1;32m    180\u001b[0m         raise ValueError('Load weights is not yet supported with TPUStrategy '\n\u001b[1;32m    181\u001b[0m                          'with steps_per_run greater than 1.')\n\u001b[0;32m--> 182\u001b[0;31m     \u001b[0;32mreturn\u001b[0m \u001b[0msuper\u001b[0m\u001b[0;34m(\u001b[0m\u001b[0mModel\u001b[0m\u001b[0;34m,\u001b[0m \u001b[0mself\u001b[0m\u001b[0;34m)\u001b[0m\u001b[0;34m.\u001b[0m\u001b[0mload_weights\u001b[0m\u001b[0;34m(\u001b[0m\u001b[0mfilepath\u001b[0m\u001b[0;34m,\u001b[0m \u001b[0mby_name\u001b[0m\u001b[0;34m)\u001b[0m\u001b[0;34m\u001b[0m\u001b[0;34m\u001b[0m\u001b[0m\n\u001b[0m\u001b[1;32m    183\u001b[0m \u001b[0;34m\u001b[0m\u001b[0m\n\u001b[1;32m    184\u001b[0m   \u001b[0;34m@\u001b[0m\u001b[0mtrackable\u001b[0m\u001b[0;34m.\u001b[0m\u001b[0mno_automatic_dependency_tracking\u001b[0m\u001b[0;34m\u001b[0m\u001b[0;34m\u001b[0m\u001b[0m\n",
      "\u001b[0;32m~/miniconda3/envs/drum-1.15/lib/python3.7/site-packages/tensorflow_core/python/keras/engine/network.py\u001b[0m in \u001b[0;36mload_weights\u001b[0;34m(self, filepath, by_name)\u001b[0m\n\u001b[1;32m   1365\u001b[0m           'first, then load the weights.')\n\u001b[1;32m   1366\u001b[0m     \u001b[0mself\u001b[0m\u001b[0;34m.\u001b[0m\u001b[0m_assert_weights_created\u001b[0m\u001b[0;34m(\u001b[0m\u001b[0;34m)\u001b[0m\u001b[0;34m\u001b[0m\u001b[0;34m\u001b[0m\u001b[0m\n\u001b[0;32m-> 1367\u001b[0;31m     \u001b[0;32mwith\u001b[0m \u001b[0mh5py\u001b[0m\u001b[0;34m.\u001b[0m\u001b[0mFile\u001b[0m\u001b[0;34m(\u001b[0m\u001b[0mfilepath\u001b[0m\u001b[0;34m,\u001b[0m \u001b[0;34m'r'\u001b[0m\u001b[0;34m)\u001b[0m \u001b[0;32mas\u001b[0m \u001b[0mf\u001b[0m\u001b[0;34m:\u001b[0m\u001b[0;34m\u001b[0m\u001b[0;34m\u001b[0m\u001b[0m\n\u001b[0m\u001b[1;32m   1368\u001b[0m       \u001b[0;32mif\u001b[0m \u001b[0;34m'layer_names'\u001b[0m \u001b[0;32mnot\u001b[0m \u001b[0;32min\u001b[0m \u001b[0mf\u001b[0m\u001b[0;34m.\u001b[0m\u001b[0mattrs\u001b[0m \u001b[0;32mand\u001b[0m \u001b[0;34m'model_weights'\u001b[0m \u001b[0;32min\u001b[0m \u001b[0mf\u001b[0m\u001b[0;34m:\u001b[0m\u001b[0;34m\u001b[0m\u001b[0;34m\u001b[0m\u001b[0m\n\u001b[1;32m   1369\u001b[0m         \u001b[0mf\u001b[0m \u001b[0;34m=\u001b[0m \u001b[0mf\u001b[0m\u001b[0;34m[\u001b[0m\u001b[0;34m'model_weights'\u001b[0m\u001b[0;34m]\u001b[0m\u001b[0;34m\u001b[0m\u001b[0;34m\u001b[0m\u001b[0m\n",
      "\u001b[0;32m~/miniconda3/envs/drum-1.15/lib/python3.7/site-packages/h5py/_hl/files.py\u001b[0m in \u001b[0;36m__init__\u001b[0;34m(self, name, mode, driver, libver, userblock_size, swmr, rdcc_nslots, rdcc_nbytes, rdcc_w0, track_order, **kwds)\u001b[0m\n\u001b[1;32m    406\u001b[0m                 fid = make_fid(name, mode, userblock_size,\n\u001b[1;32m    407\u001b[0m                                \u001b[0mfapl\u001b[0m\u001b[0;34m,\u001b[0m \u001b[0mfcpl\u001b[0m\u001b[0;34m=\u001b[0m\u001b[0mmake_fcpl\u001b[0m\u001b[0;34m(\u001b[0m\u001b[0mtrack_order\u001b[0m\u001b[0;34m=\u001b[0m\u001b[0mtrack_order\u001b[0m\u001b[0;34m)\u001b[0m\u001b[0;34m,\u001b[0m\u001b[0;34m\u001b[0m\u001b[0;34m\u001b[0m\u001b[0m\n\u001b[0;32m--> 408\u001b[0;31m                                swmr=swmr)\n\u001b[0m\u001b[1;32m    409\u001b[0m \u001b[0;34m\u001b[0m\u001b[0m\n\u001b[1;32m    410\u001b[0m             \u001b[0;32mif\u001b[0m \u001b[0misinstance\u001b[0m\u001b[0;34m(\u001b[0m\u001b[0mlibver\u001b[0m\u001b[0;34m,\u001b[0m \u001b[0mtuple\u001b[0m\u001b[0;34m)\u001b[0m\u001b[0;34m:\u001b[0m\u001b[0;34m\u001b[0m\u001b[0;34m\u001b[0m\u001b[0m\n",
      "\u001b[0;32m~/miniconda3/envs/drum-1.15/lib/python3.7/site-packages/h5py/_hl/files.py\u001b[0m in \u001b[0;36mmake_fid\u001b[0;34m(name, mode, userblock_size, fapl, fcpl, swmr)\u001b[0m\n\u001b[1;32m    171\u001b[0m         \u001b[0;32mif\u001b[0m \u001b[0mswmr\u001b[0m \u001b[0;32mand\u001b[0m \u001b[0mswmr_support\u001b[0m\u001b[0;34m:\u001b[0m\u001b[0;34m\u001b[0m\u001b[0;34m\u001b[0m\u001b[0m\n\u001b[1;32m    172\u001b[0m             \u001b[0mflags\u001b[0m \u001b[0;34m|=\u001b[0m \u001b[0mh5f\u001b[0m\u001b[0;34m.\u001b[0m\u001b[0mACC_SWMR_READ\u001b[0m\u001b[0;34m\u001b[0m\u001b[0;34m\u001b[0m\u001b[0m\n\u001b[0;32m--> 173\u001b[0;31m         \u001b[0mfid\u001b[0m \u001b[0;34m=\u001b[0m \u001b[0mh5f\u001b[0m\u001b[0;34m.\u001b[0m\u001b[0mopen\u001b[0m\u001b[0;34m(\u001b[0m\u001b[0mname\u001b[0m\u001b[0;34m,\u001b[0m \u001b[0mflags\u001b[0m\u001b[0;34m,\u001b[0m \u001b[0mfapl\u001b[0m\u001b[0;34m=\u001b[0m\u001b[0mfapl\u001b[0m\u001b[0;34m)\u001b[0m\u001b[0;34m\u001b[0m\u001b[0;34m\u001b[0m\u001b[0m\n\u001b[0m\u001b[1;32m    174\u001b[0m     \u001b[0;32melif\u001b[0m \u001b[0mmode\u001b[0m \u001b[0;34m==\u001b[0m \u001b[0;34m'r+'\u001b[0m\u001b[0;34m:\u001b[0m\u001b[0;34m\u001b[0m\u001b[0;34m\u001b[0m\u001b[0m\n\u001b[1;32m    175\u001b[0m         \u001b[0mfid\u001b[0m \u001b[0;34m=\u001b[0m \u001b[0mh5f\u001b[0m\u001b[0;34m.\u001b[0m\u001b[0mopen\u001b[0m\u001b[0;34m(\u001b[0m\u001b[0mname\u001b[0m\u001b[0;34m,\u001b[0m \u001b[0mh5f\u001b[0m\u001b[0;34m.\u001b[0m\u001b[0mACC_RDWR\u001b[0m\u001b[0;34m,\u001b[0m \u001b[0mfapl\u001b[0m\u001b[0;34m=\u001b[0m\u001b[0mfapl\u001b[0m\u001b[0;34m)\u001b[0m\u001b[0;34m\u001b[0m\u001b[0;34m\u001b[0m\u001b[0m\n",
      "\u001b[0;32mh5py/_objects.pyx\u001b[0m in \u001b[0;36mh5py._objects.with_phil.wrapper\u001b[0;34m()\u001b[0m\n",
      "\u001b[0;32mh5py/_objects.pyx\u001b[0m in \u001b[0;36mh5py._objects.with_phil.wrapper\u001b[0;34m()\u001b[0m\n",
      "\u001b[0;32mh5py/h5f.pyx\u001b[0m in \u001b[0;36mh5py.h5f.open\u001b[0;34m()\u001b[0m\n",
      "\u001b[0;31mOSError\u001b[0m: Unable to open file (unable to open file: name = '../output/tests/J-06_Q-01_order1.h5', errno = 2, error message = 'No such file or directory', flags = 0, o_flags = 0)"
     ]
    }
   ],
   "source": [
    "pkl_dir = '/scratch/hh2263/drum_data/han2020fa_sc-pkl/'\n",
    "record = []\n",
    "for j in J:\n",
    "    for o in order:\n",
    "        if j==6 and o==2:\n",
    "            pass\n",
    "        else:\n",
    "            model_path = os.path.join(\n",
    "               output_dir, \"_\".join([ \"J-\" + str(j).zfill(2), \"Q-\" + str(Q).zfill(2), \"order\" + str(o)]) + \".h5\")\n",
    "            print(model_path)\n",
    "            model = create_model_adjustable(j,Q,o,k_size=8,nchan_out=16,activation='linear')\n",
    "            model.load_weights(model_path)\n",
    "            #load test and train files\n",
    "            pickle_name = \"_\".join(\n",
    "                [\"scattering\",\n",
    "                \"J-\" + str(j).zfill(2), \"Q-\" + str(Q).zfill(2), \"order\" + str(o)]\n",
    "            )\n",
    "            pkl_path_test = os.path.join(pkl_dir,pickle_name+\"_fold-test.pkl\")\n",
    "            pkl_test = open(pkl_path_test,'rb')\n",
    "            Sy_test,y_test = pickle.load(pkl_test)\n",
    "            pkl_path_train = os.path.join(pkl_dir,pickle_name+\"_fold-train.pkl\")\n",
    "            pkl_train = open(pkl_path_train, 'rb')\n",
    "            Sy_train,y_train = pickle.load(pkl_train)\n",
    "\n",
    "            for idx in range(2,4):\n",
    "                y_train[:,idx] = [math.log10(i) for i in y_train[:,idx]]\n",
    "                y_test[:,idx] = [math.log10(i) for i in y_test[:,idx]]\n",
    "\n",
    "            scaler = MinMaxScaler()\n",
    "            scaler.fit(y_train)\n",
    "            y_test_normalized = scaler.transform(y_test)\n",
    "            #log scale the input\n",
    "            eps = 1e-11\n",
    "            Sy_test_log2 = np.log1p((Sy_test>0)*Sy_test/eps)\n",
    "            print(\"start evaluating\")\n",
    "            hist = model.evaluate(Sy_test_log2,y_test_normalized)\n",
    "            record.append((j,o,hist[0]))\n",
    "        "
   ]
  },
  {
   "cell_type": "markdown",
   "metadata": {},
   "source": [
    "manually fit J-6, order=2\n"
   ]
  },
  {
   "cell_type": "code",
   "execution_count": null,
   "metadata": {},
   "outputs": [],
   "source": []
  },
  {
   "cell_type": "code",
   "execution_count": null,
   "metadata": {},
   "outputs": [],
   "source": []
  },
  {
   "cell_type": "code",
   "execution_count": null,
   "metadata": {},
   "outputs": [],
   "source": []
  },
  {
   "cell_type": "code",
   "execution_count": null,
   "metadata": {},
   "outputs": [],
   "source": []
  },
  {
   "cell_type": "code",
   "execution_count": null,
   "metadata": {},
   "outputs": [],
   "source": []
  },
  {
   "cell_type": "code",
   "execution_count": null,
   "metadata": {},
   "outputs": [],
   "source": []
  },
  {
   "cell_type": "code",
   "execution_count": 17,
   "metadata": {
    "scrolled": true
   },
   "outputs": [
    {
     "data": {
      "text/plain": [
       "[(6, 1, 0.05194204691052437),\n",
       " (8, 1, 0.052052471125125885),\n",
       " (8, 2, 0.045803333097696304),\n",
       " (10, 1, 0.06753752752542495),\n",
       " (10, 2, 0.03771992841362953),\n",
       " (12, 1, 0.0483383327126503),\n",
       " (12, 2, 0.036508769923448564),\n",
       " (14, 1, 0.0500540704369545),\n",
       " (14, 2, 0.03513952844142914)]"
      ]
     },
     "execution_count": 17,
     "metadata": {},
     "output_type": "execute_result"
    }
   ],
   "source": [
    "record"
   ]
  },
  {
   "cell_type": "code",
   "execution_count": 18,
   "metadata": {},
   "outputs": [],
   "source": [
    "order1 = []\n",
    "j1 = []\n",
    "order2 = []\n",
    "j2= []\n",
    "for j,o,score in record:\n",
    "    if o==1:\n",
    "        order1.append(score)\n",
    "        j1.append(j)\n",
    "    elif o==2:\n",
    "        order2.append(score)\n",
    "        j2.append(j)\n",
    "    "
   ]
  },
  {
   "cell_type": "code",
   "execution_count": 38,
   "metadata": {},
   "outputs": [
    {
     "data": {
      "text/plain": [
       "(0.0, 0.1)"
      ]
     },
     "execution_count": 38,
     "metadata": {},
     "output_type": "execute_result"
    },
    {
     "data": {
      "image/png": "[encoded data removed]",
      "text/plain": [
       "<Figure size 432x288 with 1 Axes>"
      ]
     },
     "metadata": {
      "needs_background": "light"
     },
     "output_type": "display_data"
    }
   ],
   "source": [
    "plt.scatter(j1,order1)\n",
    "plt.scatter(j2,order2)\n",
    "plt.legend(['order 1', 'order 2'])\n",
    "plt.xlabel('J')\n",
    "plt.ylabel('mse')\n",
    "plt.title('influence of scale J and order on mse')\n",
    "plt.ylim([0,0.1])"
   ]
  },
  {
   "cell_type": "markdown",
   "metadata": {},
   "source": [
    "make j-6 order-2 manually"
   ]
  },
  {
   "cell_type": "code",
   "execution_count": 13,
   "metadata": {},
   "outputs": [],
   "source": [
    "pkl_dir = '/scratch/hh2263/drum_data/han2020fa_sc-pkl/'\n",
    "J = 6\n",
    "Q = 1\n",
    "order = 2\n",
    "pickle_name = \"_\".join(\n",
    "    [\"scattering\",\n",
    "    \"J-\" + str(J).zfill(2), \"Q-\" + str(Q).zfill(2), \"order\" + str(order)]\n",
    ")\n",
    "\n"
   ]
  },
  {
   "cell_type": "code",
   "execution_count": 20,
   "metadata": {},
   "outputs": [
    {
     "data": {
      "text/plain": [
       "'/scratch/hh2263/drum_data/han2020fa_sc-pkl/scattering_J-06_Q-01_order2_fold-train.pkl'"
      ]
     },
     "execution_count": 20,
     "metadata": {},
     "output_type": "execute_result"
    }
   ],
   "source": [
    "pkl_path_train"
   ]
  },
  {
   "cell_type": "code",
   "execution_count": 16,
   "metadata": {
    "scrolled": true
   },
   "outputs": [
    {
     "name": "stdout",
     "output_type": "stream",
     "text": [
      "<_io.BufferedReader name='/scratch/hh2263/drum_data/han2020fa_sc-pkl/scattering_J-06_Q-01_order2_fold-train.pkl'>\n"
     ]
    }
   ],
   "source": [
    "pkl_path_train = os.path.join(pkl_dir,pickle_name+\"_fold-train.pkl\")\n",
    "pkl_train = open(pkl_path_train, 'rb')\n",
    "print(pkl_train)\n",
    "#Sy_train,y_train = pickle.load(pkl_train) "
   ]
  },
  {
   "cell_type": "code",
   "execution_count": 19,
   "metadata": {
    "scrolled": true
   },
   "outputs": [
    {
     "name": "stderr",
     "output_type": "stream",
     "text": [
      "ERROR:root:Internal Python error in the inspect module.\n",
      "Below is the traceback from this internal error.\n",
      "\n"
     ]
    },
    {
     "name": "stdout",
     "output_type": "stream",
     "text": [
      "Traceback (most recent call last):\n",
      "  File \"/home/hh2263/miniconda3/envs/drum-1.15/lib/python3.7/site-packages/IPython/core/interactiveshell.py\", line 3331, in run_code\n",
      "    exec(code_obj, self.user_global_ns, self.user_ns)\n",
      "  File \"<ipython-input-19-645924ef6bce>\", line 5, in <module>\n",
      "    if os.path.getsize(pkl_train) > 0:\n",
      "  File \"/home/hh2263/miniconda3/envs/drum-1.15/lib/python3.7/genericpath.py\", line 50, in getsize\n",
      "    return os.stat(filename).st_size\n",
      "TypeError: stat: path should be string, bytes, os.PathLike or integer, not _io.BufferedReader\n",
      "\n",
      "During handling of the above exception, another exception occurred:\n",
      "\n",
      "Traceback (most recent call last):\n",
      "  File \"/home/hh2263/miniconda3/envs/drum-1.15/lib/python3.7/site-packages/IPython/core/interactiveshell.py\", line 2044, in showtraceback\n",
      "    stb = value._render_traceback_()\n",
      "AttributeError: 'TypeError' object has no attribute '_render_traceback_'\n",
      "\n",
      "During handling of the above exception, another exception occurred:\n",
      "\n",
      "Traceback (most recent call last):\n",
      "  File \"/home/hh2263/miniconda3/envs/drum-1.15/lib/python3.7/site-packages/IPython/core/ultratb.py\", line 1151, in get_records\n",
      "    return _fixed_getinnerframes(etb, number_of_lines_of_context, tb_offset)\n",
      "  File \"/home/hh2263/miniconda3/envs/drum-1.15/lib/python3.7/site-packages/IPython/core/ultratb.py\", line 319, in wrapped\n",
      "    return f(*args, **kwargs)\n",
      "  File \"/home/hh2263/miniconda3/envs/drum-1.15/lib/python3.7/site-packages/IPython/core/ultratb.py\", line 353, in _fixed_getinnerframes\n",
      "    records = fix_frame_records_filenames(inspect.getinnerframes(etb, context))\n",
      "  File \"/home/hh2263/miniconda3/envs/drum-1.15/lib/python3.7/inspect.py\", line 1502, in getinnerframes\n",
      "    frameinfo = (tb.tb_frame,) + getframeinfo(tb, context)\n",
      "  File \"/home/hh2263/miniconda3/envs/drum-1.15/lib/python3.7/inspect.py\", line 1460, in getframeinfo\n",
      "    filename = getsourcefile(frame) or getfile(frame)\n",
      "  File \"/home/hh2263/miniconda3/envs/drum-1.15/lib/python3.7/inspect.py\", line 696, in getsourcefile\n",
      "    if getattr(getmodule(object, filename), '__loader__', None) is not None:\n",
      "  File \"/home/hh2263/miniconda3/envs/drum-1.15/lib/python3.7/inspect.py\", line 733, in getmodule\n",
      "    if ismodule(module) and hasattr(module, '__file__'):\n",
      "  File \"/home/hh2263/miniconda3/envs/drum-1.15/lib/python3.7/site-packages/tensorflow/__init__.py\", line 50, in __getattr__\n",
      "    module = self._load()\n",
      "  File \"/home/hh2263/miniconda3/envs/drum-1.15/lib/python3.7/site-packages/tensorflow/__init__.py\", line 44, in _load\n",
      "    module = _importlib.import_module(self.__name__)\n",
      "  File \"/home/hh2263/miniconda3/envs/drum-1.15/lib/python3.7/importlib/__init__.py\", line 127, in import_module\n",
      "    return _bootstrap._gcd_import(name[level:], package, level)\n",
      "  File \"<frozen importlib._bootstrap>\", line 1006, in _gcd_import\n",
      "  File \"<frozen importlib._bootstrap>\", line 983, in _find_and_load\n",
      "  File \"<frozen importlib._bootstrap>\", line 965, in _find_and_load_unlocked\n",
      "ModuleNotFoundError: No module named 'tensorflow_core.estimator'\n"
     ]
    },
    {
     "ename": "TypeError",
     "evalue": "stat: path should be string, bytes, os.PathLike or integer, not _io.BufferedReader",
     "output_type": "error",
     "traceback": [
      "\u001b[0;31m---------------------------------------------------------------------------\u001b[0m"
     ]
    }
   ],
   "source": [
    "import os\n",
    "\n",
    "scores = {} # scores is an empty dict already\n",
    "\n",
    "if os.path.getsize(pkl_train) > 0:      \n",
    "    with open(pkl_train, \"rb\") as f:\n",
    "        unpickler = pickle.Unpickler(f)\n",
    "        # if file is not empty scores will be equal\n",
    "        # to the value unpickled\n",
    "        scores = unpickler.load()"
   ]
  },
  {
   "cell_type": "code",
   "execution_count": 12,
   "metadata": {},
   "outputs": [
    {
     "name": "stderr",
     "output_type": "stream",
     "text": [
      "ERROR:root:Internal Python error in the inspect module.\n",
      "Below is the traceback from this internal error.\n",
      "\n"
     ]
    },
    {
     "name": "stdout",
     "output_type": "stream",
     "text": [
      "Traceback (most recent call last):\n",
      "  File \"/home/hh2263/miniconda3/envs/drum-1.15/lib/python3.7/site-packages/IPython/core/interactiveshell.py\", line 3331, in run_code\n",
      "    exec(code_obj, self.user_global_ns, self.user_ns)\n",
      "  File \"<ipython-input-12-ccbf044b0461>\", line 12, in <module>\n",
      "    Sy_train,y_train = pickle.load(pkl_train)\n",
      "EOFError: Ran out of input\n",
      "\n",
      "During handling of the above exception, another exception occurred:\n",
      "\n",
      "Traceback (most recent call last):\n",
      "  File \"/home/hh2263/miniconda3/envs/drum-1.15/lib/python3.7/site-packages/IPython/core/interactiveshell.py\", line 2044, in showtraceback\n",
      "    stb = value._render_traceback_()\n",
      "AttributeError: 'EOFError' object has no attribute '_render_traceback_'\n",
      "\n",
      "During handling of the above exception, another exception occurred:\n",
      "\n",
      "Traceback (most recent call last):\n",
      "  File \"/home/hh2263/miniconda3/envs/drum-1.15/lib/python3.7/site-packages/IPython/core/ultratb.py\", line 1151, in get_records\n",
      "    return _fixed_getinnerframes(etb, number_of_lines_of_context, tb_offset)\n",
      "  File \"/home/hh2263/miniconda3/envs/drum-1.15/lib/python3.7/site-packages/IPython/core/ultratb.py\", line 319, in wrapped\n",
      "    return f(*args, **kwargs)\n",
      "  File \"/home/hh2263/miniconda3/envs/drum-1.15/lib/python3.7/site-packages/IPython/core/ultratb.py\", line 353, in _fixed_getinnerframes\n",
      "    records = fix_frame_records_filenames(inspect.getinnerframes(etb, context))\n",
      "  File \"/home/hh2263/miniconda3/envs/drum-1.15/lib/python3.7/inspect.py\", line 1502, in getinnerframes\n",
      "    frameinfo = (tb.tb_frame,) + getframeinfo(tb, context)\n",
      "  File \"/home/hh2263/miniconda3/envs/drum-1.15/lib/python3.7/inspect.py\", line 1460, in getframeinfo\n",
      "    filename = getsourcefile(frame) or getfile(frame)\n",
      "  File \"/home/hh2263/miniconda3/envs/drum-1.15/lib/python3.7/inspect.py\", line 696, in getsourcefile\n",
      "    if getattr(getmodule(object, filename), '__loader__', None) is not None:\n",
      "  File \"/home/hh2263/miniconda3/envs/drum-1.15/lib/python3.7/inspect.py\", line 733, in getmodule\n",
      "    if ismodule(module) and hasattr(module, '__file__'):\n",
      "  File \"/home/hh2263/miniconda3/envs/drum-1.15/lib/python3.7/site-packages/tensorflow/__init__.py\", line 50, in __getattr__\n",
      "    module = self._load()\n",
      "  File \"/home/hh2263/miniconda3/envs/drum-1.15/lib/python3.7/site-packages/tensorflow/__init__.py\", line 44, in _load\n",
      "    module = _importlib.import_module(self.__name__)\n",
      "  File \"/home/hh2263/miniconda3/envs/drum-1.15/lib/python3.7/importlib/__init__.py\", line 127, in import_module\n",
      "    return _bootstrap._gcd_import(name[level:], package, level)\n",
      "  File \"<frozen importlib._bootstrap>\", line 1006, in _gcd_import\n",
      "  File \"<frozen importlib._bootstrap>\", line 983, in _find_and_load\n",
      "  File \"<frozen importlib._bootstrap>\", line 965, in _find_and_load_unlocked\n",
      "ModuleNotFoundError: No module named 'tensorflow_core.estimator'\n"
     ]
    },
    {
     "ename": "EOFError",
     "evalue": "Ran out of input",
     "output_type": "error",
     "traceback": [
      "\u001b[0;31m---------------------------------------------------------------------------\u001b[0m"
     ]
    }
   ],
   "source": [
    "\n",
    "pkl_path_train = os.path.join(pkl_dir,pickle_name+\"_fold-train.pkl\")\n",
    "pkl_train = open(pkl_path_train, 'rb')\n",
    "Sy_train,y_train = pickle.load(pkl_train) \n",
    "\n",
    "pkl_path_val = os.path.join(pkl_dir,pickle_name+\"_fold-val.pkl\")\n",
    "pkl_val = open(pkl_path_val,'rb')\n",
    "Sy_val,y_val = pickle.load(pkl_val)\n",
    "\n",
    "pkl_path_test = os.path.join(pkl_dir,pickle_name+\"_fold-test.pkl\")\n",
    "pkl_test = open(pkl_path_test,'rb')\n",
    "Sy_test,y_test = pickle.load(pkl_test)\n",
    "\n",
    "#log scale p and D"
   ]
  },
  {
   "cell_type": "code",
   "execution_count": null,
   "metadata": {},
   "outputs": [],
   "source": [
    "for idx in range(2,4):\n",
    "\ty_train[:,idx] = [math.log10(i) for i in y_train[:,idx]]\n",
    "\ty_test[:,idx] = [math.log10(i) for i in y_test[:,idx]]\n",
    "\ty_val[:,idx] = [math.log10(i) for i in y_val[:,idx]]\n",
    "\n",
    "# normalization of the physical parameters\n",
    "scaler = MinMaxScaler()\n",
    "scaler.fit(y_train)\n",
    "y_train_normalized = scaler.transform(y_train)\n",
    "y_val_normalized = scaler.transform(y_val)\n",
    "y_test_normalized = scaler.transform(y_test)"
   ]
  },
  {
   "cell_type": "code",
   "execution_count": null,
   "metadata": {},
   "outputs": [],
   "source": [
    "#log scale the input\n",
    "eps = 1e-11\n",
    "Sy_train_log2 = np.log1p(((Sy_train>0)*Sy_train)/eps)\n",
    "Sy_val_log2 = np.log1p(((Sy_val>0)*Sy_val)/eps)\n",
    "Sy_test_log2 = np.log1p((Sy_test>0)*Sy_test/eps)"
   ]
  },
  {
   "cell_type": "code",
   "execution_count": null,
   "metadata": {},
   "outputs": [],
   "source": [
    "trial_dir = \"../output/tests2/\"\n",
    "os.makedirs(trial_dir, exist_ok=True)\n",
    "best_validation_loss = np.inf\n",
    "zoom_factor = 1\n",
    "n = Sy_train.shape[0]\n",
    "shape_time = round(Sy_train.shape[1] * zoom_factor)\n",
    "steps_per_epoch = 50\n",
    "bs = 64\n",
    "m = bs*steps_per_epoch\n",
    "idx = np.arange(0,n,1)\n",
    "val_loss=[]\n",
    "train_loss = []\n",
    "test_loss = []\n",
    "model_adjustable = create_model_adjustable(J=J,Q=Q,order=order,k_size=8,nchan_out=16,activation='linear')\n",
    "save_log = os.path.join(trial_dir,pickle_name+\"_score.pkl\")"
   ]
  },
  {
   "cell_type": "code",
   "execution_count": null,
   "metadata": {},
   "outputs": [],
   "source": [
    "for epoch in range(30):\n",
    "\tnp.random.shuffle(idx)\n",
    "\tSy_temp = Sy_train_log2[idx[:m],:shape_time,:]\n",
    "\ty_temp = y_train_normalized[idx[:m],:]\n",
    "\n",
    "\thist = model_adjustable.fit(Sy_temp,\n",
    "\t\t\t\ty_temp,\n",
    "\t\t\t\tepochs=1,\n",
    "\t\t\t\tverbose=2,\n",
    "\t\t\t\tbatch_size=bs,\n",
    "\t\t\t\tvalidation_data = (Sy_val_log2[:,-shape_time:,:],y_val_normalized),\n",
    "\t\t\t\tuse_multiprocessing=False)\n",
    "\n",
    "\tvalidation_loss = hist.history['val_loss'][0]\n",
    "\n",
    "\ttest_loss.append(model_adjustable.evaluate(Sy_test_log2,y_test_normalized)[0])\n",
    "\tval_loss.append(validation_loss)\n",
    "\ttrain_loss.append(hist.history['loss'][0])\n",
    "\n",
    "\tif validation_loss < best_validation_loss:\n",
    "\t\tbest_validation_loss = validation_loss\n",
    "\t\t#epoch_str = \"epoch-\" + str(epoch).zfill(3)\n",
    "\t\tepoch_network_path = os.path.join(\n",
    "\t\t   trial_dir, \"_\".join([ \"J-\" + str(J).zfill(2), \"Q-\" + str(Q).zfill(2), \"order\" + str(order)]) + \".h5\")\n",
    "\t\tmodel_adjustable.save(epoch_network_path)"
   ]
  },
  {
   "cell_type": "code",
   "execution_count": null,
   "metadata": {},
   "outputs": [],
   "source": []
  },
  {
   "cell_type": "code",
   "execution_count": null,
   "metadata": {},
   "outputs": [],
   "source": []
  },
  {
   "cell_type": "code",
   "execution_count": null,
   "metadata": {},
   "outputs": [],
   "source": []
  },
  {
   "cell_type": "code",
   "execution_count": null,
   "metadata": {},
   "outputs": [],
   "source": []
  },
  {
   "cell_type": "markdown",
   "metadata": {},
   "source": [
    "## once i have everything recorded in log files"
   ]
  },
  {
   "cell_type": "code",
   "execution_count": 26,
   "metadata": {},
   "outputs": [
    {
     "name": "stdout",
     "output_type": "stream",
     "text": [
      "../output/tests2/scattering_J-06_Q-01_order1_score.pkl\n"
     ]
    }
   ],
   "source": [
    "pickle_name = \"_\".join(\n",
    "                [\"scattering\",\n",
    "                \"J-\" + str(6).zfill(2), \"Q-\" + str(1).zfill(2), \"order\" + str(1)]\n",
    "            )\n",
    "save_log = os.path.join(\"../output/tests2\",pickle_name+\"_score.pkl\")\n",
    "print(save_log)\n",
    "#pkl_test = open(save_log,'rb')"
   ]
  },
  {
   "cell_type": "code",
   "execution_count": 28,
   "metadata": {},
   "outputs": [],
   "source": [
    "pkl_test = open(save_log,'rb')\n",
    "val_loss,train_loss,test_loss = pickle.load(pkl_test)"
   ]
  },
  {
   "cell_type": "code",
   "execution_count": 31,
   "metadata": {},
   "outputs": [],
   "source": [
    " \n",
    "pkl_dir = '/scratch/hh2263/drum_data/han2020fa_sc-pkl/'\n",
    "record = []\n",
    "J=[6,8,10,12,14]\n",
    "order = [1,2]\n",
    "order1=[]\n",
    "order2=[]\n",
    "j1=[]\n",
    "j2=[]\n",
    "for j in J:\n",
    "    for o in order:\n",
    "        if j==6 and o==2:\n",
    "            pass\n",
    "        else:\n",
    "            pickle_name = \"_\".join(\n",
    "                [\"scattering\",\n",
    "                \"J-\" + str(j).zfill(2), \"Q-\" + str(Q).zfill(2), \"order\" + str(o)]\n",
    "            )\n",
    "            save_log = os.path.join(\"../output/tests2\",pickle_name+\"_score.pkl\")\n",
    "            pkl_test = open(save_log,'rb')\n",
    "            val_loss,train_loss,test_loss = pickle.load(pkl_test)\n",
    "            if o==1:\n",
    "                order1.append(test_loss)\n",
    "                j1.append(j)\n",
    "            else:\n",
    "                order2.append(test_loss)\n",
    "                j2.append(j)\n",
    "        "
   ]
  },
  {
   "cell_type": "code",
   "execution_count": 32,
   "metadata": {},
   "outputs": [
    {
     "data": {
      "text/plain": [
       "(0.0, 0.1)"
      ]
     },
     "execution_count": 32,
     "metadata": {},
     "output_type": "execute_result"
    },
    {
     "data": {
      "image/png": "[encoded data removed]",
      "text/plain": [
       "<Figure size 432x288 with 1 Axes>"
      ]
     },
     "metadata": {
      "needs_background": "light"
     },
     "output_type": "display_data"
    }
   ],
   "source": [
    "plt.scatter(j1,order1)\n",
    "plt.scatter(j2,order2)\n",
    "plt.legend(['order 1', 'order 2'])\n",
    "plt.xlabel('J')\n",
    "plt.ylabel('mse')\n",
    "plt.title('influence of scale J and order on mse')\n",
    "plt.ylim([0,0.1])"
   ]
  },
  {
   "cell_type": "markdown",
   "metadata": {},
   "source": [
    "## use j=14 at test1, plot the boxplot"
   ]
  },
  {
   "cell_type": "code",
   "execution_count": 78,
   "metadata": {},
   "outputs": [
    {
     "name": "stdout",
     "output_type": "stream",
     "text": [
      "../output/tests/J-14_Q-01_order2.h5\n"
     ]
    }
   ],
   "source": [
    "\n",
    "model_path = os.path.join(\n",
    "               \"../output/tests\", \"_\".join([ \"J-\" + str(j).zfill(2), \"Q-\" + str(Q).zfill(2), \"order\" + str(o)]) + \".h5\")\n",
    "print(model_path)\n",
    "model_best = create_model_adjustable(14,1,2,k_size=8,nchan_out=16,activation='linear')\n",
    "model_best.load_weights(model_path)\n",
    "#load test and train files\n",
    "pickle_name = \"_\".join(\n",
    "    [\"scattering\",\n",
    "    \"J-\" + str(j).zfill(2), \"Q-\" + str(Q).zfill(2), \"order\" + str(o)]\n",
    ")\n",
    "pkl_path_test = os.path.join(pkl_dir,pickle_name+\"_fold-test.pkl\")\n",
    "pkl_test = open(pkl_path_test,'rb')\n",
    "Sy_test,y_test = pickle.load(pkl_test)\n",
    "pkl_path_train = os.path.join(pkl_dir,pickle_name+\"_fold-train.pkl\")\n",
    "pkl_train = open(pkl_path_train, 'rb')\n",
    "Sy_train,y_train = pickle.load(pkl_train)"
   ]
  },
  {
   "cell_type": "code",
   "execution_count": 79,
   "metadata": {},
   "outputs": [
    {
     "data": {
      "text/plain": [
       "array([[3641.267682215784, 0.14912260113032105, 0.9748392162093932,\n",
       "        0.008955332878189611, 0.6462749409737613],\n",
       "       [1506.983198257637, 0.02073816390265522, 0.023848115806372097,\n",
       "        0.0004654689467129035, 0.9978264426846492],\n",
       "       [3070.2718080095915, 0.10129321532386606, 0.0010720601544325409,\n",
       "        0.02849414339040135, 0.07500050066574436],\n",
       "       ...,\n",
       "       [2546.168564047193, 0.08423860474844502, 0.00015907252629495628,\n",
       "        1.5237960714598444, 0.4578018961631429],\n",
       "       [11439.22496240364, 0.2208350962998728, 0.03291442582311445,\n",
       "        0.000227757055623513, 0.5530889499845231],\n",
       "       [3377.575702619932, 0.1628743803500847, 0.004217992390806481,\n",
       "        2.806193136121901, 0.6707605813313674]], dtype=object)"
      ]
     },
     "execution_count": 79,
     "metadata": {},
     "output_type": "execute_result"
    }
   ],
   "source": [
    "y_train"
   ]
  },
  {
   "cell_type": "code",
   "execution_count": 80,
   "metadata": {
    "scrolled": true
   },
   "outputs": [],
   "source": [
    "for idx in range(2,4):\n",
    "    y_train[:,idx] = [math.log10(i) for i in y_train[:,idx]]\n",
    "    y_test[:,idx] = [math.log10(i) for i in y_test[:,idx]]\n",
    "\n",
    "scaler = MinMaxScaler()\n",
    "scaler.fit(y_train)\n",
    "y_test_normalized = scaler.transform(y_test)\n",
    "#log scale the input\n",
    "eps = 1e-11\n",
    "Sy_test_log2 = np.log1p((Sy_test>0)*Sy_test/eps)\n"
   ]
  },
  {
   "cell_type": "code",
   "execution_count": 68,
   "metadata": {
    "scrolled": true
   },
   "outputs": [
    {
     "data": {
      "text/plain": [
       "(10000, 2, 118)"
      ]
     },
     "execution_count": 68,
     "metadata": {},
     "output_type": "execute_result"
    }
   ],
   "source": [
    "Sy_test.shape"
   ]
  },
  {
   "cell_type": "code",
   "execution_count": 73,
   "metadata": {},
   "outputs": [],
   "source": [
    "diff = []\n",
    "for i in range(10000):\n",
    "    original = y_test_normalized[i,:]\n",
    "    Sx = Sy_test_log2[i,:,:]\n",
    "    recovered = model_best.predict(Sx.reshape((1,2,118)))\n",
    "    diff.append(recovered-original)\n",
    "diff_stacked = np.stack(np.abs(diff))"
   ]
  },
  {
   "cell_type": "code",
   "execution_count": 74,
   "metadata": {},
   "outputs": [],
   "source": [
    "diff_stacked = diff_stacked.reshape((10000,5))"
   ]
  },
  {
   "cell_type": "code",
   "execution_count": 77,
   "metadata": {},
   "outputs": [
    {
     "data": {
      "text/plain": [
       "Text(0.5, 1.0, 'Absolute Error between reconstructed and original physical parameters')"
      ]
     },
     "execution_count": 77,
     "metadata": {},
     "output_type": "execute_result"
    },
    {
     "data": {
      "image/png": "[encoded data removed]",
      "text/plain": [
       "<Figure size 432x288 with 1 Axes>"
      ]
     },
     "metadata": {
      "needs_background": "light"
     },
     "output_type": "display_data"
    }
   ],
   "source": [
    "labels = ['omega','tau','p','D','alpha']\n",
    "plt.boxplot(diff_stacked,labels = labels)\n",
    "plt.title('Absolute Error between reconstructed and original physical parameters')"
   ]
  },
  {
   "cell_type": "code",
   "execution_count": null,
   "metadata": {},
   "outputs": [],
   "source": []
  },
  {
   "cell_type": "markdown",
   "metadata": {},
   "source": [
    "interpolate a scattering, reconstruct the sound back, use J/order of the best performing model, predict the shape, measure mse, compare with test loss"
   ]
  },
  {
   "cell_type": "code",
   "execution_count": 171,
   "metadata": {},
   "outputs": [],
   "source": [
    "import hitdifferentparts\n",
    "import autograd"
   ]
  },
  {
   "cell_type": "code",
   "execution_count": null,
   "metadata": {},
   "outputs": [],
   "source": [
    "omega = np.linspace(200*np.pi,4000*np.pi,11)\n",
    "tau = np.linspace(0.01,0.3,11)\n",
    "p = np.logspace(np.log10(0.0001),np.log10(2),11)\n",
    "D = np.logspace(np.log10(0.0001),np.log10(10),11)\n",
    "alpha = np.linspace(0.001,1,11)"
   ]
  },
  {
   "cell_type": "code",
   "execution_count": 137,
   "metadata": {},
   "outputs": [
    {
     "data": {
      "text/plain": [
       "0.3010299956639812"
      ]
     },
     "execution_count": 137,
     "metadata": {},
     "output_type": "execute_result"
    }
   ],
   "source": [
    "np.log10(2)"
   ]
  },
  {
   "cell_type": "code",
   "execution_count": null,
   "metadata": {},
   "outputs": [],
   "source": []
  },
  {
   "cell_type": "code",
   "execution_count": 140,
   "metadata": {
    "scrolled": true
   },
   "outputs": [
    {
     "name": "stdout",
     "output_type": "stream",
     "text": [
      "--- 1.2667217254638672 seconds ---\n",
      "--- 1.3070542812347412 seconds ---\n",
      "--- 1.248049020767212 seconds ---\n",
      "--- 1.2487316131591797 seconds ---\n"
     ]
    }
   ],
   "source": [
    "#want (0.45,0.45)\n",
    "y_1 = hitdifferentparts.hitdiffparts(0.45,0.5)\n",
    "y_2 = hitdifferentparts.hitdiffparts(0.45,0.4)\n",
    "y_3 = hitdifferentparts.hitdiffparts(0.4,0.45)\n",
    "y_4 = hitdifferentparts.hitdiffparts(0.5,0.45)"
   ]
  },
  {
   "cell_type": "code",
   "execution_count": 107,
   "metadata": {},
   "outputs": [],
   "source": [
    "from tqdm import tnrange, tqdm_notebook\n",
    "from torch.autograd import backward"
   ]
  },
  {
   "cell_type": "code",
   "execution_count": 150,
   "metadata": {},
   "outputs": [],
   "source": [
    "#using scattering=3\n",
    "N=2**15\n",
    "scattering = Scattering1D(J = 3,shape=(N,), Q = 1, max_order=2)\n",
    "\n",
    "Sy1 = scattering(torch.Tensor(y_1[:N]))\n",
    "Sy2 = scattering(torch.Tensor(y_2[:N]))\n",
    "Sy3 = scattering(torch.Tensor(y_3[:N]))\n",
    "Sy4 = scattering(torch.Tensor(y_4[:N]))\n",
    "Sy_interpolated = (Sy1+Sy2+Sy3+Sy4)/4"
   ]
  },
  {
   "cell_type": "code",
   "execution_count": 142,
   "metadata": {},
   "outputs": [
    {
     "data": {
      "text/plain": [
       "torch.Size([8, 4096])"
      ]
     },
     "execution_count": 142,
     "metadata": {},
     "output_type": "execute_result"
    }
   ],
   "source": [
    "Sy_interpolated.shape"
   ]
  },
  {
   "cell_type": "code",
   "execution_count": 151,
   "metadata": {},
   "outputs": [
    {
     "name": "stderr",
     "output_type": "stream",
     "text": [
      "/home/hh2263/miniconda3/envs/drum-1.15/lib/python3.7/site-packages/ipykernel_launcher.py:33: TqdmDeprecationWarning: This function will be removed in tqdm==5.0.0\n",
      "Please use `tqdm.notebook.tqdm` instead of `tqdm.tqdm_notebook`\n"
     ]
    },
    {
     "data": {
      "application/vnd.jupyter.widget-view+json": {
       "model_id": "f7f91eb0557c434b9ff3194bc5a2ab59",
       "version_major": 2,
       "version_minor": 0
      },
      "text/plain": [
       "HBox(children=(FloatProgress(value=0.0), HTML(value='')))"
      ]
     },
     "metadata": {},
     "output_type": "display_data"
    },
    {
     "name": "stdout",
     "output_type": "stream",
     "text": [
      "\n"
     ]
    }
   ],
   "source": [
    "y_interpolated,history = regress_signal(\n",
    "        Sy_interpolated, N=2**15, J=3, learning_rate=100, \n",
    "        bold_driver_accelerator=1.1,\n",
    "        bold_driver_brake=0.6,\n",
    "        momentum=0.9, \n",
    "        NAG = False,\n",
    "        n_iterations=100, \n",
    "        cost = \"mse\", \n",
    "        verbose=True)"
   ]
  },
  {
   "cell_type": "code",
   "execution_count": 152,
   "metadata": {},
   "outputs": [],
   "source": [
    "y_interpolated = y_interpolated.detach().numpy()"
   ]
  },
  {
   "cell_type": "code",
   "execution_count": 163,
   "metadata": {},
   "outputs": [
    {
     "data": {
      "text/html": [
       "\n",
       "                <audio  controls=\"controls\" >\n",
       "                    <source src=\"data:audio/wav;base64,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\" type=\"audio/wav\" />\n",
       "                    Your browser does not support the audio element.\n",
       "                </audio>\n",
       "              "
      ],
      "text/plain": [
       "<IPython.lib.display.Audio object>"
      ]
     },
     "execution_count": 163,
     "metadata": {},
     "output_type": "execute_result"
    }
   ],
   "source": [
    "import hitdifferentparts\n",
    "import IPython.display as ipd\n",
    "ipd.Audio(y_interpolated,rate=44100)"
   ]
  },
  {
   "cell_type": "code",
   "execution_count": 153,
   "metadata": {
    "scrolled": true
   },
   "outputs": [
    {
     "name": "stdout",
     "output_type": "stream",
     "text": [
      "[[ 1.25663706e+03  2.00000000e-01 -5.22878745e-01 -2.00000000e+00\n",
      "   1.00000000e+00]]\n"
     ]
    }
   ],
   "source": [
    "y_test = [200 * 2 * np.pi,0.2,np.log10(0.3),np.log10(1e-2),1]\n",
    "y_test = np.array(y_test).reshape((1,5))\n",
    "print(y_test)"
   ]
  },
  {
   "cell_type": "code",
   "execution_count": 154,
   "metadata": {},
   "outputs": [],
   "source": [
    "#put into the model j = 14 o = 2\n",
    "scattering2 = Scattering1D(J = 14,shape=(N,), Q = 1, max_order=2)\n",
    "Sy_inter_input = scattering2(torch.Tensor(y_interpolated))\n",
    "y_test_normalized = scaler.transform(np.array(y_test).reshape((1,5)))"
   ]
  },
  {
   "cell_type": "code",
   "execution_count": 173,
   "metadata": {},
   "outputs": [
    {
     "name": "stdout",
     "output_type": "stream",
     "text": [
      "\r",
      "1/1 [==============================] - 0s 2ms/sample - loss: 1.1397 - mean_squared_error: 1.1397\n"
     ]
    },
    {
     "data": {
      "text/plain": [
       "[1.1396843194961548, 1.1396843]"
      ]
     },
     "execution_count": 173,
     "metadata": {},
     "output_type": "execute_result"
    }
   ],
   "source": [
    "#calculate scattering of one sound from the drum\n",
    "Sy_other = scattering2(torch.Tensor(y_2[:N]))\n",
    "model_best.evaluate(np.array(Sy_other).reshape(1,2,118),y_test_normalized)"
   ]
  },
  {
   "cell_type": "code",
   "execution_count": 172,
   "metadata": {},
   "outputs": [
    {
     "name": "stdout",
     "output_type": "stream",
     "text": [
      "--- 1.2445430755615234 seconds ---\n",
      "\r",
      "1/1 [==============================] - 0s 2ms/sample - loss: 1.1397 - mean_squared_error: 1.1397\n"
     ]
    },
    {
     "data": {
      "text/plain": [
       "[1.139663577079773, 1.1396636]"
      ]
     },
     "execution_count": 172,
     "metadata": {},
     "output_type": "execute_result"
    }
   ],
   "source": [
    "#calculate center scattering\n",
    "y_center = hitdifferentparts.hitdiffparts(0.5,0.5)\n",
    "Sy_center = scattering2(torch.Tensor(y_center[:N]))\n",
    "model_best.evaluate(np.array(Sy_center).reshape(1,2,118),y_test_normalized)"
   ]
  },
  {
   "cell_type": "code",
   "execution_count": 155,
   "metadata": {},
   "outputs": [
    {
     "name": "stdout",
     "output_type": "stream",
     "text": [
      "(None, 2, 118) torch.Size([2, 118])\n"
     ]
    }
   ],
   "source": [
    "print(model_best.layers[0].input_shape,Sy_inter_input.T.shape)"
   ]
  },
  {
   "cell_type": "code",
   "execution_count": 175,
   "metadata": {
    "scrolled": true
   },
   "outputs": [
    {
     "name": "stdout",
     "output_type": "stream",
     "text": [
      "\r",
      "1/1 [==============================] - 0s 2ms/sample - loss: 1.1397 - mean_squared_error: 1.1397\n"
     ]
    },
    {
     "data": {
      "text/plain": [
       "[1.1396785974502563, 1.1396786]"
      ]
     },
     "execution_count": 175,
     "metadata": {},
     "output_type": "execute_result"
    }
   ],
   "source": [
    "model_best.evaluate(np.array(Sy_inter_input).reshape(1,2,118),y_test_normalized)"
   ]
  },
  {
   "cell_type": "code",
   "execution_count": 157,
   "metadata": {},
   "outputs": [],
   "source": [
    "recovered = model_best.predict(np.array(Sy_inter_input).reshape(1,2,118))"
   ]
  },
  {
   "cell_type": "code",
   "execution_count": 174,
   "metadata": {
    "scrolled": true
   },
   "outputs": [
    {
     "name": "stdout",
     "output_type": "stream",
     "text": [
      "[[-0.55262405  0.163368    1.0747635  -0.33494672  3.1164331 ]] [[0.05262883 0.65516653 0.80844021 0.39998681 1.00003503]]\n"
     ]
    }
   ],
   "source": [
    "print(recovered,y_test_normalized)"
   ]
  },
  {
   "cell_type": "code",
   "execution_count": null,
   "metadata": {},
   "outputs": [],
   "source": []
  },
  {
   "cell_type": "code",
   "execution_count": null,
   "metadata": {},
   "outputs": [],
   "source": []
  },
  {
   "cell_type": "code",
   "execution_count": null,
   "metadata": {},
   "outputs": [],
   "source": []
  },
  {
   "cell_type": "code",
   "execution_count": 94,
   "metadata": {},
   "outputs": [],
   "source": [
    "def normalize(S):\n",
    "    S_relu = 1e-6 + torch.nn.functional.relu(S)\n",
    "    return S_relu / torch.norm(S_relu)"
   ]
  },
  {
   "cell_type": "code",
   "execution_count": 92,
   "metadata": {},
   "outputs": [],
   "source": [
    "def regress_signal(\n",
    "        s_c, N, J,\n",
    "        learning_rate=0.1,\n",
    "        momentum=0.0,\n",
    "        NAG = False,\n",
    "        bold_driver_accelerator=1.1,\n",
    "        bold_driver_brake=0.5,\n",
    "        n_iterations=100,\n",
    "        cost = \"mse\",\n",
    "        verbose=False):\n",
    "    \"\"\"\n",
    "    this function finds time-domain signal from scattering transform\n",
    "    input: scattering tranform tensor, length of the signal(implicitly), learning rate and number of iterations\n",
    "    output: time-domain signal represented in a tensor\n",
    "    \"\"\"\n",
    "    scattering = Scattering1D(J=J,shape=(N,)) #N is length of signal, J is number of scales\n",
    "    if cost == \"cross-entropy\":\n",
    "        loss = torch.nn.KLDivLoss(reduction='batchmean')\n",
    "    \n",
    "    #random guess\n",
    "    x = torch.randn((N,),requires_grad=True)\n",
    "    Sx = scattering(x)\n",
    "    #target\n",
    "    Sy = s_c\n",
    "    history = []\n",
    "    signal_update = 0*x #\n",
    "\n",
    "    #normalize Sy\n",
    "    #Sy_normalized,Sy_sum,min_Sy,range_Sy = normalize(Sy) # Sy is the target\n",
    "    Sy_normalized = normalize(Sy)\n",
    "    \n",
    "    #iterate to regress random guess to be close to target\n",
    "    for it_id in tqdm_notebook(range(n_iterations), disable=not verbose):\n",
    "        # Backpropagation\n",
    "        if cost == \"mse\":\n",
    "            err = torch.norm(Sx-Sy)\n",
    "            #backward(torch.norm(Sx - Sy))\n",
    "        elif cost == \"cross-entropy\":\n",
    "            #Sy = Sy.long()\n",
    "            #np.sum(yHat * np.log((yHat / y)))\n",
    "            #normalize Sx and Sy - tensor values should always be 0-1 due to nature of cross entropy (correlation between probabilities)\n",
    "            #Sx_normalized,Sx_sum,min_Sx,range_Sx = normalize(Sx) \n",
    "            Sx_normalized = normalize(Sx)\n",
    "            err = torch.sum(Sx_normalized * torch.log((Sx_normalized / Sy_normalized)))\n",
    "            #err = loss(torch.log(Sx_normalized), torch.log(Sy_normalized))\n",
    "            print(err,torch.norm(Sx_normalized,p=2),torch.norm(Sy_normalized,p=2))\n",
    "            #backward(loss(Sx, Sy))         \n",
    "        backward(err)\n",
    "        if NAG == False:\n",
    "            delta_x = x.grad \n",
    "    \n",
    "        else:\n",
    "            # for some reasons this nag doesn't have gradient!\n",
    "            nag_x = torch.tensor(momentum * signal_update + x, requires_grad = True)\n",
    "            print(nag_x.grad,nag_x)\n",
    "            delta_x = nag_x.grad\n",
    "            print(delta_x)\n",
    "            \n",
    "        #print(x.grad)\n",
    "\n",
    "        # Gradient descent\n",
    "        with torch.no_grad():\n",
    "            momentum = min(0.99,1-2**(-1-np.log(np.floor(it_id/250)+1)/np.log(2))) #according to paper, adaptive momentum\n",
    "            signal_update = momentum * signal_update - delta_x * learning_rate\n",
    "            new_x = x + signal_update\n",
    "        new_x.requires_grad = True\n",
    "\n",
    "        # New forward propagation\n",
    "        Sx = scattering(new_x)\n",
    "        # Measure the new loss\n",
    "        history.append(err)\n",
    "        \n",
    "        if history[it_id]> history[it_id-1]:\n",
    "            learning_rate *= bold_driver_brake\n",
    "        else:\n",
    "            learning_rate *= bold_driver_accelerator\n",
    "            x = new_x\n",
    "        #print(torch.norm(Sx - Sy))\n",
    "        \n",
    "        #print(\"lr = {:6.3f}     loss={:6.3f}\".format(learning_rate, history[-1]))\n",
    "    #Sx_back = revert_normalize(Sx_normalized, Sy_sum,min_Sy,range_Sy)\n",
    "    return x,history"
   ]
  },
  {
   "cell_type": "code",
   "execution_count": null,
   "metadata": {},
   "outputs": [],
   "source": []
  }
 ],
 "metadata": {
  "kernelspec": {
   "display_name": "Python 3",
   "language": "python",
   "name": "python3"
  },
  "language_info": {
   "codemirror_mode": {
    "name": "ipython",
    "version": 3
   },
   "file_extension": ".py",
   "mimetype": "text/x-python",
   "name": "python",
   "nbconvert_exporter": "python",
   "pygments_lexer": "ipython3",
   "version": "3.7.6"
  }
 },
 "nbformat": 4,
 "nbformat_minor": 4
}
