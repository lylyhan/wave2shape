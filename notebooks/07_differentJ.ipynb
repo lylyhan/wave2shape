{
 "cells": [
  {
   "cell_type": "code",
   "execution_count": 1,
   "metadata": {},
   "outputs": [
    {
     "data": {
      "text/plain": [
       "1"
      ]
     },
     "execution_count": 1,
     "metadata": {},
     "output_type": "execute_result"
    }
   ],
   "source": [
    "1"
   ]
  },
  {
   "cell_type": "code",
   "execution_count": 5,
   "metadata": {},
   "outputs": [
    {
     "data": {
      "text/plain": [
       "2"
      ]
     },
     "execution_count": 5,
     "metadata": {},
     "output_type": "execute_result"
    }
   ],
   "source": [
    "2"
   ]
  },
  {
   "cell_type": "code",
   "execution_count": 2,
   "metadata": {},
   "outputs": [],
   "source": [
    "import numpy as np\n",
    "import tensorflow.keras\n",
    "from tensorflow import keras\n",
    "import torch\n",
    "import tensorflow as tf\n",
    "from tensorflow.keras.models import Model, Sequential\n",
    "from tensorflow.keras.layers import Conv1D, AveragePooling1D, Conv2D, MaxPooling2D,ReLU\n",
    "import tensorflow.keras.backend as K\n",
    "from tensorflow.keras.models import load_model #save and load models\n",
    "from tensorflow.keras.layers import Dense, Dropout, Activation, Flatten\n",
    "from tensorflow.keras.layers import BatchNormalization\n",
    "from tensorflow.keras.callbacks import EarlyStopping, CSVLogger, ModelCheckpoint\n",
    "import IPython.display as ipd\n",
    "from kymatio import Scattering1D\n",
    "import hitdifferentparts\n",
    "import pandas as pd\n",
    "from sklearn.preprocessing import MinMaxScaler\n",
    "import pescador\n",
    "import random\n",
    "import os\n",
    "import librosa\n",
    "import pickle\n",
    "import matplotlib.pyplot as plt\n",
    "import math\n",
    "\n"
   ]
  },
  {
   "cell_type": "code",
   "execution_count": 3,
   "metadata": {},
   "outputs": [
    {
     "data": {
      "text/plain": [
       "['J-10_Q-01_order1.h5',\n",
       " 'J-10_Q-01_order2.h5',\n",
       " 'J-12_Q-01_order1.h5',\n",
       " 'J-12_Q-01_order2.h5',\n",
       " 'J-14_Q-01_order2.h5',\n",
       " 'J-14_Q-01_order1.h5',\n",
       " 'J-08_Q-01_order2.h5',\n",
       " 'J-06_Q-01_order1.h5',\n",
       " 'J-08_Q-01_order1.h5']"
      ]
     },
     "execution_count": 3,
     "metadata": {},
     "output_type": "execute_result"
    }
   ],
   "source": [
    "output_dir = \"../output/tests\"\n",
    "os.listdir(output_dir)"
   ]
  },
  {
   "cell_type": "code",
   "execution_count": 4,
   "metadata": {},
   "outputs": [],
   "source": [
    "J=[6,8,10,12,14]\n",
    "order = [1,2]\n",
    "Q=1"
   ]
  },
  {
   "cell_type": "code",
   "execution_count": 7,
   "metadata": {},
   "outputs": [],
   "source": [
    "def create_model_adjustable(J,Q,order,k_size,nchan_out,activation):\n",
    "\tN = 2**15\n",
    "\ty = np.random.rand(N)\n",
    "\tscattering = Scattering1D(J = J,shape=(N,), Q = Q, max_order=order)\n",
    "\tSy = np.array(scattering(torch.Tensor(y))).T\n",
    "\tinput_x,input_y = Sy.shape\n",
    "\tnchan_in = 1       # number of input channels.  1 since it is BW\n",
    "\n",
    "\tinput_shape = (input_x,input_y)#Sy.shape\n",
    "\tkernel_size = (k_size,)\n",
    "\tK.clear_session()\n",
    "\tmodel=Sequential()\n",
    "\t#1 conv layer +  1 batch normalization + nonlinear activation + pooling\n",
    "\tmodel.add(BatchNormalization(input_shape=input_shape))\n",
    "\tmodel.add(Conv1D(filters=nchan_out,\n",
    "\t\tkernel_size=kernel_size, padding=\"same\",name='conv1'))\n",
    "\t#model.add(BatchNormalization())\n",
    "\tmodel.add(Activation(\"relu\"))\n",
    "\n",
    "\tif model.layers[-1].output_shape[1]>=4:\n",
    "\t\tpool = 4\n",
    "\telif model.layers[-1].output_shape[1]==2:\n",
    "\t\tpool = 2\n",
    "\t    \n",
    "\tmodel.add(AveragePooling1D(pool_size=(pool,)))\n",
    "\n",
    "\n",
    "\tfor i in range(3):\n",
    "\t\tmodel.add(Conv1D(filters=nchan_out,\n",
    "\t\t             kernel_size=kernel_size, padding=\"same\" ))\n",
    "\t\tmodel.add(BatchNormalization())\n",
    "\t\tmodel.add(Activation(\"relu\"))\n",
    "\t\t#print('before pool',model.layers[-1].output_shape)\n",
    "\t\tif model.layers[-1].output_shape[1] >= 4:\n",
    "\t\t\tmodel.add(AveragePooling1D(pool_size=(4,)))\n",
    "\t\telif model.layers[-1].output_shape[1] == 2:\n",
    "\t\t\tmodel.add(AveragePooling1D(pool_size=(2,)))\n",
    "\t\t#print(model.layers[-1].output_shape)\n",
    "\n",
    "\tmodel.add(BatchNormalization())\n",
    "\tmodel.add(Flatten())\n",
    "\tmodel.add(Dense(64, activation='relu'))\n",
    "\tmodel.add(BatchNormalization())\n",
    "\t#what activation should be chosen for last layer, for regression problem? should be a linear function\n",
    "\tmodel.add(Dense(5, activation=activation)) #output layer that corresponds to the 5 physical parameters.\n",
    "\n",
    "\n",
    "\t# Compile the model\n",
    "\tmodel.compile(loss='mse', optimizer='adam', metrics=['mse'])\n",
    "\n",
    "\n",
    "\n",
    "\n",
    "\treturn model"
   ]
  },
  {
   "cell_type": "code",
   "execution_count": 16,
   "metadata": {},
   "outputs": [
    {
     "name": "stdout",
     "output_type": "stream",
     "text": [
      "../output/tests/J-06_Q-01_order1.h5\n",
      "start evaluating\n",
      "10000/10000 [==============================] - 1s 144us/sample - loss: 0.0519 - mean_squared_error: 0.0519\n",
      "../output/tests/J-08_Q-01_order1.h5\n",
      "start evaluating\n",
      "10000/10000 [==============================] - 1s 145us/sample - loss: 0.0521 - mean_squared_error: 0.0521\n",
      "../output/tests/J-08_Q-01_order2.h5\n",
      "start evaluating\n",
      "10000/10000 [==============================] - 2s 167us/sample - loss: 0.0458 - mean_squared_error: 0.0458\n",
      "../output/tests/J-10_Q-01_order1.h5\n",
      "start evaluating\n",
      "10000/10000 [==============================] - 1s 140us/sample - loss: 0.0675 - mean_squared_error: 0.0675\n",
      "../output/tests/J-10_Q-01_order2.h5\n",
      "start evaluating\n",
      "10000/10000 [==============================] - 1s 140us/sample - loss: 0.0377 - mean_squared_error: 0.0377\n",
      "../output/tests/J-12_Q-01_order1.h5\n",
      "start evaluating\n",
      "10000/10000 [==============================] - 1s 130us/sample - loss: 0.0483 - mean_squared_error: 0.0483\n",
      "../output/tests/J-12_Q-01_order2.h5\n",
      "start evaluating\n",
      "10000/10000 [==============================] - 1s 132us/sample - loss: 0.0365 - mean_squared_error: 0.0365\n",
      "../output/tests/J-14_Q-01_order1.h5\n",
      "start evaluating\n",
      "10000/10000 [==============================] - 1s 121us/sample - loss: 0.0501 - mean_squared_error: 0.0501\n",
      "../output/tests/J-14_Q-01_order2.h5\n",
      "start evaluating\n",
      "10000/10000 [==============================] - 1s 127us/sample - loss: 0.0351 - mean_squared_error: 0.0351\n"
     ]
    }
   ],
   "source": [
    "pkl_dir = '/scratch/hh2263/drum_data/han2020fa_sc-pkl/'\n",
    "record = []\n",
    "for j in J:\n",
    "    for o in order:\n",
    "        if j==6 and o==2:\n",
    "            pass\n",
    "        else:\n",
    "            model_path = os.path.join(\n",
    "               output_dir, \"_\".join([ \"J-\" + str(j).zfill(2), \"Q-\" + str(Q).zfill(2), \"order\" + str(o)]) + \".h5\")\n",
    "            print(model_path)\n",
    "            model = create_model_adjustable(j,Q,o,k_size=8,nchan_out=16,activation='linear')\n",
    "            model.load_weights(model_path)\n",
    "            #load test and train files\n",
    "            pickle_name = \"_\".join(\n",
    "                [\"scattering\",\n",
    "                \"J-\" + str(j).zfill(2), \"Q-\" + str(Q).zfill(2), \"order\" + str(o)]\n",
    "            )\n",
    "            pkl_path_test = os.path.join(pkl_dir,pickle_name+\"_fold-test.pkl\")\n",
    "            pkl_test = open(pkl_path_test,'rb')\n",
    "            Sy_test,y_test = pickle.load(pkl_test)\n",
    "            pkl_path_train = os.path.join(pkl_dir,pickle_name+\"_fold-train.pkl\")\n",
    "            pkl_train = open(pkl_path_train, 'rb')\n",
    "            Sy_train,y_train = pickle.load(pkl_train)\n",
    "\n",
    "            for idx in range(2,4):\n",
    "                y_train[:,idx] = [math.log10(i) for i in y_train[:,idx]]\n",
    "                y_test[:,idx] = [math.log10(i) for i in y_test[:,idx]]\n",
    "\n",
    "            scaler = MinMaxScaler()\n",
    "            scaler.fit(y_train)\n",
    "            y_test_normalized = scaler.transform(y_test)\n",
    "            #log scale the input\n",
    "            eps = 1e-11\n",
    "            Sy_test_log2 = np.log1p((Sy_test>0)*Sy_test/eps)\n",
    "            print(\"start evaluating\")\n",
    "            hist = model.evaluate(Sy_test_log2,y_test_normalized)\n",
    "            record.append((j,o,hist[0]))\n",
    "        "
   ]
  },
  {
   "cell_type": "markdown",
   "metadata": {},
   "source": [
    "manually fit J-6, order=2\n"
   ]
  },
  {
   "cell_type": "code",
   "execution_count": null,
   "metadata": {},
   "outputs": [],
   "source": []
  },
  {
   "cell_type": "code",
   "execution_count": null,
   "metadata": {},
   "outputs": [],
   "source": []
  },
  {
   "cell_type": "code",
   "execution_count": null,
   "metadata": {},
   "outputs": [],
   "source": []
  },
  {
   "cell_type": "code",
   "execution_count": null,
   "metadata": {},
   "outputs": [],
   "source": []
  },
  {
   "cell_type": "code",
   "execution_count": null,
   "metadata": {},
   "outputs": [],
   "source": []
  },
  {
   "cell_type": "code",
   "execution_count": null,
   "metadata": {},
   "outputs": [],
   "source": []
  },
  {
   "cell_type": "code",
   "execution_count": 17,
   "metadata": {},
   "outputs": [
    {
     "data": {
      "text/plain": [
       "[(6, 1, 0.05194204691052437),\n",
       " (8, 1, 0.052052471125125885),\n",
       " (8, 2, 0.045803333097696304),\n",
       " (10, 1, 0.06753752752542495),\n",
       " (10, 2, 0.03771992841362953),\n",
       " (12, 1, 0.0483383327126503),\n",
       " (12, 2, 0.036508769923448564),\n",
       " (14, 1, 0.0500540704369545),\n",
       " (14, 2, 0.03513952844142914)]"
      ]
     },
     "execution_count": 17,
     "metadata": {},
     "output_type": "execute_result"
    }
   ],
   "source": [
    "record"
   ]
  },
  {
   "cell_type": "code",
   "execution_count": 18,
   "metadata": {},
   "outputs": [],
   "source": [
    "order1 = []\n",
    "j1 = []\n",
    "order2 = []\n",
    "j2= []\n",
    "for j,o,score in record:\n",
    "    if o==1:\n",
    "        order1.append(score)\n",
    "        j1.append(j)\n",
    "    elif o==2:\n",
    "        order2.append(score)\n",
    "        j2.append(j)\n",
    "    "
   ]
  },
  {
   "cell_type": "code",
   "execution_count": 38,
   "metadata": {},
   "outputs": [
    {
     "data": {
      "text/plain": [
       "(0.0, 0.1)"
      ]
     },
     "execution_count": 38,
     "metadata": {},
     "output_type": "execute_result"
    },
    {
     "data": {
      "image/png": "[encoded data removed]",
      "text/plain": [
       "<Figure size 432x288 with 1 Axes>"
      ]
     },
     "metadata": {
      "needs_background": "light"
     },
     "output_type": "display_data"
    }
   ],
   "source": [
    "plt.scatter(j1,order1)\n",
    "plt.scatter(j2,order2)\n",
    "plt.legend(['order 1', 'order 2'])\n",
    "plt.xlabel('J')\n",
    "plt.ylabel('mse')\n",
    "plt.title('influence of scale J and order on mse')\n",
    "plt.ylim([0,0.1])"
   ]
  },
  {
   "cell_type": "code",
   "execution_count": null,
   "metadata": {},
   "outputs": [],
   "source": []
  },
  {
   "cell_type": "code",
   "execution_count": null,
   "metadata": {},
   "outputs": [],
   "source": []
  },
  {
   "cell_type": "code",
   "execution_count": null,
   "metadata": {},
   "outputs": [],
   "source": []
  },
  {
   "cell_type": "code",
   "execution_count": null,
   "metadata": {},
   "outputs": [],
   "source": []
  },
  {
   "cell_type": "code",
   "execution_count": null,
   "metadata": {},
   "outputs": [],
   "source": []
  }
 ],
 "metadata": {
  "kernelspec": {
   "display_name": "Python 3",
   "language": "python",
   "name": "python3"
  },
  "language_info": {
   "codemirror_mode": {
    "name": "ipython",
    "version": 3
   },
   "file_extension": ".py",
   "mimetype": "text/x-python",
   "name": "python",
   "nbconvert_exporter": "python",
   "pygments_lexer": "ipython3",
   "version": "3.7.6"
  }
 },
 "nbformat": 4,
 "nbformat_minor": 4
}
