{
 "cells": [
  {
   "cell_type": "code",
   "execution_count": 21,
   "metadata": {},
   "outputs": [],
   "source": [
    "import numpy as np\n",
    "import keras\n",
    "import torch\n",
    "import tensorflow as tf\n",
    "from tensorflow.keras.models import Model, Sequential\n",
    "from tensorflow.keras.layers import Conv1D, AveragePooling1D, Conv2D, MaxPooling2D,ReLU\n",
    "import tensorflow.keras.backend as K\n",
    "from tensorflow.keras.models import load_model #save and load models\n",
    "from tensorflow.keras.layers import Dense, Dropout, Activation, Flatten\n",
    "from tensorflow.keras.layers import BatchNormalization\n",
    "import IPython.display as ipd\n",
    "\n",
    "from kymatio import Scattering1D\n",
    "import hitdifferentparts"
   ]
  },
  {
   "cell_type": "code",
   "execution_count": 26,
   "metadata": {},
   "outputs": [],
   "source": [
    "N = 2**16 #length of audio signal\n",
    "J = 4\n",
    "def getsc(y, J):\n",
    "    \"\"\"\n",
    "    this function outputs scattering transform of a time-domain signal.\n",
    "    \"\"\"\n",
    "    N = len(y)\n",
    "    scattering = Scattering1D(J = J,shape=(N,))\n",
    "    Sy = scattering(y)\n",
    "    return Sy"
   ]
  },
  {
   "cell_type": "markdown",
   "metadata": {},
   "source": [
    "## wave2shape model\n",
    "1. fully connected CNN model\n",
    "2. #layers ~ log(# scattering coefficients $\\lambda$)\n",
    "3. input: scattering transform of each percussive sounds (number of audio N, scattering coeff $\\lambda$, time K)\n",
    "4. output: 5 physical parameters $\\theta = {\\tau, p, D, \\alpha, w}$\n"
   ]
  },
  {
   "cell_type": "code",
   "execution_count": 27,
   "metadata": {
    "scrolled": true
   },
   "outputs": [
    {
     "name": "stdout",
     "output_type": "stream",
     "text": [
      "--- 1.464674711227417 seconds ---\n"
     ]
    }
   ],
   "source": [
    "y = hitdifferentparts.hitdiffparts(0.5,0.5)\n",
    "S = getsc(torch.Tensor(y),J)\n",
    "nrow, ncol = S.shape \n",
    "naudio = 1         # number of images in batch\n",
    "nchan_in = 1       # number of input channels.  1 since it is BW\n",
    "input_shape = (nrow,ncol,nchan_in)  # input shape of 1 image\n",
    "batch_shape = (naudio,nrow,ncol,nchan_in)  # shape of image batch\n",
    "x = S.reshape(batch_shape)"
   ]
  },
  {
   "cell_type": "code",
   "execution_count": 23,
   "metadata": {},
   "outputs": [
    {
     "name": "stdout",
     "output_type": "stream",
     "text": [
      "torch.Size([8, 8192]) torch.Size([5, 8192])\n"
     ]
    }
   ],
   "source": [
    "S = getsc(torch.Tensor(y),3)\n",
    "S2 = getsc1(torch.Tensor(y),3)\n",
    "print(S.shape,S2.shape)"
   ]
  },
  {
   "cell_type": "code",
   "execution_count": 29,
   "metadata": {
    "scrolled": true
   },
   "outputs": [],
   "source": [
    "# scattering order one\n",
    "def getsc_new(y,J,Q_num,order):\n",
    "    \"\"\"\n",
    "    this function outputs scattering transform of a time-domain signal.\n",
    "    \"\"\"\n",
    "    N = len(y)\n",
    "    scattering = Scattering1D(J = J,shape=(N,), Q = Q_num, max_order=order)\n",
    "    Sy = scattering(y)\n",
    "    return Sy\n",
    "\n"
   ]
  },
  {
   "cell_type": "code",
   "execution_count": 31,
   "metadata": {},
   "outputs": [
    {
     "name": "stdout",
     "output_type": "stream",
     "text": [
      "torch.Size([10, 256]) torch.Size([43, 256]) torch.Size([9, 512]) torch.Size([34, 512]) torch.Size([18, 256]) torch.Size([72, 256])\n"
     ]
    }
   ],
   "source": [
    "S1 = getsc_new(torch.Tensor(y),8,1,1)\n",
    "S2 = getsc_new(torch.Tensor(y),8,1,2)\n",
    "S3 = getsc_new(torch.Tensor(y),7,1,1)\n",
    "S4 = getsc_new(torch.Tensor(y),7,1,2)\n",
    "S5 = getsc_new(torch.Tensor(y),8,2,1)\n",
    "S6 = getsc_new(torch.Tensor(y),8,2,2)\n",
    "print(S.shape,S2.shape,S3.shape,S4.shape,S5.shape,S6.shape)"
   ]
  },
  {
   "cell_type": "code",
   "execution_count": 34,
   "metadata": {},
   "outputs": [
    {
     "name": "stdout",
     "output_type": "stream",
     "text": [
      "torch.Size([11, 128]) torch.Size([56, 512]) torch.Size([90, 128])\n"
     ]
    }
   ],
   "source": [
    "S7 = getsc_new(torch.Tensor(y),9,1,1)\n",
    "S8 = getsc_new(torch.Tensor(y),7,2,2)\n",
    "S9 = getsc_new(torch.Tensor(y),9,2,2)\n",
    "print(S7.shape,S8.shape,S9.shape)"
   ]
  },
  {
   "cell_type": "code",
   "execution_count": 35,
   "metadata": {},
   "outputs": [
    {
     "name": "stdout",
     "output_type": "stream",
     "text": [
      "torch.Size([53, 128])\n"
     ]
    }
   ],
   "source": [
    "S10 = getsc_new(torch.Tensor(y),9,1,2)\n",
    "print(S10.shape)"
   ]
  },
  {
   "cell_type": "code",
   "execution_count": null,
   "metadata": {},
   "outputs": [],
   "source": []
  },
  {
   "cell_type": "code",
   "execution_count": 20,
   "metadata": {},
   "outputs": [
    {
     "name": "stdout",
     "output_type": "stream",
     "text": [
      "Model: \"sequential\"\n",
      "_________________________________________________________________\n",
      "Layer (type)                 Output Shape              Param #   \n",
      "=================================================================\n",
      "conv1d (Conv1D)              (None, 4096, 16)          784       \n",
      "_________________________________________________________________\n",
      "average_pooling1d (AveragePo (None, 1024, 16)          0         \n",
      "_________________________________________________________________\n",
      "conv1d_1 (Conv1D)            (None, 1024, 16)          2064      \n",
      "_________________________________________________________________\n",
      "average_pooling1d_1 (Average (None, 256, 16)           0         \n",
      "_________________________________________________________________\n",
      "conv1d_2 (Conv1D)            (None, 256, 16)           2064      \n",
      "_________________________________________________________________\n",
      "average_pooling1d_2 (Average (None, 64, 16)            0         \n",
      "_________________________________________________________________\n",
      "conv1d_3 (Conv1D)            (None, 64, 16)            2064      \n",
      "_________________________________________________________________\n",
      "average_pooling1d_3 (Average (None, 16, 16)            0         \n",
      "_________________________________________________________________\n",
      "conv1d_4 (Conv1D)            (None, 16, 16)            2064      \n",
      "_________________________________________________________________\n",
      "average_pooling1d_4 (Average (None, 4, 16)             0         \n",
      "_________________________________________________________________\n",
      "batch_normalization (BatchNo (None, 4, 16)             64        \n",
      "_________________________________________________________________\n",
      "flatten (Flatten)            (None, 64)                0         \n",
      "_________________________________________________________________\n",
      "dense (Dense)                (None, 64)                4160      \n",
      "_________________________________________________________________\n",
      "batch_normalization_1 (Batch (None, 64)                256       \n",
      "_________________________________________________________________\n",
      "dense_1 (Dense)              (None, 5)                 325       \n",
      "=================================================================\n",
      "Total params: 13,845\n",
      "Trainable params: 13,685\n",
      "Non-trainable params: 160\n",
      "_________________________________________________________________\n",
      "None\n"
     ]
    }
   ],
   "source": [
    "\n",
    "Sy = getsc1(torch.Tensor(y), J).T\n",
    "input_shape = Sy.shape\n",
    "\n",
    "kernel_size = (8,)\n",
    "nchan_out = 16\n",
    "\n",
    "K.clear_session()\n",
    "model=Sequential()\n",
    "model.add(Conv1D(input_shape=input_shape, filters=nchan_out,\n",
    "                 kernel_size=kernel_size,activation= \"relu\", padding=\"same\" ))\n",
    "model.add(AveragePooling1D(pool_size=(4,)))\n",
    "model.add(Conv1D(filters=16,\n",
    "                 kernel_size=kernel_size,activation= \"relu\", padding=\"same\" ))\n",
    "model.add(AveragePooling1D(pool_size=(4,)))\n",
    "model.add(Conv1D(filters=16,\n",
    "                 kernel_size=kernel_size,activation= \"relu\", padding=\"same\" ))\n",
    "model.add(AveragePooling1D(pool_size=(4,)))\n",
    "model.add(Conv1D(filters=16,\n",
    "                 kernel_size=kernel_size,activation= \"relu\", padding=\"same\" ))\n",
    "model.add(AveragePooling1D(pool_size=(4,)))\n",
    "model.add(Conv1D(filters=16,\n",
    "                 kernel_size=kernel_size,activation= \"relu\", padding=\"same\" ))\n",
    "model.add(AveragePooling1D(pool_size=(4,)))\n",
    "model.add(BatchNormalization())\n",
    "model.add(Flatten())\n",
    "model.add(Dense(64, activation='relu'))\n",
    "model.add(BatchNormalization())\n",
    "#what activation should be chosen for last layer, for regression problem? should be a linear function\n",
    "model.add(Dense(5, activation='linear')) #output layer that corresponds to the 5 physical parameters.\n",
    "\n",
    "print(model.summary())"
   ]
  },
  {
   "cell_type": "code",
   "execution_count": 7,
   "metadata": {},
   "outputs": [
    {
     "name": "stdout",
     "output_type": "stream",
     "text": [
      "Model: \"sequential\"\n",
      "_________________________________________________________________\n",
      "Layer (type)                 Output Shape              Param #   \n",
      "=================================================================\n",
      "conv1d (Conv1D)              (None, 4096, 16)          1680      \n",
      "_________________________________________________________________\n",
      "average_pooling1d (AveragePo (None, 2048, 16)          0         \n",
      "_________________________________________________________________\n",
      "conv1d_1 (Conv1D)            (None, 2048, 16)          2064      \n",
      "_________________________________________________________________\n",
      "average_pooling1d_1 (Average (None, 1024, 16)          0         \n",
      "_________________________________________________________________\n",
      "conv1d_2 (Conv1D)            (None, 1024, 16)          2064      \n",
      "_________________________________________________________________\n",
      "average_pooling1d_2 (Average (None, 512, 16)           0         \n",
      "_________________________________________________________________\n",
      "conv1d_3 (Conv1D)            (None, 512, 16)           2064      \n",
      "_________________________________________________________________\n",
      "average_pooling1d_3 (Average (None, 256, 16)           0         \n",
      "_________________________________________________________________\n",
      "conv1d_4 (Conv1D)            (None, 256, 16)           2064      \n",
      "_________________________________________________________________\n",
      "average_pooling1d_4 (Average (None, 128, 16)           0         \n",
      "_________________________________________________________________\n",
      "conv1d_5 (Conv1D)            (None, 128, 16)           2064      \n",
      "_________________________________________________________________\n",
      "average_pooling1d_5 (Average (None, 64, 16)            0         \n",
      "_________________________________________________________________\n",
      "conv1d_6 (Conv1D)            (None, 64, 16)            2064      \n",
      "_________________________________________________________________\n",
      "average_pooling1d_6 (Average (None, 32, 16)            0         \n",
      "_________________________________________________________________\n",
      "conv1d_7 (Conv1D)            (None, 32, 16)            2064      \n",
      "_________________________________________________________________\n",
      "average_pooling1d_7 (Average (None, 16, 16)            0         \n",
      "_________________________________________________________________\n",
      "conv1d_8 (Conv1D)            (None, 16, 16)            2064      \n",
      "_________________________________________________________________\n",
      "average_pooling1d_8 (Average (None, 8, 16)             0         \n",
      "_________________________________________________________________\n",
      "conv1d_9 (Conv1D)            (None, 8, 16)             2064      \n",
      "_________________________________________________________________\n",
      "average_pooling1d_9 (Average (None, 4, 16)             0         \n",
      "_________________________________________________________________\n",
      "batch_normalization (BatchNo (None, 4, 16)             64        \n",
      "_________________________________________________________________\n",
      "flatten (Flatten)            (None, 64)                0         \n",
      "_________________________________________________________________\n",
      "dense (Dense)                (None, 64)                4160      \n",
      "_________________________________________________________________\n",
      "batch_normalization_1 (Batch (None, 64)                256       \n",
      "_________________________________________________________________\n",
      "dense_1 (Dense)              (None, 5)                 325       \n",
      "=================================================================\n",
      "Total params: 25,061\n",
      "Trainable params: 24,901\n",
      "Non-trainable params: 160\n",
      "_________________________________________________________________\n",
      "None\n"
     ]
    }
   ],
   "source": [
    "\n",
    "y = torch.Tensor(np.random.randn(N))\n",
    "Sy = getsc(y, J).T\n",
    "input_shape = Sy.shape\n",
    "\n",
    "kernel_size = (8,)\n",
    "nchan_out = 16\n",
    "\n",
    "K.clear_session()\n",
    "model=Sequential()\n",
    "model.add(Conv1D(input_shape=input_shape, filters=nchan_out,\n",
    "                 kernel_size=kernel_size,activation= \"relu\", padding=\"same\" ))\n",
    "model.add(AveragePooling1D(pool_size=(2,)))\n",
    "model.add(Conv1D(filters=16,\n",
    "                 kernel_size=kernel_size,activation= \"relu\", padding=\"same\" ))\n",
    "model.add(AveragePooling1D(pool_size=(2,)))\n",
    "model.add(Conv1D(filters=16,\n",
    "                 kernel_size=kernel_size,activation= \"relu\", padding=\"same\" ))\n",
    "model.add(AveragePooling1D(pool_size=(2,)))\n",
    "model.add(Conv1D(filters=16,\n",
    "                 kernel_size=kernel_size,activation= \"relu\", padding=\"same\" ))\n",
    "model.add(AveragePooling1D(pool_size=(2,)))\n",
    "model.add(Conv1D(filters=16,\n",
    "                 kernel_size=kernel_size,activation= \"relu\", padding=\"same\" ))\n",
    "model.add(AveragePooling1D(pool_size=(2,)))\n",
    "model.add(Conv1D(filters=16,\n",
    "                 kernel_size=kernel_size,activation= \"relu\", padding=\"same\" ))\n",
    "model.add(AveragePooling1D(pool_size=(2,)))\n",
    "model.add(Conv1D(filters=16,\n",
    "                 kernel_size=kernel_size,activation= \"relu\", padding=\"same\" ))\n",
    "model.add(AveragePooling1D(pool_size=(2,)))\n",
    "model.add(Conv1D(filters=16,\n",
    "                 kernel_size=kernel_size,activation= \"relu\", padding=\"same\" ))\n",
    "model.add(AveragePooling1D(pool_size=(2,)))\n",
    "model.add(Conv1D(filters=16,\n",
    "                 kernel_size=kernel_size,activation= \"relu\", padding=\"same\" ))\n",
    "model.add(AveragePooling1D(pool_size=(2,)))\n",
    "model.add(Conv1D(filters=16,\n",
    "                 kernel_size=kernel_size,activation= \"relu\", padding=\"same\" ))\n",
    "model.add(AveragePooling1D(pool_size=(2,)))\n",
    "\n",
    "model.add(BatchNormalization())\n",
    "model.add(Flatten())\n",
    "model.add(Dense(64, activation='relu'))\n",
    "model.add(BatchNormalization())\n",
    "#what activation should be chosen for last layer, for regression problem? should be a linear function\n",
    "model.add(Dense(5, activation='linear')) #output layer that corresponds to the 5 physical parameters.\n",
    "\n",
    "print(model.summary())"
   ]
  },
  {
   "cell_type": "code",
   "execution_count": 12,
   "metadata": {},
   "outputs": [],
   "source": [
    "K.clear_session()\n",
    "model=Sequential()\n",
    "kernel_size = (3, 3)\n",
    "nchan_out = 32\n",
    "\n",
    "model.add(Conv2D(input_shape=input_shape,filters=nchan_out,\n",
    "                 kernel_size=kernel_size,activation= \"relu\" ))\n",
    "#model.add(ReLU())\n",
    "model.add(MaxPooling2D(pool_size=(2,2)))\n",
    "\n",
    "model.add(Conv2D(input_shape=input_shape,filters=nchan_out,\n",
    "                 kernel_size=kernel_size,activation= \"relu\"))\n",
    "#model.add(ReLU())\n",
    "model.add(MaxPooling2D(pool_size=(2,2)))\n",
    "\"\"\"\n",
    "model.add(Conv2D(input_shape=input_shape,filters=nchan_out,\n",
    "                 kernel_size=kernel_size))\n",
    "model.add(ReLU())\n",
    "model.add(MaxPooling2D(pool_size=(2,2)))\n",
    "\"\"\"\n",
    "\n",
    "\n",
    "model.add(Flatten())\n",
    "model.add(BatchNormalization())\n",
    "model.add(Dense(256, activation='relu'))\n",
    "#what activation should be chosen for last layer, for regression problem? should be a linear function\n",
    "model.add(Dense(5, activation='sigmoid')) #output layer that corresponds to the 5 physical parameters.\n",
    "#use mse for the physical parameters valid?\n",
    "model.compile(loss='mean_squared_error', optimizer='adam')"
   ]
  },
  {
   "cell_type": "code",
   "execution_count": 10,
   "metadata": {},
   "outputs": [
    {
     "name": "stdout",
     "output_type": "stream",
     "text": [
      "Model: \"sequential\"\n",
      "_________________________________________________________________\n",
      "Layer (type)                 Output Shape              Param #   \n",
      "=================================================================\n",
      "conv2d (Conv2D)              (None, 11, 4094, 2)       20        \n",
      "_________________________________________________________________\n",
      "max_pooling2d (MaxPooling2D) (None, 5, 2047, 2)        0         \n",
      "_________________________________________________________________\n",
      "conv2d_1 (Conv2D)            (None, 3, 2045, 2)        38        \n",
      "_________________________________________________________________\n",
      "max_pooling2d_1 (MaxPooling2 (None, 1, 1022, 2)        0         \n",
      "_________________________________________________________________\n",
      "flatten (Flatten)            (None, 2044)              0         \n",
      "_________________________________________________________________\n",
      "batch_normalization (BatchNo (None, 2044)              8176      \n",
      "_________________________________________________________________\n",
      "dense (Dense)                (None, 256)               523520    \n",
      "_________________________________________________________________\n",
      "dense_1 (Dense)              (None, 5)                 1285      \n",
      "=================================================================\n",
      "Total params: 533,039\n",
      "Trainable params: 528,951\n",
      "Non-trainable params: 4,088\n",
      "_________________________________________________________________\n"
     ]
    }
   ],
   "source": [
    "model.summary()"
   ]
  },
  {
   "cell_type": "code",
   "execution_count": 32,
   "metadata": {},
   "outputs": [
    {
     "data": {
      "text/plain": [
       "2.5649493574615367"
      ]
     },
     "execution_count": 32,
     "metadata": {},
     "output_type": "execute_result"
    }
   ],
   "source": [
    "np.log(13)"
   ]
  },
  {
   "cell_type": "code",
   "execution_count": null,
   "metadata": {},
   "outputs": [],
   "source": []
  }
 ],
 "metadata": {
  "kernelspec": {
   "display_name": "Python [conda env:anaconda3]",
   "language": "python",
   "name": "conda-env-anaconda3-py"
  },
  "language_info": {
   "codemirror_mode": {
    "name": "ipython",
    "version": 3
   },
   "file_extension": ".py",
   "mimetype": "text/x-python",
   "name": "python",
   "nbconvert_exporter": "python",
   "pygments_lexer": "ipython3",
   "version": "3.6.3"
  }
 },
 "nbformat": 4,
 "nbformat_minor": 2
}
